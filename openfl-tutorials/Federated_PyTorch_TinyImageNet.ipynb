{
 "cells": [
  {
   "cell_type": "markdown",
   "metadata": {},
   "source": [
    "# Federated PyTorch TinyImageNet Tutorial"
   ]
  },
  {
   "cell_type": "markdown",
   "metadata": {},
   "source": [
    "This notebook is an example of Transfer Learning \n",
    "\n",
    "Custom DataLoader is used with OpenFL Python API"
   ]
  },
  {
   "cell_type": "code",
   "execution_count": 1,
   "metadata": {},
   "outputs": [
    {
     "name": "stdout",
     "output_type": "stream",
     "text": [
      "Requirement already satisfied: torch in /home/itrushkin/.virtualenvs/openfl/lib/python3.8/site-packages (1.9.0)\n",
      "Requirement already satisfied: torchvision in /home/itrushkin/.virtualenvs/openfl/lib/python3.8/site-packages (0.10.0)\n",
      "Requirement already satisfied: typing-extensions in /home/itrushkin/.virtualenvs/openfl/lib/python3.8/site-packages (from torch) (3.7.4.3)\n",
      "Requirement already satisfied: pillow>=5.3.0 in /home/itrushkin/.virtualenvs/openfl/lib/python3.8/site-packages (from torchvision) (8.1.2)\n",
      "Requirement already satisfied: numpy in /home/itrushkin/.virtualenvs/openfl/lib/python3.8/site-packages (from torchvision) (1.19.5)\n",
      "\u001b[33mWARNING: You are using pip version 21.0.1; however, version 21.1.3 is available.\n",
      "You should consider upgrading via the '/home/itrushkin/.virtualenvs/openfl/bin/python -m pip install --upgrade pip' command.\u001b[0m\n"
     ]
    }
   ],
   "source": [
    "#Install dependencies if not already installed\n",
    "!pip install torch torchvision\n",
    "%load_ext autoreload\n",
    "%autoreload 2"
   ]
  },
  {
   "cell_type": "code",
   "execution_count": 2,
   "metadata": {},
   "outputs": [],
   "source": [
    "import os\n",
    "import glob\n",
    "from torch.utils.data import Dataset, DataLoader\n",
    "from PIL import Image\n",
    "\n",
    "import numpy as np\n",
    "import torch\n",
    "import torch.nn as nn\n",
    "import torch.nn.functional as F\n",
    "import torch.optim as optim\n",
    "\n",
    "import torchvision\n",
    "from torchvision import transforms as T\n",
    "\n",
    "import openfl.native as fx\n",
    "from openfl.federated import FederatedModel, FederatedDataSet"
   ]
  },
  {
   "cell_type": "markdown",
   "metadata": {},
   "source": [
    "After importing the required packages, the next step is setting up our openfl workspace. To do this, simply run the `fx.init()` command as follows:"
   ]
  },
  {
   "cell_type": "code",
   "execution_count": 3,
   "metadata": {},
   "outputs": [
    {
     "name": "stdout",
     "output_type": "stream",
     "text": [
      "Creating Workspace Directories\n",
      "Creating Workspace Templates\n",
      "Successfully installed packages from /home/itrushkin/.local/workspace/requirements.txt.\n",
      "\n",
      "New workspace directory structure:\n",
      "workspace\n",
      "├── tiny-imagenet-200.zip\n",
      "├── kvasir.zip\n",
      "├── plan\n",
      "│   ├── defaults\n",
      "│   │   ├── data_loader.yaml\n",
      "│   │   ├── network.yaml\n",
      "│   │   ├── tasks_keras.yaml\n",
      "│   │   ├── collaborator.yaml\n",
      "│   │   ├── assigner.yaml\n",
      "│   │   ├── task_runner.yaml\n",
      "│   │   ├── defaults\n",
      "│   │   ├── tasks_tensorflow.yaml\n",
      "│   │   ├── compression_pipeline.yaml\n",
      "│   │   ├── aggregator.yaml\n",
      "│   │   ├── tasks_torch.yaml\n",
      "│   │   └── tasks_fast_estimator.yaml\n",
      "│   ├── plan.yaml\n",
      "│   ├── data.yaml\n",
      "│   └── cols.yaml\n",
      "├── logs\n",
      "├── final_pytorch_model.h5\n",
      "├── tensordb.csv\n",
      "├── agg_to_col_two_signed_cert.zip\n",
      "├── data\n",
      "│   ├── segmented-images\n",
      "│   │   ├── masks\n",
      "│   │   ├── images\n",
      "│   │   ├── license.txt\n",
      "│   │   └── bounding-boxes.json\n",
      "│   └── MNIST\n",
      "│       ├── raw\n",
      "│       └── processed\n",
      "├── cert\n",
      "│   ├── ca\n",
      "│   │   ├── signing-ca.crt\n",
      "│   │   ├── root-ca.crt\n",
      "│   │   ├── signing-ca\n",
      "│   │   ├── signing-ca.csr\n",
      "│   │   └── root-ca\n",
      "│   ├── server\n",
      "│   │   ├── agg_nnlicv611.inn.intel.com.csr\n",
      "│   │   ├── agg_nnlicv611.inn.intel.com.key\n",
      "│   │   └── agg_nnlicv611.inn.intel.com.crt\n",
      "│   ├── client\n",
      "│   │   ├── col_two.crt\n",
      "│   │   ├── col_one.crt\n",
      "│   │   ├── col_one.key\n",
      "│   │   └── col_two.key\n",
      "│   ├── cert_chain.crt\n",
      "│   ├── col_one.csr\n",
      "│   └── col_two.csr\n",
      "├── final_model.pth\n",
      "├── code\n",
      "│   ├── __init__.py\n",
      "│   ├── data_loader.py\n",
      "│   ├── keras_cnn.py\n",
      "│   ├── mnist_utils.py\n",
      "│   ├── fed_unet_runner.py\n",
      "│   ├── tfmnist_inmemory.py\n",
      "│   ├── ptmnist_inmemory.py\n",
      "│   ├── pt_cnn.py\n",
      "│   └── pt_unet_parts.py\n",
      "├── gandlf_paths.csv\n",
      "├── final_pytorch_model\n",
      "├── small_split.csv\n",
      "├── .workspace\n",
      "├── requirements.txt\n",
      "├── tiny-imagenet-200\n",
      "│   ├── wnids.txt\n",
      "│   ├── test\n",
      "│   │   └── images\n",
      "│   ├── train\n",
      "│   │   ├── n02099712\n",
      "│   │   ├── n01944390\n",
      "│   │   ├── n03447447\n",
      "│   │   ├── n02977058\n",
      "│   │   ├── n07583066\n",
      "│   │   ├── n03085013\n",
      "│   │   ├── n04456115\n",
      "│   │   ├── n03706229\n",
      "│   │   ├── n01950731\n",
      "│   │   ├── n07920052\n",
      "│   │   ├── n03179701\n",
      "│   │   ├── n04146614\n",
      "│   │   ├── n02113799\n",
      "│   │   ├── n04562935\n",
      "│   │   ├── n03014705\n",
      "│   │   ├── n03649909\n",
      "│   │   ├── n03763968\n",
      "│   │   ├── n04597913\n",
      "│   │   ├── n02099601\n",
      "│   │   ├── n03662601\n",
      "│   │   ├── n02793495\n",
      "│   │   ├── n01770393\n",
      "│   │   ├── n03388043\n",
      "│   │   ├── n01917289\n",
      "│   │   ├── n02795169\n",
      "│   │   ├── n03444034\n",
      "│   │   ├── n06596364\n",
      "│   │   ├── n03126707\n",
      "│   │   ├── n02321529\n",
      "│   │   ├── n02481823\n",
      "│   │   ├── n02279972\n",
      "│   │   ├── n02268443\n",
      "│   │   ├── n03837869\n",
      "│   │   ├── n07695742\n",
      "│   │   ├── n02814860\n",
      "│   │   ├── n01644900\n",
      "│   │   ├── n04328186\n",
      "│   │   ├── n03902125\n",
      "│   │   ├── n02058221\n",
      "│   │   ├── n07579787\n",
      "│   │   ├── n03160309\n",
      "│   │   ├── n02233338\n",
      "│   │   ├── n03400231\n",
      "│   │   ├── n02666196\n",
      "│   │   ├── n02190166\n",
      "│   │   ├── n03250847\n",
      "│   │   ├── n02106662\n",
      "│   │   ├── n02883205\n",
      "│   │   ├── n03584254\n",
      "│   │   ├── n01641577\n",
      "│   │   ├── n07768694\n",
      "│   │   ├── n04285008\n",
      "│   │   ├── n03976657\n",
      "│   │   ├── n03970156\n",
      "│   │   ├── n02231487\n",
      "│   │   ├── n02281406\n",
      "│   │   ├── n03992509\n",
      "│   │   ├── n04560804\n",
      "│   │   ├── n02002724\n",
      "│   │   ├── n02423022\n",
      "│   │   ├── n03854065\n",
      "│   │   ├── n02123045\n",
      "│   │   ├── n03637318\n",
      "│   │   ├── n01945685\n",
      "│   │   ├── n01742172\n",
      "│   │   ├── n02950826\n",
      "│   │   ├── n04099969\n",
      "│   │   ├── n07615774\n",
      "│   │   ├── n02841315\n",
      "│   │   ├── n03977966\n",
      "│   │   ├── n02132136\n",
      "│   │   ├── n03255030\n",
      "│   │   ├── n07720875\n",
      "│   │   ├── n02125311\n",
      "│   │   ├── n04254777\n",
      "│   │   ├── n04366367\n",
      "│   │   ├── n04465501\n",
      "│   │   ├── n02906734\n",
      "│   │   ├── n07711569\n",
      "│   │   ├── n01774384\n",
      "│   │   ├── n09428293\n",
      "│   │   ├── n03424325\n",
      "│   │   ├── n04501370\n",
      "│   │   ├── n03983396\n",
      "│   │   ├── n04487081\n",
      "│   │   ├── n03804744\n",
      "│   │   ├── n04486054\n",
      "│   │   ├── n02814533\n",
      "│   │   ├── n02480495\n",
      "│   │   ├── n07734744\n",
      "│   │   ├── n07749582\n",
      "│   │   ├── n04371430\n",
      "│   │   ├── n02917067\n",
      "│   │   ├── n01882714\n",
      "│   │   ├── n04540053\n",
      "│   │   ├── n03670208\n",
      "│   │   ├── n03814639\n",
      "│   │   ├── n04532106\n",
      "│   │   ├── n02988304\n",
      "│   │   ├── n01855672\n",
      "│   │   ├── n02236044\n",
      "│   │   ├── n02909870\n",
      "│   │   ├── n03599486\n",
      "│   │   ├── n03355925\n",
      "│   │   ├── n02123394\n",
      "│   │   ├── n07614500\n",
      "│   │   ├── n02486410\n",
      "│   │   ├── n01774750\n",
      "│   │   ├── n02124075\n",
      "│   │   ├── n01698640\n",
      "│   │   ├── n04133789\n",
      "│   │   ├── n01784675\n",
      "│   │   ├── n04275548\n",
      "│   │   ├── n04149813\n",
      "│   │   ├── n04311004\n",
      "│   │   ├── n04356056\n",
      "│   │   ├── n02948072\n",
      "│   │   ├── n03544143\n",
      "│   │   ├── n07715103\n",
      "│   │   ├── n07753592\n",
      "│   │   ├── n02056570\n",
      "│   │   ├── n03089624\n",
      "│   │   ├── n03838899\n",
      "│   │   ├── n04507155\n",
      "│   │   ├── n09332890\n",
      "│   │   ├── n09256479\n",
      "│   │   ├── n02843684\n",
      "│   │   ├── n02788148\n",
      "│   │   ├── n04067472\n",
      "│   │   ├── n04008634\n",
      "│   │   ├── n01910747\n",
      "│   │   ├── n02808440\n",
      "│   │   ├── n04251144\n",
      "│   │   ├── n04023962\n",
      "│   │   ├── n03937543\n",
      "│   │   ├── n01983481\n",
      "│   │   ├── n03100240\n",
      "│   │   ├── n04070727\n",
      "│   │   ├── n09246464\n",
      "│   │   ├── n04399382\n",
      "│   │   ├── n02999410\n",
      "│   │   ├── n02963159\n",
      "│   │   ├── n04074963\n",
      "│   │   ├── n04417672\n",
      "│   │   ├── n02364673\n",
      "│   │   ├── n03733131\n",
      "│   │   ├── n03617480\n",
      "│   │   ├── n03796401\n",
      "│   │   ├── n01768244\n",
      "│   │   ├── n04265275\n",
      "│   │   ├── n02403003\n",
      "│   │   ├── n03980874\n",
      "│   │   ├── n02504458\n",
      "│   │   ├── n01443537\n",
      "│   │   ├── n02410509\n",
      "│   │   ├── n04376876\n",
      "│   │   ├── n03770439\n",
      "│   │   ├── n03201208\n",
      "│   │   ├── n04398044\n",
      "│   │   ├── n03393912\n",
      "│   │   ├── n12267677\n",
      "│   │   ├── n07747607\n",
      "│   │   ├── n02437312\n",
      "│   │   ├── n02837789\n",
      "│   │   ├── n02892201\n",
      "│   │   ├── n04118538\n",
      "│   │   ├── n02927161\n",
      "│   │   ├── n03026506\n",
      "│   │   ├── n03930313\n",
      "│   │   ├── n03404251\n",
      "│   │   ├── n02395406\n",
      "│   │   ├── n02769748\n",
      "│   │   ├── n02669723\n",
      "│   │   ├── n03042490\n",
      "│   │   ├── n07873807\n",
      "│   │   ├── n02094433\n",
      "│   │   ├── n02129165\n",
      "│   │   ├── n04179913\n",
      "│   │   ├── n02823428\n",
      "│   │   ├── n04259630\n",
      "│   │   ├── n09193705\n",
      "│   │   ├── n01984695\n",
      "│   │   ├── n02509815\n",
      "│   │   ├── n02730930\n",
      "│   │   ├── n01629819\n",
      "│   │   ├── n02165456\n",
      "│   │   ├── n04532670\n",
      "│   │   ├── n02206856\n",
      "│   │   ├── n02802426\n",
      "│   │   ├── n02791270\n",
      "│   │   ├── n07875152\n",
      "│   │   ├── n07871810\n",
      "│   │   ├── n04596742\n",
      "│   │   ├── n03891332\n",
      "│   │   ├── n02226429\n",
      "│   │   ├── n02085620\n",
      "│   │   ├── n02415577\n",
      "│   │   ├── n02815834\n",
      "│   │   ├── n02074367\n",
      "│   │   └── n02699494\n",
      "│   ├── words.txt\n",
      "│   └── val\n",
      "│       ├── images\n",
      "│       └── val_annotations.txt\n",
      "├── impl\n",
      "│   ├── __init__.py\n",
      "│   ├── challenge_assigner.py\n",
      "│   ├── __pycache__\n",
      "│   │   ├── pt_cnn_fetschallenge.cpython-38.pyc\n",
      "│   │   ├── fets_challenge_dataloader.cpython-38.pyc\n",
      "│   │   ├── __init__.cpython-38.pyc\n",
      "│   │   ├── fets_challenge_model.cpython-38.pyc\n",
      "│   │   ├── challenge_assigner.cpython-38.pyc\n",
      "│   │   ├── mnist_utils.cpython-38.pyc\n",
      "│   │   └── ptmnist_inmemory.cpython-38.pyc\n",
      "│   ├── mnist_utils.py\n",
      "│   ├── pt_cnn_fetschallenge.py\n",
      "│   ├── ptmnist_inmemory.py\n",
      "│   ├── fets_challenge_dataloader.py\n",
      "│   └── fets_challenge_model.py\n",
      "├── src\n",
      "│   ├── __init__.py\n",
      "│   ├── keras_cnn.py\n",
      "│   ├── mnist_utils.py\n",
      "│   ├── tfmnist_inmemory.py\n",
      "│   ├── ptmnist_inmemory.py\n",
      "│   └── pt_cnn.py\n",
      "├── institution_split.csv\n",
      "├── final_model\n",
      "│   ├── saved_model.pb\n",
      "│   ├── variables\n",
      "│   │   ├── variables.index\n",
      "│   │   └── variables.data-00000-of-00001\n",
      "│   ├── assets\n",
      "│   └── keras_metadata.pb\n",
      "├── agg_to_col_one_signed_cert.zip\n",
      "└── save\n",
      "    ├── keras_cnn_mnist_last.pbuf\n",
      "    ├── fets_challenge_init.pbuf\n",
      "    ├── torch_unet_kvasir_init.pbuf\n",
      "    ├── fets_challenge_last.pbuf\n",
      "    ├── torch_cnn_mnist_init.pbuf\n",
      "    ├── fets_challenge_best.pbuf\n",
      "    ├── torch_unet_kvasir_best.pbuf\n",
      "    ├── keras_cnn_mnist_init.pbuf\n",
      "    ├── torch_cnn_mnist_best.pbuf\n",
      "    ├── torch_unet_kvasir_last.pbuf\n",
      "    ├── keras_cnn_mnist_best.pbuf\n",
      "    └── torch_cnn_mnist_last.pbuf\n",
      "\n",
      "230 directories, 91 files\n",
      "Setting Up Certificate Authority...\n",
      "\n",
      "1.  Create Root CA\n",
      "1.1 Create Directories\n",
      "1.2 Create Database\n",
      "1.3 Create CA Request and Certificate\n",
      "2.  Create Signing Certificate\n",
      "2.1 Create Directories\n",
      "2.2 Create Database\n",
      "2.3 Create Signing Certificate CSR\n",
      "2.4 Sign Signing Certificate CSR\n",
      "3   Create Certificate Chain\n",
      "\n",
      "Done.\n",
      "Creating AGGREGATOR certificate key pair with following settings: CN=\u001b[31mnnlicv611.inn.intel.com\u001b[0m, SAN=\u001b[31mDNS:nnlicv611.inn.intel.com\u001b[0m\n",
      "  Writing AGGREGATOR certificate key pair to: \u001b[32mcert/server\u001b[0m\n"
     ]
    },
    {
     "name": "stdout",
     "output_type": "stream",
     "text": [
      "The CSR Hash for file \u001b[32mserver/agg_nnlicv611.inn.intel.com.csr\u001b[0m = \u001b[31m17772dccdb9657f78d9e1d192348c47b71282236762895577f4213c45494c078abb14b486be3c06de1facc9bff88ac7a\u001b[0m\n",
      " Signing AGGREGATOR certificate\n",
      "Creating COLLABORATOR certificate key pair with following settings: CN=\u001b[31mone\u001b[0m, SAN=\u001b[31mDNS:one\u001b[0m\n",
      "  Moving COLLABORATOR certificate to: \u001b[32mcert/col_one\u001b[0m\n",
      "The CSR Hash for file \u001b[32mcol_one.csr\u001b[0m = \u001b[31m8ef6102125c312f3ca3c0f91321eab4919e8bfd9402e4ecd12f16b449e44f71bea1925d0fa7a4cda901be7006763950f\u001b[0m\n",
      " Signing COLLABORATOR certificate\n",
      "\n",
      "Registering \u001b[32mone\u001b[0m in \u001b[32mplan/cols.yaml\u001b[0m\n",
      "Creating COLLABORATOR certificate key pair with following settings: CN=\u001b[31mtwo\u001b[0m, SAN=\u001b[31mDNS:two\u001b[0m\n",
      "  Moving COLLABORATOR certificate to: \u001b[32mcert/col_two\u001b[0m\n",
      "The CSR Hash for file \u001b[32mcol_two.csr\u001b[0m = \u001b[31m0b2de658a76ec2021ce4e85a84d57ddb91ccc52f3380bb0241c1f5fd902a79cd0d9d934d01aa7ab0cf12eac34dd62fb1\u001b[0m\n",
      " Signing COLLABORATOR certificate\n",
      "\n",
      "Registering \u001b[32mtwo\u001b[0m in \u001b[32mplan/cols.yaml\u001b[0m\n"
     ]
    }
   ],
   "source": [
    "#Setup default workspace, logging, etc.\n",
    "fx.init('torch_cnn_mnist')"
   ]
  },
  {
   "cell_type": "markdown",
   "metadata": {},
   "source": [
    "Now we are ready to define our dataset and model to perform federated learning on. The dataset should be composed of a numpy arrayWe start with a simple fully connected model that is trained on the MNIST dataset. "
   ]
  },
  {
   "cell_type": "markdown",
   "metadata": {},
   "source": [
    "#### Download the data"
   ]
  },
  {
   "cell_type": "code",
   "execution_count": 4,
   "metadata": {},
   "outputs": [
    {
     "name": "stdout",
     "output_type": "stream",
     "text": [
      "File ‘tiny-imagenet-200.zip’ already there; not retrieving.\n",
      "\n",
      "Archive:  tiny-imagenet-200.zip\n"
     ]
    }
   ],
   "source": [
    "!wget --no-clobber http://cs231n.stanford.edu/tiny-imagenet-200.zip\n",
    "!unzip -n tiny-imagenet-200.zip\n",
    "TINY_IMAGENET_ROOT = './tiny-imagenet-200/'"
   ]
  },
  {
   "cell_type": "markdown",
   "metadata": {},
   "source": [
    "#### Describe the dataset"
   ]
  },
  {
   "cell_type": "code",
   "execution_count": 5,
   "metadata": {},
   "outputs": [],
   "source": [
    "class TinyImageNet(Dataset):\n",
    "    \"\"\"\n",
    "    Contains 200 classes for training. Each class has 500 images. \n",
    "    Parameters\n",
    "    ----------\n",
    "    root: string\n",
    "        Root directory including `train` and `val` subdirectories.\n",
    "    split: string\n",
    "        Indicating which split to return as a data set.\n",
    "        Valid option: [`train`, `val`]\n",
    "    transform: torchvision.transforms\n",
    "        A (series) of valid transformation(s).\n",
    "    \"\"\"\n",
    "    def __init__(self, root, split='train', transform=None, target_transform=None):\n",
    "        NUM_IMAGES_PER_CLASS = 500\n",
    "        self.root = os.path.expanduser(root)\n",
    "        self.transform = transform\n",
    "        self.target_transform = target_transform\n",
    "        self.split_dir = os.path.join(self.root, split)\n",
    "        self.image_paths = sorted(glob.iglob(os.path.join(self.split_dir, '**', '*.JPEG'), recursive=True))\n",
    "        \n",
    "        self.labels = {}  # fname - label number mapping\n",
    "\n",
    "        # build class label - number mapping\n",
    "        with open(os.path.join(self.root, 'wnids.txt'), 'r') as fp:\n",
    "            self.label_texts = sorted([text.strip() for text in fp.readlines()])\n",
    "        self.label_text_to_number = {text: i for i, text in enumerate(self.label_texts)}\n",
    "\n",
    "        if split == 'train':\n",
    "            for label_text, i in self.label_text_to_number.items():\n",
    "                for cnt in range(NUM_IMAGES_PER_CLASS):\n",
    "                    self.labels[f'{label_text}_{cnt}.JPEG'] = i\n",
    "        elif split == 'val':\n",
    "            with open(os.path.join(self.split_dir, 'val_annotations.txt'), 'r') as fp:\n",
    "                for line in fp.readlines():\n",
    "                    terms = line.split('\\t')\n",
    "                    file_name, label_text = terms[0], terms[1]\n",
    "                    self.labels[file_name] = self.label_text_to_number[label_text]\n",
    "                    \n",
    "    \n",
    "    def __len__(self):\n",
    "        return len(self.image_paths)\n",
    "\n",
    "    def __getitem__(self, index):\n",
    "        file_path = self.image_paths[index]\n",
    "        label = self.labels[os.path.basename(file_path)]\n",
    "        label = self.target_transform(label) if self.target_transform else label\n",
    "        return self.read_image(file_path), label\n",
    "\n",
    "    def read_image(self, path):\n",
    "        img = Image.open(path)\n",
    "        return self.transform(img) if self.transform else img\n",
    "\n",
    "def one_hot(labels, classes):\n",
    "    return np.eye(classes)[labels]"
   ]
  },
  {
   "cell_type": "code",
   "execution_count": 6,
   "metadata": {},
   "outputs": [],
   "source": [
    "normalize = T.Normalize(mean=[0.485, 0.456, 0.406],\n",
    "                                 std=[0.229, 0.224, 0.225])\n",
    "\n",
    "augmentation = T.RandomApply([\n",
    "    T.RandomHorizontalFlip(),\n",
    "    T.RandomRotation(10),\n",
    "    T.RandomResizedCrop(64)], p=.8)\n",
    "\n",
    "training_transform = T.Compose([\n",
    "    T.Lambda(lambda x: x.convert(\"RGB\")),\n",
    "    augmentation,\n",
    "    T.ToTensor(),\n",
    "    normalize])\n",
    "\n",
    "valid_transform = T.Compose([\n",
    "    T.Lambda(lambda x: x.convert(\"RGB\")),\n",
    "    T.ToTensor(),\n",
    "    normalize])"
   ]
  },
  {
   "cell_type": "markdown",
   "metadata": {},
   "source": [
    "#### Implement Federated dataset\n",
    "We have to implement `split` method"
   ]
  },
  {
   "cell_type": "code",
   "execution_count": 7,
   "metadata": {},
   "outputs": [],
   "source": [
    "from openfl.utilities.data import LogNormalPyTorchDatasetSplitter\n",
    "from openfl.federated.data import PyTorchFederatedDataset\n",
    "\n",
    "train_set = TinyImageNet(TINY_IMAGENET_ROOT, 'train', transform=training_transform)\n",
    "valid_set = TinyImageNet(TINY_IMAGENET_ROOT, 'val', transform=valid_transform, \\\n",
    "                                      target_transform=lambda target: one_hot(target, 200))\n",
    "\n",
    "fl_data = PyTorchFederatedDataset(train_set, valid_set, batch_size=32,\n",
    "                                  data_splitter=LogNormalPyTorchDatasetSplitter(0, 2.0, 200))\n",
    "num_classes = 200"
   ]
  },
  {
   "cell_type": "markdown",
   "metadata": {},
   "source": [
    "#### Define model"
   ]
  },
  {
   "cell_type": "code",
   "execution_count": 8,
   "metadata": {},
   "outputs": [],
   "source": [
    "class Net(nn.Module):\n",
    "    def __init__(self):\n",
    "        super(Net, self).__init__()\n",
    "        self.model = torchvision.models.mobilenet_v2(pretrained=True)\n",
    "        self.model.requires_grad_(False)\n",
    "        self.model.classifier[1] = torch.nn.Linear(in_features=1280, \\\n",
    "                        out_features=num_classes, bias=True)\n",
    "\n",
    "    def forward(self, x):\n",
    "        x = self.model.forward(x)\n",
    "        return x\n",
    "\n",
    "    \n",
    "optimizer = lambda x: optim.Adam(x, lr=1e-4)\n",
    "\n",
    "def cross_entropy(output, target):\n",
    "    \"\"\"Binary cross-entropy metric\n",
    "    \"\"\"\n",
    "    return F.cross_entropy(input=output,target=target)"
   ]
  },
  {
   "cell_type": "code",
   "execution_count": 9,
   "metadata": {},
   "outputs": [
    {
     "data": {
      "text/html": [
       "<pre style=\"white-space:pre;overflow-x:auto;line-height:normal;font-family:Menlo,'DejaVu Sans Mono',consolas,'Courier New',monospace\"><span style=\"color: #7fbfbf\">[11:37:44] </span><span style=\"color: #800000\">WARNING</span>  tried to remove tensor: __opt_state_needed not present in the tensor dict                                                        <a href=\"file:///home/itrushkin/.virtualenvs/openfl/lib/python3.8/site-packages/openfl/utilities/utils.py\"><span style=\"color: #7f7f7f\">utils.py</span></a><span style=\"color: #7f7f7f\">:85</span>\n",
       "</pre>\n"
      ],
      "text/plain": [
       "<rich.jupyter.JupyterRenderable at 0x7f24a809eb20>"
      ]
     },
     "metadata": {},
     "output_type": "display_data"
    }
   ],
   "source": [
    "#Create a federated model using the pytorch class, lambda optimizer function, and loss function\n",
    "fl_model = FederatedModel(build_model=Net,optimizer=optimizer,loss_fn=cross_entropy, \\\n",
    "                        data_loader=fl_data)"
   ]
  },
  {
   "cell_type": "markdown",
   "metadata": {},
   "source": [
    "The `FederatedModel` object is a wrapper around your Keras, Tensorflow or PyTorch model that makes it compatible with openfl. It provides built in federated training and validation functions that we will see used below. Using it's `setup` function, collaborator models and datasets can be automatically defined for the experiment. "
   ]
  },
  {
   "cell_type": "code",
   "execution_count": 10,
   "metadata": {},
   "outputs": [
    {
     "name": "stderr",
     "output_type": "stream",
     "text": [
      "100%|██████████| 10/10 [00:00<00:00, 1006.24it/s]"
     ]
    },
    {
     "name": "stdout",
     "output_type": "stream",
     "text": [
      "Assigning 0:5 of 0 class to 0 col...\n",
      "Assigning 5:10 of 1 class to 0 col...\n",
      "Assigning 0:5 of 1 class to 1 col...\n",
      "Assigning 5:10 of 2 class to 1 col...\n",
      "Assigning 0:5 of 2 class to 2 col...\n",
      "Assigning 5:10 of 3 class to 2 col...\n",
      "Assigning 0:5 of 3 class to 3 col...\n",
      "Assigning 5:10 of 4 class to 3 col...\n",
      "Assigning 0:5 of 4 class to 4 col...\n",
      "Assigning 5:10 of 5 class to 4 col...\n",
      "Assigning 0:5 of 5 class to 5 col...\n",
      "Assigning 5:10 of 6 class to 5 col...\n",
      "Assigning 0:5 of 6 class to 6 col...\n",
      "Assigning 5:10 of 7 class to 6 col...\n",
      "Assigning 0:5 of 7 class to 7 col...\n",
      "Assigning 5:10 of 8 class to 7 col...\n",
      "Assigning 0:5 of 8 class to 8 col...\n",
      "Assigning 5:10 of 9 class to 8 col...\n",
      "Assigning 0:5 of 9 class to 9 col...\n",
      "Assigning 5:10 of 10 class to 9 col...\n",
      "Trying to append 336 of 0 class to 0 col...\n",
      "Appending [  5   6   7   8   9  10  11  12  13  14  15  16  17  18  19  20  21  22\n",
      "  23  24  25  26  27  28  29  30  31  32  33  34  35  36  37  38  39  40\n",
      "  41  42  43  44  45  46  47  48  49  50  51  52  53  54  55  56  57  58\n",
      "  59  60  61  62  63  64  65  66  67  68  69  70  71  72  73  74  75  76\n",
      "  77  78  79  80  81  82  83  84  85  86  87  88  89  90  91  92  93  94\n",
      "  95  96  97  98  99 100 101 102 103 104 105 106 107 108 109 110 111 112\n",
      " 113 114 115 116 117 118 119 120 121 122 123 124 125 126 127 128 129 130\n",
      " 131 132 133 134 135 136 137 138 139 140 141 142 143 144 145 146 147 148\n",
      " 149 150 151 152 153 154 155 156 157 158 159 160 161 162 163 164 165 166\n",
      " 167 168 169 170 171 172 173 174 175 176 177 178 179 180 181 182 183 184\n",
      " 185 186 187 188 189 190 191 192 193 194 195 196 197 198 199 200 201 202\n",
      " 203 204 205 206 207 208 209 210 211 212 213 214 215 216 217 218 219 220\n",
      " 221 222 223 224 225 226 227 228 229 230 231 232 233 234 235 236 237 238\n",
      " 239 240 241 242 243 244 245 246 247 248 249 250 251 252 253 254 255 256\n",
      " 257 258 259 260 261 262 263 264 265 266 267 268 269 270 271 272 273 274\n",
      " 275 276 277 278 279 280 281 282 283 284 285 286 287 288 289 290 291 292\n",
      " 293 294 295 296 297 298 299 300 301 302 303 304 305 306 307 308 309 310\n",
      " 311 312 313 314 315 316 317 318 319 320 321 322 323 324 325 326 327 328\n",
      " 329 330 331 332 333 334 335 336 337 338 339 340] of 0 class to 0 col...\n",
      "Trying to append 11 of 1 class to 0 col...\n",
      "Appending [510 511 512 513 514 515 516 517 518 519 520] of 1 class to 0 col...\n",
      "Trying to append 483 of 1 class to 1 col...\n",
      "Trying to append 485 of 2 class to 1 col...\n",
      "Appending [1010 1011 1012 1013 1014 1015 1016 1017 1018 1019 1020 1021 1022 1023\n",
      " 1024 1025 1026 1027 1028 1029 1030 1031 1032 1033 1034 1035 1036 1037\n",
      " 1038 1039 1040 1041 1042 1043 1044 1045 1046 1047 1048 1049 1050 1051\n",
      " 1052 1053 1054 1055 1056 1057 1058 1059 1060 1061 1062 1063 1064 1065\n",
      " 1066 1067 1068 1069 1070 1071 1072 1073 1074 1075 1076 1077 1078 1079\n",
      " 1080 1081 1082 1083 1084 1085 1086 1087 1088 1089 1090 1091 1092 1093\n",
      " 1094 1095 1096 1097 1098 1099 1100 1101 1102 1103 1104 1105 1106 1107\n",
      " 1108 1109 1110 1111 1112 1113 1114 1115 1116 1117 1118 1119 1120 1121\n",
      " 1122 1123 1124 1125 1126 1127 1128 1129 1130 1131 1132 1133 1134 1135\n",
      " 1136 1137 1138 1139 1140 1141 1142 1143 1144 1145 1146 1147 1148 1149\n",
      " 1150 1151 1152 1153 1154 1155 1156 1157 1158 1159 1160 1161 1162 1163\n",
      " 1164 1165 1166 1167 1168 1169 1170 1171 1172 1173 1174 1175 1176 1177\n",
      " 1178 1179 1180 1181 1182 1183 1184 1185 1186 1187 1188 1189 1190 1191\n",
      " 1192 1193 1194 1195 1196 1197 1198 1199 1200 1201 1202 1203 1204 1205\n",
      " 1206 1207 1208 1209 1210 1211 1212 1213 1214 1215 1216 1217 1218 1219\n",
      " 1220 1221 1222 1223 1224 1225 1226 1227 1228 1229 1230 1231 1232 1233\n",
      " 1234 1235 1236 1237 1238 1239 1240 1241 1242 1243 1244 1245 1246 1247\n",
      " 1248 1249 1250 1251 1252 1253 1254 1255 1256 1257 1258 1259 1260 1261\n",
      " 1262 1263 1264 1265 1266 1267 1268 1269 1270 1271 1272 1273 1274 1275\n",
      " 1276 1277 1278 1279 1280 1281 1282 1283 1284 1285 1286 1287 1288 1289\n",
      " 1290 1291 1292 1293 1294 1295 1296 1297 1298 1299 1300 1301 1302 1303\n",
      " 1304 1305 1306 1307 1308 1309 1310 1311 1312 1313 1314 1315 1316 1317\n",
      " 1318 1319 1320 1321 1322 1323 1324 1325 1326 1327 1328 1329 1330 1331\n",
      " 1332 1333 1334 1335 1336 1337 1338 1339 1340 1341 1342 1343 1344 1345\n",
      " 1346 1347 1348 1349 1350 1351 1352 1353 1354 1355 1356 1357 1358 1359\n",
      " 1360 1361 1362 1363 1364 1365 1366 1367 1368 1369 1370 1371 1372 1373\n",
      " 1374 1375 1376 1377 1378 1379 1380 1381 1382 1383 1384 1385 1386 1387\n",
      " 1388 1389 1390 1391 1392 1393 1394 1395 1396 1397 1398 1399 1400 1401\n",
      " 1402 1403 1404 1405 1406 1407 1408 1409 1410 1411 1412 1413 1414 1415\n",
      " 1416 1417 1418 1419 1420 1421 1422 1423 1424 1425 1426 1427 1428 1429\n",
      " 1430 1431 1432 1433 1434 1435 1436 1437 1438 1439 1440 1441 1442 1443\n",
      " 1444 1445 1446 1447 1448 1449 1450 1451 1452 1453 1454 1455 1456 1457\n",
      " 1458 1459 1460 1461 1462 1463 1464 1465 1466 1467 1468 1469 1470 1471\n",
      " 1472 1473 1474 1475 1476 1477 1478 1479 1480 1481 1482 1483 1484 1485\n",
      " 1486 1487 1488 1489 1490 1491 1492 1493 1494] of 2 class to 1 col...\n",
      "Trying to append 9 of 2 class to 2 col...\n",
      "Trying to append 402 of 3 class to 2 col...\n",
      "Appending [1510 1511 1512 1513 1514 1515 1516 1517 1518 1519 1520 1521 1522 1523\n",
      " 1524 1525 1526 1527 1528 1529 1530 1531 1532 1533 1534 1535 1536 1537\n",
      " 1538 1539 1540 1541 1542 1543 1544 1545 1546 1547 1548 1549 1550 1551\n",
      " 1552 1553 1554 1555 1556 1557 1558 1559 1560 1561 1562 1563 1564 1565\n",
      " 1566 1567 1568 1569 1570 1571 1572 1573 1574 1575 1576 1577 1578 1579\n",
      " 1580 1581 1582 1583 1584 1585 1586 1587 1588 1589 1590 1591 1592 1593\n",
      " 1594 1595 1596 1597 1598 1599 1600 1601 1602 1603 1604 1605 1606 1607\n",
      " 1608 1609 1610 1611 1612 1613 1614 1615 1616 1617 1618 1619 1620 1621\n",
      " 1622 1623 1624 1625 1626 1627 1628 1629 1630 1631 1632 1633 1634 1635\n",
      " 1636 1637 1638 1639 1640 1641 1642 1643 1644 1645 1646 1647 1648 1649\n",
      " 1650 1651 1652 1653 1654 1655 1656 1657 1658 1659 1660 1661 1662 1663\n",
      " 1664 1665 1666 1667 1668 1669 1670 1671 1672 1673 1674 1675 1676 1677\n",
      " 1678 1679 1680 1681 1682 1683 1684 1685 1686 1687 1688 1689 1690 1691\n",
      " 1692 1693 1694 1695 1696 1697 1698 1699 1700 1701 1702 1703 1704 1705\n",
      " 1706 1707 1708 1709 1710 1711 1712 1713 1714 1715 1716 1717 1718 1719\n",
      " 1720 1721 1722 1723 1724 1725 1726 1727 1728 1729 1730 1731 1732 1733\n",
      " 1734 1735 1736 1737 1738 1739 1740 1741 1742 1743 1744 1745 1746 1747\n",
      " 1748 1749 1750 1751 1752 1753 1754 1755 1756 1757 1758 1759 1760 1761\n",
      " 1762 1763 1764 1765 1766 1767 1768 1769 1770 1771 1772 1773 1774 1775\n",
      " 1776 1777 1778 1779 1780 1781 1782 1783 1784 1785 1786 1787 1788 1789\n",
      " 1790 1791 1792 1793 1794 1795 1796 1797 1798 1799 1800 1801 1802 1803\n",
      " 1804 1805 1806 1807 1808 1809 1810 1811 1812 1813 1814 1815 1816 1817\n",
      " 1818 1819 1820 1821 1822 1823 1824 1825 1826 1827 1828 1829 1830 1831\n",
      " 1832 1833 1834 1835 1836 1837 1838 1839 1840 1841 1842 1843 1844 1845\n",
      " 1846 1847 1848 1849 1850 1851 1852 1853 1854 1855 1856 1857 1858 1859\n",
      " 1860 1861 1862 1863 1864 1865 1866 1867 1868 1869 1870 1871 1872 1873\n",
      " 1874 1875 1876 1877 1878 1879 1880 1881 1882 1883 1884 1885 1886 1887\n",
      " 1888 1889 1890 1891 1892 1893 1894 1895 1896 1897 1898 1899 1900 1901\n",
      " 1902 1903 1904 1905 1906 1907 1908 1909 1910 1911] of 3 class to 2 col...\n",
      "Trying to append 92 of 3 class to 3 col...\n",
      "Trying to append 64 of 4 class to 3 col...\n",
      "Appending [2010 2011 2012 2013 2014 2015 2016 2017 2018 2019 2020 2021 2022 2023\n",
      " 2024 2025 2026 2027 2028 2029 2030 2031 2032 2033 2034 2035 2036 2037\n",
      " 2038 2039 2040 2041 2042 2043 2044 2045 2046 2047 2048 2049 2050 2051\n",
      " 2052 2053 2054 2055 2056 2057 2058 2059 2060 2061 2062 2063 2064 2065\n",
      " 2066 2067 2068 2069 2070 2071 2072 2073] of 4 class to 3 col...\n",
      "Trying to append 430 of 4 class to 4 col...\n",
      "Trying to append 474 of 5 class to 4 col...\n",
      "Appending [2510 2511 2512 2513 2514 2515 2516 2517 2518 2519 2520 2521 2522 2523\n",
      " 2524 2525 2526 2527 2528 2529 2530 2531 2532 2533 2534 2535 2536 2537\n",
      " 2538 2539 2540 2541 2542 2543 2544 2545 2546 2547 2548 2549 2550 2551\n",
      " 2552 2553 2554 2555 2556 2557 2558 2559 2560 2561 2562 2563 2564 2565\n",
      " 2566 2567 2568 2569 2570 2571 2572 2573 2574 2575 2576 2577 2578 2579\n",
      " 2580 2581 2582 2583 2584 2585 2586 2587 2588 2589 2590 2591 2592 2593\n",
      " 2594 2595 2596 2597 2598 2599 2600 2601 2602 2603 2604 2605 2606 2607\n",
      " 2608 2609 2610 2611 2612 2613 2614 2615 2616 2617 2618 2619 2620 2621\n",
      " 2622 2623 2624 2625 2626 2627 2628 2629 2630 2631 2632 2633 2634 2635\n",
      " 2636 2637 2638 2639 2640 2641 2642 2643 2644 2645 2646 2647 2648 2649\n",
      " 2650 2651 2652 2653 2654 2655 2656 2657 2658 2659 2660 2661 2662 2663\n",
      " 2664 2665 2666 2667 2668 2669 2670 2671 2672 2673 2674 2675 2676 2677\n",
      " 2678 2679 2680 2681 2682 2683 2684 2685 2686 2687 2688 2689 2690 2691\n",
      " 2692 2693 2694 2695 2696 2697 2698 2699 2700 2701 2702 2703 2704 2705\n",
      " 2706 2707 2708 2709 2710 2711 2712 2713 2714 2715 2716 2717 2718 2719\n",
      " 2720 2721 2722 2723 2724 2725 2726 2727 2728 2729 2730 2731 2732 2733\n",
      " 2734 2735 2736 2737 2738 2739 2740 2741 2742 2743 2744 2745 2746 2747\n",
      " 2748 2749 2750 2751 2752 2753 2754 2755 2756 2757 2758 2759 2760 2761\n",
      " 2762 2763 2764 2765 2766 2767 2768 2769 2770 2771 2772 2773 2774 2775\n",
      " 2776 2777 2778 2779 2780 2781 2782 2783 2784 2785 2786 2787 2788 2789\n",
      " 2790 2791 2792 2793 2794 2795 2796 2797 2798 2799 2800 2801 2802 2803\n",
      " 2804 2805 2806 2807 2808 2809 2810 2811 2812 2813 2814 2815 2816 2817\n",
      " 2818 2819 2820 2821 2822 2823 2824 2825 2826 2827 2828 2829 2830 2831\n",
      " 2832 2833 2834 2835 2836 2837 2838 2839 2840 2841 2842 2843 2844 2845\n",
      " 2846 2847 2848 2849 2850 2851 2852 2853 2854 2855 2856 2857 2858 2859\n",
      " 2860 2861 2862 2863 2864 2865 2866 2867 2868 2869 2870 2871 2872 2873\n",
      " 2874 2875 2876 2877 2878 2879 2880 2881 2882 2883 2884 2885 2886 2887\n",
      " 2888 2889 2890 2891 2892 2893 2894 2895 2896 2897 2898 2899 2900 2901\n",
      " 2902 2903 2904 2905 2906 2907 2908 2909 2910 2911 2912 2913 2914 2915\n",
      " 2916 2917 2918 2919 2920 2921 2922 2923 2924 2925 2926 2927 2928 2929\n",
      " 2930 2931 2932 2933 2934 2935 2936 2937 2938 2939 2940 2941 2942 2943\n",
      " 2944 2945 2946 2947 2948 2949 2950 2951 2952 2953 2954 2955 2956 2957\n",
      " 2958 2959 2960 2961 2962 2963 2964 2965 2966 2967 2968 2969 2970 2971\n",
      " 2972 2973 2974 2975 2976 2977 2978 2979 2980 2981 2982 2983] of 5 class to 4 col...\n",
      "Trying to append 20 of 5 class to 5 col...\n",
      "Trying to append 492 of 6 class to 5 col...\n",
      "Trying to append 2 of 6 class to 6 col...\n",
      "Appending [3010 3011] of 6 class to 6 col...\n",
      "Trying to append 259 of 7 class to 6 col...\n",
      "Appending [3510 3511 3512 3513 3514 3515 3516 3517 3518 3519 3520 3521 3522 3523\n",
      " 3524 3525 3526 3527 3528 3529 3530 3531 3532 3533 3534 3535 3536 3537\n",
      " 3538 3539 3540 3541 3542 3543 3544 3545 3546 3547 3548 3549 3550 3551\n",
      " 3552 3553 3554 3555 3556 3557 3558 3559 3560 3561 3562 3563 3564 3565\n",
      " 3566 3567 3568 3569 3570 3571 3572 3573 3574 3575 3576 3577 3578 3579\n",
      " 3580 3581 3582 3583 3584 3585 3586 3587 3588 3589 3590 3591 3592 3593\n",
      " 3594 3595 3596 3597 3598 3599 3600 3601 3602 3603 3604 3605 3606 3607\n",
      " 3608 3609 3610 3611 3612 3613 3614 3615 3616 3617 3618 3619 3620 3621\n",
      " 3622 3623 3624 3625 3626 3627 3628 3629 3630 3631 3632 3633 3634 3635\n",
      " 3636 3637 3638 3639 3640 3641 3642 3643 3644 3645 3646 3647 3648 3649\n",
      " 3650 3651 3652 3653 3654 3655 3656 3657 3658 3659 3660 3661 3662 3663\n",
      " 3664 3665 3666 3667 3668 3669 3670 3671 3672 3673 3674 3675 3676 3677\n",
      " 3678 3679 3680 3681 3682 3683 3684 3685 3686 3687 3688 3689 3690 3691\n",
      " 3692 3693 3694 3695 3696 3697 3698 3699 3700 3701 3702 3703 3704 3705\n",
      " 3706 3707 3708 3709 3710 3711 3712 3713 3714 3715 3716 3717 3718 3719\n",
      " 3720 3721 3722 3723 3724 3725 3726 3727 3728 3729 3730 3731 3732 3733\n",
      " 3734 3735 3736 3737 3738 3739 3740 3741 3742 3743 3744 3745 3746 3747\n",
      " 3748 3749 3750 3751 3752 3753 3754 3755 3756 3757 3758 3759 3760 3761\n",
      " 3762 3763 3764 3765 3766 3767 3768] of 7 class to 6 col...\n",
      "Trying to append 235 of 7 class to 7 col...\n",
      "Trying to append 1 of 8 class to 7 col...\n",
      "Appending [4010] of 8 class to 7 col...\n",
      "Trying to append 493 of 8 class to 8 col...\n",
      "Trying to append 315 of 9 class to 8 col...\n",
      "Appending [4510 4511 4512 4513 4514 4515 4516 4517 4518 4519 4520 4521 4522 4523\n",
      " 4524 4525 4526 4527 4528 4529 4530 4531 4532 4533 4534 4535 4536 4537\n",
      " 4538 4539 4540 4541 4542 4543 4544 4545 4546 4547 4548 4549 4550 4551\n",
      " 4552 4553 4554 4555 4556 4557 4558 4559 4560 4561 4562 4563 4564 4565\n",
      " 4566 4567 4568 4569 4570 4571 4572 4573 4574 4575 4576 4577 4578 4579\n",
      " 4580 4581 4582 4583 4584 4585 4586 4587 4588 4589 4590 4591 4592 4593\n",
      " 4594 4595 4596 4597 4598 4599 4600 4601 4602 4603 4604 4605 4606 4607\n",
      " 4608 4609 4610 4611 4612 4613 4614 4615 4616 4617 4618 4619 4620 4621\n",
      " 4622 4623 4624 4625 4626 4627 4628 4629 4630 4631 4632 4633 4634 4635\n",
      " 4636 4637 4638 4639 4640 4641 4642 4643 4644 4645 4646 4647 4648 4649\n",
      " 4650 4651 4652 4653 4654 4655 4656 4657 4658 4659 4660 4661 4662 4663\n",
      " 4664 4665 4666 4667 4668 4669 4670 4671 4672 4673 4674 4675 4676 4677\n",
      " 4678 4679 4680 4681 4682 4683 4684 4685 4686 4687 4688 4689 4690 4691\n",
      " 4692 4693 4694 4695 4696 4697 4698 4699 4700 4701 4702 4703 4704 4705\n",
      " 4706 4707 4708 4709 4710 4711 4712 4713 4714 4715 4716 4717 4718 4719\n",
      " 4720 4721 4722 4723 4724 4725 4726 4727 4728 4729 4730 4731 4732 4733\n",
      " 4734 4735 4736 4737 4738 4739 4740 4741 4742 4743 4744 4745 4746 4747\n",
      " 4748 4749 4750 4751 4752 4753 4754 4755 4756 4757 4758 4759 4760 4761\n",
      " 4762 4763 4764 4765 4766 4767 4768 4769 4770 4771 4772 4773 4774 4775\n",
      " 4776 4777 4778 4779 4780 4781 4782 4783 4784 4785 4786 4787 4788 4789\n",
      " 4790 4791 4792 4793 4794 4795 4796 4797 4798 4799 4800 4801 4802 4803\n",
      " 4804 4805 4806 4807 4808 4809 4810 4811 4812 4813 4814 4815 4816 4817\n",
      " 4818 4819 4820 4821 4822 4823 4824] of 9 class to 8 col...\n",
      "Trying to append 179 of 9 class to 9 col...\n",
      "Trying to append 339 of 10 class to 9 col...\n",
      "Appending [5005 5006 5007 5008 5009 5010 5011 5012 5013 5014 5015 5016 5017 5018\n",
      " 5019 5020 5021 5022 5023 5024 5025 5026 5027 5028 5029 5030 5031 5032\n",
      " 5033 5034 5035 5036 5037 5038 5039 5040 5041 5042 5043 5044 5045 5046\n",
      " 5047 5048 5049 5050 5051 5052 5053 5054 5055 5056 5057 5058 5059 5060\n",
      " 5061 5062 5063 5064 5065 5066 5067 5068 5069 5070 5071 5072 5073 5074\n",
      " 5075 5076 5077 5078 5079 5080 5081 5082 5083 5084 5085 5086 5087 5088\n",
      " 5089 5090 5091 5092 5093 5094 5095 5096 5097 5098 5099 5100 5101 5102\n",
      " 5103 5104 5105 5106 5107 5108 5109 5110 5111 5112 5113 5114 5115 5116\n",
      " 5117 5118 5119 5120 5121 5122 5123 5124 5125 5126 5127 5128 5129 5130\n",
      " 5131 5132 5133 5134 5135 5136 5137 5138 5139 5140 5141 5142 5143 5144\n",
      " 5145 5146 5147 5148 5149 5150 5151 5152 5153 5154 5155 5156 5157 5158\n",
      " 5159 5160 5161 5162 5163 5164 5165 5166 5167 5168 5169 5170 5171 5172\n",
      " 5173 5174 5175 5176 5177 5178 5179 5180 5181 5182 5183 5184 5185 5186\n",
      " 5187 5188 5189 5190 5191 5192 5193 5194 5195 5196 5197 5198 5199 5200\n",
      " 5201 5202 5203 5204 5205 5206 5207 5208 5209 5210 5211 5212 5213 5214\n",
      " 5215 5216 5217 5218 5219 5220 5221 5222 5223 5224 5225 5226 5227 5228\n",
      " 5229 5230 5231 5232 5233 5234 5235 5236 5237 5238 5239 5240 5241 5242\n",
      " 5243 5244 5245 5246 5247 5248 5249 5250 5251 5252 5253 5254 5255 5256\n",
      " 5257 5258 5259 5260 5261 5262 5263 5264 5265 5266 5267 5268 5269 5270\n",
      " 5271 5272 5273 5274 5275 5276 5277 5278 5279 5280 5281 5282 5283 5284\n",
      " 5285 5286 5287 5288 5289 5290 5291 5292 5293 5294 5295 5296 5297 5298\n",
      " 5299 5300 5301 5302 5303 5304 5305 5306 5307 5308 5309 5310 5311 5312\n",
      " 5313 5314 5315 5316 5317 5318 5319 5320 5321 5322 5323 5324 5325 5326\n",
      " 5327 5328 5329 5330 5331 5332 5333 5334 5335 5336 5337 5338 5339 5340\n",
      " 5341 5342 5343] of 10 class to 9 col...\n"
     ]
    },
    {
     "name": "stderr",
     "output_type": "stream",
     "text": [
      "\n",
      "100%|██████████| 10/10 [00:00<00:00, 1614.62it/s]"
     ]
    },
    {
     "name": "stdout",
     "output_type": "stream",
     "text": [
      "Assigning 0:5 of 0 class to 0 col...\n",
      "Assigning 5:10 of 1 class to 0 col...\n",
      "Assigning 0:5 of 1 class to 1 col...\n",
      "Assigning 5:10 of 2 class to 1 col...\n",
      "Assigning 0:5 of 2 class to 2 col...\n",
      "Assigning 5:10 of 3 class to 2 col...\n",
      "Assigning 0:5 of 3 class to 3 col...\n",
      "Assigning 5:10 of 4 class to 3 col...\n",
      "Assigning 0:5 of 4 class to 4 col...\n",
      "Assigning 5:10 of 5 class to 4 col...\n",
      "Assigning 0:5 of 5 class to 5 col...\n",
      "Assigning 5:10 of 6 class to 5 col...\n",
      "Assigning 0:5 of 6 class to 6 col...\n",
      "Assigning 5:10 of 7 class to 6 col...\n",
      "Assigning 0:5 of 7 class to 7 col...\n",
      "Assigning 5:10 of 8 class to 7 col...\n",
      "Assigning 0:5 of 8 class to 8 col...\n",
      "Assigning 5:10 of 9 class to 8 col...\n",
      "Assigning 0:5 of 9 class to 9 col...\n",
      "Assigning 5:10 of 10 class to 9 col...\n",
      "Trying to append 38 of 0 class to 0 col...\n",
      "Appending [1021 1165 1209 1395 1488 2164 2690 2828 2830 2901 3082 3506 3763 3955\n",
      " 4061 4324 4541 5520 5630 5680 6124 6146 6445 6506 6528 6558 6766 6966\n",
      " 6981 7702 7885 7998 8314 8420 8429 8734 8785 8788] of 0 class to 0 col...\n",
      "Trying to append 36 of 1 class to 0 col...\n",
      "Appending [2882 3039 3093 3253 3411 3839 4044 4292 4362 4660 4706 4883 4918 5071\n",
      " 5156 5354 6012 6064 6192 6354 6640 6998 7143 7561 7727 7864 8081 8125\n",
      " 8280 8448 8776 8800 9055 9221 9234 9704] of 1 class to 0 col...\n",
      "Trying to append 8 of 1 class to 1 col...\n",
      "Trying to append 36 of 2 class to 1 col...\n",
      "Appending [1780 1827 1860 2345 2532 2689 3040 3078 3216 3228 3310 3426 3447 3880\n",
      " 3881 3940 4540 4893 4947 5255 5532 5590 5709 6086 6739 6794 6956 7153\n",
      " 7217 7526 7666 8128 8249 8641 8746 8777] of 2 class to 1 col...\n",
      "Trying to append 8 of 2 class to 2 col...\n",
      "Trying to append 7 of 3 class to 2 col...\n",
      "Appending [2798 3221 3498 3846 3907 4027 4058] of 3 class to 2 col...\n",
      "Trying to append 37 of 3 class to 3 col...\n",
      "Trying to append 44 of 4 class to 3 col...\n",
      "Trying to append 0 of 4 class to 4 col...\n",
      "Appending [] of 4 class to 4 col...\n",
      "Trying to append 4 of 5 class to 4 col...\n",
      "Appending [1737 1770 1962 2055] of 5 class to 4 col...\n",
      "Trying to append 40 of 5 class to 5 col...\n",
      "Trying to append 44 of 6 class to 5 col...\n",
      "Trying to append 0 of 6 class to 6 col...\n",
      "Appending [] of 6 class to 6 col...\n",
      "Trying to append 1 of 7 class to 6 col...\n",
      "Appending [1866] of 7 class to 6 col...\n",
      "Trying to append 43 of 7 class to 7 col...\n",
      "Trying to append 21 of 8 class to 7 col...\n",
      "Appending [1929 2307 3077 3187 3417 3434 3864 3932 4185 4240 4374 4601 4812 5076\n",
      " 5391 5411 5442 5767 5934 5978 5988] of 8 class to 7 col...\n",
      "Trying to append 23 of 8 class to 8 col...\n",
      "Trying to append 12 of 9 class to 8 col...\n",
      "Appending [2702 2794 2899 3024 3130 3323 3403 3632 3722 4208 4432 4446] of 9 class to 8 col...\n",
      "Trying to append 32 of 9 class to 9 col...\n",
      "Trying to append 32 of 10 class to 9 col...\n",
      "Appending [1047 1127 1839 2002 2384 2521 2729 2819 3011 3702 3743 4033 4252 4860\n",
      " 5088 5112 5183 5186 5238 5277 5361 5466 5627 5667 5772 5942 5992 6043\n",
      " 6096 6214 6302 6489] of 10 class to 9 col...\n"
     ]
    },
    {
     "name": "stderr",
     "output_type": "stream",
     "text": [
      "\n"
     ]
    },
    {
     "data": {
      "text/html": [
       "<pre style=\"white-space:pre;overflow-x:auto;line-height:normal;font-family:Menlo,'DejaVu Sans Mono',consolas,'Courier New',monospace\"><span style=\"color: #7fbfbf\">[11:38:35] </span><span style=\"color: #800000\">WARNING</span>  tried to remove tensor: __opt_state_needed not present in the tensor dict                                                        <a href=\"file:///home/itrushkin/.virtualenvs/openfl/lib/python3.8/site-packages/openfl/utilities/utils.py\"><span style=\"color: #7f7f7f\">utils.py</span></a><span style=\"color: #7f7f7f\">:85</span>\n",
       "</pre>\n"
      ],
      "text/plain": [
       "<rich.jupyter.JupyterRenderable at 0x7f24438ba5b0>"
      ]
     },
     "metadata": {},
     "output_type": "display_data"
    },
    {
     "data": {
      "text/html": [
       "<pre style=\"white-space:pre;overflow-x:auto;line-height:normal;font-family:Menlo,'DejaVu Sans Mono',consolas,'Courier New',monospace\"><span style=\"color: #7fbfbf\">           </span><span style=\"color: #800000\">WARNING</span>  tried to remove tensor: __opt_state_needed not present in the tensor dict                                                        <a href=\"file:///home/itrushkin/.virtualenvs/openfl/lib/python3.8/site-packages/openfl/utilities/utils.py\"><span style=\"color: #7f7f7f\">utils.py</span></a><span style=\"color: #7f7f7f\">:85</span>\n",
       "</pre>\n"
      ],
      "text/plain": [
       "<rich.jupyter.JupyterRenderable at 0x7f24438c0bb0>"
      ]
     },
     "metadata": {},
     "output_type": "display_data"
    },
    {
     "data": {
      "text/html": [
       "<pre style=\"white-space:pre;overflow-x:auto;line-height:normal;font-family:Menlo,'DejaVu Sans Mono',consolas,'Courier New',monospace\"><span style=\"color: #7fbfbf\">           </span><span style=\"color: #800000\">WARNING</span>  tried to remove tensor: __opt_state_needed not present in the tensor dict                                                        <a href=\"file:///home/itrushkin/.virtualenvs/openfl/lib/python3.8/site-packages/openfl/utilities/utils.py\"><span style=\"color: #7f7f7f\">utils.py</span></a><span style=\"color: #7f7f7f\">:85</span>\n",
       "</pre>\n"
      ],
      "text/plain": [
       "<rich.jupyter.JupyterRenderable at 0x7f24a84cdaf0>"
      ]
     },
     "metadata": {},
     "output_type": "display_data"
    },
    {
     "data": {
      "text/html": [
       "<pre style=\"white-space:pre;overflow-x:auto;line-height:normal;font-family:Menlo,'DejaVu Sans Mono',consolas,'Courier New',monospace\"><span style=\"color: #7fbfbf\">           </span><span style=\"color: #800000\">WARNING</span>  tried to remove tensor: __opt_state_needed not present in the tensor dict                                                        <a href=\"file:///home/itrushkin/.virtualenvs/openfl/lib/python3.8/site-packages/openfl/utilities/utils.py\"><span style=\"color: #7f7f7f\">utils.py</span></a><span style=\"color: #7f7f7f\">:85</span>\n",
       "</pre>\n"
      ],
      "text/plain": [
       "<rich.jupyter.JupyterRenderable at 0x7f24a8332d00>"
      ]
     },
     "metadata": {},
     "output_type": "display_data"
    },
    {
     "data": {
      "text/html": [
       "<pre style=\"white-space:pre;overflow-x:auto;line-height:normal;font-family:Menlo,'DejaVu Sans Mono',consolas,'Courier New',monospace\"><span style=\"color: #7fbfbf\">           </span><span style=\"color: #800000\">WARNING</span>  tried to remove tensor: __opt_state_needed not present in the tensor dict                                                        <a href=\"file:///home/itrushkin/.virtualenvs/openfl/lib/python3.8/site-packages/openfl/utilities/utils.py\"><span style=\"color: #7f7f7f\">utils.py</span></a><span style=\"color: #7f7f7f\">:85</span>\n",
       "</pre>\n"
      ],
      "text/plain": [
       "<rich.jupyter.JupyterRenderable at 0x7f24a8224d00>"
      ]
     },
     "metadata": {},
     "output_type": "display_data"
    },
    {
     "data": {
      "text/html": [
       "<pre style=\"white-space:pre;overflow-x:auto;line-height:normal;font-family:Menlo,'DejaVu Sans Mono',consolas,'Courier New',monospace\"><span style=\"color: #7fbfbf\">[11:38:36] </span><span style=\"color: #800000\">WARNING</span>  tried to remove tensor: __opt_state_needed not present in the tensor dict                                                        <a href=\"file:///home/itrushkin/.virtualenvs/openfl/lib/python3.8/site-packages/openfl/utilities/utils.py\"><span style=\"color: #7f7f7f\">utils.py</span></a><span style=\"color: #7f7f7f\">:85</span>\n",
       "</pre>\n"
      ],
      "text/plain": [
       "<rich.jupyter.JupyterRenderable at 0x7f24a81d0d30>"
      ]
     },
     "metadata": {},
     "output_type": "display_data"
    },
    {
     "data": {
      "text/html": [
       "<pre style=\"white-space:pre;overflow-x:auto;line-height:normal;font-family:Menlo,'DejaVu Sans Mono',consolas,'Courier New',monospace\"><span style=\"color: #7fbfbf\">           </span><span style=\"color: #800000\">WARNING</span>  tried to remove tensor: __opt_state_needed not present in the tensor dict                                                        <a href=\"file:///home/itrushkin/.virtualenvs/openfl/lib/python3.8/site-packages/openfl/utilities/utils.py\"><span style=\"color: #7f7f7f\">utils.py</span></a><span style=\"color: #7f7f7f\">:85</span>\n",
       "</pre>\n"
      ],
      "text/plain": [
       "<rich.jupyter.JupyterRenderable at 0x7f24a8022d00>"
      ]
     },
     "metadata": {},
     "output_type": "display_data"
    },
    {
     "data": {
      "text/html": [
       "<pre style=\"white-space:pre;overflow-x:auto;line-height:normal;font-family:Menlo,'DejaVu Sans Mono',consolas,'Courier New',monospace\"><span style=\"color: #7fbfbf\">           </span><span style=\"color: #800000\">WARNING</span>  tried to remove tensor: __opt_state_needed not present in the tensor dict                                                        <a href=\"file:///home/itrushkin/.virtualenvs/openfl/lib/python3.8/site-packages/openfl/utilities/utils.py\"><span style=\"color: #7f7f7f\">utils.py</span></a><span style=\"color: #7f7f7f\">:85</span>\n",
       "</pre>\n"
      ],
      "text/plain": [
       "<rich.jupyter.JupyterRenderable at 0x7f24a7f2a310>"
      ]
     },
     "metadata": {},
     "output_type": "display_data"
    },
    {
     "data": {
      "text/html": [
       "<pre style=\"white-space:pre;overflow-x:auto;line-height:normal;font-family:Menlo,'DejaVu Sans Mono',consolas,'Courier New',monospace\"><span style=\"color: #7fbfbf\">           </span><span style=\"color: #800000\">WARNING</span>  tried to remove tensor: __opt_state_needed not present in the tensor dict                                                        <a href=\"file:///home/itrushkin/.virtualenvs/openfl/lib/python3.8/site-packages/openfl/utilities/utils.py\"><span style=\"color: #7f7f7f\">utils.py</span></a><span style=\"color: #7f7f7f\">:85</span>\n",
       "</pre>\n"
      ],
      "text/plain": [
       "<rich.jupyter.JupyterRenderable at 0x7f24a7e48d00>"
      ]
     },
     "metadata": {},
     "output_type": "display_data"
    },
    {
     "data": {
      "text/html": [
       "<pre style=\"white-space:pre;overflow-x:auto;line-height:normal;font-family:Menlo,'DejaVu Sans Mono',consolas,'Courier New',monospace\"><span style=\"color: #7fbfbf\">           </span><span style=\"color: #800000\">WARNING</span>  tried to remove tensor: __opt_state_needed not present in the tensor dict                                                        <a href=\"file:///home/itrushkin/.virtualenvs/openfl/lib/python3.8/site-packages/openfl/utilities/utils.py\"><span style=\"color: #7f7f7f\">utils.py</span></a><span style=\"color: #7f7f7f\">:85</span>\n",
       "</pre>\n"
      ],
      "text/plain": [
       "<rich.jupyter.JupyterRenderable at 0x7f24a7d40d00>"
      ]
     },
     "metadata": {},
     "output_type": "display_data"
    }
   ],
   "source": [
    "collaborator_models = fl_model.setup(num_collaborators=10)\n",
    "collaborators = {'one':collaborator_models[0],'two':collaborator_models[1]}#, 'three':collaborator_models[2]}"
   ]
  },
  {
   "cell_type": "code",
   "execution_count": 11,
   "metadata": {},
   "outputs": [
    {
     "name": "stdout",
     "output_type": "stream",
     "text": [
      "Original training data size: 100000\n",
      "Original validation data size: 10000\n",
      "\n",
      "Collaborator 0's training data size: 357\n",
      "Collaborator 0's validation data size: 84\n",
      "\n",
      "Collaborator 1's training data size: 495\n",
      "Collaborator 1's validation data size: 46\n",
      "\n",
      "Collaborator 2's training data size: 412\n",
      "Collaborator 2's validation data size: 17\n",
      "\n",
      "Collaborator 3's training data size: 74\n",
      "Collaborator 3's validation data size: 10\n",
      "\n",
      "Collaborator 4's training data size: 484\n",
      "Collaborator 4's validation data size: 14\n",
      "\n",
      "Collaborator 5's training data size: 10\n",
      "Collaborator 5's validation data size: 10\n",
      "\n",
      "Collaborator 6's training data size: 271\n",
      "Collaborator 6's validation data size: 11\n",
      "\n",
      "Collaborator 7's training data size: 11\n",
      "Collaborator 7's validation data size: 31\n",
      "\n",
      "Collaborator 8's training data size: 325\n",
      "Collaborator 8's validation data size: 22\n",
      "\n",
      "Collaborator 9's training data size: 349\n",
      "Collaborator 9's validation data size: 42\n",
      "\n"
     ]
    }
   ],
   "source": [
    "#Original TinyImageNet dataset\n",
    "print(f'Original training data size: {len(fl_data.train_set)}')\n",
    "print(f'Original validation data size: {len(fl_data.valid_set)}\\n')\n",
    "\n",
    "#Collaborator one's data\n",
    "for i, model in enumerate(collaborator_models):\n",
    "    print(f'Collaborator {i}\\'s training data size: {len(model.data_loader.train_set)}')\n",
    "    print(f'Collaborator {i}\\'s validation data size: {len(model.data_loader.valid_set)}\\n')\n",
    "\n",
    "#Collaborator three's data\n",
    "#print(f'Collaborator three\\'s training data size: {len(collaborator_models[2].data_loader.X_train)}')\n",
    "#print(f'Collaborator three\\'s validation data size: {len(collaborator_models[2].data_loader.X_valid)}')"
   ]
  },
  {
   "cell_type": "code",
   "execution_count": 12,
   "metadata": {
    "scrolled": true
   },
   "outputs": [
    {
     "data": {
      "text/html": [
       "<pre style=\"white-space:pre;overflow-x:auto;line-height:normal;font-family:Menlo,'DejaVu Sans Mono',consolas,'Courier New',monospace\"><span style=\"color: #7fbfbf\">           </span><span style=\"color: #000080\">INFO</span>     Updating aggregator.settings.rounds_to_train to <span style=\"color: #000080; font-weight: bold\">10</span><span style=\"color: #808000\">...</span>                                                                           <a href=\"file:///home/itrushkin/.virtualenvs/openfl/lib/python3.8/site-packages/openfl/native/native.py\"><span style=\"color: #7f7f7f\">native.py</span></a><span style=\"color: #7f7f7f\">:83</span>\n",
       "</pre>\n"
      ],
      "text/plain": [
       "<rich.jupyter.JupyterRenderable at 0x7f24a7d78220>"
      ]
     },
     "metadata": {},
     "output_type": "display_data"
    },
    {
     "data": {
      "text/html": [
       "<pre style=\"white-space:pre;overflow-x:auto;line-height:normal;font-family:Menlo,'DejaVu Sans Mono',consolas,'Courier New',monospace\"><span style=\"color: #7fbfbf\">           </span><span style=\"color: #000080\">INFO</span>     FL-Plan hash is <span style=\"color: #000080\">aef291eb580da74519f4bae6c4acf7b00ef29678024deda4049f7fb2374db4e8b0883db563bb24d1aa30bdb8f58026c4</span>                 <a href=\"file:///home/itrushkin/.virtualenvs/openfl/lib/python3.8/site-packages/openfl/federated/plan/plan.py\"><span style=\"color: #7f7f7f\">plan.py</span></a><span style=\"color: #7f7f7f\">:210</span>\n",
       "</pre>\n"
      ],
      "text/plain": [
       "<rich.jupyter.JupyterRenderable at 0x7f24a7d40a60>"
      ]
     },
     "metadata": {},
     "output_type": "display_data"
    },
    {
     "data": {
      "text/html": [
       "<pre style=\"white-space:pre;overflow-x:auto;line-height:normal;font-family:Menlo,'DejaVu Sans Mono',consolas,'Courier New',monospace\"><span style=\"color: #7fbfbf\">           </span><span style=\"color: #000080\">INFO</span>     FL-Plan hash is <span style=\"color: #000080\">41a8ecc8f2c75c8986eb85cfe22f1567b315aeeab644b18e40d6fff0ed5eff185d8a5781face224d165ab20c46da183b</span>                 <a href=\"file:///home/itrushkin/.virtualenvs/openfl/lib/python3.8/site-packages/openfl/federated/plan/plan.py\"><span style=\"color: #7f7f7f\">plan.py</span></a><span style=\"color: #7f7f7f\">:210</span>\n",
       "</pre>\n"
      ],
      "text/plain": [
       "<rich.jupyter.JupyterRenderable at 0x7f24a7d78df0>"
      ]
     },
     "metadata": {},
     "output_type": "display_data"
    },
    {
     "data": {
      "text/html": [
       "<pre style=\"white-space:pre;overflow-x:auto;line-height:normal;font-family:Menlo,'DejaVu Sans Mono',consolas,'Courier New',monospace\"><span style=\"color: #7fbfbf\">           </span><span style=\"color: #000080\">INFO</span>     Building <span style=\"color: #800000\">🡆</span> Object <span style=\"color: #800000\">NoCompressionPipeline</span> from <span style=\"color: #800000\">openfl.pipelines</span> Module.                                                            <a href=\"file:///home/itrushkin/.virtualenvs/openfl/lib/python3.8/site-packages/openfl/federated/plan/plan.py\"><span style=\"color: #7f7f7f\">plan.py</span></a><span style=\"color: #7f7f7f\">:170</span>\n",
       "</pre>\n"
      ],
      "text/plain": [
       "<rich.jupyter.JupyterRenderable at 0x7f24a7d78070>"
      ]
     },
     "metadata": {},
     "output_type": "display_data"
    },
    {
     "data": {
      "text/html": [
       "<pre style=\"white-space:pre;overflow-x:auto;line-height:normal;font-family:Menlo,'DejaVu Sans Mono',consolas,'Courier New',monospace\"><span style=\"color: #7fbfbf\">           </span><span style=\"color: #000080\">INFO</span>     Settings <span style=\"color: #800000\">🡆</span> <span style=\"font-weight: bold\">{}</span>                                                                                                                    <a href=\"file:///home/itrushkin/.virtualenvs/openfl/lib/python3.8/site-packages/openfl/federated/plan/plan.py\"><span style=\"color: #7f7f7f\">plan.py</span></a><span style=\"color: #7f7f7f\">:173</span>\n",
       "</pre>\n"
      ],
      "text/plain": [
       "<rich.jupyter.JupyterRenderable at 0x7f24a7d789d0>"
      ]
     },
     "metadata": {},
     "output_type": "display_data"
    },
    {
     "data": {
      "text/html": [
       "<pre style=\"white-space:pre;overflow-x:auto;line-height:normal;font-family:Menlo,'DejaVu Sans Mono',consolas,'Courier New',monospace\"><span style=\"color: #7fbfbf\">           </span><span style=\"color: #000080\">INFO</span>     Override <span style=\"color: #800000\">🡆</span> <span style=\"font-weight: bold\">{</span><span style=\"color: #008000\">'defaults'</span>: <span style=\"color: #008000\">'plan/defaults/compression_pipeline.yaml'</span><span style=\"font-weight: bold\">}</span>                                                               <a href=\"file:///home/itrushkin/.virtualenvs/openfl/lib/python3.8/site-packages/openfl/federated/plan/plan.py\"><span style=\"color: #7f7f7f\">plan.py</span></a><span style=\"color: #7f7f7f\">:175</span>\n",
       "</pre>\n"
      ],
      "text/plain": [
       "<rich.jupyter.JupyterRenderable at 0x7f24a7d78be0>"
      ]
     },
     "metadata": {},
     "output_type": "display_data"
    },
    {
     "data": {
      "text/html": [
       "<pre style=\"white-space:pre;overflow-x:auto;line-height:normal;font-family:Menlo,'DejaVu Sans Mono',consolas,'Courier New',monospace\"><span style=\"color: #7fbfbf\">           </span><span style=\"color: #000080\">INFO</span>     Creating Initial Weights File    🠆 save/torch_cnn_mnist_init.pbuf                                                              <a href=\"file:///home/itrushkin/.virtualenvs/openfl/lib/python3.8/site-packages/openfl/native/native.py\"><span style=\"color: #7f7f7f\">native.py</span></a><span style=\"color: #7f7f7f\">:246</span>\n",
       "</pre>\n"
      ],
      "text/plain": [
       "<rich.jupyter.JupyterRenderable at 0x7f24b206eb80>"
      ]
     },
     "metadata": {},
     "output_type": "display_data"
    },
    {
     "data": {
      "text/html": [
       "<pre style=\"white-space:pre;overflow-x:auto;line-height:normal;font-family:Menlo,'DejaVu Sans Mono',consolas,'Courier New',monospace\"><span style=\"color: #7fbfbf\">           </span><span style=\"color: #000080\">INFO</span>     Starting Experiment<span style=\"color: #808000\">...</span>                                                                                                         <a href=\"file:///home/itrushkin/.virtualenvs/openfl/lib/python3.8/site-packages/openfl/native/native.py\"><span style=\"color: #7f7f7f\">native.py</span></a><span style=\"color: #7f7f7f\">:250</span>\n",
       "</pre>\n"
      ],
      "text/plain": [
       "<rich.jupyter.JupyterRenderable at 0x7f24b206ea00>"
      ]
     },
     "metadata": {},
     "output_type": "display_data"
    },
    {
     "data": {
      "text/html": [
       "<pre style=\"white-space:pre;overflow-x:auto;line-height:normal;font-family:Menlo,'DejaVu Sans Mono',consolas,'Courier New',monospace\"><span style=\"color: #7fbfbf\">           </span><span style=\"color: #000080\">INFO</span>     Building <span style=\"color: #800000\">🡆</span> Object <span style=\"color: #800000\">RandomGroupedAssigner</span> from <span style=\"color: #800000\">openfl.component</span> Module.                                                            <a href=\"file:///home/itrushkin/.virtualenvs/openfl/lib/python3.8/site-packages/openfl/federated/plan/plan.py\"><span style=\"color: #7f7f7f\">plan.py</span></a><span style=\"color: #7f7f7f\">:170</span>\n",
       "</pre>\n"
      ],
      "text/plain": [
       "<rich.jupyter.JupyterRenderable at 0x7f24b206eb80>"
      ]
     },
     "metadata": {},
     "output_type": "display_data"
    },
    {
     "data": {
      "text/html": [
       "<pre style=\"white-space:pre;overflow-x:auto;line-height:normal;font-family:Menlo,'DejaVu Sans Mono',consolas,'Courier New',monospace\"><span style=\"color: #7fbfbf\">           </span><span style=\"color: #000080\">INFO</span>     Settings <span style=\"color: #800000\">🡆</span> <span style=\"font-weight: bold\">{</span><span style=\"color: #008000\">'task_groups'</span>: <span style=\"font-weight: bold\">[{</span><span style=\"color: #008000\">'name'</span>: <span style=\"color: #008000\">'train_and_validate'</span>, <span style=\"color: #008000\">'percentage'</span>: <span style=\"color: #000080; font-weight: bold\">1.0</span>, <span style=\"color: #008000\">'tasks'</span>: <span style=\"font-weight: bold\">[</span><span style=\"color: #008000\">'aggregated_model_validation'</span>, <span style=\"color: #008000\">'train'</span>,  <a href=\"file:///home/itrushkin/.virtualenvs/openfl/lib/python3.8/site-packages/openfl/federated/plan/plan.py\"><span style=\"color: #7f7f7f\">plan.py</span></a><span style=\"color: #7f7f7f\">:173</span>\n",
       "                    <span style=\"color: #008000\">'locally_tuned_model_validation'</span><span style=\"font-weight: bold\">]}]</span>, <span style=\"color: #008000\">'authorized_cols'</span>: <span style=\"font-weight: bold\">[</span><span style=\"color: #008000\">'one'</span>, <span style=\"color: #008000\">'two'</span><span style=\"font-weight: bold\">]</span>, <span style=\"color: #008000\">'rounds_to_train'</span>: <span style=\"color: #000080; font-weight: bold\">10</span>, <span style=\"color: #008000\">'tasks'</span>:                                     \n",
       "                    <span style=\"font-weight: bold\">{</span><span style=\"color: #008000\">'aggregated_model_validation'</span>: <span style=\"font-weight: bold\">{</span><span style=\"color: #008000\">'function'</span>: <span style=\"color: #008000\">'validate'</span>, <span style=\"color: #008000\">'kwargs'</span>: <span style=\"font-weight: bold\">{</span><span style=\"color: #008000\">'apply'</span>: <span style=\"color: #008000\">'global'</span>, <span style=\"color: #008000\">'metrics'</span>: <span style=\"font-weight: bold\">[</span><span style=\"color: #008000\">'acc'</span><span style=\"font-weight: bold\">]}</span>, <span style=\"color: #008000\">'aggregation_type'</span>:             \n",
       "                    <span style=\"font-weight: bold\">&lt;</span><span style=\"color: #ff00ff; font-weight: bold\">openfl.component.aggregation_functions.weighted_average.WeightedAverage</span><span style=\"color: #000000\"> object at </span><span style=\"color: #000080; font-weight: bold\">0x7f24b206ec40</span><span style=\"font-weight: bold\">&gt;}</span>, <span style=\"color: #008000\">'train'</span>: <span style=\"font-weight: bold\">{</span><span style=\"color: #008000\">'function'</span>:                  \n",
       "                    <span style=\"color: #008000\">'train_batches'</span>, <span style=\"color: #008000\">'kwargs'</span>: <span style=\"font-weight: bold\">{</span><span style=\"color: #008000\">'metrics'</span>: <span style=\"font-weight: bold\">[</span><span style=\"color: #008000\">'loss'</span><span style=\"font-weight: bold\">]}</span>, <span style=\"color: #008000\">'aggregation_type'</span>:                                                                       \n",
       "                    <span style=\"font-weight: bold\">&lt;</span><span style=\"color: #ff00ff; font-weight: bold\">openfl.component.aggregation_functions.weighted_average.WeightedAverage</span><span style=\"color: #000000\"> object at </span><span style=\"color: #000080; font-weight: bold\">0x7f24b206ec40</span><span style=\"font-weight: bold\">&gt;}</span>,                                        \n",
       "                    <span style=\"color: #008000\">'locally_tuned_model_validation'</span>: <span style=\"font-weight: bold\">{</span><span style=\"color: #008000\">'function'</span>: <span style=\"color: #008000\">'validate'</span>, <span style=\"color: #008000\">'kwargs'</span>: <span style=\"font-weight: bold\">{</span><span style=\"color: #008000\">'apply'</span>: <span style=\"color: #008000\">'local'</span>, <span style=\"color: #008000\">'metrics'</span>: <span style=\"font-weight: bold\">[</span><span style=\"color: #008000\">'acc'</span><span style=\"font-weight: bold\">]}</span>, <span style=\"color: #008000\">'aggregation_type'</span>:            \n",
       "                    <span style=\"font-weight: bold\">&lt;</span><span style=\"color: #ff00ff; font-weight: bold\">openfl.component.aggregation_functions.weighted_average.WeightedAverage</span><span style=\"color: #000000\"> object at </span><span style=\"color: #000080; font-weight: bold\">0x7f24b206ec40</span><span style=\"font-weight: bold\">&gt;}}}</span>                                       \n",
       "</pre>\n"
      ],
      "text/plain": [
       "<rich.jupyter.JupyterRenderable at 0x7f24b2029490>"
      ]
     },
     "metadata": {},
     "output_type": "display_data"
    },
    {
     "data": {
      "text/html": [
       "<pre style=\"white-space:pre;overflow-x:auto;line-height:normal;font-family:Menlo,'DejaVu Sans Mono',consolas,'Courier New',monospace\"><span style=\"color: #7fbfbf\">           </span><span style=\"color: #000080\">INFO</span>     Override <span style=\"color: #800000\">🡆</span> <span style=\"font-weight: bold\">{</span><span style=\"color: #008000\">'defaults'</span>: <span style=\"color: #008000\">'plan/defaults/assigner.yaml'</span><span style=\"font-weight: bold\">}</span>                                                                           <a href=\"file:///home/itrushkin/.virtualenvs/openfl/lib/python3.8/site-packages/openfl/federated/plan/plan.py\"><span style=\"color: #7f7f7f\">plan.py</span></a><span style=\"color: #7f7f7f\">:175</span>\n",
       "</pre>\n"
      ],
      "text/plain": [
       "<rich.jupyter.JupyterRenderable at 0x7f24b206eaf0>"
      ]
     },
     "metadata": {},
     "output_type": "display_data"
    },
    {
     "data": {
      "text/html": [
       "<pre style=\"white-space:pre;overflow-x:auto;line-height:normal;font-family:Menlo,'DejaVu Sans Mono',consolas,'Courier New',monospace\"><span style=\"color: #7fbfbf\">           </span><span style=\"color: #000080\">INFO</span>     Building <span style=\"color: #800000\">🡆</span> Object <span style=\"color: #800000\">Aggregator</span> from <span style=\"color: #800000\">openfl.component</span> Module.                                                                       <a href=\"file:///home/itrushkin/.virtualenvs/openfl/lib/python3.8/site-packages/openfl/federated/plan/plan.py\"><span style=\"color: #7f7f7f\">plan.py</span></a><span style=\"color: #7f7f7f\">:170</span>\n",
       "</pre>\n"
      ],
      "text/plain": [
       "<rich.jupyter.JupyterRenderable at 0x7f24a7d788e0>"
      ]
     },
     "metadata": {},
     "output_type": "display_data"
    },
    {
     "data": {
      "text/html": [
       "<pre style=\"white-space:pre;overflow-x:auto;line-height:normal;font-family:Menlo,'DejaVu Sans Mono',consolas,'Courier New',monospace\"><span style=\"color: #7fbfbf\">           </span><span style=\"color: #000080\">INFO</span>     Settings <span style=\"color: #800000\">🡆</span> <span style=\"font-weight: bold\">{</span><span style=\"color: #008000\">'init_state_path'</span>: <span style=\"color: #008000\">'save/torch_cnn_mnist_init.pbuf'</span>, <span style=\"color: #008000\">'db_store_rounds'</span>: <span style=\"color: #000080; font-weight: bold\">1</span>, <span style=\"color: #008000\">'best_state_path'</span>:                        <a href=\"file:///home/itrushkin/.virtualenvs/openfl/lib/python3.8/site-packages/openfl/federated/plan/plan.py\"><span style=\"color: #7f7f7f\">plan.py</span></a><span style=\"color: #7f7f7f\">:173</span>\n",
       "                    <span style=\"color: #008000\">'save/torch_cnn_mnist_best.pbuf'</span>, <span style=\"color: #008000\">'rounds_to_train'</span>: <span style=\"color: #000080; font-weight: bold\">10</span>, <span style=\"color: #008000\">'last_state_path'</span>: <span style=\"color: #008000\">'save/torch_cnn_mnist_last.pbuf'</span>, <span style=\"color: #008000\">'aggregator_uuid'</span>:            \n",
       "                    <span style=\"color: #008000\">'aggregator_plan.yaml_aef291eb'</span>, <span style=\"color: #008000\">'federation_uuid'</span>: <span style=\"color: #008000\">'plan.yaml_aef291eb'</span>, <span style=\"color: #008000\">'authorized_cols'</span>: <span style=\"font-weight: bold\">[</span><span style=\"color: #008000\">'one'</span>, <span style=\"color: #008000\">'two'</span><span style=\"font-weight: bold\">]</span>, <span style=\"color: #008000\">'assigner'</span>:                    \n",
       "                    <span style=\"font-weight: bold\">&lt;</span><span style=\"color: #ff00ff; font-weight: bold\">openfl.component.assigner.random_grouped_assigner.RandomGroupedAssigner</span><span style=\"color: #000000\"> object at </span><span style=\"color: #000080; font-weight: bold\">0x7f24b2029490</span><span style=\"font-weight: bold\">&gt;</span>, <span style=\"color: #008000\">'compression_pipeline'</span>:                 \n",
       "                    <span style=\"font-weight: bold\">&lt;</span><span style=\"color: #ff00ff; font-weight: bold\">openfl.pipelines.no_compression_pipeline.NoCompressionPipeline</span><span style=\"color: #000000\"> object at </span><span style=\"color: #000080; font-weight: bold\">0x7f24a7d78b80</span><span style=\"font-weight: bold\">&gt;}</span>                                                  \n",
       "</pre>\n"
      ],
      "text/plain": [
       "<rich.jupyter.JupyterRenderable at 0x7f24a7d78be0>"
      ]
     },
     "metadata": {},
     "output_type": "display_data"
    },
    {
     "data": {
      "text/html": [
       "<pre style=\"white-space:pre;overflow-x:auto;line-height:normal;font-family:Menlo,'DejaVu Sans Mono',consolas,'Courier New',monospace\"><span style=\"color: #7fbfbf\">           </span><span style=\"color: #000080\">INFO</span>     Override <span style=\"color: #800000\">🡆</span> <span style=\"font-weight: bold\">{</span><span style=\"color: #008000\">'defaults'</span>: <span style=\"color: #008000\">'plan/defaults/aggregator.yaml'</span>, <span style=\"color: #008000\">'initial_tensor_dict'</span>: <span style=\"color: #800080; font-style: italic\">None</span><span style=\"font-weight: bold\">}</span>                                            <a href=\"file:///home/itrushkin/.virtualenvs/openfl/lib/python3.8/site-packages/openfl/federated/plan/plan.py\"><span style=\"color: #7f7f7f\">plan.py</span></a><span style=\"color: #7f7f7f\">:175</span>\n",
       "</pre>\n"
      ],
      "text/plain": [
       "<rich.jupyter.JupyterRenderable at 0x7f24a7d78850>"
      ]
     },
     "metadata": {},
     "output_type": "display_data"
    },
    {
     "data": {
      "text/html": [
       "<pre style=\"white-space:pre;overflow-x:auto;line-height:normal;font-family:Menlo,'DejaVu Sans Mono',consolas,'Courier New',monospace\"><span style=\"color: #7fbfbf\">           </span><span style=\"color: #000080\">INFO</span>     Building <span style=\"color: #800000\">🡆</span> Object <span style=\"color: #800000\">Collaborator</span> from <span style=\"color: #800000\">openfl.component</span> Module.                                                                     <a href=\"file:///home/itrushkin/.virtualenvs/openfl/lib/python3.8/site-packages/openfl/federated/plan/plan.py\"><span style=\"color: #7f7f7f\">plan.py</span></a><span style=\"color: #7f7f7f\">:170</span>\n",
       "</pre>\n"
      ],
      "text/plain": [
       "<rich.jupyter.JupyterRenderable at 0x7f24a7d408b0>"
      ]
     },
     "metadata": {},
     "output_type": "display_data"
    },
    {
     "data": {
      "text/html": [
       "<pre style=\"white-space:pre;overflow-x:auto;line-height:normal;font-family:Menlo,'DejaVu Sans Mono',consolas,'Courier New',monospace\"><span style=\"color: #7fbfbf\">           </span><span style=\"color: #000080\">INFO</span>     Settings <span style=\"color: #800000\">🡆</span> <span style=\"font-weight: bold\">{</span><span style=\"color: #008000\">'opt_treatment'</span>: <span style=\"color: #008000\">'RESET'</span>, <span style=\"color: #008000\">'delta_updates'</span>: <span style=\"color: #ff0000; font-style: italic\">False</span>, <span style=\"color: #008000\">'db_store_rounds'</span>: <span style=\"color: #000080; font-weight: bold\">1</span>, <span style=\"color: #008000\">'collaborator_name'</span>: <span style=\"color: #008000\">'one'</span>,                  <a href=\"file:///home/itrushkin/.virtualenvs/openfl/lib/python3.8/site-packages/openfl/federated/plan/plan.py\"><span style=\"color: #7f7f7f\">plan.py</span></a><span style=\"color: #7f7f7f\">:173</span>\n",
       "                    <span style=\"color: #008000\">'aggregator_uuid'</span>: <span style=\"color: #008000\">'aggregator_plan.yaml_aef291eb'</span>, <span style=\"color: #008000\">'federation_uuid'</span>: <span style=\"color: #008000\">'plan.yaml_aef291eb'</span>, <span style=\"color: #008000\">'task_runner'</span>:                                 \n",
       "                    <span style=\"font-weight: bold\">&lt;</span><span style=\"color: #ff00ff; font-weight: bold\">openfl.federated.task.fl_model.FederatedModel</span><span style=\"color: #000000\"> object at </span><span style=\"color: #000080; font-weight: bold\">0x7f24a809ee20</span><span style=\"font-weight: bold\">&gt;</span>, <span style=\"color: #008000\">'compression_pipeline'</span>:                                           \n",
       "                    <span style=\"font-weight: bold\">&lt;</span><span style=\"color: #ff00ff; font-weight: bold\">openfl.pipelines.no_compression_pipeline.NoCompressionPipeline</span><span style=\"color: #000000\"> object at </span><span style=\"color: #000080; font-weight: bold\">0x7f24a7d78b80</span><span style=\"font-weight: bold\">&gt;</span>, <span style=\"color: #008000\">'task_config'</span>:                                   \n",
       "                    <span style=\"font-weight: bold\">{</span><span style=\"color: #008000\">'aggregated_model_validation'</span>: <span style=\"font-weight: bold\">{</span><span style=\"color: #008000\">'function'</span>: <span style=\"color: #008000\">'validate'</span>, <span style=\"color: #008000\">'kwargs'</span>: <span style=\"font-weight: bold\">{</span><span style=\"color: #008000\">'apply'</span>: <span style=\"color: #008000\">'global'</span>, <span style=\"color: #008000\">'metrics'</span>: <span style=\"font-weight: bold\">[</span><span style=\"color: #008000\">'acc'</span><span style=\"font-weight: bold\">]}</span>, <span style=\"color: #008000\">'aggregation_type'</span>:             \n",
       "                    <span style=\"font-weight: bold\">&lt;</span><span style=\"color: #ff00ff; font-weight: bold\">openfl.component.aggregation_functions.weighted_average.WeightedAverage</span><span style=\"color: #000000\"> object at </span><span style=\"color: #000080; font-weight: bold\">0x7f24b206ec40</span><span style=\"font-weight: bold\">&gt;}</span>, <span style=\"color: #008000\">'train'</span>: <span style=\"font-weight: bold\">{</span><span style=\"color: #008000\">'function'</span>:                  \n",
       "                    <span style=\"color: #008000\">'train_batches'</span>, <span style=\"color: #008000\">'kwargs'</span>: <span style=\"font-weight: bold\">{</span><span style=\"color: #008000\">'metrics'</span>: <span style=\"font-weight: bold\">[</span><span style=\"color: #008000\">'loss'</span><span style=\"font-weight: bold\">]}</span>, <span style=\"color: #008000\">'aggregation_type'</span>:                                                                       \n",
       "                    <span style=\"font-weight: bold\">&lt;</span><span style=\"color: #ff00ff; font-weight: bold\">openfl.component.aggregation_functions.weighted_average.WeightedAverage</span><span style=\"color: #000000\"> object at </span><span style=\"color: #000080; font-weight: bold\">0x7f24b206ec40</span><span style=\"font-weight: bold\">&gt;}</span>,                                        \n",
       "                    <span style=\"color: #008000\">'locally_tuned_model_validation'</span>: <span style=\"font-weight: bold\">{</span><span style=\"color: #008000\">'function'</span>: <span style=\"color: #008000\">'validate'</span>, <span style=\"color: #008000\">'kwargs'</span>: <span style=\"font-weight: bold\">{</span><span style=\"color: #008000\">'apply'</span>: <span style=\"color: #008000\">'local'</span>, <span style=\"color: #008000\">'metrics'</span>: <span style=\"font-weight: bold\">[</span><span style=\"color: #008000\">'acc'</span><span style=\"font-weight: bold\">]}</span>, <span style=\"color: #008000\">'aggregation_type'</span>:            \n",
       "                    <span style=\"font-weight: bold\">&lt;</span><span style=\"color: #ff00ff; font-weight: bold\">openfl.component.aggregation_functions.weighted_average.WeightedAverage</span><span style=\"color: #000000\"> object at </span><span style=\"color: #000080; font-weight: bold\">0x7f24b206ec40</span><span style=\"font-weight: bold\">&gt;}}</span>, <span style=\"color: #008000\">'client'</span>:                             \n",
       "                    <span style=\"font-weight: bold\">&lt;</span><span style=\"color: #ff00ff; font-weight: bold\">openfl.component.aggregator.aggregator.Aggregator</span><span style=\"color: #000000\"> object at </span><span style=\"color: #000080; font-weight: bold\">0x7f24b206e790</span><span style=\"font-weight: bold\">&gt;}</span>                                                               \n",
       "</pre>\n"
      ],
      "text/plain": [
       "<rich.jupyter.JupyterRenderable at 0x7f24a7d40340>"
      ]
     },
     "metadata": {},
     "output_type": "display_data"
    },
    {
     "data": {
      "text/html": [
       "<pre style=\"white-space:pre;overflow-x:auto;line-height:normal;font-family:Menlo,'DejaVu Sans Mono',consolas,'Courier New',monospace\"><span style=\"color: #7fbfbf\">           </span><span style=\"color: #000080\">INFO</span>     Override <span style=\"color: #800000\">🡆</span> <span style=\"font-weight: bold\">{</span><span style=\"color: #008000\">'defaults'</span>: <span style=\"color: #008000\">'plan/defaults/collaborator.yaml'</span><span style=\"font-weight: bold\">}</span>                                                                       <a href=\"file:///home/itrushkin/.virtualenvs/openfl/lib/python3.8/site-packages/openfl/federated/plan/plan.py\"><span style=\"color: #7f7f7f\">plan.py</span></a><span style=\"color: #7f7f7f\">:175</span>\n",
       "</pre>\n"
      ],
      "text/plain": [
       "<rich.jupyter.JupyterRenderable at 0x7f24a7d408b0>"
      ]
     },
     "metadata": {},
     "output_type": "display_data"
    },
    {
     "data": {
      "text/html": [
       "<pre style=\"white-space:pre;overflow-x:auto;line-height:normal;font-family:Menlo,'DejaVu Sans Mono',consolas,'Courier New',monospace\"><span style=\"color: #7fbfbf\">           </span><span style=\"color: #000080\">INFO</span>     Building <span style=\"color: #800000\">🡆</span> Object <span style=\"color: #800000\">Collaborator</span> from <span style=\"color: #800000\">openfl.component</span> Module.                                                                     <a href=\"file:///home/itrushkin/.virtualenvs/openfl/lib/python3.8/site-packages/openfl/federated/plan/plan.py\"><span style=\"color: #7f7f7f\">plan.py</span></a><span style=\"color: #7f7f7f\">:170</span>\n",
       "</pre>\n"
      ],
      "text/plain": [
       "<rich.jupyter.JupyterRenderable at 0x7f24a7cbe580>"
      ]
     },
     "metadata": {},
     "output_type": "display_data"
    },
    {
     "data": {
      "text/html": [
       "<pre style=\"white-space:pre;overflow-x:auto;line-height:normal;font-family:Menlo,'DejaVu Sans Mono',consolas,'Courier New',monospace\"><span style=\"color: #7fbfbf\">           </span><span style=\"color: #000080\">INFO</span>     Settings <span style=\"color: #800000\">🡆</span> <span style=\"font-weight: bold\">{</span><span style=\"color: #008000\">'opt_treatment'</span>: <span style=\"color: #008000\">'RESET'</span>, <span style=\"color: #008000\">'delta_updates'</span>: <span style=\"color: #ff0000; font-style: italic\">False</span>, <span style=\"color: #008000\">'db_store_rounds'</span>: <span style=\"color: #000080; font-weight: bold\">1</span>, <span style=\"color: #008000\">'collaborator_name'</span>: <span style=\"color: #008000\">'two'</span>,                  <a href=\"file:///home/itrushkin/.virtualenvs/openfl/lib/python3.8/site-packages/openfl/federated/plan/plan.py\"><span style=\"color: #7f7f7f\">plan.py</span></a><span style=\"color: #7f7f7f\">:173</span>\n",
       "                    <span style=\"color: #008000\">'aggregator_uuid'</span>: <span style=\"color: #008000\">'aggregator_plan.yaml_aef291eb'</span>, <span style=\"color: #008000\">'federation_uuid'</span>: <span style=\"color: #008000\">'plan.yaml_aef291eb'</span>, <span style=\"color: #008000\">'task_runner'</span>:                                 \n",
       "                    <span style=\"font-weight: bold\">&lt;</span><span style=\"color: #ff00ff; font-weight: bold\">openfl.federated.task.fl_model.FederatedModel</span><span style=\"color: #000000\"> object at </span><span style=\"color: #000080; font-weight: bold\">0x7f24a809e5e0</span><span style=\"font-weight: bold\">&gt;</span>, <span style=\"color: #008000\">'compression_pipeline'</span>:                                           \n",
       "                    <span style=\"font-weight: bold\">&lt;</span><span style=\"color: #ff00ff; font-weight: bold\">openfl.pipelines.no_compression_pipeline.NoCompressionPipeline</span><span style=\"color: #000000\"> object at </span><span style=\"color: #000080; font-weight: bold\">0x7f24a7d78b80</span><span style=\"font-weight: bold\">&gt;</span>, <span style=\"color: #008000\">'task_config'</span>:                                   \n",
       "                    <span style=\"font-weight: bold\">{</span><span style=\"color: #008000\">'aggregated_model_validation'</span>: <span style=\"font-weight: bold\">{</span><span style=\"color: #008000\">'function'</span>: <span style=\"color: #008000\">'validate'</span>, <span style=\"color: #008000\">'kwargs'</span>: <span style=\"font-weight: bold\">{</span><span style=\"color: #008000\">'apply'</span>: <span style=\"color: #008000\">'global'</span>, <span style=\"color: #008000\">'metrics'</span>: <span style=\"font-weight: bold\">[</span><span style=\"color: #008000\">'acc'</span><span style=\"font-weight: bold\">]}</span>, <span style=\"color: #008000\">'aggregation_type'</span>:             \n",
       "                    <span style=\"font-weight: bold\">&lt;</span><span style=\"color: #ff00ff; font-weight: bold\">openfl.component.aggregation_functions.weighted_average.WeightedAverage</span><span style=\"color: #000000\"> object at </span><span style=\"color: #000080; font-weight: bold\">0x7f24b206ec40</span><span style=\"font-weight: bold\">&gt;}</span>, <span style=\"color: #008000\">'train'</span>: <span style=\"font-weight: bold\">{</span><span style=\"color: #008000\">'function'</span>:                  \n",
       "                    <span style=\"color: #008000\">'train_batches'</span>, <span style=\"color: #008000\">'kwargs'</span>: <span style=\"font-weight: bold\">{</span><span style=\"color: #008000\">'metrics'</span>: <span style=\"font-weight: bold\">[</span><span style=\"color: #008000\">'loss'</span><span style=\"font-weight: bold\">]}</span>, <span style=\"color: #008000\">'aggregation_type'</span>:                                                                       \n",
       "                    <span style=\"font-weight: bold\">&lt;</span><span style=\"color: #ff00ff; font-weight: bold\">openfl.component.aggregation_functions.weighted_average.WeightedAverage</span><span style=\"color: #000000\"> object at </span><span style=\"color: #000080; font-weight: bold\">0x7f24b206ec40</span><span style=\"font-weight: bold\">&gt;}</span>,                                        \n",
       "                    <span style=\"color: #008000\">'locally_tuned_model_validation'</span>: <span style=\"font-weight: bold\">{</span><span style=\"color: #008000\">'function'</span>: <span style=\"color: #008000\">'validate'</span>, <span style=\"color: #008000\">'kwargs'</span>: <span style=\"font-weight: bold\">{</span><span style=\"color: #008000\">'apply'</span>: <span style=\"color: #008000\">'local'</span>, <span style=\"color: #008000\">'metrics'</span>: <span style=\"font-weight: bold\">[</span><span style=\"color: #008000\">'acc'</span><span style=\"font-weight: bold\">]}</span>, <span style=\"color: #008000\">'aggregation_type'</span>:            \n",
       "                    <span style=\"font-weight: bold\">&lt;</span><span style=\"color: #ff00ff; font-weight: bold\">openfl.component.aggregation_functions.weighted_average.WeightedAverage</span><span style=\"color: #000000\"> object at </span><span style=\"color: #000080; font-weight: bold\">0x7f24b206ec40</span><span style=\"font-weight: bold\">&gt;}}</span>, <span style=\"color: #008000\">'client'</span>:                             \n",
       "                    <span style=\"font-weight: bold\">&lt;</span><span style=\"color: #ff00ff; font-weight: bold\">openfl.component.aggregator.aggregator.Aggregator</span><span style=\"color: #000000\"> object at </span><span style=\"color: #000080; font-weight: bold\">0x7f24b206e790</span><span style=\"font-weight: bold\">&gt;</span>, <span style=\"color: #008000\">'defaults'</span>: <span style=\"color: #008000\">'plan/defaults/collaborator.yaml'</span><span style=\"font-weight: bold\">}</span>                \n",
       "</pre>\n"
      ],
      "text/plain": [
       "<rich.jupyter.JupyterRenderable at 0x7f24a7cbe5b0>"
      ]
     },
     "metadata": {},
     "output_type": "display_data"
    },
    {
     "data": {
      "text/html": [
       "<pre style=\"white-space:pre;overflow-x:auto;line-height:normal;font-family:Menlo,'DejaVu Sans Mono',consolas,'Courier New',monospace\"><span style=\"color: #7fbfbf\">           </span><span style=\"color: #000080\">INFO</span>     Override <span style=\"color: #800000\">🡆</span> <span style=\"font-weight: bold\">{</span><span style=\"color: #008000\">'defaults'</span>: <span style=\"color: #008000\">'plan/defaults/collaborator.yaml'</span><span style=\"font-weight: bold\">}</span>                                                                       <a href=\"file:///home/itrushkin/.virtualenvs/openfl/lib/python3.8/site-packages/openfl/federated/plan/plan.py\"><span style=\"color: #7f7f7f\">plan.py</span></a><span style=\"color: #7f7f7f\">:175</span>\n",
       "</pre>\n"
      ],
      "text/plain": [
       "<rich.jupyter.JupyterRenderable at 0x7f24a7cbe610>"
      ]
     },
     "metadata": {},
     "output_type": "display_data"
    },
    {
     "data": {
      "text/html": [
       "<pre style=\"white-space:pre;overflow-x:auto;line-height:normal;font-family:Menlo,'DejaVu Sans Mono',consolas,'Courier New',monospace\"><span style=\"color: #7fbfbf\">           </span><span style=\"color: #000080\">INFO</span>     Waiting for tasks<span style=\"color: #808000\">...</span>                                                                                                     <a href=\"file:///home/itrushkin/.virtualenvs/openfl/lib/python3.8/site-packages/openfl/component/collaborator/collaborator.py\"><span style=\"color: #7f7f7f\">collaborator.py</span></a><span style=\"color: #7f7f7f\">:153</span>\n",
       "</pre>\n"
      ],
      "text/plain": [
       "<rich.jupyter.JupyterRenderable at 0x7f24a7cbea90>"
      ]
     },
     "metadata": {},
     "output_type": "display_data"
    },
    {
     "data": {
      "text/html": [
       "<pre style=\"white-space:pre;overflow-x:auto;line-height:normal;font-family:Menlo,'DejaVu Sans Mono',consolas,'Courier New',monospace\"><span style=\"color: #7fbfbf\">           </span><span style=\"color: #000080\">INFO</span>     Sending tasks to collaborator one for round <span style=\"color: #000080; font-weight: bold\">0</span>                                                                              <a href=\"file:///home/itrushkin/.virtualenvs/openfl/lib/python3.8/site-packages/openfl/component/aggregator/aggregator.py\"><span style=\"color: #7f7f7f\">aggregator.py</span></a><span style=\"color: #7f7f7f\">:297</span>\n",
       "</pre>\n"
      ],
      "text/plain": [
       "<rich.jupyter.JupyterRenderable at 0x7f24a7cbe3a0>"
      ]
     },
     "metadata": {},
     "output_type": "display_data"
    },
    {
     "data": {
      "text/html": [
       "<pre style=\"white-space:pre;overflow-x:auto;line-height:normal;font-family:Menlo,'DejaVu Sans Mono',consolas,'Courier New',monospace\"><span style=\"color: #7fbfbf\">           </span><span style=\"color: #000080\">INFO</span>     Received the following tasks: <span style=\"font-weight: bold\">[</span><span style=\"color: #008000\">'aggregated_model_validation'</span>, <span style=\"color: #008000\">'train'</span>, <span style=\"color: #008000\">'locally_tuned_model_validation'</span><span style=\"font-weight: bold\">]</span>                 <a href=\"file:///home/itrushkin/.virtualenvs/openfl/lib/python3.8/site-packages/openfl/component/collaborator/collaborator.py\"><span style=\"color: #7f7f7f\">collaborator.py</span></a><span style=\"color: #7f7f7f\">:143</span>\n",
       "</pre>\n"
      ],
      "text/plain": [
       "<rich.jupyter.JupyterRenderable at 0x7f24a7cbe370>"
      ]
     },
     "metadata": {},
     "output_type": "display_data"
    },
    {
     "data": {
      "text/html": [
       "<pre style=\"white-space:pre;overflow-x:auto;line-height:normal;font-family:Menlo,'DejaVu Sans Mono',consolas,'Courier New',monospace\"><span style=\"color: #7fbfbf\">[11:38:37] </span><span style=\"color: #000080\">INFO</span>     Using TaskRunner subclassing API                                                                                         <a href=\"file:///home/itrushkin/.virtualenvs/openfl/lib/python3.8/site-packages/openfl/component/collaborator/collaborator.py\"><span style=\"color: #7f7f7f\">collaborator.py</span></a><span style=\"color: #7f7f7f\">:203</span>\n",
       "</pre>\n"
      ],
      "text/plain": [
       "<rich.jupyter.JupyterRenderable at 0x7f24a7ca1c40>"
      ]
     },
     "metadata": {},
     "output_type": "display_data"
    },
    {
     "name": "stderr",
     "output_type": "stream",
     "text": [
      "/home/itrushkin/.virtualenvs/openfl/lib/python3.8/site-packages/openfl/federated/task/runner_pt.py:281: UserWarning: The given NumPy array is not writeable, and PyTorch does not support non-writeable tensors. This means you can write to the underlying (supposedly non-writeable) NumPy array using the tensor. You may want to copy the array to protect its data or make it writeable before converting it to a tensor. This type of warning will be suppressed for the rest of this program. (Triggered internally at  /pytorch/torch/csrc/utils/tensor_numpy.cpp:180.)\n",
      "  new_state[k] = pt.from_numpy(tensor_dict.pop(k)).to(device)\n",
      "/home/itrushkin/.virtualenvs/openfl/lib/python3.8/site-packages/openfl/federated/task/runner_pt.py:106: UserWarning: To copy construct from a tensor, it is recommended to use sourceTensor.clone().detach() or sourceTensor.clone().detach().requires_grad_(True), rather than torch.tensor(sourceTensor).\n",
      "  data, target = pt.tensor(data).to(self.device), pt.tensor(\n"
     ]
    },
    {
     "data": {
      "text/html": [
       "<pre style=\"white-space:pre;overflow-x:auto;line-height:normal;font-family:Menlo,'DejaVu Sans Mono',consolas,'Courier New',monospace\"><span style=\"color: #7fbfbf\">[11:38:39] </span><span style=\"color: #000080\">INFO</span>     Sending metric for task aggregated_model_validation, round number <span style=\"color: #000080; font-weight: bold\">0</span>: acc        <span style=\"color: #000080; font-weight: bold\">0.0</span>                                      <a href=\"file:///home/itrushkin/.virtualenvs/openfl/lib/python3.8/site-packages/openfl/component/collaborator/collaborator.py\"><span style=\"color: #7f7f7f\">collaborator.py</span></a><span style=\"color: #7f7f7f\">:366</span>\n",
       "</pre>\n"
      ],
      "text/plain": [
       "<rich.jupyter.JupyterRenderable at 0x7f24a7c9e190>"
      ]
     },
     "metadata": {},
     "output_type": "display_data"
    },
    {
     "data": {
      "text/html": [
       "<pre style=\"white-space:pre;overflow-x:auto;line-height:normal;font-family:Menlo,'DejaVu Sans Mono',consolas,'Courier New',monospace\"><span style=\"color: #7fbfbf\">           </span><span style=\"color: #000080\">INFO</span>     Collaborator one is sending task results for aggregated_model_validation, round <span style=\"color: #000080; font-weight: bold\">0</span>                                          <a href=\"file:///home/itrushkin/.virtualenvs/openfl/lib/python3.8/site-packages/openfl/component/aggregator/aggregator.py\"><span style=\"color: #7f7f7f\">aggregator.py</span></a><span style=\"color: #7f7f7f\">:450</span>\n",
       "</pre>\n"
      ],
      "text/plain": [
       "<rich.jupyter.JupyterRenderable at 0x7f24a7c9ef10>"
      ]
     },
     "metadata": {},
     "output_type": "display_data"
    },
    {
     "data": {
      "text/html": [
       "<pre style=\"white-space:pre;overflow-x:auto;line-height:normal;font-family:Menlo,'DejaVu Sans Mono',consolas,'Courier New',monospace\"><span style=\"color: #7fbfbf\">           </span><span style=\"color: #000080\">INFO</span>     Using TaskRunner subclassing API                                                                                         <a href=\"file:///home/itrushkin/.virtualenvs/openfl/lib/python3.8/site-packages/openfl/component/collaborator/collaborator.py\"><span style=\"color: #7f7f7f\">collaborator.py</span></a><span style=\"color: #7f7f7f\">:203</span>\n",
       "</pre>\n"
      ],
      "text/plain": [
       "<rich.jupyter.JupyterRenderable at 0x7f2443bbda90>"
      ]
     },
     "metadata": {},
     "output_type": "display_data"
    },
    {
     "name": "stderr",
     "output_type": "stream",
     "text": [
      "/home/itrushkin/.virtualenvs/openfl/lib/python3.8/site-packages/openfl/federated/task/runner_pt.py:457: UserWarning: To copy construct from a tensor, it is recommended to use sourceTensor.clone().detach() or sourceTensor.clone().detach().requires_grad_(True), rather than torch.tensor(sourceTensor).\n",
      "  data, target = pt.tensor(data).to(self.device), pt.tensor(\n"
     ]
    },
    {
     "data": {
      "text/html": [
       "<pre style=\"white-space:pre;overflow-x:auto;line-height:normal;font-family:Menlo,'DejaVu Sans Mono',consolas,'Courier New',monospace\"><span style=\"color: #7fbfbf\">[11:38:40] </span><span style=\"color: #000080\">INFO</span>     Sending metric for task train, round number <span style=\"color: #000080; font-weight: bold\">0</span>: cross_entropy    <span style=\"color: #000080; font-weight: bold\">4.815380573272705</span>                                        <a href=\"file:///home/itrushkin/.virtualenvs/openfl/lib/python3.8/site-packages/openfl/component/collaborator/collaborator.py\"><span style=\"color: #7f7f7f\">collaborator.py</span></a><span style=\"color: #7f7f7f\">:366</span>\n",
       "</pre>\n"
      ],
      "text/plain": [
       "<rich.jupyter.JupyterRenderable at 0x7f2443ab7190>"
      ]
     },
     "metadata": {},
     "output_type": "display_data"
    },
    {
     "data": {
      "text/html": [
       "<pre style=\"white-space:pre;overflow-x:auto;line-height:normal;font-family:Menlo,'DejaVu Sans Mono',consolas,'Courier New',monospace\"><span style=\"color: #7fbfbf\">           </span><span style=\"color: #000080\">INFO</span>     Collaborator one is sending task results for train, round <span style=\"color: #000080; font-weight: bold\">0</span>                                                                <a href=\"file:///home/itrushkin/.virtualenvs/openfl/lib/python3.8/site-packages/openfl/component/aggregator/aggregator.py\"><span style=\"color: #7f7f7f\">aggregator.py</span></a><span style=\"color: #7f7f7f\">:450</span>\n",
       "</pre>\n"
      ],
      "text/plain": [
       "<rich.jupyter.JupyterRenderable at 0x7f2443ab76d0>"
      ]
     },
     "metadata": {},
     "output_type": "display_data"
    },
    {
     "data": {
      "text/html": [
       "<pre style=\"white-space:pre;overflow-x:auto;line-height:normal;font-family:Menlo,'DejaVu Sans Mono',consolas,'Courier New',monospace\"><span style=\"color: #7fbfbf\">           </span><span style=\"color: #000080\">INFO</span>     Using TaskRunner subclassing API                                                                                         <a href=\"file:///home/itrushkin/.virtualenvs/openfl/lib/python3.8/site-packages/openfl/component/collaborator/collaborator.py\"><span style=\"color: #7f7f7f\">collaborator.py</span></a><span style=\"color: #7f7f7f\">:203</span>\n",
       "</pre>\n"
      ],
      "text/plain": [
       "<rich.jupyter.JupyterRenderable at 0x7f2443c52e20>"
      ]
     },
     "metadata": {},
     "output_type": "display_data"
    },
    {
     "data": {
      "text/html": [
       "<pre style=\"white-space:pre;overflow-x:auto;line-height:normal;font-family:Menlo,'DejaVu Sans Mono',consolas,'Courier New',monospace\"><span style=\"color: #7fbfbf\">           </span><span style=\"color: #000080\">INFO</span>     Sending metric for task locally_tuned_model_validation, round number <span style=\"color: #000080; font-weight: bold\">0</span>: acc     <span style=\"color: #000080; font-weight: bold\">0.27380952380952384</span>                      <a href=\"file:///home/itrushkin/.virtualenvs/openfl/lib/python3.8/site-packages/openfl/component/collaborator/collaborator.py\"><span style=\"color: #7f7f7f\">collaborator.py</span></a><span style=\"color: #7f7f7f\">:366</span>\n",
       "</pre>\n"
      ],
      "text/plain": [
       "<rich.jupyter.JupyterRenderable at 0x7f2443ab71c0>"
      ]
     },
     "metadata": {},
     "output_type": "display_data"
    },
    {
     "data": {
      "text/html": [
       "<pre style=\"white-space:pre;overflow-x:auto;line-height:normal;font-family:Menlo,'DejaVu Sans Mono',consolas,'Courier New',monospace\"><span style=\"color: #7fbfbf\">           </span><span style=\"color: #000080\">INFO</span>     Collaborator one is sending task results for locally_tuned_model_validation, round <span style=\"color: #000080; font-weight: bold\">0</span>                                       <a href=\"file:///home/itrushkin/.virtualenvs/openfl/lib/python3.8/site-packages/openfl/component/aggregator/aggregator.py\"><span style=\"color: #7f7f7f\">aggregator.py</span></a><span style=\"color: #7f7f7f\">:450</span>\n",
       "</pre>\n"
      ],
      "text/plain": [
       "<rich.jupyter.JupyterRenderable at 0x7f2443ab7400>"
      ]
     },
     "metadata": {},
     "output_type": "display_data"
    },
    {
     "data": {
      "text/html": [
       "<pre style=\"white-space:pre;overflow-x:auto;line-height:normal;font-family:Menlo,'DejaVu Sans Mono',consolas,'Courier New',monospace\"><span style=\"color: #7fbfbf\">           </span><span style=\"color: #000080\">INFO</span>     All tasks completed on one for round <span style=\"color: #000080; font-weight: bold\">0</span><span style=\"color: #808000\">...</span>                                                                                <a href=\"file:///home/itrushkin/.virtualenvs/openfl/lib/python3.8/site-packages/openfl/component/collaborator/collaborator.py\"><span style=\"color: #7f7f7f\">collaborator.py</span></a><span style=\"color: #7f7f7f\">:146</span>\n",
       "</pre>\n"
      ],
      "text/plain": [
       "<rich.jupyter.JupyterRenderable at 0x7f24438a7910>"
      ]
     },
     "metadata": {},
     "output_type": "display_data"
    },
    {
     "data": {
      "text/html": [
       "<pre style=\"white-space:pre;overflow-x:auto;line-height:normal;font-family:Menlo,'DejaVu Sans Mono',consolas,'Courier New',monospace\"><span style=\"color: #7fbfbf\">           </span><span style=\"color: #000080\">INFO</span>     Waiting for tasks<span style=\"color: #808000\">...</span>                                                                                                     <a href=\"file:///home/itrushkin/.virtualenvs/openfl/lib/python3.8/site-packages/openfl/component/collaborator/collaborator.py\"><span style=\"color: #7f7f7f\">collaborator.py</span></a><span style=\"color: #7f7f7f\">:153</span>\n",
       "</pre>\n"
      ],
      "text/plain": [
       "<rich.jupyter.JupyterRenderable at 0x7f2443ab71c0>"
      ]
     },
     "metadata": {},
     "output_type": "display_data"
    },
    {
     "data": {
      "text/html": [
       "<pre style=\"white-space:pre;overflow-x:auto;line-height:normal;font-family:Menlo,'DejaVu Sans Mono',consolas,'Courier New',monospace\"><span style=\"color: #7fbfbf\">           </span><span style=\"color: #000080\">INFO</span>     Sending tasks to collaborator two for round <span style=\"color: #000080; font-weight: bold\">0</span>                                                                              <a href=\"file:///home/itrushkin/.virtualenvs/openfl/lib/python3.8/site-packages/openfl/component/aggregator/aggregator.py\"><span style=\"color: #7f7f7f\">aggregator.py</span></a><span style=\"color: #7f7f7f\">:297</span>\n",
       "</pre>\n"
      ],
      "text/plain": [
       "<rich.jupyter.JupyterRenderable at 0x7f2443ab72e0>"
      ]
     },
     "metadata": {},
     "output_type": "display_data"
    },
    {
     "data": {
      "text/html": [
       "<pre style=\"white-space:pre;overflow-x:auto;line-height:normal;font-family:Menlo,'DejaVu Sans Mono',consolas,'Courier New',monospace\"><span style=\"color: #7fbfbf\">           </span><span style=\"color: #000080\">INFO</span>     Received the following tasks: <span style=\"font-weight: bold\">[</span><span style=\"color: #008000\">'aggregated_model_validation'</span>, <span style=\"color: #008000\">'train'</span>, <span style=\"color: #008000\">'locally_tuned_model_validation'</span><span style=\"font-weight: bold\">]</span>                 <a href=\"file:///home/itrushkin/.virtualenvs/openfl/lib/python3.8/site-packages/openfl/component/collaborator/collaborator.py\"><span style=\"color: #7f7f7f\">collaborator.py</span></a><span style=\"color: #7f7f7f\">:143</span>\n",
       "</pre>\n"
      ],
      "text/plain": [
       "<rich.jupyter.JupyterRenderable at 0x7f24438a0610>"
      ]
     },
     "metadata": {},
     "output_type": "display_data"
    },
    {
     "data": {
      "text/html": [
       "<pre style=\"white-space:pre;overflow-x:auto;line-height:normal;font-family:Menlo,'DejaVu Sans Mono',consolas,'Courier New',monospace\"><span style=\"color: #7fbfbf\">[11:38:42] </span><span style=\"color: #000080\">INFO</span>     Using TaskRunner subclassing API                                                                                         <a href=\"file:///home/itrushkin/.virtualenvs/openfl/lib/python3.8/site-packages/openfl/component/collaborator/collaborator.py\"><span style=\"color: #7f7f7f\">collaborator.py</span></a><span style=\"color: #7f7f7f\">:203</span>\n",
       "</pre>\n"
      ],
      "text/plain": [
       "<rich.jupyter.JupyterRenderable at 0x7f2443a64790>"
      ]
     },
     "metadata": {},
     "output_type": "display_data"
    },
    {
     "data": {
      "text/html": [
       "<pre style=\"white-space:pre;overflow-x:auto;line-height:normal;font-family:Menlo,'DejaVu Sans Mono',consolas,'Courier New',monospace\"><span style=\"color: #7fbfbf\">           </span><span style=\"color: #000080\">INFO</span>     Sending metric for task aggregated_model_validation, round number <span style=\"color: #000080; font-weight: bold\">0</span>: acc        <span style=\"color: #000080; font-weight: bold\">0.0</span>                                      <a href=\"file:///home/itrushkin/.virtualenvs/openfl/lib/python3.8/site-packages/openfl/component/collaborator/collaborator.py\"><span style=\"color: #7f7f7f\">collaborator.py</span></a><span style=\"color: #7f7f7f\">:366</span>\n",
       "</pre>\n"
      ],
      "text/plain": [
       "<rich.jupyter.JupyterRenderable at 0x7f2443c218b0>"
      ]
     },
     "metadata": {},
     "output_type": "display_data"
    },
    {
     "data": {
      "text/html": [
       "<pre style=\"white-space:pre;overflow-x:auto;line-height:normal;font-family:Menlo,'DejaVu Sans Mono',consolas,'Courier New',monospace\"><span style=\"color: #7fbfbf\">           </span><span style=\"color: #000080\">INFO</span>     Collaborator two is sending task results for aggregated_model_validation, round <span style=\"color: #000080; font-weight: bold\">0</span>                                          <a href=\"file:///home/itrushkin/.virtualenvs/openfl/lib/python3.8/site-packages/openfl/component/aggregator/aggregator.py\"><span style=\"color: #7f7f7f\">aggregator.py</span></a><span style=\"color: #7f7f7f\">:450</span>\n",
       "</pre>\n"
      ],
      "text/plain": [
       "<rich.jupyter.JupyterRenderable at 0x7f2443c218b0>"
      ]
     },
     "metadata": {},
     "output_type": "display_data"
    },
    {
     "data": {
      "text/html": [
       "<pre style=\"white-space:pre;overflow-x:auto;line-height:normal;font-family:Menlo,'DejaVu Sans Mono',consolas,'Courier New',monospace\"><span style=\"color: #7fbfbf\">           </span><span style=\"color: #000080\">INFO</span>     Using TaskRunner subclassing API                                                                                         <a href=\"file:///home/itrushkin/.virtualenvs/openfl/lib/python3.8/site-packages/openfl/component/collaborator/collaborator.py\"><span style=\"color: #7f7f7f\">collaborator.py</span></a><span style=\"color: #7f7f7f\">:203</span>\n",
       "</pre>\n"
      ],
      "text/plain": [
       "<rich.jupyter.JupyterRenderable at 0x7f2443a864f0>"
      ]
     },
     "metadata": {},
     "output_type": "display_data"
    },
    {
     "data": {
      "text/html": [
       "<pre style=\"white-space:pre;overflow-x:auto;line-height:normal;font-family:Menlo,'DejaVu Sans Mono',consolas,'Courier New',monospace\"><span style=\"color: #7fbfbf\">           </span><span style=\"color: #000080\">INFO</span>     Sending metric for task train, round number <span style=\"color: #000080; font-weight: bold\">0</span>: cross_entropy    <span style=\"color: #000080; font-weight: bold\">4.199173927307129</span>                                        <a href=\"file:///home/itrushkin/.virtualenvs/openfl/lib/python3.8/site-packages/openfl/component/collaborator/collaborator.py\"><span style=\"color: #7f7f7f\">collaborator.py</span></a><span style=\"color: #7f7f7f\">:366</span>\n",
       "</pre>\n"
      ],
      "text/plain": [
       "<rich.jupyter.JupyterRenderable at 0x7f2443a864f0>"
      ]
     },
     "metadata": {},
     "output_type": "display_data"
    },
    {
     "data": {
      "text/html": [
       "<pre style=\"white-space:pre;overflow-x:auto;line-height:normal;font-family:Menlo,'DejaVu Sans Mono',consolas,'Courier New',monospace\"><span style=\"color: #7fbfbf\">           </span><span style=\"color: #000080\">INFO</span>     Collaborator two is sending task results for train, round <span style=\"color: #000080; font-weight: bold\">0</span>                                                                <a href=\"file:///home/itrushkin/.virtualenvs/openfl/lib/python3.8/site-packages/openfl/component/aggregator/aggregator.py\"><span style=\"color: #7f7f7f\">aggregator.py</span></a><span style=\"color: #7f7f7f\">:450</span>\n",
       "</pre>\n"
      ],
      "text/plain": [
       "<rich.jupyter.JupyterRenderable at 0x7f2443ab7280>"
      ]
     },
     "metadata": {},
     "output_type": "display_data"
    },
    {
     "data": {
      "text/html": [
       "<pre style=\"white-space:pre;overflow-x:auto;line-height:normal;font-family:Menlo,'DejaVu Sans Mono',consolas,'Courier New',monospace\"><span style=\"color: #7fbfbf\">[11:38:43] </span><span style=\"color: #000080\">INFO</span>     Using TaskRunner subclassing API                                                                                         <a href=\"file:///home/itrushkin/.virtualenvs/openfl/lib/python3.8/site-packages/openfl/component/collaborator/collaborator.py\"><span style=\"color: #7f7f7f\">collaborator.py</span></a><span style=\"color: #7f7f7f\">:203</span>\n",
       "</pre>\n"
      ],
      "text/plain": [
       "<rich.jupyter.JupyterRenderable at 0x7f2443a56d90>"
      ]
     },
     "metadata": {},
     "output_type": "display_data"
    },
    {
     "data": {
      "text/html": [
       "<pre style=\"white-space:pre;overflow-x:auto;line-height:normal;font-family:Menlo,'DejaVu Sans Mono',consolas,'Courier New',monospace\"><span style=\"color: #7fbfbf\">           </span><span style=\"color: #000080\">INFO</span>     Sending metric for task locally_tuned_model_validation, round number <span style=\"color: #000080; font-weight: bold\">0</span>: acc     <span style=\"color: #000080; font-weight: bold\">0.6739130434782609</span>                       <a href=\"file:///home/itrushkin/.virtualenvs/openfl/lib/python3.8/site-packages/openfl/component/collaborator/collaborator.py\"><span style=\"color: #7f7f7f\">collaborator.py</span></a><span style=\"color: #7f7f7f\">:366</span>\n",
       "</pre>\n"
      ],
      "text/plain": [
       "<rich.jupyter.JupyterRenderable at 0x7f2443a56850>"
      ]
     },
     "metadata": {},
     "output_type": "display_data"
    },
    {
     "data": {
      "text/html": [
       "<pre style=\"white-space:pre;overflow-x:auto;line-height:normal;font-family:Menlo,'DejaVu Sans Mono',consolas,'Courier New',monospace\"><span style=\"color: #7fbfbf\">           </span><span style=\"color: #000080\">INFO</span>     Collaborator two is sending task results for locally_tuned_model_validation, round <span style=\"color: #000080; font-weight: bold\">0</span>                                       <a href=\"file:///home/itrushkin/.virtualenvs/openfl/lib/python3.8/site-packages/openfl/component/aggregator/aggregator.py\"><span style=\"color: #7f7f7f\">aggregator.py</span></a><span style=\"color: #7f7f7f\">:450</span>\n",
       "</pre>\n"
      ],
      "text/plain": [
       "<rich.jupyter.JupyterRenderable at 0x7f2443a56cd0>"
      ]
     },
     "metadata": {},
     "output_type": "display_data"
    },
    {
     "data": {
      "text/html": [
       "<pre style=\"white-space:pre;overflow-x:auto;line-height:normal;font-family:Menlo,'DejaVu Sans Mono',consolas,'Courier New',monospace\"><span style=\"color: #7fbfbf\">           </span><span style=\"color: #000080\">INFO</span>     locally_tuned_model_validation task metrics<span style=\"color: #808000\">...</span>                                                                             <a href=\"file:///home/itrushkin/.virtualenvs/openfl/lib/python3.8/site-packages/openfl/component/aggregator/aggregator.py\"><span style=\"color: #7f7f7f\">aggregator.py</span></a><span style=\"color: #7f7f7f\">:711</span>\n",
       "</pre>\n"
      ],
      "text/plain": [
       "<rich.jupyter.JupyterRenderable at 0x7f2443a56460>"
      ]
     },
     "metadata": {},
     "output_type": "display_data"
    },
    {
     "data": {
      "text/html": [
       "<pre style=\"white-space:pre;overflow-x:auto;line-height:normal;font-family:Menlo,'DejaVu Sans Mono',consolas,'Courier New',monospace\"><span style=\"color: #7fbfbf\">           </span><span style=\"color: #000080\">INFO</span>     <span style=\"font-weight: bold\">&lt;</span><span style=\"color: #ff00ff; font-weight: bold\">openfl.component.aggregation_functions.weighted_average.WeightedAverage</span><span style=\"color: #000000\"> object at </span><span style=\"color: #000080; font-weight: bold\">0x7f24b206ec40</span><span style=\"font-weight: bold\">&gt;</span> acc: <span style=\"color: #000080; font-weight: bold\">0.4154</span>             <a href=\"file:///home/itrushkin/.virtualenvs/openfl/lib/python3.8/site-packages/openfl/component/aggregator/aggregator.py\"><span style=\"color: #7f7f7f\">aggregator.py</span></a><span style=\"color: #7f7f7f\">:754</span>\n",
       "</pre>\n"
      ],
      "text/plain": [
       "<rich.jupyter.JupyterRenderable at 0x7f2443a56b80>"
      ]
     },
     "metadata": {},
     "output_type": "display_data"
    },
    {
     "data": {
      "text/html": [
       "<pre style=\"white-space:pre;overflow-x:auto;line-height:normal;font-family:Menlo,'DejaVu Sans Mono',consolas,'Courier New',monospace\"><span style=\"color: #7fbfbf\">           </span><span style=\"color: #000080\">INFO</span>     aggregated_model_validation task metrics<span style=\"color: #808000\">...</span>                                                                                <a href=\"file:///home/itrushkin/.virtualenvs/openfl/lib/python3.8/site-packages/openfl/component/aggregator/aggregator.py\"><span style=\"color: #7f7f7f\">aggregator.py</span></a><span style=\"color: #7f7f7f\">:711</span>\n",
       "</pre>\n"
      ],
      "text/plain": [
       "<rich.jupyter.JupyterRenderable at 0x7f2443a56af0>"
      ]
     },
     "metadata": {},
     "output_type": "display_data"
    },
    {
     "data": {
      "text/html": [
       "<pre style=\"white-space:pre;overflow-x:auto;line-height:normal;font-family:Menlo,'DejaVu Sans Mono',consolas,'Courier New',monospace\"><span style=\"color: #7fbfbf\">           </span><span style=\"color: #000080\">INFO</span>     <span style=\"font-weight: bold\">&lt;</span><span style=\"color: #ff00ff; font-weight: bold\">openfl.component.aggregation_functions.weighted_average.WeightedAverage</span><span style=\"color: #000000\"> object at </span><span style=\"color: #000080; font-weight: bold\">0x7f24b206ec40</span><span style=\"font-weight: bold\">&gt;</span> acc: <span style=\"color: #000080; font-weight: bold\">0.0000</span>             <a href=\"file:///home/itrushkin/.virtualenvs/openfl/lib/python3.8/site-packages/openfl/component/aggregator/aggregator.py\"><span style=\"color: #7f7f7f\">aggregator.py</span></a><span style=\"color: #7f7f7f\">:754</span>\n",
       "</pre>\n"
      ],
      "text/plain": [
       "<rich.jupyter.JupyterRenderable at 0x7f2443a56040>"
      ]
     },
     "metadata": {},
     "output_type": "display_data"
    },
    {
     "data": {
      "text/html": [
       "<pre style=\"white-space:pre;overflow-x:auto;line-height:normal;font-family:Menlo,'DejaVu Sans Mono',consolas,'Courier New',monospace\"><span style=\"color: #7fbfbf\">           </span><span style=\"color: #000080\">INFO</span>     Saved the best model with score <span style=\"color: #000080; font-weight: bold\">0.000000</span>                                                                                   <a href=\"file:///home/itrushkin/.virtualenvs/openfl/lib/python3.8/site-packages/openfl/component/aggregator/aggregator.py\"><span style=\"color: #7f7f7f\">aggregator.py</span></a><span style=\"color: #7f7f7f\">:763</span>\n",
       "</pre>\n"
      ],
      "text/plain": [
       "<rich.jupyter.JupyterRenderable at 0x7f2443a56af0>"
      ]
     },
     "metadata": {},
     "output_type": "display_data"
    },
    {
     "data": {
      "text/html": [
       "<pre style=\"white-space:pre;overflow-x:auto;line-height:normal;font-family:Menlo,'DejaVu Sans Mono',consolas,'Courier New',monospace\"><span style=\"color: #7fbfbf\">           </span><span style=\"color: #000080\">INFO</span>     train task metrics<span style=\"color: #808000\">...</span>                                                                                                      <a href=\"file:///home/itrushkin/.virtualenvs/openfl/lib/python3.8/site-packages/openfl/component/aggregator/aggregator.py\"><span style=\"color: #7f7f7f\">aggregator.py</span></a><span style=\"color: #7f7f7f\">:711</span>\n",
       "</pre>\n"
      ],
      "text/plain": [
       "<rich.jupyter.JupyterRenderable at 0x7f2443a56e80>"
      ]
     },
     "metadata": {},
     "output_type": "display_data"
    },
    {
     "data": {
      "text/html": [
       "<pre style=\"white-space:pre;overflow-x:auto;line-height:normal;font-family:Menlo,'DejaVu Sans Mono',consolas,'Courier New',monospace\"><span style=\"color: #7fbfbf\">           </span><span style=\"color: #000080\">INFO</span>     <span style=\"font-weight: bold\">&lt;</span><span style=\"color: #ff00ff; font-weight: bold\">openfl.component.aggregation_functions.weighted_average.WeightedAverage</span><span style=\"color: #000000\"> object at </span><span style=\"color: #000080; font-weight: bold\">0x7f24b206ec40</span><span style=\"font-weight: bold\">&gt;</span> cross_entropy:          <a href=\"file:///home/itrushkin/.virtualenvs/openfl/lib/python3.8/site-packages/openfl/component/aggregator/aggregator.py\"><span style=\"color: #7f7f7f\">aggregator.py</span></a><span style=\"color: #7f7f7f\">:754</span>\n",
       "                    <span style=\"color: #000080; font-weight: bold\">4.4574</span>                                                                                                                                      \n",
       "</pre>\n"
      ],
      "text/plain": [
       "<rich.jupyter.JupyterRenderable at 0x7f2443a56bb0>"
      ]
     },
     "metadata": {},
     "output_type": "display_data"
    },
    {
     "data": {
      "text/html": [
       "<pre style=\"white-space:pre;overflow-x:auto;line-height:normal;font-family:Menlo,'DejaVu Sans Mono',consolas,'Courier New',monospace\"><span style=\"color: #7fbfbf\">[11:38:46] </span><span style=\"color: #000080\">INFO</span>     Saving round <span style=\"color: #000080; font-weight: bold\">1</span> model<span style=\"color: #808000\">...</span>                                                                                                    <a href=\"file:///home/itrushkin/.virtualenvs/openfl/lib/python3.8/site-packages/openfl/component/aggregator/aggregator.py\"><span style=\"color: #7f7f7f\">aggregator.py</span></a><span style=\"color: #7f7f7f\">:796</span>\n",
       "</pre>\n"
      ],
      "text/plain": [
       "<rich.jupyter.JupyterRenderable at 0x7f244395bf10>"
      ]
     },
     "metadata": {},
     "output_type": "display_data"
    },
    {
     "data": {
      "text/html": [
       "<pre style=\"white-space:pre;overflow-x:auto;line-height:normal;font-family:Menlo,'DejaVu Sans Mono',consolas,'Courier New',monospace\"><span style=\"color: #7fbfbf\">[11:38:47] </span><span style=\"color: #000080\">INFO</span>     Starting round <span style=\"color: #000080; font-weight: bold\">1</span><span style=\"color: #808000\">...</span>                                                                                                        <a href=\"file:///home/itrushkin/.virtualenvs/openfl/lib/python3.8/site-packages/openfl/component/aggregator/aggregator.py\"><span style=\"color: #7f7f7f\">aggregator.py</span></a><span style=\"color: #7f7f7f\">:803</span>\n",
       "</pre>\n"
      ],
      "text/plain": [
       "<rich.jupyter.JupyterRenderable at 0x7f2443a3be80>"
      ]
     },
     "metadata": {},
     "output_type": "display_data"
    },
    {
     "data": {
      "text/html": [
       "<pre style=\"white-space:pre;overflow-x:auto;line-height:normal;font-family:Menlo,'DejaVu Sans Mono',consolas,'Courier New',monospace\"><span style=\"color: #7fbfbf\">           </span><span style=\"color: #000080\">INFO</span>     All tasks completed on two for round <span style=\"color: #000080; font-weight: bold\">0</span><span style=\"color: #808000\">...</span>                                                                                <a href=\"file:///home/itrushkin/.virtualenvs/openfl/lib/python3.8/site-packages/openfl/component/collaborator/collaborator.py\"><span style=\"color: #7f7f7f\">collaborator.py</span></a><span style=\"color: #7f7f7f\">:146</span>\n",
       "</pre>\n"
      ],
      "text/plain": [
       "<rich.jupyter.JupyterRenderable at 0x7f2443c21c10>"
      ]
     },
     "metadata": {},
     "output_type": "display_data"
    },
    {
     "data": {
      "text/html": [
       "<pre style=\"white-space:pre;overflow-x:auto;line-height:normal;font-family:Menlo,'DejaVu Sans Mono',consolas,'Courier New',monospace\"><span style=\"color: #7fbfbf\">           </span><span style=\"color: #000080\">INFO</span>     Waiting for tasks<span style=\"color: #808000\">...</span>                                                                                                     <a href=\"file:///home/itrushkin/.virtualenvs/openfl/lib/python3.8/site-packages/openfl/component/collaborator/collaborator.py\"><span style=\"color: #7f7f7f\">collaborator.py</span></a><span style=\"color: #7f7f7f\">:153</span>\n",
       "</pre>\n"
      ],
      "text/plain": [
       "<rich.jupyter.JupyterRenderable at 0x7f2443c52040>"
      ]
     },
     "metadata": {},
     "output_type": "display_data"
    },
    {
     "data": {
      "text/html": [
       "<pre style=\"white-space:pre;overflow-x:auto;line-height:normal;font-family:Menlo,'DejaVu Sans Mono',consolas,'Courier New',monospace\"><span style=\"color: #7fbfbf\">           </span><span style=\"color: #000080\">INFO</span>     Sending tasks to collaborator one for round <span style=\"color: #000080; font-weight: bold\">1</span>                                                                              <a href=\"file:///home/itrushkin/.virtualenvs/openfl/lib/python3.8/site-packages/openfl/component/aggregator/aggregator.py\"><span style=\"color: #7f7f7f\">aggregator.py</span></a><span style=\"color: #7f7f7f\">:297</span>\n",
       "</pre>\n"
      ],
      "text/plain": [
       "<rich.jupyter.JupyterRenderable at 0x7f24438a7fa0>"
      ]
     },
     "metadata": {},
     "output_type": "display_data"
    },
    {
     "data": {
      "text/html": [
       "<pre style=\"white-space:pre;overflow-x:auto;line-height:normal;font-family:Menlo,'DejaVu Sans Mono',consolas,'Courier New',monospace\"><span style=\"color: #7fbfbf\">           </span><span style=\"color: #000080\">INFO</span>     Received the following tasks: <span style=\"font-weight: bold\">[</span><span style=\"color: #008000\">'aggregated_model_validation'</span>, <span style=\"color: #008000\">'train'</span>, <span style=\"color: #008000\">'locally_tuned_model_validation'</span><span style=\"font-weight: bold\">]</span>                 <a href=\"file:///home/itrushkin/.virtualenvs/openfl/lib/python3.8/site-packages/openfl/component/collaborator/collaborator.py\"><span style=\"color: #7f7f7f\">collaborator.py</span></a><span style=\"color: #7f7f7f\">:143</span>\n",
       "</pre>\n"
      ],
      "text/plain": [
       "<rich.jupyter.JupyterRenderable at 0x7f2443c528e0>"
      ]
     },
     "metadata": {},
     "output_type": "display_data"
    },
    {
     "data": {
      "text/html": [
       "<pre style=\"white-space:pre;overflow-x:auto;line-height:normal;font-family:Menlo,'DejaVu Sans Mono',consolas,'Courier New',monospace\"><span style=\"color: #7fbfbf\">[11:38:48] </span><span style=\"color: #000080\">INFO</span>     Using TaskRunner subclassing API                                                                                         <a href=\"file:///home/itrushkin/.virtualenvs/openfl/lib/python3.8/site-packages/openfl/component/collaborator/collaborator.py\"><span style=\"color: #7f7f7f\">collaborator.py</span></a><span style=\"color: #7f7f7f\">:203</span>\n",
       "</pre>\n"
      ],
      "text/plain": [
       "<rich.jupyter.JupyterRenderable at 0x7f2443a56d00>"
      ]
     },
     "metadata": {},
     "output_type": "display_data"
    },
    {
     "data": {
      "text/html": [
       "<pre style=\"white-space:pre;overflow-x:auto;line-height:normal;font-family:Menlo,'DejaVu Sans Mono',consolas,'Courier New',monospace\"><span style=\"color: #7fbfbf\">           </span><span style=\"color: #000080\">INFO</span>     Sending metric for task aggregated_model_validation, round number <span style=\"color: #000080; font-weight: bold\">1</span>: acc        <span style=\"color: #000080; font-weight: bold\">0.05952380952380952</span>                      <a href=\"file:///home/itrushkin/.virtualenvs/openfl/lib/python3.8/site-packages/openfl/component/collaborator/collaborator.py\"><span style=\"color: #7f7f7f\">collaborator.py</span></a><span style=\"color: #7f7f7f\">:366</span>\n",
       "</pre>\n"
      ],
      "text/plain": [
       "<rich.jupyter.JupyterRenderable at 0x7f24439669d0>"
      ]
     },
     "metadata": {},
     "output_type": "display_data"
    },
    {
     "data": {
      "text/html": [
       "<pre style=\"white-space:pre;overflow-x:auto;line-height:normal;font-family:Menlo,'DejaVu Sans Mono',consolas,'Courier New',monospace\"><span style=\"color: #7fbfbf\">           </span><span style=\"color: #000080\">INFO</span>     Collaborator one is sending task results for aggregated_model_validation, round <span style=\"color: #000080; font-weight: bold\">1</span>                                          <a href=\"file:///home/itrushkin/.virtualenvs/openfl/lib/python3.8/site-packages/openfl/component/aggregator/aggregator.py\"><span style=\"color: #7f7f7f\">aggregator.py</span></a><span style=\"color: #7f7f7f\">:450</span>\n",
       "</pre>\n"
      ],
      "text/plain": [
       "<rich.jupyter.JupyterRenderable at 0x7f24439669d0>"
      ]
     },
     "metadata": {},
     "output_type": "display_data"
    },
    {
     "data": {
      "text/html": [
       "<pre style=\"white-space:pre;overflow-x:auto;line-height:normal;font-family:Menlo,'DejaVu Sans Mono',consolas,'Courier New',monospace\"><span style=\"color: #7fbfbf\">           </span><span style=\"color: #000080\">INFO</span>     Using TaskRunner subclassing API                                                                                         <a href=\"file:///home/itrushkin/.virtualenvs/openfl/lib/python3.8/site-packages/openfl/component/collaborator/collaborator.py\"><span style=\"color: #7f7f7f\">collaborator.py</span></a><span style=\"color: #7f7f7f\">:203</span>\n",
       "</pre>\n"
      ],
      "text/plain": [
       "<rich.jupyter.JupyterRenderable at 0x7f2443c2ba30>"
      ]
     },
     "metadata": {},
     "output_type": "display_data"
    },
    {
     "data": {
      "text/html": [
       "<pre style=\"white-space:pre;overflow-x:auto;line-height:normal;font-family:Menlo,'DejaVu Sans Mono',consolas,'Courier New',monospace\"><span style=\"color: #7fbfbf\">[11:38:49] </span><span style=\"color: #000080\">INFO</span>     Sending metric for task train, round number <span style=\"color: #000080; font-weight: bold\">1</span>: cross_entropy    <span style=\"color: #000080; font-weight: bold\">4.195650100708008</span>                                        <a href=\"file:///home/itrushkin/.virtualenvs/openfl/lib/python3.8/site-packages/openfl/component/collaborator/collaborator.py\"><span style=\"color: #7f7f7f\">collaborator.py</span></a><span style=\"color: #7f7f7f\">:366</span>\n",
       "</pre>\n"
      ],
      "text/plain": [
       "<rich.jupyter.JupyterRenderable at 0x7f2443c2b5e0>"
      ]
     },
     "metadata": {},
     "output_type": "display_data"
    },
    {
     "data": {
      "text/html": [
       "<pre style=\"white-space:pre;overflow-x:auto;line-height:normal;font-family:Menlo,'DejaVu Sans Mono',consolas,'Courier New',monospace\"><span style=\"color: #7fbfbf\">           </span><span style=\"color: #000080\">INFO</span>     Collaborator one is sending task results for train, round <span style=\"color: #000080; font-weight: bold\">1</span>                                                                <a href=\"file:///home/itrushkin/.virtualenvs/openfl/lib/python3.8/site-packages/openfl/component/aggregator/aggregator.py\"><span style=\"color: #7f7f7f\">aggregator.py</span></a><span style=\"color: #7f7f7f\">:450</span>\n",
       "</pre>\n"
      ],
      "text/plain": [
       "<rich.jupyter.JupyterRenderable at 0x7f2443c2bf40>"
      ]
     },
     "metadata": {},
     "output_type": "display_data"
    },
    {
     "data": {
      "text/html": [
       "<pre style=\"white-space:pre;overflow-x:auto;line-height:normal;font-family:Menlo,'DejaVu Sans Mono',consolas,'Courier New',monospace\"><span style=\"color: #7fbfbf\">           </span><span style=\"color: #000080\">INFO</span>     Using TaskRunner subclassing API                                                                                         <a href=\"file:///home/itrushkin/.virtualenvs/openfl/lib/python3.8/site-packages/openfl/component/collaborator/collaborator.py\"><span style=\"color: #7f7f7f\">collaborator.py</span></a><span style=\"color: #7f7f7f\">:203</span>\n",
       "</pre>\n"
      ],
      "text/plain": [
       "<rich.jupyter.JupyterRenderable at 0x7f2443997100>"
      ]
     },
     "metadata": {},
     "output_type": "display_data"
    },
    {
     "data": {
      "text/html": [
       "<pre style=\"white-space:pre;overflow-x:auto;line-height:normal;font-family:Menlo,'DejaVu Sans Mono',consolas,'Courier New',monospace\"><span style=\"color: #7fbfbf\">           </span><span style=\"color: #000080\">INFO</span>     Sending metric for task locally_tuned_model_validation, round number <span style=\"color: #000080; font-weight: bold\">1</span>: acc     <span style=\"color: #000080; font-weight: bold\">0.4642857142857143</span>                       <a href=\"file:///home/itrushkin/.virtualenvs/openfl/lib/python3.8/site-packages/openfl/component/collaborator/collaborator.py\"><span style=\"color: #7f7f7f\">collaborator.py</span></a><span style=\"color: #7f7f7f\">:366</span>\n",
       "</pre>\n"
      ],
      "text/plain": [
       "<rich.jupyter.JupyterRenderable at 0x7f2443997820>"
      ]
     },
     "metadata": {},
     "output_type": "display_data"
    },
    {
     "data": {
      "text/html": [
       "<pre style=\"white-space:pre;overflow-x:auto;line-height:normal;font-family:Menlo,'DejaVu Sans Mono',consolas,'Courier New',monospace\"><span style=\"color: #7fbfbf\">           </span><span style=\"color: #000080\">INFO</span>     Collaborator one is sending task results for locally_tuned_model_validation, round <span style=\"color: #000080; font-weight: bold\">1</span>                                       <a href=\"file:///home/itrushkin/.virtualenvs/openfl/lib/python3.8/site-packages/openfl/component/aggregator/aggregator.py\"><span style=\"color: #7f7f7f\">aggregator.py</span></a><span style=\"color: #7f7f7f\">:450</span>\n",
       "</pre>\n"
      ],
      "text/plain": [
       "<rich.jupyter.JupyterRenderable at 0x7f2443997d60>"
      ]
     },
     "metadata": {},
     "output_type": "display_data"
    },
    {
     "data": {
      "text/html": [
       "<pre style=\"white-space:pre;overflow-x:auto;line-height:normal;font-family:Menlo,'DejaVu Sans Mono',consolas,'Courier New',monospace\"><span style=\"color: #7fbfbf\">           </span><span style=\"color: #000080\">INFO</span>     All tasks completed on one for round <span style=\"color: #000080; font-weight: bold\">1</span><span style=\"color: #808000\">...</span>                                                                                <a href=\"file:///home/itrushkin/.virtualenvs/openfl/lib/python3.8/site-packages/openfl/component/collaborator/collaborator.py\"><span style=\"color: #7f7f7f\">collaborator.py</span></a><span style=\"color: #7f7f7f\">:146</span>\n",
       "</pre>\n"
      ],
      "text/plain": [
       "<rich.jupyter.JupyterRenderable at 0x7f2443997910>"
      ]
     },
     "metadata": {},
     "output_type": "display_data"
    },
    {
     "data": {
      "text/html": [
       "<pre style=\"white-space:pre;overflow-x:auto;line-height:normal;font-family:Menlo,'DejaVu Sans Mono',consolas,'Courier New',monospace\"><span style=\"color: #7fbfbf\">           </span><span style=\"color: #000080\">INFO</span>     Waiting for tasks<span style=\"color: #808000\">...</span>                                                                                                     <a href=\"file:///home/itrushkin/.virtualenvs/openfl/lib/python3.8/site-packages/openfl/component/collaborator/collaborator.py\"><span style=\"color: #7f7f7f\">collaborator.py</span></a><span style=\"color: #7f7f7f\">:153</span>\n",
       "</pre>\n"
      ],
      "text/plain": [
       "<rich.jupyter.JupyterRenderable at 0x7f2443997d30>"
      ]
     },
     "metadata": {},
     "output_type": "display_data"
    },
    {
     "data": {
      "text/html": [
       "<pre style=\"white-space:pre;overflow-x:auto;line-height:normal;font-family:Menlo,'DejaVu Sans Mono',consolas,'Courier New',monospace\"><span style=\"color: #7fbfbf\">           </span><span style=\"color: #000080\">INFO</span>     Sending tasks to collaborator two for round <span style=\"color: #000080; font-weight: bold\">1</span>                                                                              <a href=\"file:///home/itrushkin/.virtualenvs/openfl/lib/python3.8/site-packages/openfl/component/aggregator/aggregator.py\"><span style=\"color: #7f7f7f\">aggregator.py</span></a><span style=\"color: #7f7f7f\">:297</span>\n",
       "</pre>\n"
      ],
      "text/plain": [
       "<rich.jupyter.JupyterRenderable at 0x7f2443997a90>"
      ]
     },
     "metadata": {},
     "output_type": "display_data"
    },
    {
     "data": {
      "text/html": [
       "<pre style=\"white-space:pre;overflow-x:auto;line-height:normal;font-family:Menlo,'DejaVu Sans Mono',consolas,'Courier New',monospace\"><span style=\"color: #7fbfbf\">           </span><span style=\"color: #000080\">INFO</span>     Received the following tasks: <span style=\"font-weight: bold\">[</span><span style=\"color: #008000\">'aggregated_model_validation'</span>, <span style=\"color: #008000\">'train'</span>, <span style=\"color: #008000\">'locally_tuned_model_validation'</span><span style=\"font-weight: bold\">]</span>                 <a href=\"file:///home/itrushkin/.virtualenvs/openfl/lib/python3.8/site-packages/openfl/component/collaborator/collaborator.py\"><span style=\"color: #7f7f7f\">collaborator.py</span></a><span style=\"color: #7f7f7f\">:143</span>\n",
       "</pre>\n"
      ],
      "text/plain": [
       "<rich.jupyter.JupyterRenderable at 0x7f2443997820>"
      ]
     },
     "metadata": {},
     "output_type": "display_data"
    },
    {
     "data": {
      "text/html": [
       "<pre style=\"white-space:pre;overflow-x:auto;line-height:normal;font-family:Menlo,'DejaVu Sans Mono',consolas,'Courier New',monospace\"><span style=\"color: #7fbfbf\">[11:38:51] </span><span style=\"color: #000080\">INFO</span>     Using TaskRunner subclassing API                                                                                         <a href=\"file:///home/itrushkin/.virtualenvs/openfl/lib/python3.8/site-packages/openfl/component/collaborator/collaborator.py\"><span style=\"color: #7f7f7f\">collaborator.py</span></a><span style=\"color: #7f7f7f\">:203</span>\n",
       "</pre>\n"
      ],
      "text/plain": [
       "<rich.jupyter.JupyterRenderable at 0x7f2443961b80>"
      ]
     },
     "metadata": {},
     "output_type": "display_data"
    },
    {
     "data": {
      "text/html": [
       "<pre style=\"white-space:pre;overflow-x:auto;line-height:normal;font-family:Menlo,'DejaVu Sans Mono',consolas,'Courier New',monospace\"><span style=\"color: #7fbfbf\">           </span><span style=\"color: #000080\">INFO</span>     Sending metric for task aggregated_model_validation, round number <span style=\"color: #000080; font-weight: bold\">1</span>: acc        <span style=\"color: #000080; font-weight: bold\">0.391304347826087</span>                        <a href=\"file:///home/itrushkin/.virtualenvs/openfl/lib/python3.8/site-packages/openfl/component/collaborator/collaborator.py\"><span style=\"color: #7f7f7f\">collaborator.py</span></a><span style=\"color: #7f7f7f\">:366</span>\n",
       "</pre>\n"
      ],
      "text/plain": [
       "<rich.jupyter.JupyterRenderable at 0x7f24a7c82d00>"
      ]
     },
     "metadata": {},
     "output_type": "display_data"
    },
    {
     "data": {
      "text/html": [
       "<pre style=\"white-space:pre;overflow-x:auto;line-height:normal;font-family:Menlo,'DejaVu Sans Mono',consolas,'Courier New',monospace\"><span style=\"color: #7fbfbf\">           </span><span style=\"color: #000080\">INFO</span>     Collaborator two is sending task results for aggregated_model_validation, round <span style=\"color: #000080; font-weight: bold\">1</span>                                          <a href=\"file:///home/itrushkin/.virtualenvs/openfl/lib/python3.8/site-packages/openfl/component/aggregator/aggregator.py\"><span style=\"color: #7f7f7f\">aggregator.py</span></a><span style=\"color: #7f7f7f\">:450</span>\n",
       "</pre>\n"
      ],
      "text/plain": [
       "<rich.jupyter.JupyterRenderable at 0x7f24a7c82fd0>"
      ]
     },
     "metadata": {},
     "output_type": "display_data"
    },
    {
     "data": {
      "text/html": [
       "<pre style=\"white-space:pre;overflow-x:auto;line-height:normal;font-family:Menlo,'DejaVu Sans Mono',consolas,'Courier New',monospace\"><span style=\"color: #7fbfbf\">           </span><span style=\"color: #000080\">INFO</span>     Using TaskRunner subclassing API                                                                                         <a href=\"file:///home/itrushkin/.virtualenvs/openfl/lib/python3.8/site-packages/openfl/component/collaborator/collaborator.py\"><span style=\"color: #7f7f7f\">collaborator.py</span></a><span style=\"color: #7f7f7f\">:203</span>\n",
       "</pre>\n"
      ],
      "text/plain": [
       "<rich.jupyter.JupyterRenderable at 0x7f24a7c82d30>"
      ]
     },
     "metadata": {},
     "output_type": "display_data"
    },
    {
     "data": {
      "text/html": [
       "<pre style=\"white-space:pre;overflow-x:auto;line-height:normal;font-family:Menlo,'DejaVu Sans Mono',consolas,'Courier New',monospace\"><span style=\"color: #7fbfbf\">           </span><span style=\"color: #000080\">INFO</span>     Sending metric for task train, round number <span style=\"color: #000080; font-weight: bold\">1</span>: cross_entropy    <span style=\"color: #000080; font-weight: bold\">3.056887149810791</span>                                        <a href=\"file:///home/itrushkin/.virtualenvs/openfl/lib/python3.8/site-packages/openfl/component/collaborator/collaborator.py\"><span style=\"color: #7f7f7f\">collaborator.py</span></a><span style=\"color: #7f7f7f\">:366</span>\n",
       "</pre>\n"
      ],
      "text/plain": [
       "<rich.jupyter.JupyterRenderable at 0x7f24a7c82d00>"
      ]
     },
     "metadata": {},
     "output_type": "display_data"
    },
    {
     "data": {
      "text/html": [
       "<pre style=\"white-space:pre;overflow-x:auto;line-height:normal;font-family:Menlo,'DejaVu Sans Mono',consolas,'Courier New',monospace\"><span style=\"color: #7fbfbf\">           </span><span style=\"color: #000080\">INFO</span>     Collaborator two is sending task results for train, round <span style=\"color: #000080; font-weight: bold\">1</span>                                                                <a href=\"file:///home/itrushkin/.virtualenvs/openfl/lib/python3.8/site-packages/openfl/component/aggregator/aggregator.py\"><span style=\"color: #7f7f7f\">aggregator.py</span></a><span style=\"color: #7f7f7f\">:450</span>\n",
       "</pre>\n"
      ],
      "text/plain": [
       "<rich.jupyter.JupyterRenderable at 0x7f244395bdc0>"
      ]
     },
     "metadata": {},
     "output_type": "display_data"
    },
    {
     "data": {
      "text/html": [
       "<pre style=\"white-space:pre;overflow-x:auto;line-height:normal;font-family:Menlo,'DejaVu Sans Mono',consolas,'Courier New',monospace\"><span style=\"color: #7fbfbf\">[11:38:52] </span><span style=\"color: #000080\">INFO</span>     Using TaskRunner subclassing API                                                                                         <a href=\"file:///home/itrushkin/.virtualenvs/openfl/lib/python3.8/site-packages/openfl/component/collaborator/collaborator.py\"><span style=\"color: #7f7f7f\">collaborator.py</span></a><span style=\"color: #7f7f7f\">:203</span>\n",
       "</pre>\n"
      ],
      "text/plain": [
       "<rich.jupyter.JupyterRenderable at 0x7f244361e700>"
      ]
     },
     "metadata": {},
     "output_type": "display_data"
    },
    {
     "data": {
      "text/html": [
       "<pre style=\"white-space:pre;overflow-x:auto;line-height:normal;font-family:Menlo,'DejaVu Sans Mono',consolas,'Courier New',monospace\"><span style=\"color: #7fbfbf\">           </span><span style=\"color: #000080\">INFO</span>     Sending metric for task locally_tuned_model_validation, round number <span style=\"color: #000080; font-weight: bold\">1</span>: acc     <span style=\"color: #000080; font-weight: bold\">0.8695652173913043</span>                       <a href=\"file:///home/itrushkin/.virtualenvs/openfl/lib/python3.8/site-packages/openfl/component/collaborator/collaborator.py\"><span style=\"color: #7f7f7f\">collaborator.py</span></a><span style=\"color: #7f7f7f\">:366</span>\n",
       "</pre>\n"
      ],
      "text/plain": [
       "<rich.jupyter.JupyterRenderable at 0x7f24a7c82d00>"
      ]
     },
     "metadata": {},
     "output_type": "display_data"
    },
    {
     "data": {
      "text/html": [
       "<pre style=\"white-space:pre;overflow-x:auto;line-height:normal;font-family:Menlo,'DejaVu Sans Mono',consolas,'Courier New',monospace\"><span style=\"color: #7fbfbf\">           </span><span style=\"color: #000080\">INFO</span>     Collaborator two is sending task results for locally_tuned_model_validation, round <span style=\"color: #000080; font-weight: bold\">1</span>                                       <a href=\"file:///home/itrushkin/.virtualenvs/openfl/lib/python3.8/site-packages/openfl/component/aggregator/aggregator.py\"><span style=\"color: #7f7f7f\">aggregator.py</span></a><span style=\"color: #7f7f7f\">:450</span>\n",
       "</pre>\n"
      ],
      "text/plain": [
       "<rich.jupyter.JupyterRenderable at 0x7f2443c13b50>"
      ]
     },
     "metadata": {},
     "output_type": "display_data"
    },
    {
     "data": {
      "text/html": [
       "<pre style=\"white-space:pre;overflow-x:auto;line-height:normal;font-family:Menlo,'DejaVu Sans Mono',consolas,'Courier New',monospace\"><span style=\"color: #7fbfbf\">           </span><span style=\"color: #000080\">INFO</span>     locally_tuned_model_validation task metrics<span style=\"color: #808000\">...</span>                                                                             <a href=\"file:///home/itrushkin/.virtualenvs/openfl/lib/python3.8/site-packages/openfl/component/aggregator/aggregator.py\"><span style=\"color: #7f7f7f\">aggregator.py</span></a><span style=\"color: #7f7f7f\">:711</span>\n",
       "</pre>\n"
      ],
      "text/plain": [
       "<rich.jupyter.JupyterRenderable at 0x7f2443c13d30>"
      ]
     },
     "metadata": {},
     "output_type": "display_data"
    },
    {
     "data": {
      "text/html": [
       "<pre style=\"white-space:pre;overflow-x:auto;line-height:normal;font-family:Menlo,'DejaVu Sans Mono',consolas,'Courier New',monospace\"><span style=\"color: #7fbfbf\">           </span><span style=\"color: #000080\">INFO</span>     <span style=\"font-weight: bold\">&lt;</span><span style=\"color: #ff00ff; font-weight: bold\">openfl.component.aggregation_functions.weighted_average.WeightedAverage</span><span style=\"color: #000000\"> object at </span><span style=\"color: #000080; font-weight: bold\">0x7f24b206ec40</span><span style=\"font-weight: bold\">&gt;</span> acc: <span style=\"color: #000080; font-weight: bold\">0.6077</span>             <a href=\"file:///home/itrushkin/.virtualenvs/openfl/lib/python3.8/site-packages/openfl/component/aggregator/aggregator.py\"><span style=\"color: #7f7f7f\">aggregator.py</span></a><span style=\"color: #7f7f7f\">:754</span>\n",
       "</pre>\n"
      ],
      "text/plain": [
       "<rich.jupyter.JupyterRenderable at 0x7f2443997850>"
      ]
     },
     "metadata": {},
     "output_type": "display_data"
    },
    {
     "data": {
      "text/html": [
       "<pre style=\"white-space:pre;overflow-x:auto;line-height:normal;font-family:Menlo,'DejaVu Sans Mono',consolas,'Courier New',monospace\"><span style=\"color: #7fbfbf\">           </span><span style=\"color: #000080\">INFO</span>     aggregated_model_validation task metrics<span style=\"color: #808000\">...</span>                                                                                <a href=\"file:///home/itrushkin/.virtualenvs/openfl/lib/python3.8/site-packages/openfl/component/aggregator/aggregator.py\"><span style=\"color: #7f7f7f\">aggregator.py</span></a><span style=\"color: #7f7f7f\">:711</span>\n",
       "</pre>\n"
      ],
      "text/plain": [
       "<rich.jupyter.JupyterRenderable at 0x7f2443997460>"
      ]
     },
     "metadata": {},
     "output_type": "display_data"
    },
    {
     "data": {
      "text/html": [
       "<pre style=\"white-space:pre;overflow-x:auto;line-height:normal;font-family:Menlo,'DejaVu Sans Mono',consolas,'Courier New',monospace\"><span style=\"color: #7fbfbf\">           </span><span style=\"color: #000080\">INFO</span>     <span style=\"font-weight: bold\">&lt;</span><span style=\"color: #ff00ff; font-weight: bold\">openfl.component.aggregation_functions.weighted_average.WeightedAverage</span><span style=\"color: #000000\"> object at </span><span style=\"color: #000080; font-weight: bold\">0x7f24b206ec40</span><span style=\"font-weight: bold\">&gt;</span> acc: <span style=\"color: #000080; font-weight: bold\">0.1769</span>             <a href=\"file:///home/itrushkin/.virtualenvs/openfl/lib/python3.8/site-packages/openfl/component/aggregator/aggregator.py\"><span style=\"color: #7f7f7f\">aggregator.py</span></a><span style=\"color: #7f7f7f\">:754</span>\n",
       "</pre>\n"
      ],
      "text/plain": [
       "<rich.jupyter.JupyterRenderable at 0x7f2443c13dc0>"
      ]
     },
     "metadata": {},
     "output_type": "display_data"
    },
    {
     "data": {
      "text/html": [
       "<pre style=\"white-space:pre;overflow-x:auto;line-height:normal;font-family:Menlo,'DejaVu Sans Mono',consolas,'Courier New',monospace\"><span style=\"color: #7fbfbf\">           </span><span style=\"color: #000080\">INFO</span>     Saved the best model with score <span style=\"color: #000080; font-weight: bold\">0.176923</span>                                                                                   <a href=\"file:///home/itrushkin/.virtualenvs/openfl/lib/python3.8/site-packages/openfl/component/aggregator/aggregator.py\"><span style=\"color: #7f7f7f\">aggregator.py</span></a><span style=\"color: #7f7f7f\">:763</span>\n",
       "</pre>\n"
      ],
      "text/plain": [
       "<rich.jupyter.JupyterRenderable at 0x7f2443c13e80>"
      ]
     },
     "metadata": {},
     "output_type": "display_data"
    },
    {
     "data": {
      "text/html": [
       "<pre style=\"white-space:pre;overflow-x:auto;line-height:normal;font-family:Menlo,'DejaVu Sans Mono',consolas,'Courier New',monospace\"><span style=\"color: #7fbfbf\">[11:38:53] </span><span style=\"color: #000080\">INFO</span>     train task metrics<span style=\"color: #808000\">...</span>                                                                                                      <a href=\"file:///home/itrushkin/.virtualenvs/openfl/lib/python3.8/site-packages/openfl/component/aggregator/aggregator.py\"><span style=\"color: #7f7f7f\">aggregator.py</span></a><span style=\"color: #7f7f7f\">:711</span>\n",
       "</pre>\n"
      ],
      "text/plain": [
       "<rich.jupyter.JupyterRenderable at 0x7f2443997940>"
      ]
     },
     "metadata": {},
     "output_type": "display_data"
    },
    {
     "data": {
      "text/html": [
       "<pre style=\"white-space:pre;overflow-x:auto;line-height:normal;font-family:Menlo,'DejaVu Sans Mono',consolas,'Courier New',monospace\"><span style=\"color: #7fbfbf\">           </span><span style=\"color: #000080\">INFO</span>     <span style=\"font-weight: bold\">&lt;</span><span style=\"color: #ff00ff; font-weight: bold\">openfl.component.aggregation_functions.weighted_average.WeightedAverage</span><span style=\"color: #000000\"> object at </span><span style=\"color: #000080; font-weight: bold\">0x7f24b206ec40</span><span style=\"font-weight: bold\">&gt;</span> cross_entropy:          <a href=\"file:///home/itrushkin/.virtualenvs/openfl/lib/python3.8/site-packages/openfl/component/aggregator/aggregator.py\"><span style=\"color: #7f7f7f\">aggregator.py</span></a><span style=\"color: #7f7f7f\">:754</span>\n",
       "                    <span style=\"color: #000080; font-weight: bold\">3.5340</span>                                                                                                                                      \n",
       "</pre>\n"
      ],
      "text/plain": [
       "<rich.jupyter.JupyterRenderable at 0x7f2443997460>"
      ]
     },
     "metadata": {},
     "output_type": "display_data"
    },
    {
     "data": {
      "text/html": [
       "<pre style=\"white-space:pre;overflow-x:auto;line-height:normal;font-family:Menlo,'DejaVu Sans Mono',consolas,'Courier New',monospace\"><span style=\"color: #7fbfbf\">[11:38:56] </span><span style=\"color: #000080\">INFO</span>     Saving round <span style=\"color: #000080; font-weight: bold\">2</span> model<span style=\"color: #808000\">...</span>                                                                                                    <a href=\"file:///home/itrushkin/.virtualenvs/openfl/lib/python3.8/site-packages/openfl/component/aggregator/aggregator.py\"><span style=\"color: #7f7f7f\">aggregator.py</span></a><span style=\"color: #7f7f7f\">:796</span>\n",
       "</pre>\n"
      ],
      "text/plain": [
       "<rich.jupyter.JupyterRenderable at 0x7f2443929220>"
      ]
     },
     "metadata": {},
     "output_type": "display_data"
    },
    {
     "data": {
      "text/html": [
       "<pre style=\"white-space:pre;overflow-x:auto;line-height:normal;font-family:Menlo,'DejaVu Sans Mono',consolas,'Courier New',monospace\"><span style=\"color: #7fbfbf\">           </span><span style=\"color: #000080\">INFO</span>     Starting round <span style=\"color: #000080; font-weight: bold\">2</span><span style=\"color: #808000\">...</span>                                                                                                        <a href=\"file:///home/itrushkin/.virtualenvs/openfl/lib/python3.8/site-packages/openfl/component/aggregator/aggregator.py\"><span style=\"color: #7f7f7f\">aggregator.py</span></a><span style=\"color: #7f7f7f\">:803</span>\n",
       "</pre>\n"
      ],
      "text/plain": [
       "<rich.jupyter.JupyterRenderable at 0x7f24439420a0>"
      ]
     },
     "metadata": {},
     "output_type": "display_data"
    },
    {
     "data": {
      "text/html": [
       "<pre style=\"white-space:pre;overflow-x:auto;line-height:normal;font-family:Menlo,'DejaVu Sans Mono',consolas,'Courier New',monospace\"><span style=\"color: #7fbfbf\">           </span><span style=\"color: #000080\">INFO</span>     All tasks completed on two for round <span style=\"color: #000080; font-weight: bold\">1</span><span style=\"color: #808000\">...</span>                                                                                <a href=\"file:///home/itrushkin/.virtualenvs/openfl/lib/python3.8/site-packages/openfl/component/collaborator/collaborator.py\"><span style=\"color: #7f7f7f\">collaborator.py</span></a><span style=\"color: #7f7f7f\">:146</span>\n",
       "</pre>\n"
      ],
      "text/plain": [
       "<rich.jupyter.JupyterRenderable at 0x7f24438a0610>"
      ]
     },
     "metadata": {},
     "output_type": "display_data"
    },
    {
     "data": {
      "text/html": [
       "<pre style=\"white-space:pre;overflow-x:auto;line-height:normal;font-family:Menlo,'DejaVu Sans Mono',consolas,'Courier New',monospace\"><span style=\"color: #7fbfbf\">           </span><span style=\"color: #000080\">INFO</span>     Waiting for tasks<span style=\"color: #808000\">...</span>                                                                                                     <a href=\"file:///home/itrushkin/.virtualenvs/openfl/lib/python3.8/site-packages/openfl/component/collaborator/collaborator.py\"><span style=\"color: #7f7f7f\">collaborator.py</span></a><span style=\"color: #7f7f7f\">:153</span>\n",
       "</pre>\n"
      ],
      "text/plain": [
       "<rich.jupyter.JupyterRenderable at 0x7f2443c2bdc0>"
      ]
     },
     "metadata": {},
     "output_type": "display_data"
    },
    {
     "data": {
      "text/html": [
       "<pre style=\"white-space:pre;overflow-x:auto;line-height:normal;font-family:Menlo,'DejaVu Sans Mono',consolas,'Courier New',monospace\"><span style=\"color: #7fbfbf\">           </span><span style=\"color: #000080\">INFO</span>     Sending tasks to collaborator one for round <span style=\"color: #000080; font-weight: bold\">2</span>                                                                              <a href=\"file:///home/itrushkin/.virtualenvs/openfl/lib/python3.8/site-packages/openfl/component/aggregator/aggregator.py\"><span style=\"color: #7f7f7f\">aggregator.py</span></a><span style=\"color: #7f7f7f\">:297</span>\n",
       "</pre>\n"
      ],
      "text/plain": [
       "<rich.jupyter.JupyterRenderable at 0x7f2443c2be50>"
      ]
     },
     "metadata": {},
     "output_type": "display_data"
    },
    {
     "data": {
      "text/html": [
       "<pre style=\"white-space:pre;overflow-x:auto;line-height:normal;font-family:Menlo,'DejaVu Sans Mono',consolas,'Courier New',monospace\"><span style=\"color: #7fbfbf\">           </span><span style=\"color: #000080\">INFO</span>     Received the following tasks: <span style=\"font-weight: bold\">[</span><span style=\"color: #008000\">'aggregated_model_validation'</span>, <span style=\"color: #008000\">'train'</span>, <span style=\"color: #008000\">'locally_tuned_model_validation'</span><span style=\"font-weight: bold\">]</span>                 <a href=\"file:///home/itrushkin/.virtualenvs/openfl/lib/python3.8/site-packages/openfl/component/collaborator/collaborator.py\"><span style=\"color: #7f7f7f\">collaborator.py</span></a><span style=\"color: #7f7f7f\">:143</span>\n",
       "</pre>\n"
      ],
      "text/plain": [
       "<rich.jupyter.JupyterRenderable at 0x7f24438d8d00>"
      ]
     },
     "metadata": {},
     "output_type": "display_data"
    },
    {
     "data": {
      "text/html": [
       "<pre style=\"white-space:pre;overflow-x:auto;line-height:normal;font-family:Menlo,'DejaVu Sans Mono',consolas,'Courier New',monospace\"><span style=\"color: #7fbfbf\">[11:38:58] </span><span style=\"color: #000080\">INFO</span>     Using TaskRunner subclassing API                                                                                         <a href=\"file:///home/itrushkin/.virtualenvs/openfl/lib/python3.8/site-packages/openfl/component/collaborator/collaborator.py\"><span style=\"color: #7f7f7f\">collaborator.py</span></a><span style=\"color: #7f7f7f\">:203</span>\n",
       "</pre>\n"
      ],
      "text/plain": [
       "<rich.jupyter.JupyterRenderable at 0x7f244361ee80>"
      ]
     },
     "metadata": {},
     "output_type": "display_data"
    },
    {
     "data": {
      "text/html": [
       "<pre style=\"white-space:pre;overflow-x:auto;line-height:normal;font-family:Menlo,'DejaVu Sans Mono',consolas,'Courier New',monospace\"><span style=\"color: #7fbfbf\">           </span><span style=\"color: #000080\">INFO</span>     Sending metric for task aggregated_model_validation, round number <span style=\"color: #000080; font-weight: bold\">2</span>: acc        <span style=\"color: #000080; font-weight: bold\">0.08333333333333333</span>                      <a href=\"file:///home/itrushkin/.virtualenvs/openfl/lib/python3.8/site-packages/openfl/component/collaborator/collaborator.py\"><span style=\"color: #7f7f7f\">collaborator.py</span></a><span style=\"color: #7f7f7f\">:366</span>\n",
       "</pre>\n"
      ],
      "text/plain": [
       "<rich.jupyter.JupyterRenderable at 0x7f24436259a0>"
      ]
     },
     "metadata": {},
     "output_type": "display_data"
    },
    {
     "data": {
      "text/html": [
       "<pre style=\"white-space:pre;overflow-x:auto;line-height:normal;font-family:Menlo,'DejaVu Sans Mono',consolas,'Courier New',monospace\"><span style=\"color: #7fbfbf\">           </span><span style=\"color: #000080\">INFO</span>     Collaborator one is sending task results for aggregated_model_validation, round <span style=\"color: #000080; font-weight: bold\">2</span>                                          <a href=\"file:///home/itrushkin/.virtualenvs/openfl/lib/python3.8/site-packages/openfl/component/aggregator/aggregator.py\"><span style=\"color: #7f7f7f\">aggregator.py</span></a><span style=\"color: #7f7f7f\">:450</span>\n",
       "</pre>\n"
      ],
      "text/plain": [
       "<rich.jupyter.JupyterRenderable at 0x7f244361eb50>"
      ]
     },
     "metadata": {},
     "output_type": "display_data"
    },
    {
     "data": {
      "text/html": [
       "<pre style=\"white-space:pre;overflow-x:auto;line-height:normal;font-family:Menlo,'DejaVu Sans Mono',consolas,'Courier New',monospace\"><span style=\"color: #7fbfbf\">           </span><span style=\"color: #000080\">INFO</span>     Using TaskRunner subclassing API                                                                                         <a href=\"file:///home/itrushkin/.virtualenvs/openfl/lib/python3.8/site-packages/openfl/component/collaborator/collaborator.py\"><span style=\"color: #7f7f7f\">collaborator.py</span></a><span style=\"color: #7f7f7f\">:203</span>\n",
       "</pre>\n"
      ],
      "text/plain": [
       "<rich.jupyter.JupyterRenderable at 0x7f2443997520>"
      ]
     },
     "metadata": {},
     "output_type": "display_data"
    },
    {
     "data": {
      "text/html": [
       "<pre style=\"white-space:pre;overflow-x:auto;line-height:normal;font-family:Menlo,'DejaVu Sans Mono',consolas,'Courier New',monospace\"><span style=\"color: #7fbfbf\">           </span><span style=\"color: #000080\">INFO</span>     Sending metric for task train, round number <span style=\"color: #000080; font-weight: bold\">2</span>: cross_entropy    <span style=\"color: #000080; font-weight: bold\">3.7163727283477783</span>                                       <a href=\"file:///home/itrushkin/.virtualenvs/openfl/lib/python3.8/site-packages/openfl/component/collaborator/collaborator.py\"><span style=\"color: #7f7f7f\">collaborator.py</span></a><span style=\"color: #7f7f7f\">:366</span>\n",
       "</pre>\n"
      ],
      "text/plain": [
       "<rich.jupyter.JupyterRenderable at 0x7f2443c13e50>"
      ]
     },
     "metadata": {},
     "output_type": "display_data"
    },
    {
     "data": {
      "text/html": [
       "<pre style=\"white-space:pre;overflow-x:auto;line-height:normal;font-family:Menlo,'DejaVu Sans Mono',consolas,'Courier New',monospace\"><span style=\"color: #7fbfbf\">           </span><span style=\"color: #000080\">INFO</span>     Collaborator one is sending task results for train, round <span style=\"color: #000080; font-weight: bold\">2</span>                                                                <a href=\"file:///home/itrushkin/.virtualenvs/openfl/lib/python3.8/site-packages/openfl/component/aggregator/aggregator.py\"><span style=\"color: #7f7f7f\">aggregator.py</span></a><span style=\"color: #7f7f7f\">:450</span>\n",
       "</pre>\n"
      ],
      "text/plain": [
       "<rich.jupyter.JupyterRenderable at 0x7f2443c13c10>"
      ]
     },
     "metadata": {},
     "output_type": "display_data"
    },
    {
     "data": {
      "text/html": [
       "<pre style=\"white-space:pre;overflow-x:auto;line-height:normal;font-family:Menlo,'DejaVu Sans Mono',consolas,'Courier New',monospace\"><span style=\"color: #7fbfbf\">[11:38:59] </span><span style=\"color: #000080\">INFO</span>     Using TaskRunner subclassing API                                                                                         <a href=\"file:///home/itrushkin/.virtualenvs/openfl/lib/python3.8/site-packages/openfl/component/collaborator/collaborator.py\"><span style=\"color: #7f7f7f\">collaborator.py</span></a><span style=\"color: #7f7f7f\">:203</span>\n",
       "</pre>\n"
      ],
      "text/plain": [
       "<rich.jupyter.JupyterRenderable at 0x7f244392b460>"
      ]
     },
     "metadata": {},
     "output_type": "display_data"
    },
    {
     "data": {
      "text/html": [
       "<pre style=\"white-space:pre;overflow-x:auto;line-height:normal;font-family:Menlo,'DejaVu Sans Mono',consolas,'Courier New',monospace\"><span style=\"color: #7fbfbf\">           </span><span style=\"color: #000080\">INFO</span>     Sending metric for task locally_tuned_model_validation, round number <span style=\"color: #000080; font-weight: bold\">2</span>: acc     <span style=\"color: #000080; font-weight: bold\">0.39285714285714285</span>                      <a href=\"file:///home/itrushkin/.virtualenvs/openfl/lib/python3.8/site-packages/openfl/component/collaborator/collaborator.py\"><span style=\"color: #7f7f7f\">collaborator.py</span></a><span style=\"color: #7f7f7f\">:366</span>\n",
       "</pre>\n"
      ],
      "text/plain": [
       "<rich.jupyter.JupyterRenderable at 0x7f244392bc40>"
      ]
     },
     "metadata": {},
     "output_type": "display_data"
    },
    {
     "data": {
      "text/html": [
       "<pre style=\"white-space:pre;overflow-x:auto;line-height:normal;font-family:Menlo,'DejaVu Sans Mono',consolas,'Courier New',monospace\"><span style=\"color: #7fbfbf\">           </span><span style=\"color: #000080\">INFO</span>     Collaborator one is sending task results for locally_tuned_model_validation, round <span style=\"color: #000080; font-weight: bold\">2</span>                                       <a href=\"file:///home/itrushkin/.virtualenvs/openfl/lib/python3.8/site-packages/openfl/component/aggregator/aggregator.py\"><span style=\"color: #7f7f7f\">aggregator.py</span></a><span style=\"color: #7f7f7f\">:450</span>\n",
       "</pre>\n"
      ],
      "text/plain": [
       "<rich.jupyter.JupyterRenderable at 0x7f244392b550>"
      ]
     },
     "metadata": {},
     "output_type": "display_data"
    },
    {
     "data": {
      "text/html": [
       "<pre style=\"white-space:pre;overflow-x:auto;line-height:normal;font-family:Menlo,'DejaVu Sans Mono',consolas,'Courier New',monospace\"><span style=\"color: #7fbfbf\">           </span><span style=\"color: #000080\">INFO</span>     All tasks completed on one for round <span style=\"color: #000080; font-weight: bold\">2</span><span style=\"color: #808000\">...</span>                                                                                <a href=\"file:///home/itrushkin/.virtualenvs/openfl/lib/python3.8/site-packages/openfl/component/collaborator/collaborator.py\"><span style=\"color: #7f7f7f\">collaborator.py</span></a><span style=\"color: #7f7f7f\">:146</span>\n",
       "</pre>\n"
      ],
      "text/plain": [
       "<rich.jupyter.JupyterRenderable at 0x7f2443c13fd0>"
      ]
     },
     "metadata": {},
     "output_type": "display_data"
    },
    {
     "data": {
      "text/html": [
       "<pre style=\"white-space:pre;overflow-x:auto;line-height:normal;font-family:Menlo,'DejaVu Sans Mono',consolas,'Courier New',monospace\"><span style=\"color: #7fbfbf\">           </span><span style=\"color: #000080\">INFO</span>     Waiting for tasks<span style=\"color: #808000\">...</span>                                                                                                     <a href=\"file:///home/itrushkin/.virtualenvs/openfl/lib/python3.8/site-packages/openfl/component/collaborator/collaborator.py\"><span style=\"color: #7f7f7f\">collaborator.py</span></a><span style=\"color: #7f7f7f\">:153</span>\n",
       "</pre>\n"
      ],
      "text/plain": [
       "<rich.jupyter.JupyterRenderable at 0x7f244392b5b0>"
      ]
     },
     "metadata": {},
     "output_type": "display_data"
    },
    {
     "data": {
      "text/html": [
       "<pre style=\"white-space:pre;overflow-x:auto;line-height:normal;font-family:Menlo,'DejaVu Sans Mono',consolas,'Courier New',monospace\"><span style=\"color: #7fbfbf\">           </span><span style=\"color: #000080\">INFO</span>     Sending tasks to collaborator two for round <span style=\"color: #000080; font-weight: bold\">2</span>                                                                              <a href=\"file:///home/itrushkin/.virtualenvs/openfl/lib/python3.8/site-packages/openfl/component/aggregator/aggregator.py\"><span style=\"color: #7f7f7f\">aggregator.py</span></a><span style=\"color: #7f7f7f\">:297</span>\n",
       "</pre>\n"
      ],
      "text/plain": [
       "<rich.jupyter.JupyterRenderable at 0x7f244392b040>"
      ]
     },
     "metadata": {},
     "output_type": "display_data"
    },
    {
     "data": {
      "text/html": [
       "<pre style=\"white-space:pre;overflow-x:auto;line-height:normal;font-family:Menlo,'DejaVu Sans Mono',consolas,'Courier New',monospace\"><span style=\"color: #7fbfbf\">           </span><span style=\"color: #000080\">INFO</span>     Received the following tasks: <span style=\"font-weight: bold\">[</span><span style=\"color: #008000\">'aggregated_model_validation'</span>, <span style=\"color: #008000\">'train'</span>, <span style=\"color: #008000\">'locally_tuned_model_validation'</span><span style=\"font-weight: bold\">]</span>                 <a href=\"file:///home/itrushkin/.virtualenvs/openfl/lib/python3.8/site-packages/openfl/component/collaborator/collaborator.py\"><span style=\"color: #7f7f7f\">collaborator.py</span></a><span style=\"color: #7f7f7f\">:143</span>\n",
       "</pre>\n"
      ],
      "text/plain": [
       "<rich.jupyter.JupyterRenderable at 0x7f244392b100>"
      ]
     },
     "metadata": {},
     "output_type": "display_data"
    },
    {
     "data": {
      "text/html": [
       "<pre style=\"white-space:pre;overflow-x:auto;line-height:normal;font-family:Menlo,'DejaVu Sans Mono',consolas,'Courier New',monospace\"><span style=\"color: #7fbfbf\">[11:39:01] </span><span style=\"color: #000080\">INFO</span>     Using TaskRunner subclassing API                                                                                         <a href=\"file:///home/itrushkin/.virtualenvs/openfl/lib/python3.8/site-packages/openfl/component/collaborator/collaborator.py\"><span style=\"color: #7f7f7f\">collaborator.py</span></a><span style=\"color: #7f7f7f\">:203</span>\n",
       "</pre>\n"
      ],
      "text/plain": [
       "<rich.jupyter.JupyterRenderable at 0x7f2443957d60>"
      ]
     },
     "metadata": {},
     "output_type": "display_data"
    },
    {
     "data": {
      "text/html": [
       "<pre style=\"white-space:pre;overflow-x:auto;line-height:normal;font-family:Menlo,'DejaVu Sans Mono',consolas,'Courier New',monospace\"><span style=\"color: #7fbfbf\">           </span><span style=\"color: #000080\">INFO</span>     Sending metric for task aggregated_model_validation, round number <span style=\"color: #000080; font-weight: bold\">2</span>: acc        <span style=\"color: #000080; font-weight: bold\">0.7391304347826086</span>                       <a href=\"file:///home/itrushkin/.virtualenvs/openfl/lib/python3.8/site-packages/openfl/component/collaborator/collaborator.py\"><span style=\"color: #7f7f7f\">collaborator.py</span></a><span style=\"color: #7f7f7f\">:366</span>\n",
       "</pre>\n"
      ],
      "text/plain": [
       "<rich.jupyter.JupyterRenderable at 0x7f2443941f70>"
      ]
     },
     "metadata": {},
     "output_type": "display_data"
    },
    {
     "data": {
      "text/html": [
       "<pre style=\"white-space:pre;overflow-x:auto;line-height:normal;font-family:Menlo,'DejaVu Sans Mono',consolas,'Courier New',monospace\"><span style=\"color: #7fbfbf\">           </span><span style=\"color: #000080\">INFO</span>     Collaborator two is sending task results for aggregated_model_validation, round <span style=\"color: #000080; font-weight: bold\">2</span>                                          <a href=\"file:///home/itrushkin/.virtualenvs/openfl/lib/python3.8/site-packages/openfl/component/aggregator/aggregator.py\"><span style=\"color: #7f7f7f\">aggregator.py</span></a><span style=\"color: #7f7f7f\">:450</span>\n",
       "</pre>\n"
      ],
      "text/plain": [
       "<rich.jupyter.JupyterRenderable at 0x7f2443957d00>"
      ]
     },
     "metadata": {},
     "output_type": "display_data"
    },
    {
     "data": {
      "text/html": [
       "<pre style=\"white-space:pre;overflow-x:auto;line-height:normal;font-family:Menlo,'DejaVu Sans Mono',consolas,'Courier New',monospace\"><span style=\"color: #7fbfbf\">           </span><span style=\"color: #000080\">INFO</span>     Using TaskRunner subclassing API                                                                                         <a href=\"file:///home/itrushkin/.virtualenvs/openfl/lib/python3.8/site-packages/openfl/component/collaborator/collaborator.py\"><span style=\"color: #7f7f7f\">collaborator.py</span></a><span style=\"color: #7f7f7f\">:203</span>\n",
       "</pre>\n"
      ],
      "text/plain": [
       "<rich.jupyter.JupyterRenderable at 0x7f2443941640>"
      ]
     },
     "metadata": {},
     "output_type": "display_data"
    },
    {
     "data": {
      "text/html": [
       "<pre style=\"white-space:pre;overflow-x:auto;line-height:normal;font-family:Menlo,'DejaVu Sans Mono',consolas,'Courier New',monospace\"><span style=\"color: #7fbfbf\">[11:39:02] </span><span style=\"color: #000080\">INFO</span>     Sending metric for task train, round number <span style=\"color: #000080; font-weight: bold\">2</span>: cross_entropy    <span style=\"color: #000080; font-weight: bold\">2.1452555656433105</span>                                       <a href=\"file:///home/itrushkin/.virtualenvs/openfl/lib/python3.8/site-packages/openfl/component/collaborator/collaborator.py\"><span style=\"color: #7f7f7f\">collaborator.py</span></a><span style=\"color: #7f7f7f\">:366</span>\n",
       "</pre>\n"
      ],
      "text/plain": [
       "<rich.jupyter.JupyterRenderable at 0x7f24439573d0>"
      ]
     },
     "metadata": {},
     "output_type": "display_data"
    },
    {
     "data": {
      "text/html": [
       "<pre style=\"white-space:pre;overflow-x:auto;line-height:normal;font-family:Menlo,'DejaVu Sans Mono',consolas,'Courier New',monospace\"><span style=\"color: #7fbfbf\">           </span><span style=\"color: #000080\">INFO</span>     Collaborator two is sending task results for train, round <span style=\"color: #000080; font-weight: bold\">2</span>                                                                <a href=\"file:///home/itrushkin/.virtualenvs/openfl/lib/python3.8/site-packages/openfl/component/aggregator/aggregator.py\"><span style=\"color: #7f7f7f\">aggregator.py</span></a><span style=\"color: #7f7f7f\">:450</span>\n",
       "</pre>\n"
      ],
      "text/plain": [
       "<rich.jupyter.JupyterRenderable at 0x7f2443957790>"
      ]
     },
     "metadata": {},
     "output_type": "display_data"
    },
    {
     "data": {
      "text/html": [
       "<pre style=\"white-space:pre;overflow-x:auto;line-height:normal;font-family:Menlo,'DejaVu Sans Mono',consolas,'Courier New',monospace\"><span style=\"color: #7fbfbf\">           </span><span style=\"color: #000080\">INFO</span>     Using TaskRunner subclassing API                                                                                         <a href=\"file:///home/itrushkin/.virtualenvs/openfl/lib/python3.8/site-packages/openfl/component/collaborator/collaborator.py\"><span style=\"color: #7f7f7f\">collaborator.py</span></a><span style=\"color: #7f7f7f\">:203</span>\n",
       "</pre>\n"
      ],
      "text/plain": [
       "<rich.jupyter.JupyterRenderable at 0x7f2443a869a0>"
      ]
     },
     "metadata": {},
     "output_type": "display_data"
    },
    {
     "data": {
      "text/html": [
       "<pre style=\"white-space:pre;overflow-x:auto;line-height:normal;font-family:Menlo,'DejaVu Sans Mono',consolas,'Courier New',monospace\"><span style=\"color: #7fbfbf\">           </span><span style=\"color: #000080\">INFO</span>     Sending metric for task locally_tuned_model_validation, round number <span style=\"color: #000080; font-weight: bold\">2</span>: acc     <span style=\"color: #000080; font-weight: bold\">0.8913043478260869</span>                       <a href=\"file:///home/itrushkin/.virtualenvs/openfl/lib/python3.8/site-packages/openfl/component/collaborator/collaborator.py\"><span style=\"color: #7f7f7f\">collaborator.py</span></a><span style=\"color: #7f7f7f\">:366</span>\n",
       "</pre>\n"
      ],
      "text/plain": [
       "<rich.jupyter.JupyterRenderable at 0x7f2443c13fd0>"
      ]
     },
     "metadata": {},
     "output_type": "display_data"
    },
    {
     "data": {
      "text/html": [
       "<pre style=\"white-space:pre;overflow-x:auto;line-height:normal;font-family:Menlo,'DejaVu Sans Mono',consolas,'Courier New',monospace\"><span style=\"color: #7fbfbf\">           </span><span style=\"color: #000080\">INFO</span>     Collaborator two is sending task results for locally_tuned_model_validation, round <span style=\"color: #000080; font-weight: bold\">2</span>                                       <a href=\"file:///home/itrushkin/.virtualenvs/openfl/lib/python3.8/site-packages/openfl/component/aggregator/aggregator.py\"><span style=\"color: #7f7f7f\">aggregator.py</span></a><span style=\"color: #7f7f7f\">:450</span>\n",
       "</pre>\n"
      ],
      "text/plain": [
       "<rich.jupyter.JupyterRenderable at 0x7f24438ba130>"
      ]
     },
     "metadata": {},
     "output_type": "display_data"
    },
    {
     "data": {
      "text/html": [
       "<pre style=\"white-space:pre;overflow-x:auto;line-height:normal;font-family:Menlo,'DejaVu Sans Mono',consolas,'Courier New',monospace\"><span style=\"color: #7fbfbf\">           </span><span style=\"color: #000080\">INFO</span>     locally_tuned_model_validation task metrics<span style=\"color: #808000\">...</span>                                                                             <a href=\"file:///home/itrushkin/.virtualenvs/openfl/lib/python3.8/site-packages/openfl/component/aggregator/aggregator.py\"><span style=\"color: #7f7f7f\">aggregator.py</span></a><span style=\"color: #7f7f7f\">:711</span>\n",
       "</pre>\n"
      ],
      "text/plain": [
       "<rich.jupyter.JupyterRenderable at 0x7f24a7ca1970>"
      ]
     },
     "metadata": {},
     "output_type": "display_data"
    },
    {
     "data": {
      "text/html": [
       "<pre style=\"white-space:pre;overflow-x:auto;line-height:normal;font-family:Menlo,'DejaVu Sans Mono',consolas,'Courier New',monospace\"><span style=\"color: #7fbfbf\">           </span><span style=\"color: #000080\">INFO</span>     <span style=\"font-weight: bold\">&lt;</span><span style=\"color: #ff00ff; font-weight: bold\">openfl.component.aggregation_functions.weighted_average.WeightedAverage</span><span style=\"color: #000000\"> object at </span><span style=\"color: #000080; font-weight: bold\">0x7f24b206ec40</span><span style=\"font-weight: bold\">&gt;</span> acc: <span style=\"color: #000080; font-weight: bold\">0.5692</span>             <a href=\"file:///home/itrushkin/.virtualenvs/openfl/lib/python3.8/site-packages/openfl/component/aggregator/aggregator.py\"><span style=\"color: #7f7f7f\">aggregator.py</span></a><span style=\"color: #7f7f7f\">:754</span>\n",
       "</pre>\n"
      ],
      "text/plain": [
       "<rich.jupyter.JupyterRenderable at 0x7f24a7ca1ac0>"
      ]
     },
     "metadata": {},
     "output_type": "display_data"
    },
    {
     "data": {
      "text/html": [
       "<pre style=\"white-space:pre;overflow-x:auto;line-height:normal;font-family:Menlo,'DejaVu Sans Mono',consolas,'Courier New',monospace\"><span style=\"color: #7fbfbf\">           </span><span style=\"color: #000080\">INFO</span>     aggregated_model_validation task metrics<span style=\"color: #808000\">...</span>                                                                                <a href=\"file:///home/itrushkin/.virtualenvs/openfl/lib/python3.8/site-packages/openfl/component/aggregator/aggregator.py\"><span style=\"color: #7f7f7f\">aggregator.py</span></a><span style=\"color: #7f7f7f\">:711</span>\n",
       "</pre>\n"
      ],
      "text/plain": [
       "<rich.jupyter.JupyterRenderable at 0x7f24438c00a0>"
      ]
     },
     "metadata": {},
     "output_type": "display_data"
    },
    {
     "data": {
      "text/html": [
       "<pre style=\"white-space:pre;overflow-x:auto;line-height:normal;font-family:Menlo,'DejaVu Sans Mono',consolas,'Courier New',monospace\"><span style=\"color: #7fbfbf\">           </span><span style=\"color: #000080\">INFO</span>     <span style=\"font-weight: bold\">&lt;</span><span style=\"color: #ff00ff; font-weight: bold\">openfl.component.aggregation_functions.weighted_average.WeightedAverage</span><span style=\"color: #000000\"> object at </span><span style=\"color: #000080; font-weight: bold\">0x7f24b206ec40</span><span style=\"font-weight: bold\">&gt;</span> acc: <span style=\"color: #000080; font-weight: bold\">0.3154</span>             <a href=\"file:///home/itrushkin/.virtualenvs/openfl/lib/python3.8/site-packages/openfl/component/aggregator/aggregator.py\"><span style=\"color: #7f7f7f\">aggregator.py</span></a><span style=\"color: #7f7f7f\">:754</span>\n",
       "</pre>\n"
      ],
      "text/plain": [
       "<rich.jupyter.JupyterRenderable at 0x7f24438ba700>"
      ]
     },
     "metadata": {},
     "output_type": "display_data"
    },
    {
     "data": {
      "text/html": [
       "<pre style=\"white-space:pre;overflow-x:auto;line-height:normal;font-family:Menlo,'DejaVu Sans Mono',consolas,'Courier New',monospace\"><span style=\"color: #7fbfbf\">           </span><span style=\"color: #000080\">INFO</span>     Saved the best model with score <span style=\"color: #000080; font-weight: bold\">0.315385</span>                                                                                   <a href=\"file:///home/itrushkin/.virtualenvs/openfl/lib/python3.8/site-packages/openfl/component/aggregator/aggregator.py\"><span style=\"color: #7f7f7f\">aggregator.py</span></a><span style=\"color: #7f7f7f\">:763</span>\n",
       "</pre>\n"
      ],
      "text/plain": [
       "<rich.jupyter.JupyterRenderable at 0x7f24438c07c0>"
      ]
     },
     "metadata": {},
     "output_type": "display_data"
    },
    {
     "data": {
      "text/html": [
       "<pre style=\"white-space:pre;overflow-x:auto;line-height:normal;font-family:Menlo,'DejaVu Sans Mono',consolas,'Courier New',monospace\"><span style=\"color: #7fbfbf\">[11:39:03] </span><span style=\"color: #000080\">INFO</span>     train task metrics<span style=\"color: #808000\">...</span>                                                                                                      <a href=\"file:///home/itrushkin/.virtualenvs/openfl/lib/python3.8/site-packages/openfl/component/aggregator/aggregator.py\"><span style=\"color: #7f7f7f\">aggregator.py</span></a><span style=\"color: #7f7f7f\">:711</span>\n",
       "</pre>\n"
      ],
      "text/plain": [
       "<rich.jupyter.JupyterRenderable at 0x7f24438c00a0>"
      ]
     },
     "metadata": {},
     "output_type": "display_data"
    },
    {
     "data": {
      "text/html": [
       "<pre style=\"white-space:pre;overflow-x:auto;line-height:normal;font-family:Menlo,'DejaVu Sans Mono',consolas,'Courier New',monospace\"><span style=\"color: #7fbfbf\">           </span><span style=\"color: #000080\">INFO</span>     <span style=\"font-weight: bold\">&lt;</span><span style=\"color: #ff00ff; font-weight: bold\">openfl.component.aggregation_functions.weighted_average.WeightedAverage</span><span style=\"color: #000000\"> object at </span><span style=\"color: #000080; font-weight: bold\">0x7f24b206ec40</span><span style=\"font-weight: bold\">&gt;</span> cross_entropy:          <a href=\"file:///home/itrushkin/.virtualenvs/openfl/lib/python3.8/site-packages/openfl/component/aggregator/aggregator.py\"><span style=\"color: #7f7f7f\">aggregator.py</span></a><span style=\"color: #7f7f7f\">:754</span>\n",
       "                    <span style=\"color: #000080; font-weight: bold\">2.8036</span>                                                                                                                                      \n",
       "</pre>\n"
      ],
      "text/plain": [
       "<rich.jupyter.JupyterRenderable at 0x7f24438ba1c0>"
      ]
     },
     "metadata": {},
     "output_type": "display_data"
    },
    {
     "data": {
      "text/html": [
       "<pre style=\"white-space:pre;overflow-x:auto;line-height:normal;font-family:Menlo,'DejaVu Sans Mono',consolas,'Courier New',monospace\"><span style=\"color: #7fbfbf\">[11:39:06] </span><span style=\"color: #000080\">INFO</span>     Saving round <span style=\"color: #000080; font-weight: bold\">3</span> model<span style=\"color: #808000\">...</span>                                                                                                    <a href=\"file:///home/itrushkin/.virtualenvs/openfl/lib/python3.8/site-packages/openfl/component/aggregator/aggregator.py\"><span style=\"color: #7f7f7f\">aggregator.py</span></a><span style=\"color: #7f7f7f\">:796</span>\n",
       "</pre>\n"
      ],
      "text/plain": [
       "<rich.jupyter.JupyterRenderable at 0x7f244395b880>"
      ]
     },
     "metadata": {},
     "output_type": "display_data"
    },
    {
     "data": {
      "text/html": [
       "<pre style=\"white-space:pre;overflow-x:auto;line-height:normal;font-family:Menlo,'DejaVu Sans Mono',consolas,'Courier New',monospace\"><span style=\"color: #7fbfbf\">           </span><span style=\"color: #000080\">INFO</span>     Starting round <span style=\"color: #000080; font-weight: bold\">3</span><span style=\"color: #808000\">...</span>                                                                                                        <a href=\"file:///home/itrushkin/.virtualenvs/openfl/lib/python3.8/site-packages/openfl/component/aggregator/aggregator.py\"><span style=\"color: #7f7f7f\">aggregator.py</span></a><span style=\"color: #7f7f7f\">:803</span>\n",
       "</pre>\n"
      ],
      "text/plain": [
       "<rich.jupyter.JupyterRenderable at 0x7f2443929a00>"
      ]
     },
     "metadata": {},
     "output_type": "display_data"
    },
    {
     "data": {
      "text/html": [
       "<pre style=\"white-space:pre;overflow-x:auto;line-height:normal;font-family:Menlo,'DejaVu Sans Mono',consolas,'Courier New',monospace\"><span style=\"color: #7fbfbf\">           </span><span style=\"color: #000080\">INFO</span>     All tasks completed on two for round <span style=\"color: #000080; font-weight: bold\">2</span><span style=\"color: #808000\">...</span>                                                                                <a href=\"file:///home/itrushkin/.virtualenvs/openfl/lib/python3.8/site-packages/openfl/component/collaborator/collaborator.py\"><span style=\"color: #7f7f7f\">collaborator.py</span></a><span style=\"color: #7f7f7f\">:146</span>\n",
       "</pre>\n"
      ],
      "text/plain": [
       "<rich.jupyter.JupyterRenderable at 0x7f24a7c9ed00>"
      ]
     },
     "metadata": {},
     "output_type": "display_data"
    },
    {
     "data": {
      "text/html": [
       "<pre style=\"white-space:pre;overflow-x:auto;line-height:normal;font-family:Menlo,'DejaVu Sans Mono',consolas,'Courier New',monospace\"><span style=\"color: #7fbfbf\">           </span><span style=\"color: #000080\">INFO</span>     Waiting for tasks<span style=\"color: #808000\">...</span>                                                                                                     <a href=\"file:///home/itrushkin/.virtualenvs/openfl/lib/python3.8/site-packages/openfl/component/collaborator/collaborator.py\"><span style=\"color: #7f7f7f\">collaborator.py</span></a><span style=\"color: #7f7f7f\">:153</span>\n",
       "</pre>\n"
      ],
      "text/plain": [
       "<rich.jupyter.JupyterRenderable at 0x7f24a7c81fa0>"
      ]
     },
     "metadata": {},
     "output_type": "display_data"
    },
    {
     "data": {
      "text/html": [
       "<pre style=\"white-space:pre;overflow-x:auto;line-height:normal;font-family:Menlo,'DejaVu Sans Mono',consolas,'Courier New',monospace\"><span style=\"color: #7fbfbf\">           </span><span style=\"color: #000080\">INFO</span>     Sending tasks to collaborator one for round <span style=\"color: #000080; font-weight: bold\">3</span>                                                                              <a href=\"file:///home/itrushkin/.virtualenvs/openfl/lib/python3.8/site-packages/openfl/component/aggregator/aggregator.py\"><span style=\"color: #7f7f7f\">aggregator.py</span></a><span style=\"color: #7f7f7f\">:297</span>\n",
       "</pre>\n"
      ],
      "text/plain": [
       "<rich.jupyter.JupyterRenderable at 0x7f24a7d78250>"
      ]
     },
     "metadata": {},
     "output_type": "display_data"
    },
    {
     "data": {
      "text/html": [
       "<pre style=\"white-space:pre;overflow-x:auto;line-height:normal;font-family:Menlo,'DejaVu Sans Mono',consolas,'Courier New',monospace\"><span style=\"color: #7fbfbf\">           </span><span style=\"color: #000080\">INFO</span>     Received the following tasks: <span style=\"font-weight: bold\">[</span><span style=\"color: #008000\">'aggregated_model_validation'</span>, <span style=\"color: #008000\">'train'</span>, <span style=\"color: #008000\">'locally_tuned_model_validation'</span><span style=\"font-weight: bold\">]</span>                 <a href=\"file:///home/itrushkin/.virtualenvs/openfl/lib/python3.8/site-packages/openfl/component/collaborator/collaborator.py\"><span style=\"color: #7f7f7f\">collaborator.py</span></a><span style=\"color: #7f7f7f\">:143</span>\n",
       "</pre>\n"
      ],
      "text/plain": [
       "<rich.jupyter.JupyterRenderable at 0x7f24a85cb220>"
      ]
     },
     "metadata": {},
     "output_type": "display_data"
    },
    {
     "data": {
      "text/html": [
       "<pre style=\"white-space:pre;overflow-x:auto;line-height:normal;font-family:Menlo,'DejaVu Sans Mono',consolas,'Courier New',monospace\"><span style=\"color: #7fbfbf\">[11:39:08] </span><span style=\"color: #000080\">INFO</span>     Using TaskRunner subclassing API                                                                                         <a href=\"file:///home/itrushkin/.virtualenvs/openfl/lib/python3.8/site-packages/openfl/component/collaborator/collaborator.py\"><span style=\"color: #7f7f7f\">collaborator.py</span></a><span style=\"color: #7f7f7f\">:203</span>\n",
       "</pre>\n"
      ],
      "text/plain": [
       "<rich.jupyter.JupyterRenderable at 0x7f2443beef10>"
      ]
     },
     "metadata": {},
     "output_type": "display_data"
    },
    {
     "data": {
      "text/html": [
       "<pre style=\"white-space:pre;overflow-x:auto;line-height:normal;font-family:Menlo,'DejaVu Sans Mono',consolas,'Courier New',monospace\"><span style=\"color: #7fbfbf\">           </span><span style=\"color: #000080\">INFO</span>     Sending metric for task aggregated_model_validation, round number <span style=\"color: #000080; font-weight: bold\">3</span>: acc        <span style=\"color: #000080; font-weight: bold\">0.0</span>                                      <a href=\"file:///home/itrushkin/.virtualenvs/openfl/lib/python3.8/site-packages/openfl/component/collaborator/collaborator.py\"><span style=\"color: #7f7f7f\">collaborator.py</span></a><span style=\"color: #7f7f7f\">:366</span>\n",
       "</pre>\n"
      ],
      "text/plain": [
       "<rich.jupyter.JupyterRenderable at 0x7f2443bdffd0>"
      ]
     },
     "metadata": {},
     "output_type": "display_data"
    },
    {
     "data": {
      "text/html": [
       "<pre style=\"white-space:pre;overflow-x:auto;line-height:normal;font-family:Menlo,'DejaVu Sans Mono',consolas,'Courier New',monospace\"><span style=\"color: #7fbfbf\">           </span><span style=\"color: #000080\">INFO</span>     Collaborator one is sending task results for aggregated_model_validation, round <span style=\"color: #000080; font-weight: bold\">3</span>                                          <a href=\"file:///home/itrushkin/.virtualenvs/openfl/lib/python3.8/site-packages/openfl/component/aggregator/aggregator.py\"><span style=\"color: #7f7f7f\">aggregator.py</span></a><span style=\"color: #7f7f7f\">:450</span>\n",
       "</pre>\n"
      ],
      "text/plain": [
       "<rich.jupyter.JupyterRenderable at 0x7f2443bdffa0>"
      ]
     },
     "metadata": {},
     "output_type": "display_data"
    },
    {
     "data": {
      "text/html": [
       "<pre style=\"white-space:pre;overflow-x:auto;line-height:normal;font-family:Menlo,'DejaVu Sans Mono',consolas,'Courier New',monospace\"><span style=\"color: #7fbfbf\">           </span><span style=\"color: #000080\">INFO</span>     Using TaskRunner subclassing API                                                                                         <a href=\"file:///home/itrushkin/.virtualenvs/openfl/lib/python3.8/site-packages/openfl/component/collaborator/collaborator.py\"><span style=\"color: #7f7f7f\">collaborator.py</span></a><span style=\"color: #7f7f7f\">:203</span>\n",
       "</pre>\n"
      ],
      "text/plain": [
       "<rich.jupyter.JupyterRenderable at 0x7f2443bee820>"
      ]
     },
     "metadata": {},
     "output_type": "display_data"
    },
    {
     "data": {
      "text/html": [
       "<pre style=\"white-space:pre;overflow-x:auto;line-height:normal;font-family:Menlo,'DejaVu Sans Mono',consolas,'Courier New',monospace\"><span style=\"color: #7fbfbf\">[11:39:09] </span><span style=\"color: #000080\">INFO</span>     Sending metric for task train, round number <span style=\"color: #000080; font-weight: bold\">3</span>: cross_entropy    <span style=\"color: #000080; font-weight: bold\">3.457329511642456</span>                                        <a href=\"file:///home/itrushkin/.virtualenvs/openfl/lib/python3.8/site-packages/openfl/component/collaborator/collaborator.py\"><span style=\"color: #7f7f7f\">collaborator.py</span></a><span style=\"color: #7f7f7f\">:366</span>\n",
       "</pre>\n"
      ],
      "text/plain": [
       "<rich.jupyter.JupyterRenderable at 0x7f244396af10>"
      ]
     },
     "metadata": {},
     "output_type": "display_data"
    },
    {
     "data": {
      "text/html": [
       "<pre style=\"white-space:pre;overflow-x:auto;line-height:normal;font-family:Menlo,'DejaVu Sans Mono',consolas,'Courier New',monospace\"><span style=\"color: #7fbfbf\">           </span><span style=\"color: #000080\">INFO</span>     Collaborator one is sending task results for train, round <span style=\"color: #000080; font-weight: bold\">3</span>                                                                <a href=\"file:///home/itrushkin/.virtualenvs/openfl/lib/python3.8/site-packages/openfl/component/aggregator/aggregator.py\"><span style=\"color: #7f7f7f\">aggregator.py</span></a><span style=\"color: #7f7f7f\">:450</span>\n",
       "</pre>\n"
      ],
      "text/plain": [
       "<rich.jupyter.JupyterRenderable at 0x7f244396a7f0>"
      ]
     },
     "metadata": {},
     "output_type": "display_data"
    },
    {
     "data": {
      "text/html": [
       "<pre style=\"white-space:pre;overflow-x:auto;line-height:normal;font-family:Menlo,'DejaVu Sans Mono',consolas,'Courier New',monospace\"><span style=\"color: #7fbfbf\">[11:39:10] </span><span style=\"color: #000080\">INFO</span>     Using TaskRunner subclassing API                                                                                         <a href=\"file:///home/itrushkin/.virtualenvs/openfl/lib/python3.8/site-packages/openfl/component/collaborator/collaborator.py\"><span style=\"color: #7f7f7f\">collaborator.py</span></a><span style=\"color: #7f7f7f\">:203</span>\n",
       "</pre>\n"
      ],
      "text/plain": [
       "<rich.jupyter.JupyterRenderable at 0x7f2443beb040>"
      ]
     },
     "metadata": {},
     "output_type": "display_data"
    },
    {
     "data": {
      "text/html": [
       "<pre style=\"white-space:pre;overflow-x:auto;line-height:normal;font-family:Menlo,'DejaVu Sans Mono',consolas,'Courier New',monospace\"><span style=\"color: #7fbfbf\">           </span><span style=\"color: #000080\">INFO</span>     Sending metric for task locally_tuned_model_validation, round number <span style=\"color: #000080; font-weight: bold\">3</span>: acc     <span style=\"color: #000080; font-weight: bold\">0.23809523809523808</span>                      <a href=\"file:///home/itrushkin/.virtualenvs/openfl/lib/python3.8/site-packages/openfl/component/collaborator/collaborator.py\"><span style=\"color: #7f7f7f\">collaborator.py</span></a><span style=\"color: #7f7f7f\">:366</span>\n",
       "</pre>\n"
      ],
      "text/plain": [
       "<rich.jupyter.JupyterRenderable at 0x7f2443a65a60>"
      ]
     },
     "metadata": {},
     "output_type": "display_data"
    },
    {
     "data": {
      "text/html": [
       "<pre style=\"white-space:pre;overflow-x:auto;line-height:normal;font-family:Menlo,'DejaVu Sans Mono',consolas,'Courier New',monospace\"><span style=\"color: #7fbfbf\">           </span><span style=\"color: #000080\">INFO</span>     Collaborator one is sending task results for locally_tuned_model_validation, round <span style=\"color: #000080; font-weight: bold\">3</span>                                       <a href=\"file:///home/itrushkin/.virtualenvs/openfl/lib/python3.8/site-packages/openfl/component/aggregator/aggregator.py\"><span style=\"color: #7f7f7f\">aggregator.py</span></a><span style=\"color: #7f7f7f\">:450</span>\n",
       "</pre>\n"
      ],
      "text/plain": [
       "<rich.jupyter.JupyterRenderable at 0x7f2443a654f0>"
      ]
     },
     "metadata": {},
     "output_type": "display_data"
    },
    {
     "data": {
      "text/html": [
       "<pre style=\"white-space:pre;overflow-x:auto;line-height:normal;font-family:Menlo,'DejaVu Sans Mono',consolas,'Courier New',monospace\"><span style=\"color: #7fbfbf\">           </span><span style=\"color: #000080\">INFO</span>     All tasks completed on one for round <span style=\"color: #000080; font-weight: bold\">3</span><span style=\"color: #808000\">...</span>                                                                                <a href=\"file:///home/itrushkin/.virtualenvs/openfl/lib/python3.8/site-packages/openfl/component/collaborator/collaborator.py\"><span style=\"color: #7f7f7f\">collaborator.py</span></a><span style=\"color: #7f7f7f\">:146</span>\n",
       "</pre>\n"
      ],
      "text/plain": [
       "<rich.jupyter.JupyterRenderable at 0x7f2443a65df0>"
      ]
     },
     "metadata": {},
     "output_type": "display_data"
    },
    {
     "data": {
      "text/html": [
       "<pre style=\"white-space:pre;overflow-x:auto;line-height:normal;font-family:Menlo,'DejaVu Sans Mono',consolas,'Courier New',monospace\"><span style=\"color: #7fbfbf\">           </span><span style=\"color: #000080\">INFO</span>     Waiting for tasks<span style=\"color: #808000\">...</span>                                                                                                     <a href=\"file:///home/itrushkin/.virtualenvs/openfl/lib/python3.8/site-packages/openfl/component/collaborator/collaborator.py\"><span style=\"color: #7f7f7f\">collaborator.py</span></a><span style=\"color: #7f7f7f\">:153</span>\n",
       "</pre>\n"
      ],
      "text/plain": [
       "<rich.jupyter.JupyterRenderable at 0x7f2443a65790>"
      ]
     },
     "metadata": {},
     "output_type": "display_data"
    },
    {
     "data": {
      "text/html": [
       "<pre style=\"white-space:pre;overflow-x:auto;line-height:normal;font-family:Menlo,'DejaVu Sans Mono',consolas,'Courier New',monospace\"><span style=\"color: #7fbfbf\">           </span><span style=\"color: #000080\">INFO</span>     Sending tasks to collaborator two for round <span style=\"color: #000080; font-weight: bold\">3</span>                                                                              <a href=\"file:///home/itrushkin/.virtualenvs/openfl/lib/python3.8/site-packages/openfl/component/aggregator/aggregator.py\"><span style=\"color: #7f7f7f\">aggregator.py</span></a><span style=\"color: #7f7f7f\">:297</span>\n",
       "</pre>\n"
      ],
      "text/plain": [
       "<rich.jupyter.JupyterRenderable at 0x7f2443a65d60>"
      ]
     },
     "metadata": {},
     "output_type": "display_data"
    },
    {
     "data": {
      "text/html": [
       "<pre style=\"white-space:pre;overflow-x:auto;line-height:normal;font-family:Menlo,'DejaVu Sans Mono',consolas,'Courier New',monospace\"><span style=\"color: #7fbfbf\">           </span><span style=\"color: #000080\">INFO</span>     Received the following tasks: <span style=\"font-weight: bold\">[</span><span style=\"color: #008000\">'aggregated_model_validation'</span>, <span style=\"color: #008000\">'train'</span>, <span style=\"color: #008000\">'locally_tuned_model_validation'</span><span style=\"font-weight: bold\">]</span>                 <a href=\"file:///home/itrushkin/.virtualenvs/openfl/lib/python3.8/site-packages/openfl/component/collaborator/collaborator.py\"><span style=\"color: #7f7f7f\">collaborator.py</span></a><span style=\"color: #7f7f7f\">:143</span>\n",
       "</pre>\n"
      ],
      "text/plain": [
       "<rich.jupyter.JupyterRenderable at 0x7f2443a65a60>"
      ]
     },
     "metadata": {},
     "output_type": "display_data"
    },
    {
     "data": {
      "text/html": [
       "<pre style=\"white-space:pre;overflow-x:auto;line-height:normal;font-family:Menlo,'DejaVu Sans Mono',consolas,'Courier New',monospace\"><span style=\"color: #7fbfbf\">[11:39:11] </span><span style=\"color: #000080\">INFO</span>     Using TaskRunner subclassing API                                                                                         <a href=\"file:///home/itrushkin/.virtualenvs/openfl/lib/python3.8/site-packages/openfl/component/collaborator/collaborator.py\"><span style=\"color: #7f7f7f\">collaborator.py</span></a><span style=\"color: #7f7f7f\">:203</span>\n",
       "</pre>\n"
      ],
      "text/plain": [
       "<rich.jupyter.JupyterRenderable at 0x7f2443573a90>"
      ]
     },
     "metadata": {},
     "output_type": "display_data"
    },
    {
     "data": {
      "text/html": [
       "<pre style=\"white-space:pre;overflow-x:auto;line-height:normal;font-family:Menlo,'DejaVu Sans Mono',consolas,'Courier New',monospace\"><span style=\"color: #7fbfbf\">           </span><span style=\"color: #000080\">INFO</span>     Sending metric for task aggregated_model_validation, round number <span style=\"color: #000080; font-weight: bold\">3</span>: acc        <span style=\"color: #000080; font-weight: bold\">0.8695652173913043</span>                       <a href=\"file:///home/itrushkin/.virtualenvs/openfl/lib/python3.8/site-packages/openfl/component/collaborator/collaborator.py\"><span style=\"color: #7f7f7f\">collaborator.py</span></a><span style=\"color: #7f7f7f\">:366</span>\n",
       "</pre>\n"
      ],
      "text/plain": [
       "<rich.jupyter.JupyterRenderable at 0x7f24435f3d90>"
      ]
     },
     "metadata": {},
     "output_type": "display_data"
    },
    {
     "data": {
      "text/html": [
       "<pre style=\"white-space:pre;overflow-x:auto;line-height:normal;font-family:Menlo,'DejaVu Sans Mono',consolas,'Courier New',monospace\"><span style=\"color: #7fbfbf\">           </span><span style=\"color: #000080\">INFO</span>     Collaborator two is sending task results for aggregated_model_validation, round <span style=\"color: #000080; font-weight: bold\">3</span>                                          <a href=\"file:///home/itrushkin/.virtualenvs/openfl/lib/python3.8/site-packages/openfl/component/aggregator/aggregator.py\"><span style=\"color: #7f7f7f\">aggregator.py</span></a><span style=\"color: #7f7f7f\">:450</span>\n",
       "</pre>\n"
      ],
      "text/plain": [
       "<rich.jupyter.JupyterRenderable at 0x7f2443573e50>"
      ]
     },
     "metadata": {},
     "output_type": "display_data"
    },
    {
     "data": {
      "text/html": [
       "<pre style=\"white-space:pre;overflow-x:auto;line-height:normal;font-family:Menlo,'DejaVu Sans Mono',consolas,'Courier New',monospace\"><span style=\"color: #7fbfbf\">[11:39:12] </span><span style=\"color: #000080\">INFO</span>     Using TaskRunner subclassing API                                                                                         <a href=\"file:///home/itrushkin/.virtualenvs/openfl/lib/python3.8/site-packages/openfl/component/collaborator/collaborator.py\"><span style=\"color: #7f7f7f\">collaborator.py</span></a><span style=\"color: #7f7f7f\">:203</span>\n",
       "</pre>\n"
      ],
      "text/plain": [
       "<rich.jupyter.JupyterRenderable at 0x7f2443a650d0>"
      ]
     },
     "metadata": {},
     "output_type": "display_data"
    },
    {
     "data": {
      "text/html": [
       "<pre style=\"white-space:pre;overflow-x:auto;line-height:normal;font-family:Menlo,'DejaVu Sans Mono',consolas,'Courier New',monospace\"><span style=\"color: #7fbfbf\">           </span><span style=\"color: #000080\">INFO</span>     Sending metric for task train, round number <span style=\"color: #000080; font-weight: bold\">3</span>: cross_entropy    <span style=\"color: #000080; font-weight: bold\">1.5093847513198853</span>                                       <a href=\"file:///home/itrushkin/.virtualenvs/openfl/lib/python3.8/site-packages/openfl/component/collaborator/collaborator.py\"><span style=\"color: #7f7f7f\">collaborator.py</span></a><span style=\"color: #7f7f7f\">:366</span>\n",
       "</pre>\n"
      ],
      "text/plain": [
       "<rich.jupyter.JupyterRenderable at 0x7f244356b640>"
      ]
     },
     "metadata": {},
     "output_type": "display_data"
    },
    {
     "data": {
      "text/html": [
       "<pre style=\"white-space:pre;overflow-x:auto;line-height:normal;font-family:Menlo,'DejaVu Sans Mono',consolas,'Courier New',monospace\"><span style=\"color: #7fbfbf\">           </span><span style=\"color: #000080\">INFO</span>     Collaborator two is sending task results for train, round <span style=\"color: #000080; font-weight: bold\">3</span>                                                                <a href=\"file:///home/itrushkin/.virtualenvs/openfl/lib/python3.8/site-packages/openfl/component/aggregator/aggregator.py\"><span style=\"color: #7f7f7f\">aggregator.py</span></a><span style=\"color: #7f7f7f\">:450</span>\n",
       "</pre>\n"
      ],
      "text/plain": [
       "<rich.jupyter.JupyterRenderable at 0x7f244356bd90>"
      ]
     },
     "metadata": {},
     "output_type": "display_data"
    },
    {
     "data": {
      "text/html": [
       "<pre style=\"white-space:pre;overflow-x:auto;line-height:normal;font-family:Menlo,'DejaVu Sans Mono',consolas,'Courier New',monospace\"><span style=\"color: #7fbfbf\">[11:39:13] </span><span style=\"color: #000080\">INFO</span>     Using TaskRunner subclassing API                                                                                         <a href=\"file:///home/itrushkin/.virtualenvs/openfl/lib/python3.8/site-packages/openfl/component/collaborator/collaborator.py\"><span style=\"color: #7f7f7f\">collaborator.py</span></a><span style=\"color: #7f7f7f\">:203</span>\n",
       "</pre>\n"
      ],
      "text/plain": [
       "<rich.jupyter.JupyterRenderable at 0x7f24438c08e0>"
      ]
     },
     "metadata": {},
     "output_type": "display_data"
    },
    {
     "data": {
      "text/html": [
       "<pre style=\"white-space:pre;overflow-x:auto;line-height:normal;font-family:Menlo,'DejaVu Sans Mono',consolas,'Courier New',monospace\"><span style=\"color: #7fbfbf\">           </span><span style=\"color: #000080\">INFO</span>     Sending metric for task locally_tuned_model_validation, round number <span style=\"color: #000080; font-weight: bold\">3</span>: acc     <span style=\"color: #000080; font-weight: bold\">0.8913043478260869</span>                       <a href=\"file:///home/itrushkin/.virtualenvs/openfl/lib/python3.8/site-packages/openfl/component/collaborator/collaborator.py\"><span style=\"color: #7f7f7f\">collaborator.py</span></a><span style=\"color: #7f7f7f\">:366</span>\n",
       "</pre>\n"
      ],
      "text/plain": [
       "<rich.jupyter.JupyterRenderable at 0x7f2443573fa0>"
      ]
     },
     "metadata": {},
     "output_type": "display_data"
    },
    {
     "data": {
      "text/html": [
       "<pre style=\"white-space:pre;overflow-x:auto;line-height:normal;font-family:Menlo,'DejaVu Sans Mono',consolas,'Courier New',monospace\"><span style=\"color: #7fbfbf\">           </span><span style=\"color: #000080\">INFO</span>     Collaborator two is sending task results for locally_tuned_model_validation, round <span style=\"color: #000080; font-weight: bold\">3</span>                                       <a href=\"file:///home/itrushkin/.virtualenvs/openfl/lib/python3.8/site-packages/openfl/component/aggregator/aggregator.py\"><span style=\"color: #7f7f7f\">aggregator.py</span></a><span style=\"color: #7f7f7f\">:450</span>\n",
       "</pre>\n"
      ],
      "text/plain": [
       "<rich.jupyter.JupyterRenderable at 0x7f24438c0130>"
      ]
     },
     "metadata": {},
     "output_type": "display_data"
    },
    {
     "data": {
      "text/html": [
       "<pre style=\"white-space:pre;overflow-x:auto;line-height:normal;font-family:Menlo,'DejaVu Sans Mono',consolas,'Courier New',monospace\"><span style=\"color: #7fbfbf\">           </span><span style=\"color: #000080\">INFO</span>     locally_tuned_model_validation task metrics<span style=\"color: #808000\">...</span>                                                                             <a href=\"file:///home/itrushkin/.virtualenvs/openfl/lib/python3.8/site-packages/openfl/component/aggregator/aggregator.py\"><span style=\"color: #7f7f7f\">aggregator.py</span></a><span style=\"color: #7f7f7f\">:711</span>\n",
       "</pre>\n"
      ],
      "text/plain": [
       "<rich.jupyter.JupyterRenderable at 0x7f2443a65190>"
      ]
     },
     "metadata": {},
     "output_type": "display_data"
    },
    {
     "data": {
      "text/html": [
       "<pre style=\"white-space:pre;overflow-x:auto;line-height:normal;font-family:Menlo,'DejaVu Sans Mono',consolas,'Courier New',monospace\"><span style=\"color: #7fbfbf\">           </span><span style=\"color: #000080\">INFO</span>     <span style=\"font-weight: bold\">&lt;</span><span style=\"color: #ff00ff; font-weight: bold\">openfl.component.aggregation_functions.weighted_average.WeightedAverage</span><span style=\"color: #000000\"> object at </span><span style=\"color: #000080; font-weight: bold\">0x7f24b206ec40</span><span style=\"font-weight: bold\">&gt;</span> acc: <span style=\"color: #000080; font-weight: bold\">0.4692</span>             <a href=\"file:///home/itrushkin/.virtualenvs/openfl/lib/python3.8/site-packages/openfl/component/aggregator/aggregator.py\"><span style=\"color: #7f7f7f\">aggregator.py</span></a><span style=\"color: #7f7f7f\">:754</span>\n",
       "</pre>\n"
      ],
      "text/plain": [
       "<rich.jupyter.JupyterRenderable at 0x7f24435734f0>"
      ]
     },
     "metadata": {},
     "output_type": "display_data"
    },
    {
     "data": {
      "text/html": [
       "<pre style=\"white-space:pre;overflow-x:auto;line-height:normal;font-family:Menlo,'DejaVu Sans Mono',consolas,'Courier New',monospace\"><span style=\"color: #7fbfbf\">           </span><span style=\"color: #000080\">INFO</span>     aggregated_model_validation task metrics<span style=\"color: #808000\">...</span>                                                                                <a href=\"file:///home/itrushkin/.virtualenvs/openfl/lib/python3.8/site-packages/openfl/component/aggregator/aggregator.py\"><span style=\"color: #7f7f7f\">aggregator.py</span></a><span style=\"color: #7f7f7f\">:711</span>\n",
       "</pre>\n"
      ],
      "text/plain": [
       "<rich.jupyter.JupyterRenderable at 0x7f2443573e50>"
      ]
     },
     "metadata": {},
     "output_type": "display_data"
    },
    {
     "data": {
      "text/html": [
       "<pre style=\"white-space:pre;overflow-x:auto;line-height:normal;font-family:Menlo,'DejaVu Sans Mono',consolas,'Courier New',monospace\"><span style=\"color: #7fbfbf\">           </span><span style=\"color: #000080\">INFO</span>     <span style=\"font-weight: bold\">&lt;</span><span style=\"color: #ff00ff; font-weight: bold\">openfl.component.aggregation_functions.weighted_average.WeightedAverage</span><span style=\"color: #000000\"> object at </span><span style=\"color: #000080; font-weight: bold\">0x7f24b206ec40</span><span style=\"font-weight: bold\">&gt;</span> acc: <span style=\"color: #000080; font-weight: bold\">0.3077</span>             <a href=\"file:///home/itrushkin/.virtualenvs/openfl/lib/python3.8/site-packages/openfl/component/aggregator/aggregator.py\"><span style=\"color: #7f7f7f\">aggregator.py</span></a><span style=\"color: #7f7f7f\">:754</span>\n",
       "</pre>\n"
      ],
      "text/plain": [
       "<rich.jupyter.JupyterRenderable at 0x7f2443573f10>"
      ]
     },
     "metadata": {},
     "output_type": "display_data"
    },
    {
     "data": {
      "text/html": [
       "<pre style=\"white-space:pre;overflow-x:auto;line-height:normal;font-family:Menlo,'DejaVu Sans Mono',consolas,'Courier New',monospace\"><span style=\"color: #7fbfbf\">           </span><span style=\"color: #000080\">INFO</span>     train task metrics<span style=\"color: #808000\">...</span>                                                                                                      <a href=\"file:///home/itrushkin/.virtualenvs/openfl/lib/python3.8/site-packages/openfl/component/aggregator/aggregator.py\"><span style=\"color: #7f7f7f\">aggregator.py</span></a><span style=\"color: #7f7f7f\">:711</span>\n",
       "</pre>\n"
      ],
      "text/plain": [
       "<rich.jupyter.JupyterRenderable at 0x7f2443573cd0>"
      ]
     },
     "metadata": {},
     "output_type": "display_data"
    },
    {
     "data": {
      "text/html": [
       "<pre style=\"white-space:pre;overflow-x:auto;line-height:normal;font-family:Menlo,'DejaVu Sans Mono',consolas,'Courier New',monospace\"><span style=\"color: #7fbfbf\">           </span><span style=\"color: #000080\">INFO</span>     <span style=\"font-weight: bold\">&lt;</span><span style=\"color: #ff00ff; font-weight: bold\">openfl.component.aggregation_functions.weighted_average.WeightedAverage</span><span style=\"color: #000000\"> object at </span><span style=\"color: #000080; font-weight: bold\">0x7f24b206ec40</span><span style=\"font-weight: bold\">&gt;</span> cross_entropy:          <a href=\"file:///home/itrushkin/.virtualenvs/openfl/lib/python3.8/site-packages/openfl/component/aggregator/aggregator.py\"><span style=\"color: #7f7f7f\">aggregator.py</span></a><span style=\"color: #7f7f7f\">:754</span>\n",
       "                    <span style=\"color: #000080; font-weight: bold\">2.3256</span>                                                                                                                                      \n",
       "</pre>\n"
      ],
      "text/plain": [
       "<rich.jupyter.JupyterRenderable at 0x7f2443a650d0>"
      ]
     },
     "metadata": {},
     "output_type": "display_data"
    },
    {
     "data": {
      "text/html": [
       "<pre style=\"white-space:pre;overflow-x:auto;line-height:normal;font-family:Menlo,'DejaVu Sans Mono',consolas,'Courier New',monospace\"><span style=\"color: #7fbfbf\">[11:39:16] </span><span style=\"color: #000080\">INFO</span>     Saving round <span style=\"color: #000080; font-weight: bold\">4</span> model<span style=\"color: #808000\">...</span>                                                                                                    <a href=\"file:///home/itrushkin/.virtualenvs/openfl/lib/python3.8/site-packages/openfl/component/aggregator/aggregator.py\"><span style=\"color: #7f7f7f\">aggregator.py</span></a><span style=\"color: #7f7f7f\">:796</span>\n",
       "</pre>\n"
      ],
      "text/plain": [
       "<rich.jupyter.JupyterRenderable at 0x7f244355aa00>"
      ]
     },
     "metadata": {},
     "output_type": "display_data"
    },
    {
     "data": {
      "text/html": [
       "<pre style=\"white-space:pre;overflow-x:auto;line-height:normal;font-family:Menlo,'DejaVu Sans Mono',consolas,'Courier New',monospace\"><span style=\"color: #7fbfbf\">           </span><span style=\"color: #000080\">INFO</span>     Starting round <span style=\"color: #000080; font-weight: bold\">4</span><span style=\"color: #808000\">...</span>                                                                                                        <a href=\"file:///home/itrushkin/.virtualenvs/openfl/lib/python3.8/site-packages/openfl/component/aggregator/aggregator.py\"><span style=\"color: #7f7f7f\">aggregator.py</span></a><span style=\"color: #7f7f7f\">:803</span>\n",
       "</pre>\n"
      ],
      "text/plain": [
       "<rich.jupyter.JupyterRenderable at 0x7f2443573b50>"
      ]
     },
     "metadata": {},
     "output_type": "display_data"
    },
    {
     "data": {
      "text/html": [
       "<pre style=\"white-space:pre;overflow-x:auto;line-height:normal;font-family:Menlo,'DejaVu Sans Mono',consolas,'Courier New',monospace\"><span style=\"color: #7fbfbf\">           </span><span style=\"color: #000080\">INFO</span>     All tasks completed on two for round <span style=\"color: #000080; font-weight: bold\">3</span><span style=\"color: #808000\">...</span>                                                                                <a href=\"file:///home/itrushkin/.virtualenvs/openfl/lib/python3.8/site-packages/openfl/component/collaborator/collaborator.py\"><span style=\"color: #7f7f7f\">collaborator.py</span></a><span style=\"color: #7f7f7f\">:146</span>\n",
       "</pre>\n"
      ],
      "text/plain": [
       "<rich.jupyter.JupyterRenderable at 0x7f24435f3d90>"
      ]
     },
     "metadata": {},
     "output_type": "display_data"
    },
    {
     "data": {
      "text/html": [
       "<pre style=\"white-space:pre;overflow-x:auto;line-height:normal;font-family:Menlo,'DejaVu Sans Mono',consolas,'Courier New',monospace\"><span style=\"color: #7fbfbf\">           </span><span style=\"color: #000080\">INFO</span>     Waiting for tasks<span style=\"color: #808000\">...</span>                                                                                                     <a href=\"file:///home/itrushkin/.virtualenvs/openfl/lib/python3.8/site-packages/openfl/component/collaborator/collaborator.py\"><span style=\"color: #7f7f7f\">collaborator.py</span></a><span style=\"color: #7f7f7f\">:153</span>\n",
       "</pre>\n"
      ],
      "text/plain": [
       "<rich.jupyter.JupyterRenderable at 0x7f24a7c9df70>"
      ]
     },
     "metadata": {},
     "output_type": "display_data"
    },
    {
     "data": {
      "text/html": [
       "<pre style=\"white-space:pre;overflow-x:auto;line-height:normal;font-family:Menlo,'DejaVu Sans Mono',consolas,'Courier New',monospace\"><span style=\"color: #7fbfbf\">           </span><span style=\"color: #000080\">INFO</span>     Sending tasks to collaborator one for round <span style=\"color: #000080; font-weight: bold\">4</span>                                                                              <a href=\"file:///home/itrushkin/.virtualenvs/openfl/lib/python3.8/site-packages/openfl/component/aggregator/aggregator.py\"><span style=\"color: #7f7f7f\">aggregator.py</span></a><span style=\"color: #7f7f7f\">:297</span>\n",
       "</pre>\n"
      ],
      "text/plain": [
       "<rich.jupyter.JupyterRenderable at 0x7f2443ab1d90>"
      ]
     },
     "metadata": {},
     "output_type": "display_data"
    },
    {
     "data": {
      "text/html": [
       "<pre style=\"white-space:pre;overflow-x:auto;line-height:normal;font-family:Menlo,'DejaVu Sans Mono',consolas,'Courier New',monospace\"><span style=\"color: #7fbfbf\">           </span><span style=\"color: #000080\">INFO</span>     Received the following tasks: <span style=\"font-weight: bold\">[</span><span style=\"color: #008000\">'aggregated_model_validation'</span>, <span style=\"color: #008000\">'train'</span>, <span style=\"color: #008000\">'locally_tuned_model_validation'</span><span style=\"font-weight: bold\">]</span>                 <a href=\"file:///home/itrushkin/.virtualenvs/openfl/lib/python3.8/site-packages/openfl/component/collaborator/collaborator.py\"><span style=\"color: #7f7f7f\">collaborator.py</span></a><span style=\"color: #7f7f7f\">:143</span>\n",
       "</pre>\n"
      ],
      "text/plain": [
       "<rich.jupyter.JupyterRenderable at 0x7f24a7c9e7f0>"
      ]
     },
     "metadata": {},
     "output_type": "display_data"
    },
    {
     "data": {
      "text/html": [
       "<pre style=\"white-space:pre;overflow-x:auto;line-height:normal;font-family:Menlo,'DejaVu Sans Mono',consolas,'Courier New',monospace\"><span style=\"color: #7fbfbf\">[11:39:18] </span><span style=\"color: #000080\">INFO</span>     Using TaskRunner subclassing API                                                                                         <a href=\"file:///home/itrushkin/.virtualenvs/openfl/lib/python3.8/site-packages/openfl/component/collaborator/collaborator.py\"><span style=\"color: #7f7f7f\">collaborator.py</span></a><span style=\"color: #7f7f7f\">:203</span>\n",
       "</pre>\n"
      ],
      "text/plain": [
       "<rich.jupyter.JupyterRenderable at 0x7f2443a65d60>"
      ]
     },
     "metadata": {},
     "output_type": "display_data"
    },
    {
     "data": {
      "text/html": [
       "<pre style=\"white-space:pre;overflow-x:auto;line-height:normal;font-family:Menlo,'DejaVu Sans Mono',consolas,'Courier New',monospace\"><span style=\"color: #7fbfbf\">           </span><span style=\"color: #000080\">INFO</span>     Sending metric for task aggregated_model_validation, round number <span style=\"color: #000080; font-weight: bold\">4</span>: acc        <span style=\"color: #000080; font-weight: bold\">0.0</span>                                      <a href=\"file:///home/itrushkin/.virtualenvs/openfl/lib/python3.8/site-packages/openfl/component/collaborator/collaborator.py\"><span style=\"color: #7f7f7f\">collaborator.py</span></a><span style=\"color: #7f7f7f\">:366</span>\n",
       "</pre>\n"
      ],
      "text/plain": [
       "<rich.jupyter.JupyterRenderable at 0x7f244355a130>"
      ]
     },
     "metadata": {},
     "output_type": "display_data"
    },
    {
     "data": {
      "text/html": [
       "<pre style=\"white-space:pre;overflow-x:auto;line-height:normal;font-family:Menlo,'DejaVu Sans Mono',consolas,'Courier New',monospace\"><span style=\"color: #7fbfbf\">           </span><span style=\"color: #000080\">INFO</span>     Collaborator one is sending task results for aggregated_model_validation, round <span style=\"color: #000080; font-weight: bold\">4</span>                                          <a href=\"file:///home/itrushkin/.virtualenvs/openfl/lib/python3.8/site-packages/openfl/component/aggregator/aggregator.py\"><span style=\"color: #7f7f7f\">aggregator.py</span></a><span style=\"color: #7f7f7f\">:450</span>\n",
       "</pre>\n"
      ],
      "text/plain": [
       "<rich.jupyter.JupyterRenderable at 0x7f2443a65100>"
      ]
     },
     "metadata": {},
     "output_type": "display_data"
    },
    {
     "data": {
      "text/html": [
       "<pre style=\"white-space:pre;overflow-x:auto;line-height:normal;font-family:Menlo,'DejaVu Sans Mono',consolas,'Courier New',monospace\"><span style=\"color: #7fbfbf\">[11:39:19] </span><span style=\"color: #000080\">INFO</span>     Using TaskRunner subclassing API                                                                                         <a href=\"file:///home/itrushkin/.virtualenvs/openfl/lib/python3.8/site-packages/openfl/component/collaborator/collaborator.py\"><span style=\"color: #7f7f7f\">collaborator.py</span></a><span style=\"color: #7f7f7f\">:203</span>\n",
       "</pre>\n"
      ],
      "text/plain": [
       "<rich.jupyter.JupyterRenderable at 0x7f2443a65610>"
      ]
     },
     "metadata": {},
     "output_type": "display_data"
    },
    {
     "data": {
      "text/html": [
       "<pre style=\"white-space:pre;overflow-x:auto;line-height:normal;font-family:Menlo,'DejaVu Sans Mono',consolas,'Courier New',monospace\"><span style=\"color: #7fbfbf\">           </span><span style=\"color: #000080\">INFO</span>     Sending metric for task train, round number <span style=\"color: #000080; font-weight: bold\">4</span>: cross_entropy    <span style=\"color: #000080; font-weight: bold\">3.3317155838012695</span>                                       <a href=\"file:///home/itrushkin/.virtualenvs/openfl/lib/python3.8/site-packages/openfl/component/collaborator/collaborator.py\"><span style=\"color: #7f7f7f\">collaborator.py</span></a><span style=\"color: #7f7f7f\">:366</span>\n",
       "</pre>\n"
      ],
      "text/plain": [
       "<rich.jupyter.JupyterRenderable at 0x7f2443c16250>"
      ]
     },
     "metadata": {},
     "output_type": "display_data"
    },
    {
     "data": {
      "text/html": [
       "<pre style=\"white-space:pre;overflow-x:auto;line-height:normal;font-family:Menlo,'DejaVu Sans Mono',consolas,'Courier New',monospace\"><span style=\"color: #7fbfbf\">           </span><span style=\"color: #000080\">INFO</span>     Collaborator one is sending task results for train, round <span style=\"color: #000080; font-weight: bold\">4</span>                                                                <a href=\"file:///home/itrushkin/.virtualenvs/openfl/lib/python3.8/site-packages/openfl/component/aggregator/aggregator.py\"><span style=\"color: #7f7f7f\">aggregator.py</span></a><span style=\"color: #7f7f7f\">:450</span>\n",
       "</pre>\n"
      ],
      "text/plain": [
       "<rich.jupyter.JupyterRenderable at 0x7f2443c16c10>"
      ]
     },
     "metadata": {},
     "output_type": "display_data"
    },
    {
     "data": {
      "text/html": [
       "<pre style=\"white-space:pre;overflow-x:auto;line-height:normal;font-family:Menlo,'DejaVu Sans Mono',consolas,'Courier New',monospace\"><span style=\"color: #7fbfbf\">[11:39:20] </span><span style=\"color: #000080\">INFO</span>     Using TaskRunner subclassing API                                                                                         <a href=\"file:///home/itrushkin/.virtualenvs/openfl/lib/python3.8/site-packages/openfl/component/collaborator/collaborator.py\"><span style=\"color: #7f7f7f\">collaborator.py</span></a><span style=\"color: #7f7f7f\">:203</span>\n",
       "</pre>\n"
      ],
      "text/plain": [
       "<rich.jupyter.JupyterRenderable at 0x7f244355a430>"
      ]
     },
     "metadata": {},
     "output_type": "display_data"
    },
    {
     "data": {
      "text/html": [
       "<pre style=\"white-space:pre;overflow-x:auto;line-height:normal;font-family:Menlo,'DejaVu Sans Mono',consolas,'Courier New',monospace\"><span style=\"color: #7fbfbf\">           </span><span style=\"color: #000080\">INFO</span>     Sending metric for task locally_tuned_model_validation, round number <span style=\"color: #000080; font-weight: bold\">4</span>: acc     <span style=\"color: #000080; font-weight: bold\">0.15476190476190477</span>                      <a href=\"file:///home/itrushkin/.virtualenvs/openfl/lib/python3.8/site-packages/openfl/component/collaborator/collaborator.py\"><span style=\"color: #7f7f7f\">collaborator.py</span></a><span style=\"color: #7f7f7f\">:366</span>\n",
       "</pre>\n"
      ],
      "text/plain": [
       "<rich.jupyter.JupyterRenderable at 0x7f2443983ee0>"
      ]
     },
     "metadata": {},
     "output_type": "display_data"
    },
    {
     "data": {
      "text/html": [
       "<pre style=\"white-space:pre;overflow-x:auto;line-height:normal;font-family:Menlo,'DejaVu Sans Mono',consolas,'Courier New',monospace\"><span style=\"color: #7fbfbf\">           </span><span style=\"color: #000080\">INFO</span>     Collaborator one is sending task results for locally_tuned_model_validation, round <span style=\"color: #000080; font-weight: bold\">4</span>                                       <a href=\"file:///home/itrushkin/.virtualenvs/openfl/lib/python3.8/site-packages/openfl/component/aggregator/aggregator.py\"><span style=\"color: #7f7f7f\">aggregator.py</span></a><span style=\"color: #7f7f7f\">:450</span>\n",
       "</pre>\n"
      ],
      "text/plain": [
       "<rich.jupyter.JupyterRenderable at 0x7f244355a5b0>"
      ]
     },
     "metadata": {},
     "output_type": "display_data"
    },
    {
     "data": {
      "text/html": [
       "<pre style=\"white-space:pre;overflow-x:auto;line-height:normal;font-family:Menlo,'DejaVu Sans Mono',consolas,'Courier New',monospace\"><span style=\"color: #7fbfbf\">           </span><span style=\"color: #000080\">INFO</span>     All tasks completed on one for round <span style=\"color: #000080; font-weight: bold\">4</span><span style=\"color: #808000\">...</span>                                                                                <a href=\"file:///home/itrushkin/.virtualenvs/openfl/lib/python3.8/site-packages/openfl/component/collaborator/collaborator.py\"><span style=\"color: #7f7f7f\">collaborator.py</span></a><span style=\"color: #7f7f7f\">:146</span>\n",
       "</pre>\n"
      ],
      "text/plain": [
       "<rich.jupyter.JupyterRenderable at 0x7f244355a130>"
      ]
     },
     "metadata": {},
     "output_type": "display_data"
    },
    {
     "data": {
      "text/html": [
       "<pre style=\"white-space:pre;overflow-x:auto;line-height:normal;font-family:Menlo,'DejaVu Sans Mono',consolas,'Courier New',monospace\"><span style=\"color: #7fbfbf\">           </span><span style=\"color: #000080\">INFO</span>     Waiting for tasks<span style=\"color: #808000\">...</span>                                                                                                     <a href=\"file:///home/itrushkin/.virtualenvs/openfl/lib/python3.8/site-packages/openfl/component/collaborator/collaborator.py\"><span style=\"color: #7f7f7f\">collaborator.py</span></a><span style=\"color: #7f7f7f\">:153</span>\n",
       "</pre>\n"
      ],
      "text/plain": [
       "<rich.jupyter.JupyterRenderable at 0x7f244355a5b0>"
      ]
     },
     "metadata": {},
     "output_type": "display_data"
    },
    {
     "data": {
      "text/html": [
       "<pre style=\"white-space:pre;overflow-x:auto;line-height:normal;font-family:Menlo,'DejaVu Sans Mono',consolas,'Courier New',monospace\"><span style=\"color: #7fbfbf\">           </span><span style=\"color: #000080\">INFO</span>     Sending tasks to collaborator two for round <span style=\"color: #000080; font-weight: bold\">4</span>                                                                              <a href=\"file:///home/itrushkin/.virtualenvs/openfl/lib/python3.8/site-packages/openfl/component/aggregator/aggregator.py\"><span style=\"color: #7f7f7f\">aggregator.py</span></a><span style=\"color: #7f7f7f\">:297</span>\n",
       "</pre>\n"
      ],
      "text/plain": [
       "<rich.jupyter.JupyterRenderable at 0x7f2443a65bb0>"
      ]
     },
     "metadata": {},
     "output_type": "display_data"
    },
    {
     "data": {
      "text/html": [
       "<pre style=\"white-space:pre;overflow-x:auto;line-height:normal;font-family:Menlo,'DejaVu Sans Mono',consolas,'Courier New',monospace\"><span style=\"color: #7fbfbf\">           </span><span style=\"color: #000080\">INFO</span>     Received the following tasks: <span style=\"font-weight: bold\">[</span><span style=\"color: #008000\">'aggregated_model_validation'</span>, <span style=\"color: #008000\">'train'</span>, <span style=\"color: #008000\">'locally_tuned_model_validation'</span><span style=\"font-weight: bold\">]</span>                 <a href=\"file:///home/itrushkin/.virtualenvs/openfl/lib/python3.8/site-packages/openfl/component/collaborator/collaborator.py\"><span style=\"color: #7f7f7f\">collaborator.py</span></a><span style=\"color: #7f7f7f\">:143</span>\n",
       "</pre>\n"
      ],
      "text/plain": [
       "<rich.jupyter.JupyterRenderable at 0x7f244355af40>"
      ]
     },
     "metadata": {},
     "output_type": "display_data"
    },
    {
     "data": {
      "text/html": [
       "<pre style=\"white-space:pre;overflow-x:auto;line-height:normal;font-family:Menlo,'DejaVu Sans Mono',consolas,'Courier New',monospace\"><span style=\"color: #7fbfbf\">[11:39:22] </span><span style=\"color: #000080\">INFO</span>     Using TaskRunner subclassing API                                                                                         <a href=\"file:///home/itrushkin/.virtualenvs/openfl/lib/python3.8/site-packages/openfl/component/collaborator/collaborator.py\"><span style=\"color: #7f7f7f\">collaborator.py</span></a><span style=\"color: #7f7f7f\">:203</span>\n",
       "</pre>\n"
      ],
      "text/plain": [
       "<rich.jupyter.JupyterRenderable at 0x7f2443509be0>"
      ]
     },
     "metadata": {},
     "output_type": "display_data"
    },
    {
     "data": {
      "text/html": [
       "<pre style=\"white-space:pre;overflow-x:auto;line-height:normal;font-family:Menlo,'DejaVu Sans Mono',consolas,'Courier New',monospace\"><span style=\"color: #7fbfbf\">           </span><span style=\"color: #000080\">INFO</span>     Sending metric for task aggregated_model_validation, round number <span style=\"color: #000080; font-weight: bold\">4</span>: acc        <span style=\"color: #000080; font-weight: bold\">0.8913043478260869</span>                       <a href=\"file:///home/itrushkin/.virtualenvs/openfl/lib/python3.8/site-packages/openfl/component/collaborator/collaborator.py\"><span style=\"color: #7f7f7f\">collaborator.py</span></a><span style=\"color: #7f7f7f\">:366</span>\n",
       "</pre>\n"
      ],
      "text/plain": [
       "<rich.jupyter.JupyterRenderable at 0x7f2443509fd0>"
      ]
     },
     "metadata": {},
     "output_type": "display_data"
    },
    {
     "data": {
      "text/html": [
       "<pre style=\"white-space:pre;overflow-x:auto;line-height:normal;font-family:Menlo,'DejaVu Sans Mono',consolas,'Courier New',monospace\"><span style=\"color: #7fbfbf\">           </span><span style=\"color: #000080\">INFO</span>     Collaborator two is sending task results for aggregated_model_validation, round <span style=\"color: #000080; font-weight: bold\">4</span>                                          <a href=\"file:///home/itrushkin/.virtualenvs/openfl/lib/python3.8/site-packages/openfl/component/aggregator/aggregator.py\"><span style=\"color: #7f7f7f\">aggregator.py</span></a><span style=\"color: #7f7f7f\">:450</span>\n",
       "</pre>\n"
      ],
      "text/plain": [
       "<rich.jupyter.JupyterRenderable at 0x7f24434fae50>"
      ]
     },
     "metadata": {},
     "output_type": "display_data"
    },
    {
     "data": {
      "text/html": [
       "<pre style=\"white-space:pre;overflow-x:auto;line-height:normal;font-family:Menlo,'DejaVu Sans Mono',consolas,'Courier New',monospace\"><span style=\"color: #7fbfbf\">           </span><span style=\"color: #000080\">INFO</span>     Using TaskRunner subclassing API                                                                                         <a href=\"file:///home/itrushkin/.virtualenvs/openfl/lib/python3.8/site-packages/openfl/component/collaborator/collaborator.py\"><span style=\"color: #7f7f7f\">collaborator.py</span></a><span style=\"color: #7f7f7f\">:203</span>\n",
       "</pre>\n"
      ],
      "text/plain": [
       "<rich.jupyter.JupyterRenderable at 0x7f244355a670>"
      ]
     },
     "metadata": {},
     "output_type": "display_data"
    },
    {
     "data": {
      "text/html": [
       "<pre style=\"white-space:pre;overflow-x:auto;line-height:normal;font-family:Menlo,'DejaVu Sans Mono',consolas,'Courier New',monospace\"><span style=\"color: #7fbfbf\">           </span><span style=\"color: #000080\">INFO</span>     Sending metric for task train, round number <span style=\"color: #000080; font-weight: bold\">4</span>: cross_entropy    <span style=\"color: #000080; font-weight: bold\">1.1837891340255737</span>                                       <a href=\"file:///home/itrushkin/.virtualenvs/openfl/lib/python3.8/site-packages/openfl/component/collaborator/collaborator.py\"><span style=\"color: #7f7f7f\">collaborator.py</span></a><span style=\"color: #7f7f7f\">:366</span>\n",
       "</pre>\n"
      ],
      "text/plain": [
       "<rich.jupyter.JupyterRenderable at 0x7f24434fcd00>"
      ]
     },
     "metadata": {},
     "output_type": "display_data"
    },
    {
     "data": {
      "text/html": [
       "<pre style=\"white-space:pre;overflow-x:auto;line-height:normal;font-family:Menlo,'DejaVu Sans Mono',consolas,'Courier New',monospace\"><span style=\"color: #7fbfbf\">           </span><span style=\"color: #000080\">INFO</span>     Collaborator two is sending task results for train, round <span style=\"color: #000080; font-weight: bold\">4</span>                                                                <a href=\"file:///home/itrushkin/.virtualenvs/openfl/lib/python3.8/site-packages/openfl/component/aggregator/aggregator.py\"><span style=\"color: #7f7f7f\">aggregator.py</span></a><span style=\"color: #7f7f7f\">:450</span>\n",
       "</pre>\n"
      ],
      "text/plain": [
       "<rich.jupyter.JupyterRenderable at 0x7f24434fcd00>"
      ]
     },
     "metadata": {},
     "output_type": "display_data"
    },
    {
     "data": {
      "text/html": [
       "<pre style=\"white-space:pre;overflow-x:auto;line-height:normal;font-family:Menlo,'DejaVu Sans Mono',consolas,'Courier New',monospace\"><span style=\"color: #7fbfbf\">[11:39:23] </span><span style=\"color: #000080\">INFO</span>     Using TaskRunner subclassing API                                                                                         <a href=\"file:///home/itrushkin/.virtualenvs/openfl/lib/python3.8/site-packages/openfl/component/collaborator/collaborator.py\"><span style=\"color: #7f7f7f\">collaborator.py</span></a><span style=\"color: #7f7f7f\">:203</span>\n",
       "</pre>\n"
      ],
      "text/plain": [
       "<rich.jupyter.JupyterRenderable at 0x7f2443a618b0>"
      ]
     },
     "metadata": {},
     "output_type": "display_data"
    },
    {
     "data": {
      "text/html": [
       "<pre style=\"white-space:pre;overflow-x:auto;line-height:normal;font-family:Menlo,'DejaVu Sans Mono',consolas,'Courier New',monospace\"><span style=\"color: #7fbfbf\">           </span><span style=\"color: #000080\">INFO</span>     Sending metric for task locally_tuned_model_validation, round number <span style=\"color: #000080; font-weight: bold\">4</span>: acc     <span style=\"color: #000080; font-weight: bold\">0.8913043478260869</span>                       <a href=\"file:///home/itrushkin/.virtualenvs/openfl/lib/python3.8/site-packages/openfl/component/collaborator/collaborator.py\"><span style=\"color: #7f7f7f\">collaborator.py</span></a><span style=\"color: #7f7f7f\">:366</span>\n",
       "</pre>\n"
      ],
      "text/plain": [
       "<rich.jupyter.JupyterRenderable at 0x7f24434fa6d0>"
      ]
     },
     "metadata": {},
     "output_type": "display_data"
    },
    {
     "data": {
      "text/html": [
       "<pre style=\"white-space:pre;overflow-x:auto;line-height:normal;font-family:Menlo,'DejaVu Sans Mono',consolas,'Courier New',monospace\"><span style=\"color: #7fbfbf\">           </span><span style=\"color: #000080\">INFO</span>     Collaborator two is sending task results for locally_tuned_model_validation, round <span style=\"color: #000080; font-weight: bold\">4</span>                                       <a href=\"file:///home/itrushkin/.virtualenvs/openfl/lib/python3.8/site-packages/openfl/component/aggregator/aggregator.py\"><span style=\"color: #7f7f7f\">aggregator.py</span></a><span style=\"color: #7f7f7f\">:450</span>\n",
       "</pre>\n"
      ],
      "text/plain": [
       "<rich.jupyter.JupyterRenderable at 0x7f244365e070>"
      ]
     },
     "metadata": {},
     "output_type": "display_data"
    },
    {
     "data": {
      "text/html": [
       "<pre style=\"white-space:pre;overflow-x:auto;line-height:normal;font-family:Menlo,'DejaVu Sans Mono',consolas,'Courier New',monospace\"><span style=\"color: #7fbfbf\">           </span><span style=\"color: #000080\">INFO</span>     locally_tuned_model_validation task metrics<span style=\"color: #808000\">...</span>                                                                             <a href=\"file:///home/itrushkin/.virtualenvs/openfl/lib/python3.8/site-packages/openfl/component/aggregator/aggregator.py\"><span style=\"color: #7f7f7f\">aggregator.py</span></a><span style=\"color: #7f7f7f\">:711</span>\n",
       "</pre>\n"
      ],
      "text/plain": [
       "<rich.jupyter.JupyterRenderable at 0x7f24434faf10>"
      ]
     },
     "metadata": {},
     "output_type": "display_data"
    },
    {
     "data": {
      "text/html": [
       "<pre style=\"white-space:pre;overflow-x:auto;line-height:normal;font-family:Menlo,'DejaVu Sans Mono',consolas,'Courier New',monospace\"><span style=\"color: #7fbfbf\">           </span><span style=\"color: #000080\">INFO</span>     <span style=\"font-weight: bold\">&lt;</span><span style=\"color: #ff00ff; font-weight: bold\">openfl.component.aggregation_functions.weighted_average.WeightedAverage</span><span style=\"color: #000000\"> object at </span><span style=\"color: #000080; font-weight: bold\">0x7f24b206ec40</span><span style=\"font-weight: bold\">&gt;</span> acc: <span style=\"color: #000080; font-weight: bold\">0.4154</span>             <a href=\"file:///home/itrushkin/.virtualenvs/openfl/lib/python3.8/site-packages/openfl/component/aggregator/aggregator.py\"><span style=\"color: #7f7f7f\">aggregator.py</span></a><span style=\"color: #7f7f7f\">:754</span>\n",
       "</pre>\n"
      ],
      "text/plain": [
       "<rich.jupyter.JupyterRenderable at 0x7f24434fa6d0>"
      ]
     },
     "metadata": {},
     "output_type": "display_data"
    },
    {
     "data": {
      "text/html": [
       "<pre style=\"white-space:pre;overflow-x:auto;line-height:normal;font-family:Menlo,'DejaVu Sans Mono',consolas,'Courier New',monospace\"><span style=\"color: #7fbfbf\">           </span><span style=\"color: #000080\">INFO</span>     aggregated_model_validation task metrics<span style=\"color: #808000\">...</span>                                                                                <a href=\"file:///home/itrushkin/.virtualenvs/openfl/lib/python3.8/site-packages/openfl/component/aggregator/aggregator.py\"><span style=\"color: #7f7f7f\">aggregator.py</span></a><span style=\"color: #7f7f7f\">:711</span>\n",
       "</pre>\n"
      ],
      "text/plain": [
       "<rich.jupyter.JupyterRenderable at 0x7f24434fafa0>"
      ]
     },
     "metadata": {},
     "output_type": "display_data"
    },
    {
     "data": {
      "text/html": [
       "<pre style=\"white-space:pre;overflow-x:auto;line-height:normal;font-family:Menlo,'DejaVu Sans Mono',consolas,'Courier New',monospace\"><span style=\"color: #7fbfbf\">           </span><span style=\"color: #000080\">INFO</span>     <span style=\"font-weight: bold\">&lt;</span><span style=\"color: #ff00ff; font-weight: bold\">openfl.component.aggregation_functions.weighted_average.WeightedAverage</span><span style=\"color: #000000\"> object at </span><span style=\"color: #000080; font-weight: bold\">0x7f24b206ec40</span><span style=\"font-weight: bold\">&gt;</span> acc: <span style=\"color: #000080; font-weight: bold\">0.3154</span>             <a href=\"file:///home/itrushkin/.virtualenvs/openfl/lib/python3.8/site-packages/openfl/component/aggregator/aggregator.py\"><span style=\"color: #7f7f7f\">aggregator.py</span></a><span style=\"color: #7f7f7f\">:754</span>\n",
       "</pre>\n"
      ],
      "text/plain": [
       "<rich.jupyter.JupyterRenderable at 0x7f24434fac70>"
      ]
     },
     "metadata": {},
     "output_type": "display_data"
    },
    {
     "data": {
      "text/html": [
       "<pre style=\"white-space:pre;overflow-x:auto;line-height:normal;font-family:Menlo,'DejaVu Sans Mono',consolas,'Courier New',monospace\"><span style=\"color: #7fbfbf\">           </span><span style=\"color: #000080\">INFO</span>     Saved the best model with score <span style=\"color: #000080; font-weight: bold\">0.315385</span>                                                                                   <a href=\"file:///home/itrushkin/.virtualenvs/openfl/lib/python3.8/site-packages/openfl/component/aggregator/aggregator.py\"><span style=\"color: #7f7f7f\">aggregator.py</span></a><span style=\"color: #7f7f7f\">:763</span>\n",
       "</pre>\n"
      ],
      "text/plain": [
       "<rich.jupyter.JupyterRenderable at 0x7f24434fa6d0>"
      ]
     },
     "metadata": {},
     "output_type": "display_data"
    },
    {
     "data": {
      "text/html": [
       "<pre style=\"white-space:pre;overflow-x:auto;line-height:normal;font-family:Menlo,'DejaVu Sans Mono',consolas,'Courier New',monospace\"><span style=\"color: #7fbfbf\">[11:39:24] </span><span style=\"color: #000080\">INFO</span>     train task metrics<span style=\"color: #808000\">...</span>                                                                                                      <a href=\"file:///home/itrushkin/.virtualenvs/openfl/lib/python3.8/site-packages/openfl/component/aggregator/aggregator.py\"><span style=\"color: #7f7f7f\">aggregator.py</span></a><span style=\"color: #7f7f7f\">:711</span>\n",
       "</pre>\n"
      ],
      "text/plain": [
       "<rich.jupyter.JupyterRenderable at 0x7f24434fafa0>"
      ]
     },
     "metadata": {},
     "output_type": "display_data"
    },
    {
     "data": {
      "text/html": [
       "<pre style=\"white-space:pre;overflow-x:auto;line-height:normal;font-family:Menlo,'DejaVu Sans Mono',consolas,'Courier New',monospace\"><span style=\"color: #7fbfbf\">           </span><span style=\"color: #000080\">INFO</span>     <span style=\"font-weight: bold\">&lt;</span><span style=\"color: #ff00ff; font-weight: bold\">openfl.component.aggregation_functions.weighted_average.WeightedAverage</span><span style=\"color: #000000\"> object at </span><span style=\"color: #000080; font-weight: bold\">0x7f24b206ec40</span><span style=\"font-weight: bold\">&gt;</span> cross_entropy:          <a href=\"file:///home/itrushkin/.virtualenvs/openfl/lib/python3.8/site-packages/openfl/component/aggregator/aggregator.py\"><span style=\"color: #7f7f7f\">aggregator.py</span></a><span style=\"color: #7f7f7f\">:754</span>\n",
       "                    <span style=\"color: #000080; font-weight: bold\">2.0838</span>                                                                                                                                      \n",
       "</pre>\n"
      ],
      "text/plain": [
       "<rich.jupyter.JupyterRenderable at 0x7f24434fafa0>"
      ]
     },
     "metadata": {},
     "output_type": "display_data"
    },
    {
     "data": {
      "text/html": [
       "<pre style=\"white-space:pre;overflow-x:auto;line-height:normal;font-family:Menlo,'DejaVu Sans Mono',consolas,'Courier New',monospace\"><span style=\"color: #7fbfbf\">[11:39:27] </span><span style=\"color: #000080\">INFO</span>     Saving round <span style=\"color: #000080; font-weight: bold\">5</span> model<span style=\"color: #808000\">...</span>                                                                                                    <a href=\"file:///home/itrushkin/.virtualenvs/openfl/lib/python3.8/site-packages/openfl/component/aggregator/aggregator.py\"><span style=\"color: #7f7f7f\">aggregator.py</span></a><span style=\"color: #7f7f7f\">:796</span>\n",
       "</pre>\n"
      ],
      "text/plain": [
       "<rich.jupyter.JupyterRenderable at 0x7f23dad8be50>"
      ]
     },
     "metadata": {},
     "output_type": "display_data"
    },
    {
     "data": {
      "text/html": [
       "<pre style=\"white-space:pre;overflow-x:auto;line-height:normal;font-family:Menlo,'DejaVu Sans Mono',consolas,'Courier New',monospace\"><span style=\"color: #7fbfbf\">           </span><span style=\"color: #000080\">INFO</span>     Starting round <span style=\"color: #000080; font-weight: bold\">5</span><span style=\"color: #808000\">...</span>                                                                                                        <a href=\"file:///home/itrushkin/.virtualenvs/openfl/lib/python3.8/site-packages/openfl/component/aggregator/aggregator.py\"><span style=\"color: #7f7f7f\">aggregator.py</span></a><span style=\"color: #7f7f7f\">:803</span>\n",
       "</pre>\n"
      ],
      "text/plain": [
       "<rich.jupyter.JupyterRenderable at 0x7f2443573f40>"
      ]
     },
     "metadata": {},
     "output_type": "display_data"
    },
    {
     "data": {
      "text/html": [
       "<pre style=\"white-space:pre;overflow-x:auto;line-height:normal;font-family:Menlo,'DejaVu Sans Mono',consolas,'Courier New',monospace\"><span style=\"color: #7fbfbf\">           </span><span style=\"color: #000080\">INFO</span>     All tasks completed on two for round <span style=\"color: #000080; font-weight: bold\">4</span><span style=\"color: #808000\">...</span>                                                                                <a href=\"file:///home/itrushkin/.virtualenvs/openfl/lib/python3.8/site-packages/openfl/component/collaborator/collaborator.py\"><span style=\"color: #7f7f7f\">collaborator.py</span></a><span style=\"color: #7f7f7f\">:146</span>\n",
       "</pre>\n"
      ],
      "text/plain": [
       "<rich.jupyter.JupyterRenderable at 0x7f24a7ca1b50>"
      ]
     },
     "metadata": {},
     "output_type": "display_data"
    },
    {
     "data": {
      "text/html": [
       "<pre style=\"white-space:pre;overflow-x:auto;line-height:normal;font-family:Menlo,'DejaVu Sans Mono',consolas,'Courier New',monospace\"><span style=\"color: #7fbfbf\">           </span><span style=\"color: #000080\">INFO</span>     Waiting for tasks<span style=\"color: #808000\">...</span>                                                                                                     <a href=\"file:///home/itrushkin/.virtualenvs/openfl/lib/python3.8/site-packages/openfl/component/collaborator/collaborator.py\"><span style=\"color: #7f7f7f\">collaborator.py</span></a><span style=\"color: #7f7f7f\">:153</span>\n",
       "</pre>\n"
      ],
      "text/plain": [
       "<rich.jupyter.JupyterRenderable at 0x7f24a7c9df40>"
      ]
     },
     "metadata": {},
     "output_type": "display_data"
    },
    {
     "data": {
      "text/html": [
       "<pre style=\"white-space:pre;overflow-x:auto;line-height:normal;font-family:Menlo,'DejaVu Sans Mono',consolas,'Courier New',monospace\"><span style=\"color: #7fbfbf\">           </span><span style=\"color: #000080\">INFO</span>     Sending tasks to collaborator one for round <span style=\"color: #000080; font-weight: bold\">5</span>                                                                              <a href=\"file:///home/itrushkin/.virtualenvs/openfl/lib/python3.8/site-packages/openfl/component/aggregator/aggregator.py\"><span style=\"color: #7f7f7f\">aggregator.py</span></a><span style=\"color: #7f7f7f\">:297</span>\n",
       "</pre>\n"
      ],
      "text/plain": [
       "<rich.jupyter.JupyterRenderable at 0x7f2443509fd0>"
      ]
     },
     "metadata": {},
     "output_type": "display_data"
    },
    {
     "data": {
      "text/html": [
       "<pre style=\"white-space:pre;overflow-x:auto;line-height:normal;font-family:Menlo,'DejaVu Sans Mono',consolas,'Courier New',monospace\"><span style=\"color: #7fbfbf\">           </span><span style=\"color: #000080\">INFO</span>     Received the following tasks: <span style=\"font-weight: bold\">[</span><span style=\"color: #008000\">'aggregated_model_validation'</span>, <span style=\"color: #008000\">'train'</span>, <span style=\"color: #008000\">'locally_tuned_model_validation'</span><span style=\"font-weight: bold\">]</span>                 <a href=\"file:///home/itrushkin/.virtualenvs/openfl/lib/python3.8/site-packages/openfl/component/collaborator/collaborator.py\"><span style=\"color: #7f7f7f\">collaborator.py</span></a><span style=\"color: #7f7f7f\">:143</span>\n",
       "</pre>\n"
      ],
      "text/plain": [
       "<rich.jupyter.JupyterRenderable at 0x7f2443509fd0>"
      ]
     },
     "metadata": {},
     "output_type": "display_data"
    },
    {
     "data": {
      "text/html": [
       "<pre style=\"white-space:pre;overflow-x:auto;line-height:normal;font-family:Menlo,'DejaVu Sans Mono',consolas,'Courier New',monospace\"><span style=\"color: #7fbfbf\">[11:39:29] </span><span style=\"color: #000080\">INFO</span>     Using TaskRunner subclassing API                                                                                         <a href=\"file:///home/itrushkin/.virtualenvs/openfl/lib/python3.8/site-packages/openfl/component/collaborator/collaborator.py\"><span style=\"color: #7f7f7f\">collaborator.py</span></a><span style=\"color: #7f7f7f\">:203</span>\n",
       "</pre>\n"
      ],
      "text/plain": [
       "<rich.jupyter.JupyterRenderable at 0x7f244355a280>"
      ]
     },
     "metadata": {},
     "output_type": "display_data"
    },
    {
     "data": {
      "text/html": [
       "<pre style=\"white-space:pre;overflow-x:auto;line-height:normal;font-family:Menlo,'DejaVu Sans Mono',consolas,'Courier New',monospace\"><span style=\"color: #7fbfbf\">           </span><span style=\"color: #000080\">INFO</span>     Sending metric for task aggregated_model_validation, round number <span style=\"color: #000080; font-weight: bold\">5</span>: acc        <span style=\"color: #000080; font-weight: bold\">0.0</span>                                      <a href=\"file:///home/itrushkin/.virtualenvs/openfl/lib/python3.8/site-packages/openfl/component/collaborator/collaborator.py\"><span style=\"color: #7f7f7f\">collaborator.py</span></a><span style=\"color: #7f7f7f\">:366</span>\n",
       "</pre>\n"
      ],
      "text/plain": [
       "<rich.jupyter.JupyterRenderable at 0x7f2443a61d00>"
      ]
     },
     "metadata": {},
     "output_type": "display_data"
    },
    {
     "data": {
      "text/html": [
       "<pre style=\"white-space:pre;overflow-x:auto;line-height:normal;font-family:Menlo,'DejaVu Sans Mono',consolas,'Courier New',monospace\"><span style=\"color: #7fbfbf\">           </span><span style=\"color: #000080\">INFO</span>     Collaborator one is sending task results for aggregated_model_validation, round <span style=\"color: #000080; font-weight: bold\">5</span>                                          <a href=\"file:///home/itrushkin/.virtualenvs/openfl/lib/python3.8/site-packages/openfl/component/aggregator/aggregator.py\"><span style=\"color: #7f7f7f\">aggregator.py</span></a><span style=\"color: #7f7f7f\">:450</span>\n",
       "</pre>\n"
      ],
      "text/plain": [
       "<rich.jupyter.JupyterRenderable at 0x7f24434faf10>"
      ]
     },
     "metadata": {},
     "output_type": "display_data"
    },
    {
     "data": {
      "text/html": [
       "<pre style=\"white-space:pre;overflow-x:auto;line-height:normal;font-family:Menlo,'DejaVu Sans Mono',consolas,'Courier New',monospace\"><span style=\"color: #7fbfbf\">[11:39:30] </span><span style=\"color: #000080\">INFO</span>     Using TaskRunner subclassing API                                                                                         <a href=\"file:///home/itrushkin/.virtualenvs/openfl/lib/python3.8/site-packages/openfl/component/collaborator/collaborator.py\"><span style=\"color: #7f7f7f\">collaborator.py</span></a><span style=\"color: #7f7f7f\">:203</span>\n",
       "</pre>\n"
      ],
      "text/plain": [
       "<rich.jupyter.JupyterRenderable at 0x7f24434fa6d0>"
      ]
     },
     "metadata": {},
     "output_type": "display_data"
    },
    {
     "data": {
      "text/html": [
       "<pre style=\"white-space:pre;overflow-x:auto;line-height:normal;font-family:Menlo,'DejaVu Sans Mono',consolas,'Courier New',monospace\"><span style=\"color: #7fbfbf\">           </span><span style=\"color: #000080\">INFO</span>     Sending metric for task train, round number <span style=\"color: #000080; font-weight: bold\">5</span>: cross_entropy    <span style=\"color: #000080; font-weight: bold\">3.314525604248047</span>                                        <a href=\"file:///home/itrushkin/.virtualenvs/openfl/lib/python3.8/site-packages/openfl/component/collaborator/collaborator.py\"><span style=\"color: #7f7f7f\">collaborator.py</span></a><span style=\"color: #7f7f7f\">:366</span>\n",
       "</pre>\n"
      ],
      "text/plain": [
       "<rich.jupyter.JupyterRenderable at 0x7f23dad8b2e0>"
      ]
     },
     "metadata": {},
     "output_type": "display_data"
    },
    {
     "data": {
      "text/html": [
       "<pre style=\"white-space:pre;overflow-x:auto;line-height:normal;font-family:Menlo,'DejaVu Sans Mono',consolas,'Courier New',monospace\"><span style=\"color: #7fbfbf\">           </span><span style=\"color: #000080\">INFO</span>     Collaborator one is sending task results for train, round <span style=\"color: #000080; font-weight: bold\">5</span>                                                                <a href=\"file:///home/itrushkin/.virtualenvs/openfl/lib/python3.8/site-packages/openfl/component/aggregator/aggregator.py\"><span style=\"color: #7f7f7f\">aggregator.py</span></a><span style=\"color: #7f7f7f\">:450</span>\n",
       "</pre>\n"
      ],
      "text/plain": [
       "<rich.jupyter.JupyterRenderable at 0x7f23dad8bb20>"
      ]
     },
     "metadata": {},
     "output_type": "display_data"
    },
    {
     "data": {
      "text/html": [
       "<pre style=\"white-space:pre;overflow-x:auto;line-height:normal;font-family:Menlo,'DejaVu Sans Mono',consolas,'Courier New',monospace\"><span style=\"color: #7fbfbf\">[11:39:31] </span><span style=\"color: #000080\">INFO</span>     Using TaskRunner subclassing API                                                                                         <a href=\"file:///home/itrushkin/.virtualenvs/openfl/lib/python3.8/site-packages/openfl/component/collaborator/collaborator.py\"><span style=\"color: #7f7f7f\">collaborator.py</span></a><span style=\"color: #7f7f7f\">:203</span>\n",
       "</pre>\n"
      ],
      "text/plain": [
       "<rich.jupyter.JupyterRenderable at 0x7f23dad82af0>"
      ]
     },
     "metadata": {},
     "output_type": "display_data"
    },
    {
     "data": {
      "text/html": [
       "<pre style=\"white-space:pre;overflow-x:auto;line-height:normal;font-family:Menlo,'DejaVu Sans Mono',consolas,'Courier New',monospace\"><span style=\"color: #7fbfbf\">           </span><span style=\"color: #000080\">INFO</span>     Sending metric for task locally_tuned_model_validation, round number <span style=\"color: #000080; font-weight: bold\">5</span>: acc     <span style=\"color: #000080; font-weight: bold\">0.15476190476190477</span>                      <a href=\"file:///home/itrushkin/.virtualenvs/openfl/lib/python3.8/site-packages/openfl/component/collaborator/collaborator.py\"><span style=\"color: #7f7f7f\">collaborator.py</span></a><span style=\"color: #7f7f7f\">:366</span>\n",
       "</pre>\n"
      ],
      "text/plain": [
       "<rich.jupyter.JupyterRenderable at 0x7f24434fc850>"
      ]
     },
     "metadata": {},
     "output_type": "display_data"
    },
    {
     "data": {
      "text/html": [
       "<pre style=\"white-space:pre;overflow-x:auto;line-height:normal;font-family:Menlo,'DejaVu Sans Mono',consolas,'Courier New',monospace\"><span style=\"color: #7fbfbf\">           </span><span style=\"color: #000080\">INFO</span>     Collaborator one is sending task results for locally_tuned_model_validation, round <span style=\"color: #000080; font-weight: bold\">5</span>                                       <a href=\"file:///home/itrushkin/.virtualenvs/openfl/lib/python3.8/site-packages/openfl/component/aggregator/aggregator.py\"><span style=\"color: #7f7f7f\">aggregator.py</span></a><span style=\"color: #7f7f7f\">:450</span>\n",
       "</pre>\n"
      ],
      "text/plain": [
       "<rich.jupyter.JupyterRenderable at 0x7f23dad8be50>"
      ]
     },
     "metadata": {},
     "output_type": "display_data"
    },
    {
     "data": {
      "text/html": [
       "<pre style=\"white-space:pre;overflow-x:auto;line-height:normal;font-family:Menlo,'DejaVu Sans Mono',consolas,'Courier New',monospace\"><span style=\"color: #7fbfbf\">           </span><span style=\"color: #000080\">INFO</span>     All tasks completed on one for round <span style=\"color: #000080; font-weight: bold\">5</span><span style=\"color: #808000\">...</span>                                                                                <a href=\"file:///home/itrushkin/.virtualenvs/openfl/lib/python3.8/site-packages/openfl/component/collaborator/collaborator.py\"><span style=\"color: #7f7f7f\">collaborator.py</span></a><span style=\"color: #7f7f7f\">:146</span>\n",
       "</pre>\n"
      ],
      "text/plain": [
       "<rich.jupyter.JupyterRenderable at 0x7f23dad8bfd0>"
      ]
     },
     "metadata": {},
     "output_type": "display_data"
    },
    {
     "data": {
      "text/html": [
       "<pre style=\"white-space:pre;overflow-x:auto;line-height:normal;font-family:Menlo,'DejaVu Sans Mono',consolas,'Courier New',monospace\"><span style=\"color: #7fbfbf\">           </span><span style=\"color: #000080\">INFO</span>     Waiting for tasks<span style=\"color: #808000\">...</span>                                                                                                     <a href=\"file:///home/itrushkin/.virtualenvs/openfl/lib/python3.8/site-packages/openfl/component/collaborator/collaborator.py\"><span style=\"color: #7f7f7f\">collaborator.py</span></a><span style=\"color: #7f7f7f\">:153</span>\n",
       "</pre>\n"
      ],
      "text/plain": [
       "<rich.jupyter.JupyterRenderable at 0x7f23dad8be50>"
      ]
     },
     "metadata": {},
     "output_type": "display_data"
    },
    {
     "data": {
      "text/html": [
       "<pre style=\"white-space:pre;overflow-x:auto;line-height:normal;font-family:Menlo,'DejaVu Sans Mono',consolas,'Courier New',monospace\"><span style=\"color: #7fbfbf\">           </span><span style=\"color: #000080\">INFO</span>     Sending tasks to collaborator two for round <span style=\"color: #000080; font-weight: bold\">5</span>                                                                              <a href=\"file:///home/itrushkin/.virtualenvs/openfl/lib/python3.8/site-packages/openfl/component/aggregator/aggregator.py\"><span style=\"color: #7f7f7f\">aggregator.py</span></a><span style=\"color: #7f7f7f\">:297</span>\n",
       "</pre>\n"
      ],
      "text/plain": [
       "<rich.jupyter.JupyterRenderable at 0x7f23dad8b910>"
      ]
     },
     "metadata": {},
     "output_type": "display_data"
    },
    {
     "data": {
      "text/html": [
       "<pre style=\"white-space:pre;overflow-x:auto;line-height:normal;font-family:Menlo,'DejaVu Sans Mono',consolas,'Courier New',monospace\"><span style=\"color: #7fbfbf\">           </span><span style=\"color: #000080\">INFO</span>     Received the following tasks: <span style=\"font-weight: bold\">[</span><span style=\"color: #008000\">'aggregated_model_validation'</span>, <span style=\"color: #008000\">'train'</span>, <span style=\"color: #008000\">'locally_tuned_model_validation'</span><span style=\"font-weight: bold\">]</span>                 <a href=\"file:///home/itrushkin/.virtualenvs/openfl/lib/python3.8/site-packages/openfl/component/collaborator/collaborator.py\"><span style=\"color: #7f7f7f\">collaborator.py</span></a><span style=\"color: #7f7f7f\">:143</span>\n",
       "</pre>\n"
      ],
      "text/plain": [
       "<rich.jupyter.JupyterRenderable at 0x7f23dad8b910>"
      ]
     },
     "metadata": {},
     "output_type": "display_data"
    },
    {
     "data": {
      "text/html": [
       "<pre style=\"white-space:pre;overflow-x:auto;line-height:normal;font-family:Menlo,'DejaVu Sans Mono',consolas,'Courier New',monospace\"><span style=\"color: #7fbfbf\">[11:39:33] </span><span style=\"color: #000080\">INFO</span>     Using TaskRunner subclassing API                                                                                         <a href=\"file:///home/itrushkin/.virtualenvs/openfl/lib/python3.8/site-packages/openfl/component/collaborator/collaborator.py\"><span style=\"color: #7f7f7f\">collaborator.py</span></a><span style=\"color: #7f7f7f\">:203</span>\n",
       "</pre>\n"
      ],
      "text/plain": [
       "<rich.jupyter.JupyterRenderable at 0x7f244349adc0>"
      ]
     },
     "metadata": {},
     "output_type": "display_data"
    },
    {
     "data": {
      "text/html": [
       "<pre style=\"white-space:pre;overflow-x:auto;line-height:normal;font-family:Menlo,'DejaVu Sans Mono',consolas,'Courier New',monospace\"><span style=\"color: #7fbfbf\">           </span><span style=\"color: #000080\">INFO</span>     Sending metric for task aggregated_model_validation, round number <span style=\"color: #000080; font-weight: bold\">5</span>: acc        <span style=\"color: #000080; font-weight: bold\">0.8913043478260869</span>                       <a href=\"file:///home/itrushkin/.virtualenvs/openfl/lib/python3.8/site-packages/openfl/component/collaborator/collaborator.py\"><span style=\"color: #7f7f7f\">collaborator.py</span></a><span style=\"color: #7f7f7f\">:366</span>\n",
       "</pre>\n"
      ],
      "text/plain": [
       "<rich.jupyter.JupyterRenderable at 0x7f2443a8f970>"
      ]
     },
     "metadata": {},
     "output_type": "display_data"
    },
    {
     "data": {
      "text/html": [
       "<pre style=\"white-space:pre;overflow-x:auto;line-height:normal;font-family:Menlo,'DejaVu Sans Mono',consolas,'Courier New',monospace\"><span style=\"color: #7fbfbf\">           </span><span style=\"color: #000080\">INFO</span>     Collaborator two is sending task results for aggregated_model_validation, round <span style=\"color: #000080; font-weight: bold\">5</span>                                          <a href=\"file:///home/itrushkin/.virtualenvs/openfl/lib/python3.8/site-packages/openfl/component/aggregator/aggregator.py\"><span style=\"color: #7f7f7f\">aggregator.py</span></a><span style=\"color: #7f7f7f\">:450</span>\n",
       "</pre>\n"
      ],
      "text/plain": [
       "<rich.jupyter.JupyterRenderable at 0x7f2443a8f9a0>"
      ]
     },
     "metadata": {},
     "output_type": "display_data"
    },
    {
     "data": {
      "text/html": [
       "<pre style=\"white-space:pre;overflow-x:auto;line-height:normal;font-family:Menlo,'DejaVu Sans Mono',consolas,'Courier New',monospace\"><span style=\"color: #7fbfbf\">           </span><span style=\"color: #000080\">INFO</span>     Using TaskRunner subclassing API                                                                                         <a href=\"file:///home/itrushkin/.virtualenvs/openfl/lib/python3.8/site-packages/openfl/component/collaborator/collaborator.py\"><span style=\"color: #7f7f7f\">collaborator.py</span></a><span style=\"color: #7f7f7f\">:203</span>\n",
       "</pre>\n"
      ],
      "text/plain": [
       "<rich.jupyter.JupyterRenderable at 0x7f23dad825e0>"
      ]
     },
     "metadata": {},
     "output_type": "display_data"
    },
    {
     "data": {
      "text/html": [
       "<pre style=\"white-space:pre;overflow-x:auto;line-height:normal;font-family:Menlo,'DejaVu Sans Mono',consolas,'Courier New',monospace\"><span style=\"color: #7fbfbf\">[11:39:34] </span><span style=\"color: #000080\">INFO</span>     Sending metric for task train, round number <span style=\"color: #000080; font-weight: bold\">5</span>: cross_entropy    <span style=\"color: #000080; font-weight: bold\">0.9807039499282837</span>                                       <a href=\"file:///home/itrushkin/.virtualenvs/openfl/lib/python3.8/site-packages/openfl/component/collaborator/collaborator.py\"><span style=\"color: #7f7f7f\">collaborator.py</span></a><span style=\"color: #7f7f7f\">:366</span>\n",
       "</pre>\n"
      ],
      "text/plain": [
       "<rich.jupyter.JupyterRenderable at 0x7f24434fcfa0>"
      ]
     },
     "metadata": {},
     "output_type": "display_data"
    },
    {
     "data": {
      "text/html": [
       "<pre style=\"white-space:pre;overflow-x:auto;line-height:normal;font-family:Menlo,'DejaVu Sans Mono',consolas,'Courier New',monospace\"><span style=\"color: #7fbfbf\">           </span><span style=\"color: #000080\">INFO</span>     Collaborator two is sending task results for train, round <span style=\"color: #000080; font-weight: bold\">5</span>                                                                <a href=\"file:///home/itrushkin/.virtualenvs/openfl/lib/python3.8/site-packages/openfl/component/aggregator/aggregator.py\"><span style=\"color: #7f7f7f\">aggregator.py</span></a><span style=\"color: #7f7f7f\">:450</span>\n",
       "</pre>\n"
      ],
      "text/plain": [
       "<rich.jupyter.JupyterRenderable at 0x7f24434fce20>"
      ]
     },
     "metadata": {},
     "output_type": "display_data"
    },
    {
     "data": {
      "text/html": [
       "<pre style=\"white-space:pre;overflow-x:auto;line-height:normal;font-family:Menlo,'DejaVu Sans Mono',consolas,'Courier New',monospace\"><span style=\"color: #7fbfbf\">[11:39:35] </span><span style=\"color: #000080\">INFO</span>     Using TaskRunner subclassing API                                                                                         <a href=\"file:///home/itrushkin/.virtualenvs/openfl/lib/python3.8/site-packages/openfl/component/collaborator/collaborator.py\"><span style=\"color: #7f7f7f\">collaborator.py</span></a><span style=\"color: #7f7f7f\">:203</span>\n",
       "</pre>\n"
      ],
      "text/plain": [
       "<rich.jupyter.JupyterRenderable at 0x7f2443c21160>"
      ]
     },
     "metadata": {},
     "output_type": "display_data"
    },
    {
     "data": {
      "text/html": [
       "<pre style=\"white-space:pre;overflow-x:auto;line-height:normal;font-family:Menlo,'DejaVu Sans Mono',consolas,'Courier New',monospace\"><span style=\"color: #7fbfbf\">           </span><span style=\"color: #000080\">INFO</span>     Sending metric for task locally_tuned_model_validation, round number <span style=\"color: #000080; font-weight: bold\">5</span>: acc     <span style=\"color: #000080; font-weight: bold\">0.8913043478260869</span>                       <a href=\"file:///home/itrushkin/.virtualenvs/openfl/lib/python3.8/site-packages/openfl/component/collaborator/collaborator.py\"><span style=\"color: #7f7f7f\">collaborator.py</span></a><span style=\"color: #7f7f7f\">:366</span>\n",
       "</pre>\n"
      ],
      "text/plain": [
       "<rich.jupyter.JupyterRenderable at 0x7f24434faaf0>"
      ]
     },
     "metadata": {},
     "output_type": "display_data"
    },
    {
     "data": {
      "text/html": [
       "<pre style=\"white-space:pre;overflow-x:auto;line-height:normal;font-family:Menlo,'DejaVu Sans Mono',consolas,'Courier New',monospace\"><span style=\"color: #7fbfbf\">           </span><span style=\"color: #000080\">INFO</span>     Collaborator two is sending task results for locally_tuned_model_validation, round <span style=\"color: #000080; font-weight: bold\">5</span>                                       <a href=\"file:///home/itrushkin/.virtualenvs/openfl/lib/python3.8/site-packages/openfl/component/aggregator/aggregator.py\"><span style=\"color: #7f7f7f\">aggregator.py</span></a><span style=\"color: #7f7f7f\">:450</span>\n",
       "</pre>\n"
      ],
      "text/plain": [
       "<rich.jupyter.JupyterRenderable at 0x7f2443a86400>"
      ]
     },
     "metadata": {},
     "output_type": "display_data"
    },
    {
     "data": {
      "text/html": [
       "<pre style=\"white-space:pre;overflow-x:auto;line-height:normal;font-family:Menlo,'DejaVu Sans Mono',consolas,'Courier New',monospace\"><span style=\"color: #7fbfbf\">           </span><span style=\"color: #000080\">INFO</span>     locally_tuned_model_validation task metrics<span style=\"color: #808000\">...</span>                                                                             <a href=\"file:///home/itrushkin/.virtualenvs/openfl/lib/python3.8/site-packages/openfl/component/aggregator/aggregator.py\"><span style=\"color: #7f7f7f\">aggregator.py</span></a><span style=\"color: #7f7f7f\">:711</span>\n",
       "</pre>\n"
      ],
      "text/plain": [
       "<rich.jupyter.JupyterRenderable at 0x7f24438a7670>"
      ]
     },
     "metadata": {},
     "output_type": "display_data"
    },
    {
     "data": {
      "text/html": [
       "<pre style=\"white-space:pre;overflow-x:auto;line-height:normal;font-family:Menlo,'DejaVu Sans Mono',consolas,'Courier New',monospace\"><span style=\"color: #7fbfbf\">           </span><span style=\"color: #000080\">INFO</span>     <span style=\"font-weight: bold\">&lt;</span><span style=\"color: #ff00ff; font-weight: bold\">openfl.component.aggregation_functions.weighted_average.WeightedAverage</span><span style=\"color: #000000\"> object at </span><span style=\"color: #000080; font-weight: bold\">0x7f24b206ec40</span><span style=\"font-weight: bold\">&gt;</span> acc: <span style=\"color: #000080; font-weight: bold\">0.4154</span>             <a href=\"file:///home/itrushkin/.virtualenvs/openfl/lib/python3.8/site-packages/openfl/component/aggregator/aggregator.py\"><span style=\"color: #7f7f7f\">aggregator.py</span></a><span style=\"color: #7f7f7f\">:754</span>\n",
       "</pre>\n"
      ],
      "text/plain": [
       "<rich.jupyter.JupyterRenderable at 0x7f2443ab7910>"
      ]
     },
     "metadata": {},
     "output_type": "display_data"
    },
    {
     "data": {
      "text/html": [
       "<pre style=\"white-space:pre;overflow-x:auto;line-height:normal;font-family:Menlo,'DejaVu Sans Mono',consolas,'Courier New',monospace\"><span style=\"color: #7fbfbf\">           </span><span style=\"color: #000080\">INFO</span>     aggregated_model_validation task metrics<span style=\"color: #808000\">...</span>                                                                                <a href=\"file:///home/itrushkin/.virtualenvs/openfl/lib/python3.8/site-packages/openfl/component/aggregator/aggregator.py\"><span style=\"color: #7f7f7f\">aggregator.py</span></a><span style=\"color: #7f7f7f\">:711</span>\n",
       "</pre>\n"
      ],
      "text/plain": [
       "<rich.jupyter.JupyterRenderable at 0x7f2443ab7040>"
      ]
     },
     "metadata": {},
     "output_type": "display_data"
    },
    {
     "data": {
      "text/html": [
       "<pre style=\"white-space:pre;overflow-x:auto;line-height:normal;font-family:Menlo,'DejaVu Sans Mono',consolas,'Courier New',monospace\"><span style=\"color: #7fbfbf\">           </span><span style=\"color: #000080\">INFO</span>     <span style=\"font-weight: bold\">&lt;</span><span style=\"color: #ff00ff; font-weight: bold\">openfl.component.aggregation_functions.weighted_average.WeightedAverage</span><span style=\"color: #000000\"> object at </span><span style=\"color: #000080; font-weight: bold\">0x7f24b206ec40</span><span style=\"font-weight: bold\">&gt;</span> acc: <span style=\"color: #000080; font-weight: bold\">0.3154</span>             <a href=\"file:///home/itrushkin/.virtualenvs/openfl/lib/python3.8/site-packages/openfl/component/aggregator/aggregator.py\"><span style=\"color: #7f7f7f\">aggregator.py</span></a><span style=\"color: #7f7f7f\">:754</span>\n",
       "</pre>\n"
      ],
      "text/plain": [
       "<rich.jupyter.JupyterRenderable at 0x7f2443ab7850>"
      ]
     },
     "metadata": {},
     "output_type": "display_data"
    },
    {
     "data": {
      "text/html": [
       "<pre style=\"white-space:pre;overflow-x:auto;line-height:normal;font-family:Menlo,'DejaVu Sans Mono',consolas,'Courier New',monospace\"><span style=\"color: #7fbfbf\">           </span><span style=\"color: #000080\">INFO</span>     train task metrics<span style=\"color: #808000\">...</span>                                                                                                      <a href=\"file:///home/itrushkin/.virtualenvs/openfl/lib/python3.8/site-packages/openfl/component/aggregator/aggregator.py\"><span style=\"color: #7f7f7f\">aggregator.py</span></a><span style=\"color: #7f7f7f\">:711</span>\n",
       "</pre>\n"
      ],
      "text/plain": [
       "<rich.jupyter.JupyterRenderable at 0x7f2443a86e20>"
      ]
     },
     "metadata": {},
     "output_type": "display_data"
    },
    {
     "data": {
      "text/html": [
       "<pre style=\"white-space:pre;overflow-x:auto;line-height:normal;font-family:Menlo,'DejaVu Sans Mono',consolas,'Courier New',monospace\"><span style=\"color: #7fbfbf\">           </span><span style=\"color: #000080\">INFO</span>     <span style=\"font-weight: bold\">&lt;</span><span style=\"color: #ff00ff; font-weight: bold\">openfl.component.aggregation_functions.weighted_average.WeightedAverage</span><span style=\"color: #000000\"> object at </span><span style=\"color: #000080; font-weight: bold\">0x7f24b206ec40</span><span style=\"font-weight: bold\">&gt;</span> cross_entropy:          <a href=\"file:///home/itrushkin/.virtualenvs/openfl/lib/python3.8/site-packages/openfl/component/aggregator/aggregator.py\"><span style=\"color: #7f7f7f\">aggregator.py</span></a><span style=\"color: #7f7f7f\">:754</span>\n",
       "                    <span style=\"color: #000080; font-weight: bold\">1.9586</span>                                                                                                                                      \n",
       "</pre>\n"
      ],
      "text/plain": [
       "<rich.jupyter.JupyterRenderable at 0x7f2443a864c0>"
      ]
     },
     "metadata": {},
     "output_type": "display_data"
    },
    {
     "data": {
      "text/html": [
       "<pre style=\"white-space:pre;overflow-x:auto;line-height:normal;font-family:Menlo,'DejaVu Sans Mono',consolas,'Courier New',monospace\"><span style=\"color: #7fbfbf\">[11:39:38] </span><span style=\"color: #000080\">INFO</span>     Saving round <span style=\"color: #000080; font-weight: bold\">6</span> model<span style=\"color: #808000\">...</span>                                                                                                    <a href=\"file:///home/itrushkin/.virtualenvs/openfl/lib/python3.8/site-packages/openfl/component/aggregator/aggregator.py\"><span style=\"color: #7f7f7f\">aggregator.py</span></a><span style=\"color: #7f7f7f\">:796</span>\n",
       "</pre>\n"
      ],
      "text/plain": [
       "<rich.jupyter.JupyterRenderable at 0x7f244392b790>"
      ]
     },
     "metadata": {},
     "output_type": "display_data"
    },
    {
     "data": {
      "text/html": [
       "<pre style=\"white-space:pre;overflow-x:auto;line-height:normal;font-family:Menlo,'DejaVu Sans Mono',consolas,'Courier New',monospace\"><span style=\"color: #7fbfbf\">           </span><span style=\"color: #000080\">INFO</span>     Starting round <span style=\"color: #000080; font-weight: bold\">6</span><span style=\"color: #808000\">...</span>                                                                                                        <a href=\"file:///home/itrushkin/.virtualenvs/openfl/lib/python3.8/site-packages/openfl/component/aggregator/aggregator.py\"><span style=\"color: #7f7f7f\">aggregator.py</span></a><span style=\"color: #7f7f7f\">:803</span>\n",
       "</pre>\n"
      ],
      "text/plain": [
       "<rich.jupyter.JupyterRenderable at 0x7f244392b790>"
      ]
     },
     "metadata": {},
     "output_type": "display_data"
    },
    {
     "data": {
      "text/html": [
       "<pre style=\"white-space:pre;overflow-x:auto;line-height:normal;font-family:Menlo,'DejaVu Sans Mono',consolas,'Courier New',monospace\"><span style=\"color: #7fbfbf\">           </span><span style=\"color: #000080\">INFO</span>     All tasks completed on two for round <span style=\"color: #000080; font-weight: bold\">5</span><span style=\"color: #808000\">...</span>                                                                                <a href=\"file:///home/itrushkin/.virtualenvs/openfl/lib/python3.8/site-packages/openfl/component/collaborator/collaborator.py\"><span style=\"color: #7f7f7f\">collaborator.py</span></a><span style=\"color: #7f7f7f\">:146</span>\n",
       "</pre>\n"
      ],
      "text/plain": [
       "<rich.jupyter.JupyterRenderable at 0x7f24a7c9dcd0>"
      ]
     },
     "metadata": {},
     "output_type": "display_data"
    },
    {
     "data": {
      "text/html": [
       "<pre style=\"white-space:pre;overflow-x:auto;line-height:normal;font-family:Menlo,'DejaVu Sans Mono',consolas,'Courier New',monospace\"><span style=\"color: #7fbfbf\">           </span><span style=\"color: #000080\">INFO</span>     Waiting for tasks<span style=\"color: #808000\">...</span>                                                                                                     <a href=\"file:///home/itrushkin/.virtualenvs/openfl/lib/python3.8/site-packages/openfl/component/collaborator/collaborator.py\"><span style=\"color: #7f7f7f\">collaborator.py</span></a><span style=\"color: #7f7f7f\">:153</span>\n",
       "</pre>\n"
      ],
      "text/plain": [
       "<rich.jupyter.JupyterRenderable at 0x7f2443bbdac0>"
      ]
     },
     "metadata": {},
     "output_type": "display_data"
    },
    {
     "data": {
      "text/html": [
       "<pre style=\"white-space:pre;overflow-x:auto;line-height:normal;font-family:Menlo,'DejaVu Sans Mono',consolas,'Courier New',monospace\"><span style=\"color: #7fbfbf\">           </span><span style=\"color: #000080\">INFO</span>     Sending tasks to collaborator one for round <span style=\"color: #000080; font-weight: bold\">6</span>                                                                              <a href=\"file:///home/itrushkin/.virtualenvs/openfl/lib/python3.8/site-packages/openfl/component/aggregator/aggregator.py\"><span style=\"color: #7f7f7f\">aggregator.py</span></a><span style=\"color: #7f7f7f\">:297</span>\n",
       "</pre>\n"
      ],
      "text/plain": [
       "<rich.jupyter.JupyterRenderable at 0x7f244392b790>"
      ]
     },
     "metadata": {},
     "output_type": "display_data"
    },
    {
     "data": {
      "text/html": [
       "<pre style=\"white-space:pre;overflow-x:auto;line-height:normal;font-family:Menlo,'DejaVu Sans Mono',consolas,'Courier New',monospace\"><span style=\"color: #7fbfbf\">           </span><span style=\"color: #000080\">INFO</span>     Received the following tasks: <span style=\"font-weight: bold\">[</span><span style=\"color: #008000\">'aggregated_model_validation'</span>, <span style=\"color: #008000\">'train'</span>, <span style=\"color: #008000\">'locally_tuned_model_validation'</span><span style=\"font-weight: bold\">]</span>                 <a href=\"file:///home/itrushkin/.virtualenvs/openfl/lib/python3.8/site-packages/openfl/component/collaborator/collaborator.py\"><span style=\"color: #7f7f7f\">collaborator.py</span></a><span style=\"color: #7f7f7f\">:143</span>\n",
       "</pre>\n"
      ],
      "text/plain": [
       "<rich.jupyter.JupyterRenderable at 0x7f2443ab1340>"
      ]
     },
     "metadata": {},
     "output_type": "display_data"
    },
    {
     "data": {
      "text/html": [
       "<pre style=\"white-space:pre;overflow-x:auto;line-height:normal;font-family:Menlo,'DejaVu Sans Mono',consolas,'Courier New',monospace\"><span style=\"color: #7fbfbf\">[11:39:40] </span><span style=\"color: #000080\">INFO</span>     Using TaskRunner subclassing API                                                                                         <a href=\"file:///home/itrushkin/.virtualenvs/openfl/lib/python3.8/site-packages/openfl/component/collaborator/collaborator.py\"><span style=\"color: #7f7f7f\">collaborator.py</span></a><span style=\"color: #7f7f7f\">:203</span>\n",
       "</pre>\n"
      ],
      "text/plain": [
       "<rich.jupyter.JupyterRenderable at 0x7f23dad901c0>"
      ]
     },
     "metadata": {},
     "output_type": "display_data"
    },
    {
     "data": {
      "text/html": [
       "<pre style=\"white-space:pre;overflow-x:auto;line-height:normal;font-family:Menlo,'DejaVu Sans Mono',consolas,'Courier New',monospace\"><span style=\"color: #7fbfbf\">           </span><span style=\"color: #000080\">INFO</span>     Sending metric for task aggregated_model_validation, round number <span style=\"color: #000080; font-weight: bold\">6</span>: acc        <span style=\"color: #000080; font-weight: bold\">0.0</span>                                      <a href=\"file:///home/itrushkin/.virtualenvs/openfl/lib/python3.8/site-packages/openfl/component/collaborator/collaborator.py\"><span style=\"color: #7f7f7f\">collaborator.py</span></a><span style=\"color: #7f7f7f\">:366</span>\n",
       "</pre>\n"
      ],
      "text/plain": [
       "<rich.jupyter.JupyterRenderable at 0x7f23dad90820>"
      ]
     },
     "metadata": {},
     "output_type": "display_data"
    },
    {
     "data": {
      "text/html": [
       "<pre style=\"white-space:pre;overflow-x:auto;line-height:normal;font-family:Menlo,'DejaVu Sans Mono',consolas,'Courier New',monospace\"><span style=\"color: #7fbfbf\">           </span><span style=\"color: #000080\">INFO</span>     Collaborator one is sending task results for aggregated_model_validation, round <span style=\"color: #000080; font-weight: bold\">6</span>                                          <a href=\"file:///home/itrushkin/.virtualenvs/openfl/lib/python3.8/site-packages/openfl/component/aggregator/aggregator.py\"><span style=\"color: #7f7f7f\">aggregator.py</span></a><span style=\"color: #7f7f7f\">:450</span>\n",
       "</pre>\n"
      ],
      "text/plain": [
       "<rich.jupyter.JupyterRenderable at 0x7f23dad90a60>"
      ]
     },
     "metadata": {},
     "output_type": "display_data"
    },
    {
     "data": {
      "text/html": [
       "<pre style=\"white-space:pre;overflow-x:auto;line-height:normal;font-family:Menlo,'DejaVu Sans Mono',consolas,'Courier New',monospace\"><span style=\"color: #7fbfbf\">[11:39:41] </span><span style=\"color: #000080\">INFO</span>     Using TaskRunner subclassing API                                                                                         <a href=\"file:///home/itrushkin/.virtualenvs/openfl/lib/python3.8/site-packages/openfl/component/collaborator/collaborator.py\"><span style=\"color: #7f7f7f\">collaborator.py</span></a><span style=\"color: #7f7f7f\">:203</span>\n",
       "</pre>\n"
      ],
      "text/plain": [
       "<rich.jupyter.JupyterRenderable at 0x7f2443a64f10>"
      ]
     },
     "metadata": {},
     "output_type": "display_data"
    },
    {
     "data": {
      "text/html": [
       "<pre style=\"white-space:pre;overflow-x:auto;line-height:normal;font-family:Menlo,'DejaVu Sans Mono',consolas,'Courier New',monospace\"><span style=\"color: #7fbfbf\">           </span><span style=\"color: #000080\">INFO</span>     Sending metric for task train, round number <span style=\"color: #000080; font-weight: bold\">6</span>: cross_entropy    <span style=\"color: #000080; font-weight: bold\">3.3274405002593994</span>                                       <a href=\"file:///home/itrushkin/.virtualenvs/openfl/lib/python3.8/site-packages/openfl/component/collaborator/collaborator.py\"><span style=\"color: #7f7f7f\">collaborator.py</span></a><span style=\"color: #7f7f7f\">:366</span>\n",
       "</pre>\n"
      ],
      "text/plain": [
       "<rich.jupyter.JupyterRenderable at 0x7f2443a86fa0>"
      ]
     },
     "metadata": {},
     "output_type": "display_data"
    },
    {
     "data": {
      "text/html": [
       "<pre style=\"white-space:pre;overflow-x:auto;line-height:normal;font-family:Menlo,'DejaVu Sans Mono',consolas,'Courier New',monospace\"><span style=\"color: #7fbfbf\">           </span><span style=\"color: #000080\">INFO</span>     Collaborator one is sending task results for train, round <span style=\"color: #000080; font-weight: bold\">6</span>                                                                <a href=\"file:///home/itrushkin/.virtualenvs/openfl/lib/python3.8/site-packages/openfl/component/aggregator/aggregator.py\"><span style=\"color: #7f7f7f\">aggregator.py</span></a><span style=\"color: #7f7f7f\">:450</span>\n",
       "</pre>\n"
      ],
      "text/plain": [
       "<rich.jupyter.JupyterRenderable at 0x7f24438bafa0>"
      ]
     },
     "metadata": {},
     "output_type": "display_data"
    },
    {
     "data": {
      "text/html": [
       "<pre style=\"white-space:pre;overflow-x:auto;line-height:normal;font-family:Menlo,'DejaVu Sans Mono',consolas,'Courier New',monospace\"><span style=\"color: #7fbfbf\">[11:39:42] </span><span style=\"color: #000080\">INFO</span>     Using TaskRunner subclassing API                                                                                         <a href=\"file:///home/itrushkin/.virtualenvs/openfl/lib/python3.8/site-packages/openfl/component/collaborator/collaborator.py\"><span style=\"color: #7f7f7f\">collaborator.py</span></a><span style=\"color: #7f7f7f\">:203</span>\n",
       "</pre>\n"
      ],
      "text/plain": [
       "<rich.jupyter.JupyterRenderable at 0x7f24a7c81d00>"
      ]
     },
     "metadata": {},
     "output_type": "display_data"
    },
    {
     "data": {
      "text/html": [
       "<pre style=\"white-space:pre;overflow-x:auto;line-height:normal;font-family:Menlo,'DejaVu Sans Mono',consolas,'Courier New',monospace\"><span style=\"color: #7fbfbf\">           </span><span style=\"color: #000080\">INFO</span>     Sending metric for task locally_tuned_model_validation, round number <span style=\"color: #000080; font-weight: bold\">6</span>: acc     <span style=\"color: #000080; font-weight: bold\">0.10714285714285714</span>                      <a href=\"file:///home/itrushkin/.virtualenvs/openfl/lib/python3.8/site-packages/openfl/component/collaborator/collaborator.py\"><span style=\"color: #7f7f7f\">collaborator.py</span></a><span style=\"color: #7f7f7f\">:366</span>\n",
       "</pre>\n"
      ],
      "text/plain": [
       "<rich.jupyter.JupyterRenderable at 0x7f2443ab0c40>"
      ]
     },
     "metadata": {},
     "output_type": "display_data"
    },
    {
     "data": {
      "text/html": [
       "<pre style=\"white-space:pre;overflow-x:auto;line-height:normal;font-family:Menlo,'DejaVu Sans Mono',consolas,'Courier New',monospace\"><span style=\"color: #7fbfbf\">           </span><span style=\"color: #000080\">INFO</span>     Collaborator one is sending task results for locally_tuned_model_validation, round <span style=\"color: #000080; font-weight: bold\">6</span>                                       <a href=\"file:///home/itrushkin/.virtualenvs/openfl/lib/python3.8/site-packages/openfl/component/aggregator/aggregator.py\"><span style=\"color: #7f7f7f\">aggregator.py</span></a><span style=\"color: #7f7f7f\">:450</span>\n",
       "</pre>\n"
      ],
      "text/plain": [
       "<rich.jupyter.JupyterRenderable at 0x7f2443ab0f70>"
      ]
     },
     "metadata": {},
     "output_type": "display_data"
    },
    {
     "data": {
      "text/html": [
       "<pre style=\"white-space:pre;overflow-x:auto;line-height:normal;font-family:Menlo,'DejaVu Sans Mono',consolas,'Courier New',monospace\"><span style=\"color: #7fbfbf\">           </span><span style=\"color: #000080\">INFO</span>     All tasks completed on one for round <span style=\"color: #000080; font-weight: bold\">6</span><span style=\"color: #808000\">...</span>                                                                                <a href=\"file:///home/itrushkin/.virtualenvs/openfl/lib/python3.8/site-packages/openfl/component/collaborator/collaborator.py\"><span style=\"color: #7f7f7f\">collaborator.py</span></a><span style=\"color: #7f7f7f\">:146</span>\n",
       "</pre>\n"
      ],
      "text/plain": [
       "<rich.jupyter.JupyterRenderable at 0x7f2443ab0df0>"
      ]
     },
     "metadata": {},
     "output_type": "display_data"
    },
    {
     "data": {
      "text/html": [
       "<pre style=\"white-space:pre;overflow-x:auto;line-height:normal;font-family:Menlo,'DejaVu Sans Mono',consolas,'Courier New',monospace\"><span style=\"color: #7fbfbf\">           </span><span style=\"color: #000080\">INFO</span>     Waiting for tasks<span style=\"color: #808000\">...</span>                                                                                                     <a href=\"file:///home/itrushkin/.virtualenvs/openfl/lib/python3.8/site-packages/openfl/component/collaborator/collaborator.py\"><span style=\"color: #7f7f7f\">collaborator.py</span></a><span style=\"color: #7f7f7f\">:153</span>\n",
       "</pre>\n"
      ],
      "text/plain": [
       "<rich.jupyter.JupyterRenderable at 0x7f2443ab03d0>"
      ]
     },
     "metadata": {},
     "output_type": "display_data"
    },
    {
     "data": {
      "text/html": [
       "<pre style=\"white-space:pre;overflow-x:auto;line-height:normal;font-family:Menlo,'DejaVu Sans Mono',consolas,'Courier New',monospace\"><span style=\"color: #7fbfbf\">           </span><span style=\"color: #000080\">INFO</span>     Sending tasks to collaborator two for round <span style=\"color: #000080; font-weight: bold\">6</span>                                                                              <a href=\"file:///home/itrushkin/.virtualenvs/openfl/lib/python3.8/site-packages/openfl/component/aggregator/aggregator.py\"><span style=\"color: #7f7f7f\">aggregator.py</span></a><span style=\"color: #7f7f7f\">:297</span>\n",
       "</pre>\n"
      ],
      "text/plain": [
       "<rich.jupyter.JupyterRenderable at 0x7f2443ab02e0>"
      ]
     },
     "metadata": {},
     "output_type": "display_data"
    },
    {
     "data": {
      "text/html": [
       "<pre style=\"white-space:pre;overflow-x:auto;line-height:normal;font-family:Menlo,'DejaVu Sans Mono',consolas,'Courier New',monospace\"><span style=\"color: #7fbfbf\">           </span><span style=\"color: #000080\">INFO</span>     Received the following tasks: <span style=\"font-weight: bold\">[</span><span style=\"color: #008000\">'aggregated_model_validation'</span>, <span style=\"color: #008000\">'train'</span>, <span style=\"color: #008000\">'locally_tuned_model_validation'</span><span style=\"font-weight: bold\">]</span>                 <a href=\"file:///home/itrushkin/.virtualenvs/openfl/lib/python3.8/site-packages/openfl/component/collaborator/collaborator.py\"><span style=\"color: #7f7f7f\">collaborator.py</span></a><span style=\"color: #7f7f7f\">:143</span>\n",
       "</pre>\n"
      ],
      "text/plain": [
       "<rich.jupyter.JupyterRenderable at 0x7f2443ab0c40>"
      ]
     },
     "metadata": {},
     "output_type": "display_data"
    },
    {
     "data": {
      "text/html": [
       "<pre style=\"white-space:pre;overflow-x:auto;line-height:normal;font-family:Menlo,'DejaVu Sans Mono',consolas,'Courier New',monospace\"><span style=\"color: #7fbfbf\">[11:39:44] </span><span style=\"color: #000080\">INFO</span>     Using TaskRunner subclassing API                                                                                         <a href=\"file:///home/itrushkin/.virtualenvs/openfl/lib/python3.8/site-packages/openfl/component/collaborator/collaborator.py\"><span style=\"color: #7f7f7f\">collaborator.py</span></a><span style=\"color: #7f7f7f\">:203</span>\n",
       "</pre>\n"
      ],
      "text/plain": [
       "<rich.jupyter.JupyterRenderable at 0x7f2443486880>"
      ]
     },
     "metadata": {},
     "output_type": "display_data"
    },
    {
     "data": {
      "text/html": [
       "<pre style=\"white-space:pre;overflow-x:auto;line-height:normal;font-family:Menlo,'DejaVu Sans Mono',consolas,'Courier New',monospace\"><span style=\"color: #7fbfbf\">           </span><span style=\"color: #000080\">INFO</span>     Sending metric for task aggregated_model_validation, round number <span style=\"color: #000080; font-weight: bold\">6</span>: acc        <span style=\"color: #000080; font-weight: bold\">0.8913043478260869</span>                       <a href=\"file:///home/itrushkin/.virtualenvs/openfl/lib/python3.8/site-packages/openfl/component/collaborator/collaborator.py\"><span style=\"color: #7f7f7f\">collaborator.py</span></a><span style=\"color: #7f7f7f\">:366</span>\n",
       "</pre>\n"
      ],
      "text/plain": [
       "<rich.jupyter.JupyterRenderable at 0x7f2443471f40>"
      ]
     },
     "metadata": {},
     "output_type": "display_data"
    },
    {
     "data": {
      "text/html": [
       "<pre style=\"white-space:pre;overflow-x:auto;line-height:normal;font-family:Menlo,'DejaVu Sans Mono',consolas,'Courier New',monospace\"><span style=\"color: #7fbfbf\">           </span><span style=\"color: #000080\">INFO</span>     Collaborator two is sending task results for aggregated_model_validation, round <span style=\"color: #000080; font-weight: bold\">6</span>                                          <a href=\"file:///home/itrushkin/.virtualenvs/openfl/lib/python3.8/site-packages/openfl/component/aggregator/aggregator.py\"><span style=\"color: #7f7f7f\">aggregator.py</span></a><span style=\"color: #7f7f7f\">:450</span>\n",
       "</pre>\n"
      ],
      "text/plain": [
       "<rich.jupyter.JupyterRenderable at 0x7f2443486be0>"
      ]
     },
     "metadata": {},
     "output_type": "display_data"
    },
    {
     "data": {
      "text/html": [
       "<pre style=\"white-space:pre;overflow-x:auto;line-height:normal;font-family:Menlo,'DejaVu Sans Mono',consolas,'Courier New',monospace\"><span style=\"color: #7fbfbf\">[11:39:45] </span><span style=\"color: #000080\">INFO</span>     Using TaskRunner subclassing API                                                                                         <a href=\"file:///home/itrushkin/.virtualenvs/openfl/lib/python3.8/site-packages/openfl/component/collaborator/collaborator.py\"><span style=\"color: #7f7f7f\">collaborator.py</span></a><span style=\"color: #7f7f7f\">:203</span>\n",
       "</pre>\n"
      ],
      "text/plain": [
       "<rich.jupyter.JupyterRenderable at 0x7f2443486b50>"
      ]
     },
     "metadata": {},
     "output_type": "display_data"
    },
    {
     "data": {
      "text/html": [
       "<pre style=\"white-space:pre;overflow-x:auto;line-height:normal;font-family:Menlo,'DejaVu Sans Mono',consolas,'Courier New',monospace\"><span style=\"color: #7fbfbf\">           </span><span style=\"color: #000080\">INFO</span>     Sending metric for task train, round number <span style=\"color: #000080; font-weight: bold\">6</span>: cross_entropy    <span style=\"color: #000080; font-weight: bold\">0.8396075963973999</span>                                       <a href=\"file:///home/itrushkin/.virtualenvs/openfl/lib/python3.8/site-packages/openfl/component/collaborator/collaborator.py\"><span style=\"color: #7f7f7f\">collaborator.py</span></a><span style=\"color: #7f7f7f\">:366</span>\n",
       "</pre>\n"
      ],
      "text/plain": [
       "<rich.jupyter.JupyterRenderable at 0x7f24434d9e80>"
      ]
     },
     "metadata": {},
     "output_type": "display_data"
    },
    {
     "data": {
      "text/html": [
       "<pre style=\"white-space:pre;overflow-x:auto;line-height:normal;font-family:Menlo,'DejaVu Sans Mono',consolas,'Courier New',monospace\"><span style=\"color: #7fbfbf\">           </span><span style=\"color: #000080\">INFO</span>     Collaborator two is sending task results for train, round <span style=\"color: #000080; font-weight: bold\">6</span>                                                                <a href=\"file:///home/itrushkin/.virtualenvs/openfl/lib/python3.8/site-packages/openfl/component/aggregator/aggregator.py\"><span style=\"color: #7f7f7f\">aggregator.py</span></a><span style=\"color: #7f7f7f\">:450</span>\n",
       "</pre>\n"
      ],
      "text/plain": [
       "<rich.jupyter.JupyterRenderable at 0x7f24438afb20>"
      ]
     },
     "metadata": {},
     "output_type": "display_data"
    },
    {
     "data": {
      "text/html": [
       "<pre style=\"white-space:pre;overflow-x:auto;line-height:normal;font-family:Menlo,'DejaVu Sans Mono',consolas,'Courier New',monospace\"><span style=\"color: #7fbfbf\">[11:39:46] </span><span style=\"color: #000080\">INFO</span>     Using TaskRunner subclassing API                                                                                         <a href=\"file:///home/itrushkin/.virtualenvs/openfl/lib/python3.8/site-packages/openfl/component/collaborator/collaborator.py\"><span style=\"color: #7f7f7f\">collaborator.py</span></a><span style=\"color: #7f7f7f\">:203</span>\n",
       "</pre>\n"
      ],
      "text/plain": [
       "<rich.jupyter.JupyterRenderable at 0x7f2443ab0f70>"
      ]
     },
     "metadata": {},
     "output_type": "display_data"
    },
    {
     "data": {
      "text/html": [
       "<pre style=\"white-space:pre;overflow-x:auto;line-height:normal;font-family:Menlo,'DejaVu Sans Mono',consolas,'Courier New',monospace\"><span style=\"color: #7fbfbf\">           </span><span style=\"color: #000080\">INFO</span>     Sending metric for task locally_tuned_model_validation, round number <span style=\"color: #000080; font-weight: bold\">6</span>: acc     <span style=\"color: #000080; font-weight: bold\">0.8913043478260869</span>                       <a href=\"file:///home/itrushkin/.virtualenvs/openfl/lib/python3.8/site-packages/openfl/component/collaborator/collaborator.py\"><span style=\"color: #7f7f7f\">collaborator.py</span></a><span style=\"color: #7f7f7f\">:366</span>\n",
       "</pre>\n"
      ],
      "text/plain": [
       "<rich.jupyter.JupyterRenderable at 0x7f2443a64760>"
      ]
     },
     "metadata": {},
     "output_type": "display_data"
    },
    {
     "data": {
      "text/html": [
       "<pre style=\"white-space:pre;overflow-x:auto;line-height:normal;font-family:Menlo,'DejaVu Sans Mono',consolas,'Courier New',monospace\"><span style=\"color: #7fbfbf\">           </span><span style=\"color: #000080\">INFO</span>     Collaborator two is sending task results for locally_tuned_model_validation, round <span style=\"color: #000080; font-weight: bold\">6</span>                                       <a href=\"file:///home/itrushkin/.virtualenvs/openfl/lib/python3.8/site-packages/openfl/component/aggregator/aggregator.py\"><span style=\"color: #7f7f7f\">aggregator.py</span></a><span style=\"color: #7f7f7f\">:450</span>\n",
       "</pre>\n"
      ],
      "text/plain": [
       "<rich.jupyter.JupyterRenderable at 0x7f24434d9e80>"
      ]
     },
     "metadata": {},
     "output_type": "display_data"
    },
    {
     "data": {
      "text/html": [
       "<pre style=\"white-space:pre;overflow-x:auto;line-height:normal;font-family:Menlo,'DejaVu Sans Mono',consolas,'Courier New',monospace\"><span style=\"color: #7fbfbf\">           </span><span style=\"color: #000080\">INFO</span>     locally_tuned_model_validation task metrics<span style=\"color: #808000\">...</span>                                                                             <a href=\"file:///home/itrushkin/.virtualenvs/openfl/lib/python3.8/site-packages/openfl/component/aggregator/aggregator.py\"><span style=\"color: #7f7f7f\">aggregator.py</span></a><span style=\"color: #7f7f7f\">:711</span>\n",
       "</pre>\n"
      ],
      "text/plain": [
       "<rich.jupyter.JupyterRenderable at 0x7f24435d6400>"
      ]
     },
     "metadata": {},
     "output_type": "display_data"
    },
    {
     "data": {
      "text/html": [
       "<pre style=\"white-space:pre;overflow-x:auto;line-height:normal;font-family:Menlo,'DejaVu Sans Mono',consolas,'Courier New',monospace\"><span style=\"color: #7fbfbf\">           </span><span style=\"color: #000080\">INFO</span>     <span style=\"font-weight: bold\">&lt;</span><span style=\"color: #ff00ff; font-weight: bold\">openfl.component.aggregation_functions.weighted_average.WeightedAverage</span><span style=\"color: #000000\"> object at </span><span style=\"color: #000080; font-weight: bold\">0x7f24b206ec40</span><span style=\"font-weight: bold\">&gt;</span> acc: <span style=\"color: #000080; font-weight: bold\">0.3846</span>             <a href=\"file:///home/itrushkin/.virtualenvs/openfl/lib/python3.8/site-packages/openfl/component/aggregator/aggregator.py\"><span style=\"color: #7f7f7f\">aggregator.py</span></a><span style=\"color: #7f7f7f\">:754</span>\n",
       "</pre>\n"
      ],
      "text/plain": [
       "<rich.jupyter.JupyterRenderable at 0x7f2443ab03d0>"
      ]
     },
     "metadata": {},
     "output_type": "display_data"
    },
    {
     "data": {
      "text/html": [
       "<pre style=\"white-space:pre;overflow-x:auto;line-height:normal;font-family:Menlo,'DejaVu Sans Mono',consolas,'Courier New',monospace\"><span style=\"color: #7fbfbf\">           </span><span style=\"color: #000080\">INFO</span>     aggregated_model_validation task metrics<span style=\"color: #808000\">...</span>                                                                                <a href=\"file:///home/itrushkin/.virtualenvs/openfl/lib/python3.8/site-packages/openfl/component/aggregator/aggregator.py\"><span style=\"color: #7f7f7f\">aggregator.py</span></a><span style=\"color: #7f7f7f\">:711</span>\n",
       "</pre>\n"
      ],
      "text/plain": [
       "<rich.jupyter.JupyterRenderable at 0x7f2443ab0d90>"
      ]
     },
     "metadata": {},
     "output_type": "display_data"
    },
    {
     "data": {
      "text/html": [
       "<pre style=\"white-space:pre;overflow-x:auto;line-height:normal;font-family:Menlo,'DejaVu Sans Mono',consolas,'Courier New',monospace\"><span style=\"color: #7fbfbf\">           </span><span style=\"color: #000080\">INFO</span>     <span style=\"font-weight: bold\">&lt;</span><span style=\"color: #ff00ff; font-weight: bold\">openfl.component.aggregation_functions.weighted_average.WeightedAverage</span><span style=\"color: #000000\"> object at </span><span style=\"color: #000080; font-weight: bold\">0x7f24b206ec40</span><span style=\"font-weight: bold\">&gt;</span> acc: <span style=\"color: #000080; font-weight: bold\">0.3154</span>             <a href=\"file:///home/itrushkin/.virtualenvs/openfl/lib/python3.8/site-packages/openfl/component/aggregator/aggregator.py\"><span style=\"color: #7f7f7f\">aggregator.py</span></a><span style=\"color: #7f7f7f\">:754</span>\n",
       "</pre>\n"
      ],
      "text/plain": [
       "<rich.jupyter.JupyterRenderable at 0x7f24435d6fa0>"
      ]
     },
     "metadata": {},
     "output_type": "display_data"
    },
    {
     "data": {
      "text/html": [
       "<pre style=\"white-space:pre;overflow-x:auto;line-height:normal;font-family:Menlo,'DejaVu Sans Mono',consolas,'Courier New',monospace\"><span style=\"color: #7fbfbf\">           </span><span style=\"color: #000080\">INFO</span>     train task metrics<span style=\"color: #808000\">...</span>                                                                                                      <a href=\"file:///home/itrushkin/.virtualenvs/openfl/lib/python3.8/site-packages/openfl/component/aggregator/aggregator.py\"><span style=\"color: #7f7f7f\">aggregator.py</span></a><span style=\"color: #7f7f7f\">:711</span>\n",
       "</pre>\n"
      ],
      "text/plain": [
       "<rich.jupyter.JupyterRenderable at 0x7f24435d6cd0>"
      ]
     },
     "metadata": {},
     "output_type": "display_data"
    },
    {
     "data": {
      "text/html": [
       "<pre style=\"white-space:pre;overflow-x:auto;line-height:normal;font-family:Menlo,'DejaVu Sans Mono',consolas,'Courier New',monospace\"><span style=\"color: #7fbfbf\">           </span><span style=\"color: #000080\">INFO</span>     <span style=\"font-weight: bold\">&lt;</span><span style=\"color: #ff00ff; font-weight: bold\">openfl.component.aggregation_functions.weighted_average.WeightedAverage</span><span style=\"color: #000000\"> object at </span><span style=\"color: #000080; font-weight: bold\">0x7f24b206ec40</span><span style=\"font-weight: bold\">&gt;</span> cross_entropy:          <a href=\"file:///home/itrushkin/.virtualenvs/openfl/lib/python3.8/site-packages/openfl/component/aggregator/aggregator.py\"><span style=\"color: #7f7f7f\">aggregator.py</span></a><span style=\"color: #7f7f7f\">:754</span>\n",
       "                    <span style=\"color: #000080; font-weight: bold\">1.8820</span>                                                                                                                                      \n",
       "</pre>\n"
      ],
      "text/plain": [
       "<rich.jupyter.JupyterRenderable at 0x7f24435d69a0>"
      ]
     },
     "metadata": {},
     "output_type": "display_data"
    },
    {
     "data": {
      "text/html": [
       "<pre style=\"white-space:pre;overflow-x:auto;line-height:normal;font-family:Menlo,'DejaVu Sans Mono',consolas,'Courier New',monospace\"><span style=\"color: #7fbfbf\">[11:39:49] </span><span style=\"color: #000080\">INFO</span>     Saving round <span style=\"color: #000080; font-weight: bold\">7</span> model<span style=\"color: #808000\">...</span>                                                                                                    <a href=\"file:///home/itrushkin/.virtualenvs/openfl/lib/python3.8/site-packages/openfl/component/aggregator/aggregator.py\"><span style=\"color: #7f7f7f\">aggregator.py</span></a><span style=\"color: #7f7f7f\">:796</span>\n",
       "</pre>\n"
      ],
      "text/plain": [
       "<rich.jupyter.JupyterRenderable at 0x7f23dacded00>"
      ]
     },
     "metadata": {},
     "output_type": "display_data"
    },
    {
     "data": {
      "text/html": [
       "<pre style=\"white-space:pre;overflow-x:auto;line-height:normal;font-family:Menlo,'DejaVu Sans Mono',consolas,'Courier New',monospace\"><span style=\"color: #7fbfbf\">[11:39:50] </span><span style=\"color: #000080\">INFO</span>     Starting round <span style=\"color: #000080; font-weight: bold\">7</span><span style=\"color: #808000\">...</span>                                                                                                        <a href=\"file:///home/itrushkin/.virtualenvs/openfl/lib/python3.8/site-packages/openfl/component/aggregator/aggregator.py\"><span style=\"color: #7f7f7f\">aggregator.py</span></a><span style=\"color: #7f7f7f\">:803</span>\n",
       "</pre>\n"
      ],
      "text/plain": [
       "<rich.jupyter.JupyterRenderable at 0x7f23dacce160>"
      ]
     },
     "metadata": {},
     "output_type": "display_data"
    },
    {
     "data": {
      "text/html": [
       "<pre style=\"white-space:pre;overflow-x:auto;line-height:normal;font-family:Menlo,'DejaVu Sans Mono',consolas,'Courier New',monospace\"><span style=\"color: #7fbfbf\">           </span><span style=\"color: #000080\">INFO</span>     All tasks completed on two for round <span style=\"color: #000080; font-weight: bold\">6</span><span style=\"color: #808000\">...</span>                                                                                <a href=\"file:///home/itrushkin/.virtualenvs/openfl/lib/python3.8/site-packages/openfl/component/collaborator/collaborator.py\"><span style=\"color: #7f7f7f\">collaborator.py</span></a><span style=\"color: #7f7f7f\">:146</span>\n",
       "</pre>\n"
      ],
      "text/plain": [
       "<rich.jupyter.JupyterRenderable at 0x7f24438bafa0>"
      ]
     },
     "metadata": {},
     "output_type": "display_data"
    },
    {
     "data": {
      "text/html": [
       "<pre style=\"white-space:pre;overflow-x:auto;line-height:normal;font-family:Menlo,'DejaVu Sans Mono',consolas,'Courier New',monospace\"><span style=\"color: #7fbfbf\">           </span><span style=\"color: #000080\">INFO</span>     Waiting for tasks<span style=\"color: #808000\">...</span>                                                                                                     <a href=\"file:///home/itrushkin/.virtualenvs/openfl/lib/python3.8/site-packages/openfl/component/collaborator/collaborator.py\"><span style=\"color: #7f7f7f\">collaborator.py</span></a><span style=\"color: #7f7f7f\">:153</span>\n",
       "</pre>\n"
      ],
      "text/plain": [
       "<rich.jupyter.JupyterRenderable at 0x7f2443c2b040>"
      ]
     },
     "metadata": {},
     "output_type": "display_data"
    },
    {
     "data": {
      "text/html": [
       "<pre style=\"white-space:pre;overflow-x:auto;line-height:normal;font-family:Menlo,'DejaVu Sans Mono',consolas,'Courier New',monospace\"><span style=\"color: #7fbfbf\">           </span><span style=\"color: #000080\">INFO</span>     Sending tasks to collaborator one for round <span style=\"color: #000080; font-weight: bold\">7</span>                                                                              <a href=\"file:///home/itrushkin/.virtualenvs/openfl/lib/python3.8/site-packages/openfl/component/aggregator/aggregator.py\"><span style=\"color: #7f7f7f\">aggregator.py</span></a><span style=\"color: #7f7f7f\">:297</span>\n",
       "</pre>\n"
      ],
      "text/plain": [
       "<rich.jupyter.JupyterRenderable at 0x7f2443929910>"
      ]
     },
     "metadata": {},
     "output_type": "display_data"
    },
    {
     "data": {
      "text/html": [
       "<pre style=\"white-space:pre;overflow-x:auto;line-height:normal;font-family:Menlo,'DejaVu Sans Mono',consolas,'Courier New',monospace\"><span style=\"color: #7fbfbf\">           </span><span style=\"color: #000080\">INFO</span>     Received the following tasks: <span style=\"font-weight: bold\">[</span><span style=\"color: #008000\">'aggregated_model_validation'</span>, <span style=\"color: #008000\">'train'</span>, <span style=\"color: #008000\">'locally_tuned_model_validation'</span><span style=\"font-weight: bold\">]</span>                 <a href=\"file:///home/itrushkin/.virtualenvs/openfl/lib/python3.8/site-packages/openfl/component/collaborator/collaborator.py\"><span style=\"color: #7f7f7f\">collaborator.py</span></a><span style=\"color: #7f7f7f\">:143</span>\n",
       "</pre>\n"
      ],
      "text/plain": [
       "<rich.jupyter.JupyterRenderable at 0x7f24438c07c0>"
      ]
     },
     "metadata": {},
     "output_type": "display_data"
    },
    {
     "data": {
      "text/html": [
       "<pre style=\"white-space:pre;overflow-x:auto;line-height:normal;font-family:Menlo,'DejaVu Sans Mono',consolas,'Courier New',monospace\"><span style=\"color: #7fbfbf\">[11:39:52] </span><span style=\"color: #000080\">INFO</span>     Using TaskRunner subclassing API                                                                                         <a href=\"file:///home/itrushkin/.virtualenvs/openfl/lib/python3.8/site-packages/openfl/component/collaborator/collaborator.py\"><span style=\"color: #7f7f7f\">collaborator.py</span></a><span style=\"color: #7f7f7f\">:203</span>\n",
       "</pre>\n"
      ],
      "text/plain": [
       "<rich.jupyter.JupyterRenderable at 0x7f23dacc55e0>"
      ]
     },
     "metadata": {},
     "output_type": "display_data"
    },
    {
     "data": {
      "text/html": [
       "<pre style=\"white-space:pre;overflow-x:auto;line-height:normal;font-family:Menlo,'DejaVu Sans Mono',consolas,'Courier New',monospace\"><span style=\"color: #7fbfbf\">           </span><span style=\"color: #000080\">INFO</span>     Sending metric for task aggregated_model_validation, round number <span style=\"color: #000080; font-weight: bold\">7</span>: acc        <span style=\"color: #000080; font-weight: bold\">0.0</span>                                      <a href=\"file:///home/itrushkin/.virtualenvs/openfl/lib/python3.8/site-packages/openfl/component/collaborator/collaborator.py\"><span style=\"color: #7f7f7f\">collaborator.py</span></a><span style=\"color: #7f7f7f\">:366</span>\n",
       "</pre>\n"
      ],
      "text/plain": [
       "<rich.jupyter.JupyterRenderable at 0x7f23dad90820>"
      ]
     },
     "metadata": {},
     "output_type": "display_data"
    },
    {
     "data": {
      "text/html": [
       "<pre style=\"white-space:pre;overflow-x:auto;line-height:normal;font-family:Menlo,'DejaVu Sans Mono',consolas,'Courier New',monospace\"><span style=\"color: #7fbfbf\">           </span><span style=\"color: #000080\">INFO</span>     Collaborator one is sending task results for aggregated_model_validation, round <span style=\"color: #000080; font-weight: bold\">7</span>                                          <a href=\"file:///home/itrushkin/.virtualenvs/openfl/lib/python3.8/site-packages/openfl/component/aggregator/aggregator.py\"><span style=\"color: #7f7f7f\">aggregator.py</span></a><span style=\"color: #7f7f7f\">:450</span>\n",
       "</pre>\n"
      ],
      "text/plain": [
       "<rich.jupyter.JupyterRenderable at 0x7f23dad90c70>"
      ]
     },
     "metadata": {},
     "output_type": "display_data"
    },
    {
     "data": {
      "text/html": [
       "<pre style=\"white-space:pre;overflow-x:auto;line-height:normal;font-family:Menlo,'DejaVu Sans Mono',consolas,'Courier New',monospace\"><span style=\"color: #7fbfbf\">           </span><span style=\"color: #000080\">INFO</span>     Using TaskRunner subclassing API                                                                                         <a href=\"file:///home/itrushkin/.virtualenvs/openfl/lib/python3.8/site-packages/openfl/component/collaborator/collaborator.py\"><span style=\"color: #7f7f7f\">collaborator.py</span></a><span style=\"color: #7f7f7f\">:203</span>\n",
       "</pre>\n"
      ],
      "text/plain": [
       "<rich.jupyter.JupyterRenderable at 0x7f23dacc59a0>"
      ]
     },
     "metadata": {},
     "output_type": "display_data"
    },
    {
     "data": {
      "text/html": [
       "<pre style=\"white-space:pre;overflow-x:auto;line-height:normal;font-family:Menlo,'DejaVu Sans Mono',consolas,'Courier New',monospace\"><span style=\"color: #7fbfbf\">[11:39:53] </span><span style=\"color: #000080\">INFO</span>     Sending metric for task train, round number <span style=\"color: #000080; font-weight: bold\">7</span>: cross_entropy    <span style=\"color: #000080; font-weight: bold\">3.3484508991241455</span>                                       <a href=\"file:///home/itrushkin/.virtualenvs/openfl/lib/python3.8/site-packages/openfl/component/collaborator/collaborator.py\"><span style=\"color: #7f7f7f\">collaborator.py</span></a><span style=\"color: #7f7f7f\">:366</span>\n",
       "</pre>\n"
      ],
      "text/plain": [
       "<rich.jupyter.JupyterRenderable at 0x7f23dad90f10>"
      ]
     },
     "metadata": {},
     "output_type": "display_data"
    },
    {
     "data": {
      "text/html": [
       "<pre style=\"white-space:pre;overflow-x:auto;line-height:normal;font-family:Menlo,'DejaVu Sans Mono',consolas,'Courier New',monospace\"><span style=\"color: #7fbfbf\">           </span><span style=\"color: #000080\">INFO</span>     Collaborator one is sending task results for train, round <span style=\"color: #000080; font-weight: bold\">7</span>                                                                <a href=\"file:///home/itrushkin/.virtualenvs/openfl/lib/python3.8/site-packages/openfl/component/aggregator/aggregator.py\"><span style=\"color: #7f7f7f\">aggregator.py</span></a><span style=\"color: #7f7f7f\">:450</span>\n",
       "</pre>\n"
      ],
      "text/plain": [
       "<rich.jupyter.JupyterRenderable at 0x7f23dad90f70>"
      ]
     },
     "metadata": {},
     "output_type": "display_data"
    },
    {
     "data": {
      "text/html": [
       "<pre style=\"white-space:pre;overflow-x:auto;line-height:normal;font-family:Menlo,'DejaVu Sans Mono',consolas,'Courier New',monospace\"><span style=\"color: #7fbfbf\">[11:39:54] </span><span style=\"color: #000080\">INFO</span>     Using TaskRunner subclassing API                                                                                         <a href=\"file:///home/itrushkin/.virtualenvs/openfl/lib/python3.8/site-packages/openfl/component/collaborator/collaborator.py\"><span style=\"color: #7f7f7f\">collaborator.py</span></a><span style=\"color: #7f7f7f\">:203</span>\n",
       "</pre>\n"
      ],
      "text/plain": [
       "<rich.jupyter.JupyterRenderable at 0x7f23dacd78b0>"
      ]
     },
     "metadata": {},
     "output_type": "display_data"
    },
    {
     "data": {
      "text/html": [
       "<pre style=\"white-space:pre;overflow-x:auto;line-height:normal;font-family:Menlo,'DejaVu Sans Mono',consolas,'Courier New',monospace\"><span style=\"color: #7fbfbf\">           </span><span style=\"color: #000080\">INFO</span>     Sending metric for task locally_tuned_model_validation, round number <span style=\"color: #000080; font-weight: bold\">7</span>: acc     <span style=\"color: #000080; font-weight: bold\">0.07142857142857142</span>                      <a href=\"file:///home/itrushkin/.virtualenvs/openfl/lib/python3.8/site-packages/openfl/component/collaborator/collaborator.py\"><span style=\"color: #7f7f7f\">collaborator.py</span></a><span style=\"color: #7f7f7f\">:366</span>\n",
       "</pre>\n"
      ],
      "text/plain": [
       "<rich.jupyter.JupyterRenderable at 0x7f2443a64760>"
      ]
     },
     "metadata": {},
     "output_type": "display_data"
    },
    {
     "data": {
      "text/html": [
       "<pre style=\"white-space:pre;overflow-x:auto;line-height:normal;font-family:Menlo,'DejaVu Sans Mono',consolas,'Courier New',monospace\"><span style=\"color: #7fbfbf\">           </span><span style=\"color: #000080\">INFO</span>     Collaborator one is sending task results for locally_tuned_model_validation, round <span style=\"color: #000080; font-weight: bold\">7</span>                                       <a href=\"file:///home/itrushkin/.virtualenvs/openfl/lib/python3.8/site-packages/openfl/component/aggregator/aggregator.py\"><span style=\"color: #7f7f7f\">aggregator.py</span></a><span style=\"color: #7f7f7f\">:450</span>\n",
       "</pre>\n"
      ],
      "text/plain": [
       "<rich.jupyter.JupyterRenderable at 0x7f23dacce7c0>"
      ]
     },
     "metadata": {},
     "output_type": "display_data"
    },
    {
     "data": {
      "text/html": [
       "<pre style=\"white-space:pre;overflow-x:auto;line-height:normal;font-family:Menlo,'DejaVu Sans Mono',consolas,'Courier New',monospace\"><span style=\"color: #7fbfbf\">           </span><span style=\"color: #000080\">INFO</span>     All tasks completed on one for round <span style=\"color: #000080; font-weight: bold\">7</span><span style=\"color: #808000\">...</span>                                                                                <a href=\"file:///home/itrushkin/.virtualenvs/openfl/lib/python3.8/site-packages/openfl/component/collaborator/collaborator.py\"><span style=\"color: #7f7f7f\">collaborator.py</span></a><span style=\"color: #7f7f7f\">:146</span>\n",
       "</pre>\n"
      ],
      "text/plain": [
       "<rich.jupyter.JupyterRenderable at 0x7f23dacceac0>"
      ]
     },
     "metadata": {},
     "output_type": "display_data"
    },
    {
     "data": {
      "text/html": [
       "<pre style=\"white-space:pre;overflow-x:auto;line-height:normal;font-family:Menlo,'DejaVu Sans Mono',consolas,'Courier New',monospace\"><span style=\"color: #7fbfbf\">           </span><span style=\"color: #000080\">INFO</span>     Waiting for tasks<span style=\"color: #808000\">...</span>                                                                                                     <a href=\"file:///home/itrushkin/.virtualenvs/openfl/lib/python3.8/site-packages/openfl/component/collaborator/collaborator.py\"><span style=\"color: #7f7f7f\">collaborator.py</span></a><span style=\"color: #7f7f7f\">:153</span>\n",
       "</pre>\n"
      ],
      "text/plain": [
       "<rich.jupyter.JupyterRenderable at 0x7f23dacce9a0>"
      ]
     },
     "metadata": {},
     "output_type": "display_data"
    },
    {
     "data": {
      "text/html": [
       "<pre style=\"white-space:pre;overflow-x:auto;line-height:normal;font-family:Menlo,'DejaVu Sans Mono',consolas,'Courier New',monospace\"><span style=\"color: #7fbfbf\">           </span><span style=\"color: #000080\">INFO</span>     Sending tasks to collaborator two for round <span style=\"color: #000080; font-weight: bold\">7</span>                                                                              <a href=\"file:///home/itrushkin/.virtualenvs/openfl/lib/python3.8/site-packages/openfl/component/aggregator/aggregator.py\"><span style=\"color: #7f7f7f\">aggregator.py</span></a><span style=\"color: #7f7f7f\">:297</span>\n",
       "</pre>\n"
      ],
      "text/plain": [
       "<rich.jupyter.JupyterRenderable at 0x7f23dacce460>"
      ]
     },
     "metadata": {},
     "output_type": "display_data"
    },
    {
     "data": {
      "text/html": [
       "<pre style=\"white-space:pre;overflow-x:auto;line-height:normal;font-family:Menlo,'DejaVu Sans Mono',consolas,'Courier New',monospace\"><span style=\"color: #7fbfbf\">           </span><span style=\"color: #000080\">INFO</span>     Received the following tasks: <span style=\"font-weight: bold\">[</span><span style=\"color: #008000\">'aggregated_model_validation'</span>, <span style=\"color: #008000\">'train'</span>, <span style=\"color: #008000\">'locally_tuned_model_validation'</span><span style=\"font-weight: bold\">]</span>                 <a href=\"file:///home/itrushkin/.virtualenvs/openfl/lib/python3.8/site-packages/openfl/component/collaborator/collaborator.py\"><span style=\"color: #7f7f7f\">collaborator.py</span></a><span style=\"color: #7f7f7f\">:143</span>\n",
       "</pre>\n"
      ],
      "text/plain": [
       "<rich.jupyter.JupyterRenderable at 0x7f23daccec70>"
      ]
     },
     "metadata": {},
     "output_type": "display_data"
    },
    {
     "data": {
      "text/html": [
       "<pre style=\"white-space:pre;overflow-x:auto;line-height:normal;font-family:Menlo,'DejaVu Sans Mono',consolas,'Courier New',monospace\"><span style=\"color: #7fbfbf\">[11:39:56] </span><span style=\"color: #000080\">INFO</span>     Using TaskRunner subclassing API                                                                                         <a href=\"file:///home/itrushkin/.virtualenvs/openfl/lib/python3.8/site-packages/openfl/component/collaborator/collaborator.py\"><span style=\"color: #7f7f7f\">collaborator.py</span></a><span style=\"color: #7f7f7f\">:203</span>\n",
       "</pre>\n"
      ],
      "text/plain": [
       "<rich.jupyter.JupyterRenderable at 0x7f2443600d90>"
      ]
     },
     "metadata": {},
     "output_type": "display_data"
    },
    {
     "data": {
      "text/html": [
       "<pre style=\"white-space:pre;overflow-x:auto;line-height:normal;font-family:Menlo,'DejaVu Sans Mono',consolas,'Courier New',monospace\"><span style=\"color: #7fbfbf\">           </span><span style=\"color: #000080\">INFO</span>     Sending metric for task aggregated_model_validation, round number <span style=\"color: #000080; font-weight: bold\">7</span>: acc        <span style=\"color: #000080; font-weight: bold\">0.8913043478260869</span>                       <a href=\"file:///home/itrushkin/.virtualenvs/openfl/lib/python3.8/site-packages/openfl/component/collaborator/collaborator.py\"><span style=\"color: #7f7f7f\">collaborator.py</span></a><span style=\"color: #7f7f7f\">:366</span>\n",
       "</pre>\n"
      ],
      "text/plain": [
       "<rich.jupyter.JupyterRenderable at 0x7f23dacd7130>"
      ]
     },
     "metadata": {},
     "output_type": "display_data"
    },
    {
     "data": {
      "text/html": [
       "<pre style=\"white-space:pre;overflow-x:auto;line-height:normal;font-family:Menlo,'DejaVu Sans Mono',consolas,'Courier New',monospace\"><span style=\"color: #7fbfbf\">           </span><span style=\"color: #000080\">INFO</span>     Collaborator two is sending task results for aggregated_model_validation, round <span style=\"color: #000080; font-weight: bold\">7</span>                                          <a href=\"file:///home/itrushkin/.virtualenvs/openfl/lib/python3.8/site-packages/openfl/component/aggregator/aggregator.py\"><span style=\"color: #7f7f7f\">aggregator.py</span></a><span style=\"color: #7f7f7f\">:450</span>\n",
       "</pre>\n"
      ],
      "text/plain": [
       "<rich.jupyter.JupyterRenderable at 0x7f24435a7820>"
      ]
     },
     "metadata": {},
     "output_type": "display_data"
    },
    {
     "data": {
      "text/html": [
       "<pre style=\"white-space:pre;overflow-x:auto;line-height:normal;font-family:Menlo,'DejaVu Sans Mono',consolas,'Courier New',monospace\"><span style=\"color: #7fbfbf\">           </span><span style=\"color: #000080\">INFO</span>     Using TaskRunner subclassing API                                                                                         <a href=\"file:///home/itrushkin/.virtualenvs/openfl/lib/python3.8/site-packages/openfl/component/collaborator/collaborator.py\"><span style=\"color: #7f7f7f\">collaborator.py</span></a><span style=\"color: #7f7f7f\">:203</span>\n",
       "</pre>\n"
      ],
      "text/plain": [
       "<rich.jupyter.JupyterRenderable at 0x7f23dacd7820>"
      ]
     },
     "metadata": {},
     "output_type": "display_data"
    },
    {
     "data": {
      "text/html": [
       "<pre style=\"white-space:pre;overflow-x:auto;line-height:normal;font-family:Menlo,'DejaVu Sans Mono',consolas,'Courier New',monospace\"><span style=\"color: #7fbfbf\">[11:39:57] </span><span style=\"color: #000080\">INFO</span>     Sending metric for task train, round number <span style=\"color: #000080; font-weight: bold\">7</span>: cross_entropy    <span style=\"color: #000080; font-weight: bold\">0.7570696473121643</span>                                       <a href=\"file:///home/itrushkin/.virtualenvs/openfl/lib/python3.8/site-packages/openfl/component/collaborator/collaborator.py\"><span style=\"color: #7f7f7f\">collaborator.py</span></a><span style=\"color: #7f7f7f\">:366</span>\n",
       "</pre>\n"
      ],
      "text/plain": [
       "<rich.jupyter.JupyterRenderable at 0x7f24435cd3d0>"
      ]
     },
     "metadata": {},
     "output_type": "display_data"
    },
    {
     "data": {
      "text/html": [
       "<pre style=\"white-space:pre;overflow-x:auto;line-height:normal;font-family:Menlo,'DejaVu Sans Mono',consolas,'Courier New',monospace\"><span style=\"color: #7fbfbf\">           </span><span style=\"color: #000080\">INFO</span>     Collaborator two is sending task results for train, round <span style=\"color: #000080; font-weight: bold\">7</span>                                                                <a href=\"file:///home/itrushkin/.virtualenvs/openfl/lib/python3.8/site-packages/openfl/component/aggregator/aggregator.py\"><span style=\"color: #7f7f7f\">aggregator.py</span></a><span style=\"color: #7f7f7f\">:450</span>\n",
       "</pre>\n"
      ],
      "text/plain": [
       "<rich.jupyter.JupyterRenderable at 0x7f24435cdb50>"
      ]
     },
     "metadata": {},
     "output_type": "display_data"
    },
    {
     "data": {
      "text/html": [
       "<pre style=\"white-space:pre;overflow-x:auto;line-height:normal;font-family:Menlo,'DejaVu Sans Mono',consolas,'Courier New',monospace\"><span style=\"color: #7fbfbf\">[11:39:58] </span><span style=\"color: #000080\">INFO</span>     Using TaskRunner subclassing API                                                                                         <a href=\"file:///home/itrushkin/.virtualenvs/openfl/lib/python3.8/site-packages/openfl/component/collaborator/collaborator.py\"><span style=\"color: #7f7f7f\">collaborator.py</span></a><span style=\"color: #7f7f7f\">:203</span>\n",
       "</pre>\n"
      ],
      "text/plain": [
       "<rich.jupyter.JupyterRenderable at 0x7f24435d6a60>"
      ]
     },
     "metadata": {},
     "output_type": "display_data"
    },
    {
     "data": {
      "text/html": [
       "<pre style=\"white-space:pre;overflow-x:auto;line-height:normal;font-family:Menlo,'DejaVu Sans Mono',consolas,'Courier New',monospace\"><span style=\"color: #7fbfbf\">           </span><span style=\"color: #000080\">INFO</span>     Sending metric for task locally_tuned_model_validation, round number <span style=\"color: #000080; font-weight: bold\">7</span>: acc     <span style=\"color: #000080; font-weight: bold\">0.8913043478260869</span>                       <a href=\"file:///home/itrushkin/.virtualenvs/openfl/lib/python3.8/site-packages/openfl/component/collaborator/collaborator.py\"><span style=\"color: #7f7f7f\">collaborator.py</span></a><span style=\"color: #7f7f7f\">:366</span>\n",
       "</pre>\n"
      ],
      "text/plain": [
       "<rich.jupyter.JupyterRenderable at 0x7f24435b5cd0>"
      ]
     },
     "metadata": {},
     "output_type": "display_data"
    },
    {
     "data": {
      "text/html": [
       "<pre style=\"white-space:pre;overflow-x:auto;line-height:normal;font-family:Menlo,'DejaVu Sans Mono',consolas,'Courier New',monospace\"><span style=\"color: #7fbfbf\">           </span><span style=\"color: #000080\">INFO</span>     Collaborator two is sending task results for locally_tuned_model_validation, round <span style=\"color: #000080; font-weight: bold\">7</span>                                       <a href=\"file:///home/itrushkin/.virtualenvs/openfl/lib/python3.8/site-packages/openfl/component/aggregator/aggregator.py\"><span style=\"color: #7f7f7f\">aggregator.py</span></a><span style=\"color: #7f7f7f\">:450</span>\n",
       "</pre>\n"
      ],
      "text/plain": [
       "<rich.jupyter.JupyterRenderable at 0x7f24435b5ca0>"
      ]
     },
     "metadata": {},
     "output_type": "display_data"
    },
    {
     "data": {
      "text/html": [
       "<pre style=\"white-space:pre;overflow-x:auto;line-height:normal;font-family:Menlo,'DejaVu Sans Mono',consolas,'Courier New',monospace\"><span style=\"color: #7fbfbf\">           </span><span style=\"color: #000080\">INFO</span>     locally_tuned_model_validation task metrics<span style=\"color: #808000\">...</span>                                                                             <a href=\"file:///home/itrushkin/.virtualenvs/openfl/lib/python3.8/site-packages/openfl/component/aggregator/aggregator.py\"><span style=\"color: #7f7f7f\">aggregator.py</span></a><span style=\"color: #7f7f7f\">:711</span>\n",
       "</pre>\n"
      ],
      "text/plain": [
       "<rich.jupyter.JupyterRenderable at 0x7f24435b5820>"
      ]
     },
     "metadata": {},
     "output_type": "display_data"
    },
    {
     "data": {
      "text/html": [
       "<pre style=\"white-space:pre;overflow-x:auto;line-height:normal;font-family:Menlo,'DejaVu Sans Mono',consolas,'Courier New',monospace\"><span style=\"color: #7fbfbf\">           </span><span style=\"color: #000080\">INFO</span>     <span style=\"font-weight: bold\">&lt;</span><span style=\"color: #ff00ff; font-weight: bold\">openfl.component.aggregation_functions.weighted_average.WeightedAverage</span><span style=\"color: #000000\"> object at </span><span style=\"color: #000080; font-weight: bold\">0x7f24b206ec40</span><span style=\"font-weight: bold\">&gt;</span> acc: <span style=\"color: #000080; font-weight: bold\">0.3615</span>             <a href=\"file:///home/itrushkin/.virtualenvs/openfl/lib/python3.8/site-packages/openfl/component/aggregator/aggregator.py\"><span style=\"color: #7f7f7f\">aggregator.py</span></a><span style=\"color: #7f7f7f\">:754</span>\n",
       "</pre>\n"
      ],
      "text/plain": [
       "<rich.jupyter.JupyterRenderable at 0x7f24435b5d90>"
      ]
     },
     "metadata": {},
     "output_type": "display_data"
    },
    {
     "data": {
      "text/html": [
       "<pre style=\"white-space:pre;overflow-x:auto;line-height:normal;font-family:Menlo,'DejaVu Sans Mono',consolas,'Courier New',monospace\"><span style=\"color: #7fbfbf\">           </span><span style=\"color: #000080\">INFO</span>     aggregated_model_validation task metrics<span style=\"color: #808000\">...</span>                                                                                <a href=\"file:///home/itrushkin/.virtualenvs/openfl/lib/python3.8/site-packages/openfl/component/aggregator/aggregator.py\"><span style=\"color: #7f7f7f\">aggregator.py</span></a><span style=\"color: #7f7f7f\">:711</span>\n",
       "</pre>\n"
      ],
      "text/plain": [
       "<rich.jupyter.JupyterRenderable at 0x7f24435a7bb0>"
      ]
     },
     "metadata": {},
     "output_type": "display_data"
    },
    {
     "data": {
      "text/html": [
       "<pre style=\"white-space:pre;overflow-x:auto;line-height:normal;font-family:Menlo,'DejaVu Sans Mono',consolas,'Courier New',monospace\"><span style=\"color: #7fbfbf\">           </span><span style=\"color: #000080\">INFO</span>     <span style=\"font-weight: bold\">&lt;</span><span style=\"color: #ff00ff; font-weight: bold\">openfl.component.aggregation_functions.weighted_average.WeightedAverage</span><span style=\"color: #000000\"> object at </span><span style=\"color: #000080; font-weight: bold\">0x7f24b206ec40</span><span style=\"font-weight: bold\">&gt;</span> acc: <span style=\"color: #000080; font-weight: bold\">0.3154</span>             <a href=\"file:///home/itrushkin/.virtualenvs/openfl/lib/python3.8/site-packages/openfl/component/aggregator/aggregator.py\"><span style=\"color: #7f7f7f\">aggregator.py</span></a><span style=\"color: #7f7f7f\">:754</span>\n",
       "</pre>\n"
      ],
      "text/plain": [
       "<rich.jupyter.JupyterRenderable at 0x7f23dacced90>"
      ]
     },
     "metadata": {},
     "output_type": "display_data"
    },
    {
     "data": {
      "text/html": [
       "<pre style=\"white-space:pre;overflow-x:auto;line-height:normal;font-family:Menlo,'DejaVu Sans Mono',consolas,'Courier New',monospace\"><span style=\"color: #7fbfbf\">           </span><span style=\"color: #000080\">INFO</span>     train task metrics<span style=\"color: #808000\">...</span>                                                                                                      <a href=\"file:///home/itrushkin/.virtualenvs/openfl/lib/python3.8/site-packages/openfl/component/aggregator/aggregator.py\"><span style=\"color: #7f7f7f\">aggregator.py</span></a><span style=\"color: #7f7f7f\">:711</span>\n",
       "</pre>\n"
      ],
      "text/plain": [
       "<rich.jupyter.JupyterRenderable at 0x7f23dacce760>"
      ]
     },
     "metadata": {},
     "output_type": "display_data"
    },
    {
     "data": {
      "text/html": [
       "<pre style=\"white-space:pre;overflow-x:auto;line-height:normal;font-family:Menlo,'DejaVu Sans Mono',consolas,'Courier New',monospace\"><span style=\"color: #7fbfbf\">           </span><span style=\"color: #000080\">INFO</span>     <span style=\"font-weight: bold\">&lt;</span><span style=\"color: #ff00ff; font-weight: bold\">openfl.component.aggregation_functions.weighted_average.WeightedAverage</span><span style=\"color: #000000\"> object at </span><span style=\"color: #000080; font-weight: bold\">0x7f24b206ec40</span><span style=\"font-weight: bold\">&gt;</span> cross_entropy:          <a href=\"file:///home/itrushkin/.virtualenvs/openfl/lib/python3.8/site-packages/openfl/component/aggregator/aggregator.py\"><span style=\"color: #7f7f7f\">aggregator.py</span></a><span style=\"color: #7f7f7f\">:754</span>\n",
       "                    <span style=\"color: #000080; font-weight: bold\">1.8429</span>                                                                                                                                      \n",
       "</pre>\n"
      ],
      "text/plain": [
       "<rich.jupyter.JupyterRenderable at 0x7f24435cddf0>"
      ]
     },
     "metadata": {},
     "output_type": "display_data"
    },
    {
     "data": {
      "text/html": [
       "<pre style=\"white-space:pre;overflow-x:auto;line-height:normal;font-family:Menlo,'DejaVu Sans Mono',consolas,'Courier New',monospace\"><span style=\"color: #7fbfbf\">[11:40:01] </span><span style=\"color: #000080\">INFO</span>     Saving round <span style=\"color: #000080; font-weight: bold\">8</span> model<span style=\"color: #808000\">...</span>                                                                                                    <a href=\"file:///home/itrushkin/.virtualenvs/openfl/lib/python3.8/site-packages/openfl/component/aggregator/aggregator.py\"><span style=\"color: #7f7f7f\">aggregator.py</span></a><span style=\"color: #7f7f7f\">:796</span>\n",
       "</pre>\n"
      ],
      "text/plain": [
       "<rich.jupyter.JupyterRenderable at 0x7f23dacaf880>"
      ]
     },
     "metadata": {},
     "output_type": "display_data"
    },
    {
     "data": {
      "text/html": [
       "<pre style=\"white-space:pre;overflow-x:auto;line-height:normal;font-family:Menlo,'DejaVu Sans Mono',consolas,'Courier New',monospace\"><span style=\"color: #7fbfbf\">           </span><span style=\"color: #000080\">INFO</span>     Starting round <span style=\"color: #000080; font-weight: bold\">8</span><span style=\"color: #808000\">...</span>                                                                                                        <a href=\"file:///home/itrushkin/.virtualenvs/openfl/lib/python3.8/site-packages/openfl/component/aggregator/aggregator.py\"><span style=\"color: #7f7f7f\">aggregator.py</span></a><span style=\"color: #7f7f7f\">:803</span>\n",
       "</pre>\n"
      ],
      "text/plain": [
       "<rich.jupyter.JupyterRenderable at 0x7f24435cd580>"
      ]
     },
     "metadata": {},
     "output_type": "display_data"
    },
    {
     "data": {
      "text/html": [
       "<pre style=\"white-space:pre;overflow-x:auto;line-height:normal;font-family:Menlo,'DejaVu Sans Mono',consolas,'Courier New',monospace\"><span style=\"color: #7fbfbf\">           </span><span style=\"color: #000080\">INFO</span>     All tasks completed on two for round <span style=\"color: #000080; font-weight: bold\">7</span><span style=\"color: #808000\">...</span>                                                                                <a href=\"file:///home/itrushkin/.virtualenvs/openfl/lib/python3.8/site-packages/openfl/component/collaborator/collaborator.py\"><span style=\"color: #7f7f7f\">collaborator.py</span></a><span style=\"color: #7f7f7f\">:146</span>\n",
       "</pre>\n"
      ],
      "text/plain": [
       "<rich.jupyter.JupyterRenderable at 0x7f2443c52190>"
      ]
     },
     "metadata": {},
     "output_type": "display_data"
    },
    {
     "data": {
      "text/html": [
       "<pre style=\"white-space:pre;overflow-x:auto;line-height:normal;font-family:Menlo,'DejaVu Sans Mono',consolas,'Courier New',monospace\"><span style=\"color: #7fbfbf\">           </span><span style=\"color: #000080\">INFO</span>     Waiting for tasks<span style=\"color: #808000\">...</span>                                                                                                     <a href=\"file:///home/itrushkin/.virtualenvs/openfl/lib/python3.8/site-packages/openfl/component/collaborator/collaborator.py\"><span style=\"color: #7f7f7f\">collaborator.py</span></a><span style=\"color: #7f7f7f\">:153</span>\n",
       "</pre>\n"
      ],
      "text/plain": [
       "<rich.jupyter.JupyterRenderable at 0x7f23dacdec40>"
      ]
     },
     "metadata": {},
     "output_type": "display_data"
    },
    {
     "data": {
      "text/html": [
       "<pre style=\"white-space:pre;overflow-x:auto;line-height:normal;font-family:Menlo,'DejaVu Sans Mono',consolas,'Courier New',monospace\"><span style=\"color: #7fbfbf\">           </span><span style=\"color: #000080\">INFO</span>     Sending tasks to collaborator one for round <span style=\"color: #000080; font-weight: bold\">8</span>                                                                              <a href=\"file:///home/itrushkin/.virtualenvs/openfl/lib/python3.8/site-packages/openfl/component/aggregator/aggregator.py\"><span style=\"color: #7f7f7f\">aggregator.py</span></a><span style=\"color: #7f7f7f\">:297</span>\n",
       "</pre>\n"
      ],
      "text/plain": [
       "<rich.jupyter.JupyterRenderable at 0x7f2443a64760>"
      ]
     },
     "metadata": {},
     "output_type": "display_data"
    },
    {
     "data": {
      "text/html": [
       "<pre style=\"white-space:pre;overflow-x:auto;line-height:normal;font-family:Menlo,'DejaVu Sans Mono',consolas,'Courier New',monospace\"><span style=\"color: #7fbfbf\">           </span><span style=\"color: #000080\">INFO</span>     Received the following tasks: <span style=\"font-weight: bold\">[</span><span style=\"color: #008000\">'aggregated_model_validation'</span>, <span style=\"color: #008000\">'train'</span>, <span style=\"color: #008000\">'locally_tuned_model_validation'</span><span style=\"font-weight: bold\">]</span>                 <a href=\"file:///home/itrushkin/.virtualenvs/openfl/lib/python3.8/site-packages/openfl/component/collaborator/collaborator.py\"><span style=\"color: #7f7f7f\">collaborator.py</span></a><span style=\"color: #7f7f7f\">:143</span>\n",
       "</pre>\n"
      ],
      "text/plain": [
       "<rich.jupyter.JupyterRenderable at 0x7f2443a64760>"
      ]
     },
     "metadata": {},
     "output_type": "display_data"
    },
    {
     "data": {
      "text/html": [
       "<pre style=\"white-space:pre;overflow-x:auto;line-height:normal;font-family:Menlo,'DejaVu Sans Mono',consolas,'Courier New',monospace\"><span style=\"color: #7fbfbf\">[11:40:03] </span><span style=\"color: #000080\">INFO</span>     Using TaskRunner subclassing API                                                                                         <a href=\"file:///home/itrushkin/.virtualenvs/openfl/lib/python3.8/site-packages/openfl/component/collaborator/collaborator.py\"><span style=\"color: #7f7f7f\">collaborator.py</span></a><span style=\"color: #7f7f7f\">:203</span>\n",
       "</pre>\n"
      ],
      "text/plain": [
       "<rich.jupyter.JupyterRenderable at 0x7f24435cd310>"
      ]
     },
     "metadata": {},
     "output_type": "display_data"
    },
    {
     "data": {
      "text/html": [
       "<pre style=\"white-space:pre;overflow-x:auto;line-height:normal;font-family:Menlo,'DejaVu Sans Mono',consolas,'Courier New',monospace\"><span style=\"color: #7fbfbf\">[11:40:04] </span><span style=\"color: #000080\">INFO</span>     Sending metric for task aggregated_model_validation, round number <span style=\"color: #000080; font-weight: bold\">8</span>: acc        <span style=\"color: #000080; font-weight: bold\">0.0</span>                                      <a href=\"file:///home/itrushkin/.virtualenvs/openfl/lib/python3.8/site-packages/openfl/component/collaborator/collaborator.py\"><span style=\"color: #7f7f7f\">collaborator.py</span></a><span style=\"color: #7f7f7f\">:366</span>\n",
       "</pre>\n"
      ],
      "text/plain": [
       "<rich.jupyter.JupyterRenderable at 0x7f24435d6a60>"
      ]
     },
     "metadata": {},
     "output_type": "display_data"
    },
    {
     "data": {
      "text/html": [
       "<pre style=\"white-space:pre;overflow-x:auto;line-height:normal;font-family:Menlo,'DejaVu Sans Mono',consolas,'Courier New',monospace\"><span style=\"color: #7fbfbf\">           </span><span style=\"color: #000080\">INFO</span>     Collaborator one is sending task results for aggregated_model_validation, round <span style=\"color: #000080; font-weight: bold\">8</span>                                          <a href=\"file:///home/itrushkin/.virtualenvs/openfl/lib/python3.8/site-packages/openfl/component/aggregator/aggregator.py\"><span style=\"color: #7f7f7f\">aggregator.py</span></a><span style=\"color: #7f7f7f\">:450</span>\n",
       "</pre>\n"
      ],
      "text/plain": [
       "<rich.jupyter.JupyterRenderable at 0x7f24435cd190>"
      ]
     },
     "metadata": {},
     "output_type": "display_data"
    },
    {
     "data": {
      "text/html": [
       "<pre style=\"white-space:pre;overflow-x:auto;line-height:normal;font-family:Menlo,'DejaVu Sans Mono',consolas,'Courier New',monospace\"><span style=\"color: #7fbfbf\">           </span><span style=\"color: #000080\">INFO</span>     Using TaskRunner subclassing API                                                                                         <a href=\"file:///home/itrushkin/.virtualenvs/openfl/lib/python3.8/site-packages/openfl/component/collaborator/collaborator.py\"><span style=\"color: #7f7f7f\">collaborator.py</span></a><span style=\"color: #7f7f7f\">:203</span>\n",
       "</pre>\n"
      ],
      "text/plain": [
       "<rich.jupyter.JupyterRenderable at 0x7f24435cd610>"
      ]
     },
     "metadata": {},
     "output_type": "display_data"
    },
    {
     "data": {
      "text/html": [
       "<pre style=\"white-space:pre;overflow-x:auto;line-height:normal;font-family:Menlo,'DejaVu Sans Mono',consolas,'Courier New',monospace\"><span style=\"color: #7fbfbf\">           </span><span style=\"color: #000080\">INFO</span>     Sending metric for task train, round number <span style=\"color: #000080; font-weight: bold\">8</span>: cross_entropy    <span style=\"color: #000080; font-weight: bold\">3.331483840942383</span>                                        <a href=\"file:///home/itrushkin/.virtualenvs/openfl/lib/python3.8/site-packages/openfl/component/collaborator/collaborator.py\"><span style=\"color: #7f7f7f\">collaborator.py</span></a><span style=\"color: #7f7f7f\">:366</span>\n",
       "</pre>\n"
      ],
      "text/plain": [
       "<rich.jupyter.JupyterRenderable at 0x7f23dacaf4c0>"
      ]
     },
     "metadata": {},
     "output_type": "display_data"
    },
    {
     "data": {
      "text/html": [
       "<pre style=\"white-space:pre;overflow-x:auto;line-height:normal;font-family:Menlo,'DejaVu Sans Mono',consolas,'Courier New',monospace\"><span style=\"color: #7fbfbf\">           </span><span style=\"color: #000080\">INFO</span>     Collaborator one is sending task results for train, round <span style=\"color: #000080; font-weight: bold\">8</span>                                                                <a href=\"file:///home/itrushkin/.virtualenvs/openfl/lib/python3.8/site-packages/openfl/component/aggregator/aggregator.py\"><span style=\"color: #7f7f7f\">aggregator.py</span></a><span style=\"color: #7f7f7f\">:450</span>\n",
       "</pre>\n"
      ],
      "text/plain": [
       "<rich.jupyter.JupyterRenderable at 0x7f23dacaf730>"
      ]
     },
     "metadata": {},
     "output_type": "display_data"
    },
    {
     "data": {
      "text/html": [
       "<pre style=\"white-space:pre;overflow-x:auto;line-height:normal;font-family:Menlo,'DejaVu Sans Mono',consolas,'Courier New',monospace\"><span style=\"color: #7fbfbf\">[11:40:06] </span><span style=\"color: #000080\">INFO</span>     Using TaskRunner subclassing API                                                                                         <a href=\"file:///home/itrushkin/.virtualenvs/openfl/lib/python3.8/site-packages/openfl/component/collaborator/collaborator.py\"><span style=\"color: #7f7f7f\">collaborator.py</span></a><span style=\"color: #7f7f7f\">:203</span>\n",
       "</pre>\n"
      ],
      "text/plain": [
       "<rich.jupyter.JupyterRenderable at 0x7f2443558370>"
      ]
     },
     "metadata": {},
     "output_type": "display_data"
    },
    {
     "data": {
      "text/html": [
       "<pre style=\"white-space:pre;overflow-x:auto;line-height:normal;font-family:Menlo,'DejaVu Sans Mono',consolas,'Courier New',monospace\"><span style=\"color: #7fbfbf\">           </span><span style=\"color: #000080\">INFO</span>     Sending metric for task locally_tuned_model_validation, round number <span style=\"color: #000080; font-weight: bold\">8</span>: acc     <span style=\"color: #000080; font-weight: bold\">0.047619047619047616</span>                     <a href=\"file:///home/itrushkin/.virtualenvs/openfl/lib/python3.8/site-packages/openfl/component/collaborator/collaborator.py\"><span style=\"color: #7f7f7f\">collaborator.py</span></a><span style=\"color: #7f7f7f\">:366</span>\n",
       "</pre>\n"
      ],
      "text/plain": [
       "<rich.jupyter.JupyterRenderable at 0x7f2443558790>"
      ]
     },
     "metadata": {},
     "output_type": "display_data"
    },
    {
     "data": {
      "text/html": [
       "<pre style=\"white-space:pre;overflow-x:auto;line-height:normal;font-family:Menlo,'DejaVu Sans Mono',consolas,'Courier New',monospace\"><span style=\"color: #7fbfbf\">           </span><span style=\"color: #000080\">INFO</span>     Collaborator one is sending task results for locally_tuned_model_validation, round <span style=\"color: #000080; font-weight: bold\">8</span>                                       <a href=\"file:///home/itrushkin/.virtualenvs/openfl/lib/python3.8/site-packages/openfl/component/aggregator/aggregator.py\"><span style=\"color: #7f7f7f\">aggregator.py</span></a><span style=\"color: #7f7f7f\">:450</span>\n",
       "</pre>\n"
      ],
      "text/plain": [
       "<rich.jupyter.JupyterRenderable at 0x7f2443558730>"
      ]
     },
     "metadata": {},
     "output_type": "display_data"
    },
    {
     "data": {
      "text/html": [
       "<pre style=\"white-space:pre;overflow-x:auto;line-height:normal;font-family:Menlo,'DejaVu Sans Mono',consolas,'Courier New',monospace\"><span style=\"color: #7fbfbf\">           </span><span style=\"color: #000080\">INFO</span>     All tasks completed on one for round <span style=\"color: #000080; font-weight: bold\">8</span><span style=\"color: #808000\">...</span>                                                                                <a href=\"file:///home/itrushkin/.virtualenvs/openfl/lib/python3.8/site-packages/openfl/component/collaborator/collaborator.py\"><span style=\"color: #7f7f7f\">collaborator.py</span></a><span style=\"color: #7f7f7f\">:146</span>\n",
       "</pre>\n"
      ],
      "text/plain": [
       "<rich.jupyter.JupyterRenderable at 0x7f24435585e0>"
      ]
     },
     "metadata": {},
     "output_type": "display_data"
    },
    {
     "data": {
      "text/html": [
       "<pre style=\"white-space:pre;overflow-x:auto;line-height:normal;font-family:Menlo,'DejaVu Sans Mono',consolas,'Courier New',monospace\"><span style=\"color: #7fbfbf\">           </span><span style=\"color: #000080\">INFO</span>     Waiting for tasks<span style=\"color: #808000\">...</span>                                                                                                     <a href=\"file:///home/itrushkin/.virtualenvs/openfl/lib/python3.8/site-packages/openfl/component/collaborator/collaborator.py\"><span style=\"color: #7f7f7f\">collaborator.py</span></a><span style=\"color: #7f7f7f\">:153</span>\n",
       "</pre>\n"
      ],
      "text/plain": [
       "<rich.jupyter.JupyterRenderable at 0x7f2443558c70>"
      ]
     },
     "metadata": {},
     "output_type": "display_data"
    },
    {
     "data": {
      "text/html": [
       "<pre style=\"white-space:pre;overflow-x:auto;line-height:normal;font-family:Menlo,'DejaVu Sans Mono',consolas,'Courier New',monospace\"><span style=\"color: #7fbfbf\">           </span><span style=\"color: #000080\">INFO</span>     Sending tasks to collaborator two for round <span style=\"color: #000080; font-weight: bold\">8</span>                                                                              <a href=\"file:///home/itrushkin/.virtualenvs/openfl/lib/python3.8/site-packages/openfl/component/aggregator/aggregator.py\"><span style=\"color: #7f7f7f\">aggregator.py</span></a><span style=\"color: #7f7f7f\">:297</span>\n",
       "</pre>\n"
      ],
      "text/plain": [
       "<rich.jupyter.JupyterRenderable at 0x7f2443558310>"
      ]
     },
     "metadata": {},
     "output_type": "display_data"
    },
    {
     "data": {
      "text/html": [
       "<pre style=\"white-space:pre;overflow-x:auto;line-height:normal;font-family:Menlo,'DejaVu Sans Mono',consolas,'Courier New',monospace\"><span style=\"color: #7fbfbf\">           </span><span style=\"color: #000080\">INFO</span>     Received the following tasks: <span style=\"font-weight: bold\">[</span><span style=\"color: #008000\">'aggregated_model_validation'</span>, <span style=\"color: #008000\">'train'</span>, <span style=\"color: #008000\">'locally_tuned_model_validation'</span><span style=\"font-weight: bold\">]</span>                 <a href=\"file:///home/itrushkin/.virtualenvs/openfl/lib/python3.8/site-packages/openfl/component/collaborator/collaborator.py\"><span style=\"color: #7f7f7f\">collaborator.py</span></a><span style=\"color: #7f7f7f\">:143</span>\n",
       "</pre>\n"
      ],
      "text/plain": [
       "<rich.jupyter.JupyterRenderable at 0x7f2443558790>"
      ]
     },
     "metadata": {},
     "output_type": "display_data"
    },
    {
     "data": {
      "text/html": [
       "<pre style=\"white-space:pre;overflow-x:auto;line-height:normal;font-family:Menlo,'DejaVu Sans Mono',consolas,'Courier New',monospace\"><span style=\"color: #7fbfbf\">[11:40:08] </span><span style=\"color: #000080\">INFO</span>     Using TaskRunner subclassing API                                                                                         <a href=\"file:///home/itrushkin/.virtualenvs/openfl/lib/python3.8/site-packages/openfl/component/collaborator/collaborator.py\"><span style=\"color: #7f7f7f\">collaborator.py</span></a><span style=\"color: #7f7f7f\">:203</span>\n",
       "</pre>\n"
      ],
      "text/plain": [
       "<rich.jupyter.JupyterRenderable at 0x7f24435c6af0>"
      ]
     },
     "metadata": {},
     "output_type": "display_data"
    },
    {
     "data": {
      "text/html": [
       "<pre style=\"white-space:pre;overflow-x:auto;line-height:normal;font-family:Menlo,'DejaVu Sans Mono',consolas,'Courier New',monospace\"><span style=\"color: #7fbfbf\">           </span><span style=\"color: #000080\">INFO</span>     Sending metric for task aggregated_model_validation, round number <span style=\"color: #000080; font-weight: bold\">8</span>: acc        <span style=\"color: #000080; font-weight: bold\">0.8913043478260869</span>                       <a href=\"file:///home/itrushkin/.virtualenvs/openfl/lib/python3.8/site-packages/openfl/component/collaborator/collaborator.py\"><span style=\"color: #7f7f7f\">collaborator.py</span></a><span style=\"color: #7f7f7f\">:366</span>\n",
       "</pre>\n"
      ],
      "text/plain": [
       "<rich.jupyter.JupyterRenderable at 0x7f24435c6af0>"
      ]
     },
     "metadata": {},
     "output_type": "display_data"
    },
    {
     "data": {
      "text/html": [
       "<pre style=\"white-space:pre;overflow-x:auto;line-height:normal;font-family:Menlo,'DejaVu Sans Mono',consolas,'Courier New',monospace\"><span style=\"color: #7fbfbf\">           </span><span style=\"color: #000080\">INFO</span>     Collaborator two is sending task results for aggregated_model_validation, round <span style=\"color: #000080; font-weight: bold\">8</span>                                          <a href=\"file:///home/itrushkin/.virtualenvs/openfl/lib/python3.8/site-packages/openfl/component/aggregator/aggregator.py\"><span style=\"color: #7f7f7f\">aggregator.py</span></a><span style=\"color: #7f7f7f\">:450</span>\n",
       "</pre>\n"
      ],
      "text/plain": [
       "<rich.jupyter.JupyterRenderable at 0x7f24435c63d0>"
      ]
     },
     "metadata": {},
     "output_type": "display_data"
    },
    {
     "data": {
      "text/html": [
       "<pre style=\"white-space:pre;overflow-x:auto;line-height:normal;font-family:Menlo,'DejaVu Sans Mono',consolas,'Courier New',monospace\"><span style=\"color: #7fbfbf\">           </span><span style=\"color: #000080\">INFO</span>     Using TaskRunner subclassing API                                                                                         <a href=\"file:///home/itrushkin/.virtualenvs/openfl/lib/python3.8/site-packages/openfl/component/collaborator/collaborator.py\"><span style=\"color: #7f7f7f\">collaborator.py</span></a><span style=\"color: #7f7f7f\">:203</span>\n",
       "</pre>\n"
      ],
      "text/plain": [
       "<rich.jupyter.JupyterRenderable at 0x7f24435c6f70>"
      ]
     },
     "metadata": {},
     "output_type": "display_data"
    },
    {
     "data": {
      "text/html": [
       "<pre style=\"white-space:pre;overflow-x:auto;line-height:normal;font-family:Menlo,'DejaVu Sans Mono',consolas,'Courier New',monospace\"><span style=\"color: #7fbfbf\">[11:40:09] </span><span style=\"color: #000080\">INFO</span>     Sending metric for task train, round number <span style=\"color: #000080; font-weight: bold\">8</span>: cross_entropy    <span style=\"color: #000080; font-weight: bold\">0.6806755661964417</span>                                       <a href=\"file:///home/itrushkin/.virtualenvs/openfl/lib/python3.8/site-packages/openfl/component/collaborator/collaborator.py\"><span style=\"color: #7f7f7f\">collaborator.py</span></a><span style=\"color: #7f7f7f\">:366</span>\n",
       "</pre>\n"
      ],
      "text/plain": [
       "<rich.jupyter.JupyterRenderable at 0x7f24435a7d30>"
      ]
     },
     "metadata": {},
     "output_type": "display_data"
    },
    {
     "data": {
      "text/html": [
       "<pre style=\"white-space:pre;overflow-x:auto;line-height:normal;font-family:Menlo,'DejaVu Sans Mono',consolas,'Courier New',monospace\"><span style=\"color: #7fbfbf\">           </span><span style=\"color: #000080\">INFO</span>     Collaborator two is sending task results for train, round <span style=\"color: #000080; font-weight: bold\">8</span>                                                                <a href=\"file:///home/itrushkin/.virtualenvs/openfl/lib/python3.8/site-packages/openfl/component/aggregator/aggregator.py\"><span style=\"color: #7f7f7f\">aggregator.py</span></a><span style=\"color: #7f7f7f\">:450</span>\n",
       "</pre>\n"
      ],
      "text/plain": [
       "<rich.jupyter.JupyterRenderable at 0x7f24435a7f10>"
      ]
     },
     "metadata": {},
     "output_type": "display_data"
    },
    {
     "data": {
      "text/html": [
       "<pre style=\"white-space:pre;overflow-x:auto;line-height:normal;font-family:Menlo,'DejaVu Sans Mono',consolas,'Courier New',monospace\"><span style=\"color: #7fbfbf\">[11:40:10] </span><span style=\"color: #000080\">INFO</span>     Using TaskRunner subclassing API                                                                                         <a href=\"file:///home/itrushkin/.virtualenvs/openfl/lib/python3.8/site-packages/openfl/component/collaborator/collaborator.py\"><span style=\"color: #7f7f7f\">collaborator.py</span></a><span style=\"color: #7f7f7f\">:203</span>\n",
       "</pre>\n"
      ],
      "text/plain": [
       "<rich.jupyter.JupyterRenderable at 0x7f2443a414f0>"
      ]
     },
     "metadata": {},
     "output_type": "display_data"
    },
    {
     "data": {
      "text/html": [
       "<pre style=\"white-space:pre;overflow-x:auto;line-height:normal;font-family:Menlo,'DejaVu Sans Mono',consolas,'Courier New',monospace\"><span style=\"color: #7fbfbf\">           </span><span style=\"color: #000080\">INFO</span>     Sending metric for task locally_tuned_model_validation, round number <span style=\"color: #000080; font-weight: bold\">8</span>: acc     <span style=\"color: #000080; font-weight: bold\">0.8913043478260869</span>                       <a href=\"file:///home/itrushkin/.virtualenvs/openfl/lib/python3.8/site-packages/openfl/component/collaborator/collaborator.py\"><span style=\"color: #7f7f7f\">collaborator.py</span></a><span style=\"color: #7f7f7f\">:366</span>\n",
       "</pre>\n"
      ],
      "text/plain": [
       "<rich.jupyter.JupyterRenderable at 0x7f2443471f40>"
      ]
     },
     "metadata": {},
     "output_type": "display_data"
    },
    {
     "data": {
      "text/html": [
       "<pre style=\"white-space:pre;overflow-x:auto;line-height:normal;font-family:Menlo,'DejaVu Sans Mono',consolas,'Courier New',monospace\"><span style=\"color: #7fbfbf\">           </span><span style=\"color: #000080\">INFO</span>     Collaborator two is sending task results for locally_tuned_model_validation, round <span style=\"color: #000080; font-weight: bold\">8</span>                                       <a href=\"file:///home/itrushkin/.virtualenvs/openfl/lib/python3.8/site-packages/openfl/component/aggregator/aggregator.py\"><span style=\"color: #7f7f7f\">aggregator.py</span></a><span style=\"color: #7f7f7f\">:450</span>\n",
       "</pre>\n"
      ],
      "text/plain": [
       "<rich.jupyter.JupyterRenderable at 0x7f2443aaf3d0>"
      ]
     },
     "metadata": {},
     "output_type": "display_data"
    },
    {
     "data": {
      "text/html": [
       "<pre style=\"white-space:pre;overflow-x:auto;line-height:normal;font-family:Menlo,'DejaVu Sans Mono',consolas,'Courier New',monospace\"><span style=\"color: #7fbfbf\">           </span><span style=\"color: #000080\">INFO</span>     locally_tuned_model_validation task metrics<span style=\"color: #808000\">...</span>                                                                             <a href=\"file:///home/itrushkin/.virtualenvs/openfl/lib/python3.8/site-packages/openfl/component/aggregator/aggregator.py\"><span style=\"color: #7f7f7f\">aggregator.py</span></a><span style=\"color: #7f7f7f\">:711</span>\n",
       "</pre>\n"
      ],
      "text/plain": [
       "<rich.jupyter.JupyterRenderable at 0x7f2443aaf250>"
      ]
     },
     "metadata": {},
     "output_type": "display_data"
    },
    {
     "data": {
      "text/html": [
       "<pre style=\"white-space:pre;overflow-x:auto;line-height:normal;font-family:Menlo,'DejaVu Sans Mono',consolas,'Courier New',monospace\"><span style=\"color: #7fbfbf\">           </span><span style=\"color: #000080\">INFO</span>     <span style=\"font-weight: bold\">&lt;</span><span style=\"color: #ff00ff; font-weight: bold\">openfl.component.aggregation_functions.weighted_average.WeightedAverage</span><span style=\"color: #000000\"> object at </span><span style=\"color: #000080; font-weight: bold\">0x7f24b206ec40</span><span style=\"font-weight: bold\">&gt;</span> acc: <span style=\"color: #000080; font-weight: bold\">0.3462</span>             <a href=\"file:///home/itrushkin/.virtualenvs/openfl/lib/python3.8/site-packages/openfl/component/aggregator/aggregator.py\"><span style=\"color: #7f7f7f\">aggregator.py</span></a><span style=\"color: #7f7f7f\">:754</span>\n",
       "</pre>\n"
      ],
      "text/plain": [
       "<rich.jupyter.JupyterRenderable at 0x7f2443aaf3d0>"
      ]
     },
     "metadata": {},
     "output_type": "display_data"
    },
    {
     "data": {
      "text/html": [
       "<pre style=\"white-space:pre;overflow-x:auto;line-height:normal;font-family:Menlo,'DejaVu Sans Mono',consolas,'Courier New',monospace\"><span style=\"color: #7fbfbf\">           </span><span style=\"color: #000080\">INFO</span>     aggregated_model_validation task metrics<span style=\"color: #808000\">...</span>                                                                                <a href=\"file:///home/itrushkin/.virtualenvs/openfl/lib/python3.8/site-packages/openfl/component/aggregator/aggregator.py\"><span style=\"color: #7f7f7f\">aggregator.py</span></a><span style=\"color: #7f7f7f\">:711</span>\n",
       "</pre>\n"
      ],
      "text/plain": [
       "<rich.jupyter.JupyterRenderable at 0x7f2443aaf3d0>"
      ]
     },
     "metadata": {},
     "output_type": "display_data"
    },
    {
     "data": {
      "text/html": [
       "<pre style=\"white-space:pre;overflow-x:auto;line-height:normal;font-family:Menlo,'DejaVu Sans Mono',consolas,'Courier New',monospace\"><span style=\"color: #7fbfbf\">           </span><span style=\"color: #000080\">INFO</span>     <span style=\"font-weight: bold\">&lt;</span><span style=\"color: #ff00ff; font-weight: bold\">openfl.component.aggregation_functions.weighted_average.WeightedAverage</span><span style=\"color: #000000\"> object at </span><span style=\"color: #000080; font-weight: bold\">0x7f24b206ec40</span><span style=\"font-weight: bold\">&gt;</span> acc: <span style=\"color: #000080; font-weight: bold\">0.3154</span>             <a href=\"file:///home/itrushkin/.virtualenvs/openfl/lib/python3.8/site-packages/openfl/component/aggregator/aggregator.py\"><span style=\"color: #7f7f7f\">aggregator.py</span></a><span style=\"color: #7f7f7f\">:754</span>\n",
       "</pre>\n"
      ],
      "text/plain": [
       "<rich.jupyter.JupyterRenderable at 0x7f2443aafb80>"
      ]
     },
     "metadata": {},
     "output_type": "display_data"
    },
    {
     "data": {
      "text/html": [
       "<pre style=\"white-space:pre;overflow-x:auto;line-height:normal;font-family:Menlo,'DejaVu Sans Mono',consolas,'Courier New',monospace\"><span style=\"color: #7fbfbf\">           </span><span style=\"color: #000080\">INFO</span>     train task metrics<span style=\"color: #808000\">...</span>                                                                                                      <a href=\"file:///home/itrushkin/.virtualenvs/openfl/lib/python3.8/site-packages/openfl/component/aggregator/aggregator.py\"><span style=\"color: #7f7f7f\">aggregator.py</span></a><span style=\"color: #7f7f7f\">:711</span>\n",
       "</pre>\n"
      ],
      "text/plain": [
       "<rich.jupyter.JupyterRenderable at 0x7f2443aaf0d0>"
      ]
     },
     "metadata": {},
     "output_type": "display_data"
    },
    {
     "data": {
      "text/html": [
       "<pre style=\"white-space:pre;overflow-x:auto;line-height:normal;font-family:Menlo,'DejaVu Sans Mono',consolas,'Courier New',monospace\"><span style=\"color: #7fbfbf\">           </span><span style=\"color: #000080\">INFO</span>     <span style=\"font-weight: bold\">&lt;</span><span style=\"color: #ff00ff; font-weight: bold\">openfl.component.aggregation_functions.weighted_average.WeightedAverage</span><span style=\"color: #000000\"> object at </span><span style=\"color: #000080; font-weight: bold\">0x7f24b206ec40</span><span style=\"font-weight: bold\">&gt;</span> cross_entropy:          <a href=\"file:///home/itrushkin/.virtualenvs/openfl/lib/python3.8/site-packages/openfl/component/aggregator/aggregator.py\"><span style=\"color: #7f7f7f\">aggregator.py</span></a><span style=\"color: #7f7f7f\">:754</span>\n",
       "                    <span style=\"color: #000080; font-weight: bold\">1.7914</span>                                                                                                                                      \n",
       "</pre>\n"
      ],
      "text/plain": [
       "<rich.jupyter.JupyterRenderable at 0x7f2443aaf3d0>"
      ]
     },
     "metadata": {},
     "output_type": "display_data"
    },
    {
     "data": {
      "text/html": [
       "<pre style=\"white-space:pre;overflow-x:auto;line-height:normal;font-family:Menlo,'DejaVu Sans Mono',consolas,'Courier New',monospace\"><span style=\"color: #7fbfbf\">[11:40:13] </span><span style=\"color: #000080\">INFO</span>     Saving round <span style=\"color: #000080; font-weight: bold\">9</span> model<span style=\"color: #808000\">...</span>                                                                                                    <a href=\"file:///home/itrushkin/.virtualenvs/openfl/lib/python3.8/site-packages/openfl/component/aggregator/aggregator.py\"><span style=\"color: #7f7f7f\">aggregator.py</span></a><span style=\"color: #7f7f7f\">:796</span>\n",
       "</pre>\n"
      ],
      "text/plain": [
       "<rich.jupyter.JupyterRenderable at 0x7f24435d65b0>"
      ]
     },
     "metadata": {},
     "output_type": "display_data"
    },
    {
     "data": {
      "text/html": [
       "<pre style=\"white-space:pre;overflow-x:auto;line-height:normal;font-family:Menlo,'DejaVu Sans Mono',consolas,'Courier New',monospace\"><span style=\"color: #7fbfbf\">[11:40:14] </span><span style=\"color: #000080\">INFO</span>     Starting round <span style=\"color: #000080; font-weight: bold\">9</span><span style=\"color: #808000\">...</span>                                                                                                        <a href=\"file:///home/itrushkin/.virtualenvs/openfl/lib/python3.8/site-packages/openfl/component/aggregator/aggregator.py\"><span style=\"color: #7f7f7f\">aggregator.py</span></a><span style=\"color: #7f7f7f\">:803</span>\n",
       "</pre>\n"
      ],
      "text/plain": [
       "<rich.jupyter.JupyterRenderable at 0x7f2443a61be0>"
      ]
     },
     "metadata": {},
     "output_type": "display_data"
    },
    {
     "data": {
      "text/html": [
       "<pre style=\"white-space:pre;overflow-x:auto;line-height:normal;font-family:Menlo,'DejaVu Sans Mono',consolas,'Courier New',monospace\"><span style=\"color: #7fbfbf\">           </span><span style=\"color: #000080\">INFO</span>     All tasks completed on two for round <span style=\"color: #000080; font-weight: bold\">8</span><span style=\"color: #808000\">...</span>                                                                                <a href=\"file:///home/itrushkin/.virtualenvs/openfl/lib/python3.8/site-packages/openfl/component/collaborator/collaborator.py\"><span style=\"color: #7f7f7f\">collaborator.py</span></a><span style=\"color: #7f7f7f\">:146</span>\n",
       "</pre>\n"
      ],
      "text/plain": [
       "<rich.jupyter.JupyterRenderable at 0x7f2443961d60>"
      ]
     },
     "metadata": {},
     "output_type": "display_data"
    },
    {
     "data": {
      "text/html": [
       "<pre style=\"white-space:pre;overflow-x:auto;line-height:normal;font-family:Menlo,'DejaVu Sans Mono',consolas,'Courier New',monospace\"><span style=\"color: #7fbfbf\">           </span><span style=\"color: #000080\">INFO</span>     Waiting for tasks<span style=\"color: #808000\">...</span>                                                                                                     <a href=\"file:///home/itrushkin/.virtualenvs/openfl/lib/python3.8/site-packages/openfl/component/collaborator/collaborator.py\"><span style=\"color: #7f7f7f\">collaborator.py</span></a><span style=\"color: #7f7f7f\">:153</span>\n",
       "</pre>\n"
      ],
      "text/plain": [
       "<rich.jupyter.JupyterRenderable at 0x7f24435c6790>"
      ]
     },
     "metadata": {},
     "output_type": "display_data"
    },
    {
     "data": {
      "text/html": [
       "<pre style=\"white-space:pre;overflow-x:auto;line-height:normal;font-family:Menlo,'DejaVu Sans Mono',consolas,'Courier New',monospace\"><span style=\"color: #7fbfbf\">           </span><span style=\"color: #000080\">INFO</span>     Sending tasks to collaborator one for round <span style=\"color: #000080; font-weight: bold\">9</span>                                                                              <a href=\"file:///home/itrushkin/.virtualenvs/openfl/lib/python3.8/site-packages/openfl/component/aggregator/aggregator.py\"><span style=\"color: #7f7f7f\">aggregator.py</span></a><span style=\"color: #7f7f7f\">:297</span>\n",
       "</pre>\n"
      ],
      "text/plain": [
       "<rich.jupyter.JupyterRenderable at 0x7f24434fa820>"
      ]
     },
     "metadata": {},
     "output_type": "display_data"
    },
    {
     "data": {
      "text/html": [
       "<pre style=\"white-space:pre;overflow-x:auto;line-height:normal;font-family:Menlo,'DejaVu Sans Mono',consolas,'Courier New',monospace\"><span style=\"color: #7fbfbf\">           </span><span style=\"color: #000080\">INFO</span>     Received the following tasks: <span style=\"font-weight: bold\">[</span><span style=\"color: #008000\">'aggregated_model_validation'</span>, <span style=\"color: #008000\">'train'</span>, <span style=\"color: #008000\">'locally_tuned_model_validation'</span><span style=\"font-weight: bold\">]</span>                 <a href=\"file:///home/itrushkin/.virtualenvs/openfl/lib/python3.8/site-packages/openfl/component/collaborator/collaborator.py\"><span style=\"color: #7f7f7f\">collaborator.py</span></a><span style=\"color: #7f7f7f\">:143</span>\n",
       "</pre>\n"
      ],
      "text/plain": [
       "<rich.jupyter.JupyterRenderable at 0x7f2443600d90>"
      ]
     },
     "metadata": {},
     "output_type": "display_data"
    },
    {
     "data": {
      "text/html": [
       "<pre style=\"white-space:pre;overflow-x:auto;line-height:normal;font-family:Menlo,'DejaVu Sans Mono',consolas,'Courier New',monospace\"><span style=\"color: #7fbfbf\">[11:40:16] </span><span style=\"color: #000080\">INFO</span>     Using TaskRunner subclassing API                                                                                         <a href=\"file:///home/itrushkin/.virtualenvs/openfl/lib/python3.8/site-packages/openfl/component/collaborator/collaborator.py\"><span style=\"color: #7f7f7f\">collaborator.py</span></a><span style=\"color: #7f7f7f\">:203</span>\n",
       "</pre>\n"
      ],
      "text/plain": [
       "<rich.jupyter.JupyterRenderable at 0x7f2443558f70>"
      ]
     },
     "metadata": {},
     "output_type": "display_data"
    },
    {
     "data": {
      "text/html": [
       "<pre style=\"white-space:pre;overflow-x:auto;line-height:normal;font-family:Menlo,'DejaVu Sans Mono',consolas,'Courier New',monospace\"><span style=\"color: #7fbfbf\">           </span><span style=\"color: #000080\">INFO</span>     Sending metric for task aggregated_model_validation, round number <span style=\"color: #000080; font-weight: bold\">9</span>: acc        <span style=\"color: #000080; font-weight: bold\">0.0</span>                                      <a href=\"file:///home/itrushkin/.virtualenvs/openfl/lib/python3.8/site-packages/openfl/component/collaborator/collaborator.py\"><span style=\"color: #7f7f7f\">collaborator.py</span></a><span style=\"color: #7f7f7f\">:366</span>\n",
       "</pre>\n"
      ],
      "text/plain": [
       "<rich.jupyter.JupyterRenderable at 0x7f24434d96d0>"
      ]
     },
     "metadata": {},
     "output_type": "display_data"
    },
    {
     "data": {
      "text/html": [
       "<pre style=\"white-space:pre;overflow-x:auto;line-height:normal;font-family:Menlo,'DejaVu Sans Mono',consolas,'Courier New',monospace\"><span style=\"color: #7fbfbf\">           </span><span style=\"color: #000080\">INFO</span>     Collaborator one is sending task results for aggregated_model_validation, round <span style=\"color: #000080; font-weight: bold\">9</span>                                          <a href=\"file:///home/itrushkin/.virtualenvs/openfl/lib/python3.8/site-packages/openfl/component/aggregator/aggregator.py\"><span style=\"color: #7f7f7f\">aggregator.py</span></a><span style=\"color: #7f7f7f\">:450</span>\n",
       "</pre>\n"
      ],
      "text/plain": [
       "<rich.jupyter.JupyterRenderable at 0x7f2443558940>"
      ]
     },
     "metadata": {},
     "output_type": "display_data"
    },
    {
     "data": {
      "text/html": [
       "<pre style=\"white-space:pre;overflow-x:auto;line-height:normal;font-family:Menlo,'DejaVu Sans Mono',consolas,'Courier New',monospace\"><span style=\"color: #7fbfbf\">[11:40:17] </span><span style=\"color: #000080\">INFO</span>     Using TaskRunner subclassing API                                                                                         <a href=\"file:///home/itrushkin/.virtualenvs/openfl/lib/python3.8/site-packages/openfl/component/collaborator/collaborator.py\"><span style=\"color: #7f7f7f\">collaborator.py</span></a><span style=\"color: #7f7f7f\">:203</span>\n",
       "</pre>\n"
      ],
      "text/plain": [
       "<rich.jupyter.JupyterRenderable at 0x7f2443558940>"
      ]
     },
     "metadata": {},
     "output_type": "display_data"
    },
    {
     "data": {
      "text/html": [
       "<pre style=\"white-space:pre;overflow-x:auto;line-height:normal;font-family:Menlo,'DejaVu Sans Mono',consolas,'Courier New',monospace\"><span style=\"color: #7fbfbf\">           </span><span style=\"color: #000080\">INFO</span>     Sending metric for task train, round number <span style=\"color: #000080; font-weight: bold\">9</span>: cross_entropy    <span style=\"color: #000080; font-weight: bold\">3.3258447647094727</span>                                       <a href=\"file:///home/itrushkin/.virtualenvs/openfl/lib/python3.8/site-packages/openfl/component/collaborator/collaborator.py\"><span style=\"color: #7f7f7f\">collaborator.py</span></a><span style=\"color: #7f7f7f\">:366</span>\n",
       "</pre>\n"
      ],
      "text/plain": [
       "<rich.jupyter.JupyterRenderable at 0x7f2443ab7850>"
      ]
     },
     "metadata": {},
     "output_type": "display_data"
    },
    {
     "data": {
      "text/html": [
       "<pre style=\"white-space:pre;overflow-x:auto;line-height:normal;font-family:Menlo,'DejaVu Sans Mono',consolas,'Courier New',monospace\"><span style=\"color: #7fbfbf\">           </span><span style=\"color: #000080\">INFO</span>     Collaborator one is sending task results for train, round <span style=\"color: #000080; font-weight: bold\">9</span>                                                                <a href=\"file:///home/itrushkin/.virtualenvs/openfl/lib/python3.8/site-packages/openfl/component/aggregator/aggregator.py\"><span style=\"color: #7f7f7f\">aggregator.py</span></a><span style=\"color: #7f7f7f\">:450</span>\n",
       "</pre>\n"
      ],
      "text/plain": [
       "<rich.jupyter.JupyterRenderable at 0x7f2443a61be0>"
      ]
     },
     "metadata": {},
     "output_type": "display_data"
    },
    {
     "data": {
      "text/html": [
       "<pre style=\"white-space:pre;overflow-x:auto;line-height:normal;font-family:Menlo,'DejaVu Sans Mono',consolas,'Courier New',monospace\"><span style=\"color: #7fbfbf\">[11:40:18] </span><span style=\"color: #000080\">INFO</span>     Using TaskRunner subclassing API                                                                                         <a href=\"file:///home/itrushkin/.virtualenvs/openfl/lib/python3.8/site-packages/openfl/component/collaborator/collaborator.py\"><span style=\"color: #7f7f7f\">collaborator.py</span></a><span style=\"color: #7f7f7f\">:203</span>\n",
       "</pre>\n"
      ],
      "text/plain": [
       "<rich.jupyter.JupyterRenderable at 0x7f23dab75a30>"
      ]
     },
     "metadata": {},
     "output_type": "display_data"
    },
    {
     "data": {
      "text/html": [
       "<pre style=\"white-space:pre;overflow-x:auto;line-height:normal;font-family:Menlo,'DejaVu Sans Mono',consolas,'Courier New',monospace\"><span style=\"color: #7fbfbf\">           </span><span style=\"color: #000080\">INFO</span>     Sending metric for task locally_tuned_model_validation, round number <span style=\"color: #000080; font-weight: bold\">9</span>: acc     <span style=\"color: #000080; font-weight: bold\">0.047619047619047616</span>                     <a href=\"file:///home/itrushkin/.virtualenvs/openfl/lib/python3.8/site-packages/openfl/component/collaborator/collaborator.py\"><span style=\"color: #7f7f7f\">collaborator.py</span></a><span style=\"color: #7f7f7f\">:366</span>\n",
       "</pre>\n"
      ],
      "text/plain": [
       "<rich.jupyter.JupyterRenderable at 0x7f23dab750a0>"
      ]
     },
     "metadata": {},
     "output_type": "display_data"
    },
    {
     "data": {
      "text/html": [
       "<pre style=\"white-space:pre;overflow-x:auto;line-height:normal;font-family:Menlo,'DejaVu Sans Mono',consolas,'Courier New',monospace\"><span style=\"color: #7fbfbf\">           </span><span style=\"color: #000080\">INFO</span>     Collaborator one is sending task results for locally_tuned_model_validation, round <span style=\"color: #000080; font-weight: bold\">9</span>                                       <a href=\"file:///home/itrushkin/.virtualenvs/openfl/lib/python3.8/site-packages/openfl/component/aggregator/aggregator.py\"><span style=\"color: #7f7f7f\">aggregator.py</span></a><span style=\"color: #7f7f7f\">:450</span>\n",
       "</pre>\n"
      ],
      "text/plain": [
       "<rich.jupyter.JupyterRenderable at 0x7f23dab757c0>"
      ]
     },
     "metadata": {},
     "output_type": "display_data"
    },
    {
     "data": {
      "text/html": [
       "<pre style=\"white-space:pre;overflow-x:auto;line-height:normal;font-family:Menlo,'DejaVu Sans Mono',consolas,'Courier New',monospace\"><span style=\"color: #7fbfbf\">           </span><span style=\"color: #000080\">INFO</span>     All tasks completed on one for round <span style=\"color: #000080; font-weight: bold\">9</span><span style=\"color: #808000\">...</span>                                                                                <a href=\"file:///home/itrushkin/.virtualenvs/openfl/lib/python3.8/site-packages/openfl/component/collaborator/collaborator.py\"><span style=\"color: #7f7f7f\">collaborator.py</span></a><span style=\"color: #7f7f7f\">:146</span>\n",
       "</pre>\n"
      ],
      "text/plain": [
       "<rich.jupyter.JupyterRenderable at 0x7f24434d9a00>"
      ]
     },
     "metadata": {},
     "output_type": "display_data"
    },
    {
     "data": {
      "text/html": [
       "<pre style=\"white-space:pre;overflow-x:auto;line-height:normal;font-family:Menlo,'DejaVu Sans Mono',consolas,'Courier New',monospace\"><span style=\"color: #7fbfbf\">           </span><span style=\"color: #000080\">INFO</span>     Waiting for tasks<span style=\"color: #808000\">...</span>                                                                                                     <a href=\"file:///home/itrushkin/.virtualenvs/openfl/lib/python3.8/site-packages/openfl/component/collaborator/collaborator.py\"><span style=\"color: #7f7f7f\">collaborator.py</span></a><span style=\"color: #7f7f7f\">:153</span>\n",
       "</pre>\n"
      ],
      "text/plain": [
       "<rich.jupyter.JupyterRenderable at 0x7f23dab75400>"
      ]
     },
     "metadata": {},
     "output_type": "display_data"
    },
    {
     "data": {
      "text/html": [
       "<pre style=\"white-space:pre;overflow-x:auto;line-height:normal;font-family:Menlo,'DejaVu Sans Mono',consolas,'Courier New',monospace\"><span style=\"color: #7fbfbf\">           </span><span style=\"color: #000080\">INFO</span>     Sending tasks to collaborator two for round <span style=\"color: #000080; font-weight: bold\">9</span>                                                                              <a href=\"file:///home/itrushkin/.virtualenvs/openfl/lib/python3.8/site-packages/openfl/component/aggregator/aggregator.py\"><span style=\"color: #7f7f7f\">aggregator.py</span></a><span style=\"color: #7f7f7f\">:297</span>\n",
       "</pre>\n"
      ],
      "text/plain": [
       "<rich.jupyter.JupyterRenderable at 0x7f23dab75190>"
      ]
     },
     "metadata": {},
     "output_type": "display_data"
    },
    {
     "data": {
      "text/html": [
       "<pre style=\"white-space:pre;overflow-x:auto;line-height:normal;font-family:Menlo,'DejaVu Sans Mono',consolas,'Courier New',monospace\"><span style=\"color: #7fbfbf\">           </span><span style=\"color: #000080\">INFO</span>     Received the following tasks: <span style=\"font-weight: bold\">[</span><span style=\"color: #008000\">'aggregated_model_validation'</span>, <span style=\"color: #008000\">'train'</span>, <span style=\"color: #008000\">'locally_tuned_model_validation'</span><span style=\"font-weight: bold\">]</span>                 <a href=\"file:///home/itrushkin/.virtualenvs/openfl/lib/python3.8/site-packages/openfl/component/collaborator/collaborator.py\"><span style=\"color: #7f7f7f\">collaborator.py</span></a><span style=\"color: #7f7f7f\">:143</span>\n",
       "</pre>\n"
      ],
      "text/plain": [
       "<rich.jupyter.JupyterRenderable at 0x7f23dab75490>"
      ]
     },
     "metadata": {},
     "output_type": "display_data"
    },
    {
     "data": {
      "text/html": [
       "<pre style=\"white-space:pre;overflow-x:auto;line-height:normal;font-family:Menlo,'DejaVu Sans Mono',consolas,'Courier New',monospace\"><span style=\"color: #7fbfbf\">[11:40:20] </span><span style=\"color: #000080\">INFO</span>     Using TaskRunner subclassing API                                                                                         <a href=\"file:///home/itrushkin/.virtualenvs/openfl/lib/python3.8/site-packages/openfl/component/collaborator/collaborator.py\"><span style=\"color: #7f7f7f\">collaborator.py</span></a><span style=\"color: #7f7f7f\">:203</span>\n",
       "</pre>\n"
      ],
      "text/plain": [
       "<rich.jupyter.JupyterRenderable at 0x7f23dab0ed90>"
      ]
     },
     "metadata": {},
     "output_type": "display_data"
    },
    {
     "data": {
      "text/html": [
       "<pre style=\"white-space:pre;overflow-x:auto;line-height:normal;font-family:Menlo,'DejaVu Sans Mono',consolas,'Courier New',monospace\"><span style=\"color: #7fbfbf\">           </span><span style=\"color: #000080\">INFO</span>     Sending metric for task aggregated_model_validation, round number <span style=\"color: #000080; font-weight: bold\">9</span>: acc        <span style=\"color: #000080; font-weight: bold\">0.8913043478260869</span>                       <a href=\"file:///home/itrushkin/.virtualenvs/openfl/lib/python3.8/site-packages/openfl/component/collaborator/collaborator.py\"><span style=\"color: #7f7f7f\">collaborator.py</span></a><span style=\"color: #7f7f7f\">:366</span>\n",
       "</pre>\n"
      ],
      "text/plain": [
       "<rich.jupyter.JupyterRenderable at 0x7f23dab0ed60>"
      ]
     },
     "metadata": {},
     "output_type": "display_data"
    },
    {
     "data": {
      "text/html": [
       "<pre style=\"white-space:pre;overflow-x:auto;line-height:normal;font-family:Menlo,'DejaVu Sans Mono',consolas,'Courier New',monospace\"><span style=\"color: #7fbfbf\">           </span><span style=\"color: #000080\">INFO</span>     Collaborator two is sending task results for aggregated_model_validation, round <span style=\"color: #000080; font-weight: bold\">9</span>                                          <a href=\"file:///home/itrushkin/.virtualenvs/openfl/lib/python3.8/site-packages/openfl/component/aggregator/aggregator.py\"><span style=\"color: #7f7f7f\">aggregator.py</span></a><span style=\"color: #7f7f7f\">:450</span>\n",
       "</pre>\n"
      ],
      "text/plain": [
       "<rich.jupyter.JupyterRenderable at 0x7f23dab0efd0>"
      ]
     },
     "metadata": {},
     "output_type": "display_data"
    },
    {
     "data": {
      "text/html": [
       "<pre style=\"white-space:pre;overflow-x:auto;line-height:normal;font-family:Menlo,'DejaVu Sans Mono',consolas,'Courier New',monospace\"><span style=\"color: #7fbfbf\">[11:40:21] </span><span style=\"color: #000080\">INFO</span>     Using TaskRunner subclassing API                                                                                         <a href=\"file:///home/itrushkin/.virtualenvs/openfl/lib/python3.8/site-packages/openfl/component/collaborator/collaborator.py\"><span style=\"color: #7f7f7f\">collaborator.py</span></a><span style=\"color: #7f7f7f\">:203</span>\n",
       "</pre>\n"
      ],
      "text/plain": [
       "<rich.jupyter.JupyterRenderable at 0x7f23dab0efd0>"
      ]
     },
     "metadata": {},
     "output_type": "display_data"
    },
    {
     "data": {
      "text/html": [
       "<pre style=\"white-space:pre;overflow-x:auto;line-height:normal;font-family:Menlo,'DejaVu Sans Mono',consolas,'Courier New',monospace\"><span style=\"color: #7fbfbf\">           </span><span style=\"color: #000080\">INFO</span>     Sending metric for task train, round number <span style=\"color: #000080; font-weight: bold\">9</span>: cross_entropy    <span style=\"color: #000080; font-weight: bold\">0.6235268115997314</span>                                       <a href=\"file:///home/itrushkin/.virtualenvs/openfl/lib/python3.8/site-packages/openfl/component/collaborator/collaborator.py\"><span style=\"color: #7f7f7f\">collaborator.py</span></a><span style=\"color: #7f7f7f\">:366</span>\n",
       "</pre>\n"
      ],
      "text/plain": [
       "<rich.jupyter.JupyterRenderable at 0x7f24434d9a00>"
      ]
     },
     "metadata": {},
     "output_type": "display_data"
    },
    {
     "data": {
      "text/html": [
       "<pre style=\"white-space:pre;overflow-x:auto;line-height:normal;font-family:Menlo,'DejaVu Sans Mono',consolas,'Courier New',monospace\"><span style=\"color: #7fbfbf\">           </span><span style=\"color: #000080\">INFO</span>     Collaborator two is sending task results for train, round <span style=\"color: #000080; font-weight: bold\">9</span>                                                                <a href=\"file:///home/itrushkin/.virtualenvs/openfl/lib/python3.8/site-packages/openfl/component/aggregator/aggregator.py\"><span style=\"color: #7f7f7f\">aggregator.py</span></a><span style=\"color: #7f7f7f\">:450</span>\n",
       "</pre>\n"
      ],
      "text/plain": [
       "<rich.jupyter.JupyterRenderable at 0x7f23dab754c0>"
      ]
     },
     "metadata": {},
     "output_type": "display_data"
    },
    {
     "data": {
      "text/html": [
       "<pre style=\"white-space:pre;overflow-x:auto;line-height:normal;font-family:Menlo,'DejaVu Sans Mono',consolas,'Courier New',monospace\"><span style=\"color: #7fbfbf\">[11:40:22] </span><span style=\"color: #000080\">INFO</span>     Using TaskRunner subclassing API                                                                                         <a href=\"file:///home/itrushkin/.virtualenvs/openfl/lib/python3.8/site-packages/openfl/component/collaborator/collaborator.py\"><span style=\"color: #7f7f7f\">collaborator.py</span></a><span style=\"color: #7f7f7f\">:203</span>\n",
       "</pre>\n"
      ],
      "text/plain": [
       "<rich.jupyter.JupyterRenderable at 0x7f23dab0eaf0>"
      ]
     },
     "metadata": {},
     "output_type": "display_data"
    },
    {
     "data": {
      "text/html": [
       "<pre style=\"white-space:pre;overflow-x:auto;line-height:normal;font-family:Menlo,'DejaVu Sans Mono',consolas,'Courier New',monospace\"><span style=\"color: #7fbfbf\">           </span><span style=\"color: #000080\">INFO</span>     Sending metric for task locally_tuned_model_validation, round number <span style=\"color: #000080; font-weight: bold\">9</span>: acc     <span style=\"color: #000080; font-weight: bold\">0.8913043478260869</span>                       <a href=\"file:///home/itrushkin/.virtualenvs/openfl/lib/python3.8/site-packages/openfl/component/collaborator/collaborator.py\"><span style=\"color: #7f7f7f\">collaborator.py</span></a><span style=\"color: #7f7f7f\">:366</span>\n",
       "</pre>\n"
      ],
      "text/plain": [
       "<rich.jupyter.JupyterRenderable at 0x7f24434d9a00>"
      ]
     },
     "metadata": {},
     "output_type": "display_data"
    },
    {
     "data": {
      "text/html": [
       "<pre style=\"white-space:pre;overflow-x:auto;line-height:normal;font-family:Menlo,'DejaVu Sans Mono',consolas,'Courier New',monospace\"><span style=\"color: #7fbfbf\">           </span><span style=\"color: #000080\">INFO</span>     Collaborator two is sending task results for locally_tuned_model_validation, round <span style=\"color: #000080; font-weight: bold\">9</span>                                       <a href=\"file:///home/itrushkin/.virtualenvs/openfl/lib/python3.8/site-packages/openfl/component/aggregator/aggregator.py\"><span style=\"color: #7f7f7f\">aggregator.py</span></a><span style=\"color: #7f7f7f\">:450</span>\n",
       "</pre>\n"
      ],
      "text/plain": [
       "<rich.jupyter.JupyterRenderable at 0x7f23dab0efd0>"
      ]
     },
     "metadata": {},
     "output_type": "display_data"
    },
    {
     "data": {
      "text/html": [
       "<pre style=\"white-space:pre;overflow-x:auto;line-height:normal;font-family:Menlo,'DejaVu Sans Mono',consolas,'Courier New',monospace\"><span style=\"color: #7fbfbf\">           </span><span style=\"color: #000080\">INFO</span>     locally_tuned_model_validation task metrics<span style=\"color: #808000\">...</span>                                                                             <a href=\"file:///home/itrushkin/.virtualenvs/openfl/lib/python3.8/site-packages/openfl/component/aggregator/aggregator.py\"><span style=\"color: #7f7f7f\">aggregator.py</span></a><span style=\"color: #7f7f7f\">:711</span>\n",
       "</pre>\n"
      ],
      "text/plain": [
       "<rich.jupyter.JupyterRenderable at 0x7f23dab0edc0>"
      ]
     },
     "metadata": {},
     "output_type": "display_data"
    },
    {
     "data": {
      "text/html": [
       "<pre style=\"white-space:pre;overflow-x:auto;line-height:normal;font-family:Menlo,'DejaVu Sans Mono',consolas,'Courier New',monospace\"><span style=\"color: #7fbfbf\">           </span><span style=\"color: #000080\">INFO</span>     <span style=\"font-weight: bold\">&lt;</span><span style=\"color: #ff00ff; font-weight: bold\">openfl.component.aggregation_functions.weighted_average.WeightedAverage</span><span style=\"color: #000000\"> object at </span><span style=\"color: #000080; font-weight: bold\">0x7f24b206ec40</span><span style=\"font-weight: bold\">&gt;</span> acc: <span style=\"color: #000080; font-weight: bold\">0.3462</span>             <a href=\"file:///home/itrushkin/.virtualenvs/openfl/lib/python3.8/site-packages/openfl/component/aggregator/aggregator.py\"><span style=\"color: #7f7f7f\">aggregator.py</span></a><span style=\"color: #7f7f7f\">:754</span>\n",
       "</pre>\n"
      ],
      "text/plain": [
       "<rich.jupyter.JupyterRenderable at 0x7f23dab18fa0>"
      ]
     },
     "metadata": {},
     "output_type": "display_data"
    },
    {
     "data": {
      "text/html": [
       "<pre style=\"white-space:pre;overflow-x:auto;line-height:normal;font-family:Menlo,'DejaVu Sans Mono',consolas,'Courier New',monospace\"><span style=\"color: #7fbfbf\">           </span><span style=\"color: #000080\">INFO</span>     aggregated_model_validation task metrics<span style=\"color: #808000\">...</span>                                                                                <a href=\"file:///home/itrushkin/.virtualenvs/openfl/lib/python3.8/site-packages/openfl/component/aggregator/aggregator.py\"><span style=\"color: #7f7f7f\">aggregator.py</span></a><span style=\"color: #7f7f7f\">:711</span>\n",
       "</pre>\n"
      ],
      "text/plain": [
       "<rich.jupyter.JupyterRenderable at 0x7f23dab0edc0>"
      ]
     },
     "metadata": {},
     "output_type": "display_data"
    },
    {
     "data": {
      "text/html": [
       "<pre style=\"white-space:pre;overflow-x:auto;line-height:normal;font-family:Menlo,'DejaVu Sans Mono',consolas,'Courier New',monospace\"><span style=\"color: #7fbfbf\">           </span><span style=\"color: #000080\">INFO</span>     <span style=\"font-weight: bold\">&lt;</span><span style=\"color: #ff00ff; font-weight: bold\">openfl.component.aggregation_functions.weighted_average.WeightedAverage</span><span style=\"color: #000000\"> object at </span><span style=\"color: #000080; font-weight: bold\">0x7f24b206ec40</span><span style=\"font-weight: bold\">&gt;</span> acc: <span style=\"color: #000080; font-weight: bold\">0.3154</span>             <a href=\"file:///home/itrushkin/.virtualenvs/openfl/lib/python3.8/site-packages/openfl/component/aggregator/aggregator.py\"><span style=\"color: #7f7f7f\">aggregator.py</span></a><span style=\"color: #7f7f7f\">:754</span>\n",
       "</pre>\n"
      ],
      "text/plain": [
       "<rich.jupyter.JupyterRenderable at 0x7f23dab0ed00>"
      ]
     },
     "metadata": {},
     "output_type": "display_data"
    },
    {
     "data": {
      "text/html": [
       "<pre style=\"white-space:pre;overflow-x:auto;line-height:normal;font-family:Menlo,'DejaVu Sans Mono',consolas,'Courier New',monospace\"><span style=\"color: #7fbfbf\">           </span><span style=\"color: #000080\">INFO</span>     train task metrics<span style=\"color: #808000\">...</span>                                                                                                      <a href=\"file:///home/itrushkin/.virtualenvs/openfl/lib/python3.8/site-packages/openfl/component/aggregator/aggregator.py\"><span style=\"color: #7f7f7f\">aggregator.py</span></a><span style=\"color: #7f7f7f\">:711</span>\n",
       "</pre>\n"
      ],
      "text/plain": [
       "<rich.jupyter.JupyterRenderable at 0x7f23dab18100>"
      ]
     },
     "metadata": {},
     "output_type": "display_data"
    },
    {
     "data": {
      "text/html": [
       "<pre style=\"white-space:pre;overflow-x:auto;line-height:normal;font-family:Menlo,'DejaVu Sans Mono',consolas,'Courier New',monospace\"><span style=\"color: #7fbfbf\">           </span><span style=\"color: #000080\">INFO</span>     <span style=\"font-weight: bold\">&lt;</span><span style=\"color: #ff00ff; font-weight: bold\">openfl.component.aggregation_functions.weighted_average.WeightedAverage</span><span style=\"color: #000000\"> object at </span><span style=\"color: #000080; font-weight: bold\">0x7f24b206ec40</span><span style=\"font-weight: bold\">&gt;</span> cross_entropy:          <a href=\"file:///home/itrushkin/.virtualenvs/openfl/lib/python3.8/site-packages/openfl/component/aggregator/aggregator.py\"><span style=\"color: #7f7f7f\">aggregator.py</span></a><span style=\"color: #7f7f7f\">:754</span>\n",
       "                    <span style=\"color: #000080; font-weight: bold\">1.7558</span>                                                                                                                                      \n",
       "</pre>\n"
      ],
      "text/plain": [
       "<rich.jupyter.JupyterRenderable at 0x7f23dab18460>"
      ]
     },
     "metadata": {},
     "output_type": "display_data"
    },
    {
     "data": {
      "text/html": [
       "<pre style=\"white-space:pre;overflow-x:auto;line-height:normal;font-family:Menlo,'DejaVu Sans Mono',consolas,'Courier New',monospace\"><span style=\"color: #7fbfbf\">[11:40:26] </span><span style=\"color: #000080\">INFO</span>     Saving round <span style=\"color: #000080; font-weight: bold\">10</span> model<span style=\"color: #808000\">...</span>                                                                                                   <a href=\"file:///home/itrushkin/.virtualenvs/openfl/lib/python3.8/site-packages/openfl/component/aggregator/aggregator.py\"><span style=\"color: #7f7f7f\">aggregator.py</span></a><span style=\"color: #7f7f7f\">:796</span>\n",
       "</pre>\n"
      ],
      "text/plain": [
       "<rich.jupyter.JupyterRenderable at 0x7f23daab7820>"
      ]
     },
     "metadata": {},
     "output_type": "display_data"
    },
    {
     "data": {
      "text/html": [
       "<pre style=\"white-space:pre;overflow-x:auto;line-height:normal;font-family:Menlo,'DejaVu Sans Mono',consolas,'Courier New',monospace\"><span style=\"color: #7fbfbf\">           </span><span style=\"color: #000080\">INFO</span>     Experiment Completed. Cleaning up<span style=\"color: #808000\">...</span>                                                                                       <a href=\"file:///home/itrushkin/.virtualenvs/openfl/lib/python3.8/site-packages/openfl/component/aggregator/aggregator.py\"><span style=\"color: #7f7f7f\">aggregator.py</span></a><span style=\"color: #7f7f7f\">:801</span>\n",
       "</pre>\n"
      ],
      "text/plain": [
       "<rich.jupyter.JupyterRenderable at 0x7f24435a7b80>"
      ]
     },
     "metadata": {},
     "output_type": "display_data"
    },
    {
     "data": {
      "text/html": [
       "<pre style=\"white-space:pre;overflow-x:auto;line-height:normal;font-family:Menlo,'DejaVu Sans Mono',consolas,'Courier New',monospace\"><span style=\"color: #7fbfbf\">           </span><span style=\"color: #000080\">INFO</span>     All tasks completed on two for round <span style=\"color: #000080; font-weight: bold\">9</span><span style=\"color: #808000\">...</span>                                                                                <a href=\"file:///home/itrushkin/.virtualenvs/openfl/lib/python3.8/site-packages/openfl/component/collaborator/collaborator.py\"><span style=\"color: #7f7f7f\">collaborator.py</span></a><span style=\"color: #7f7f7f\">:146</span>\n",
       "</pre>\n"
      ],
      "text/plain": [
       "<rich.jupyter.JupyterRenderable at 0x7f24435c6d90>"
      ]
     },
     "metadata": {},
     "output_type": "display_data"
    }
   ],
   "source": [
    "#Run experiment, return trained FederatedModel\n",
    "final_fl_model = fx.run_experiment(collaborators,{'aggregator.settings.rounds_to_train':10})"
   ]
  },
  {
   "cell_type": "code",
   "execution_count": 13,
   "metadata": {},
   "outputs": [],
   "source": [
    "#Save final model\n",
    "final_fl_model.save_native('final_model.pth')"
   ]
  },
  {
   "cell_type": "code",
   "execution_count": null,
   "metadata": {},
   "outputs": [],
   "source": []
  },
  {
   "cell_type": "code",
   "execution_count": null,
   "metadata": {},
   "outputs": [],
   "source": []
  }
 ],
 "metadata": {
  "kernelspec": {
   "display_name": "Python 3",
   "language": "python",
   "name": "python3"
  },
  "language_info": {
   "codemirror_mode": {
    "name": "ipython",
    "version": 3
   },
   "file_extension": ".py",
   "mimetype": "text/x-python",
   "name": "python",
   "nbconvert_exporter": "python",
   "pygments_lexer": "ipython3",
   "version": "3.8.10"
  }
 },
 "nbformat": 4,
 "nbformat_minor": 4
}
